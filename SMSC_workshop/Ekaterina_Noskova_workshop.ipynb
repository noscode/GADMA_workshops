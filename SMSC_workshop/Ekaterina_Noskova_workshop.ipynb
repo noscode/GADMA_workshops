{
 "cells": [
  {
   "cell_type": "markdown",
   "id": "c59f50b6",
   "metadata": {},
   "source": [
    "# Introduction to the Demograpic Inference\n",
    "\n",
    "## Workshop Outline\n",
    "1. Basics of using Jupyter Notebooks\n",
    "2. Basics of the SFS\n",
    "3. Our Dataset\n",
    "4. Overview of `easySFS`\n",
    "5. Example Run of `easySFS`\n",
    "6. Overview of GADMA\n",
    "7. Example Run of GADMA\n",
    "8. Evaluate Confidence Intervals (CI) for the Final Model\n",
    "9. Overview of GONE\n",
    "10. Example Run of GONE\n",
    "\n",
    "## Getting Help after Workshop\n",
    "- Contact: [enoskova.me](http://enoskova.me)\n",
    "- Feel free to send me email\n",
    "- [Getting help for GADMA](https://github.com/ctlab/GADMA#getting-help)"
   ]
  },
  {
   "cell_type": "markdown",
   "id": "a6c0eb50",
   "metadata": {},
   "source": [
    "----------\n",
    "## 1. Basics of using Jupyter Notebooks\n",
    "\n",
    "Jupyter Notebooks have cells where you can write in Markdown and run code.\n",
    "To execute a cell, click the run button or press shift enter."
   ]
  },
  {
   "cell_type": "code",
   "execution_count": 103,
   "id": "db4e8a29",
   "metadata": {},
   "outputs": [
    {
     "name": "stdout",
     "output_type": "stream",
     "text": [
      "Try writing some Python here\n"
     ]
    }
   ],
   "source": [
    "print('Try writing some Python here')"
   ]
  },
  {
   "cell_type": "code",
   "execution_count": 104,
   "id": "159e4ce8",
   "metadata": {},
   "outputs": [
    {
     "name": "stdout",
     "output_type": "stream",
     "text": [
      "We can also use Bash magic. Try writing some Bash here\n"
     ]
    }
   ],
   "source": [
    "%%bash\n",
    "echo 'We can also use Bash magic. Try writing some Bash here'"
   ]
  },
  {
   "cell_type": "markdown",
   "id": "9c5c4d39",
   "metadata": {},
   "source": [
    "We want to see pictures in this notebook, for that we need:"
   ]
  },
  {
   "cell_type": "code",
   "execution_count": null,
   "id": "4fec0509",
   "metadata": {},
   "outputs": [],
   "source": [
    "%matplotlib inline"
   ]
  },
  {
   "cell_type": "markdown",
   "id": "e5aae8a8",
   "metadata": {},
   "source": [
    "------\n",
    "## 2. Basics of the SFS\n",
    "\n",
    "### What is the SFS?\n",
    "\n",
    "Site frequency spectrum or allele frequency spectrum is a joint distribution of allele frequencies among population.\n",
    "\n",
    "- One population. SFS is vector $S$ of values, Entry $S[i]$ contains number of positions where derived allele occured in $i$ hyplotype samples.\n",
    "<div>\n",
    "<img src=\"pictures/1d_plot.png\" width=\"300\" align=\"left\" />\n",
    "</div>"
   ]
  },
  {
   "cell_type": "markdown",
   "id": "72b0b67a",
   "metadata": {},
   "source": [
    "- Two populations. SFS is a 2-dimentional matrix where entry $S[i, j]$ corresponds to the number of positions where the derived alleles occured in $i$ haplotype samples in population 1 and in $j$ haplotype samples in population 2.\n",
    "<div>\n",
    "<img src=\"pictures/2d_plot.png\" width=\"250\" align=\"left\" />\n",
    "</div>"
   ]
  },
  {
   "cell_type": "markdown",
   "id": "8ecc1d82",
   "metadata": {},
   "source": [
    "- $P$ populations. SFS is a $P$-dimentional tensor. Example for three populations:\n",
    "<div>\n",
    "<img src=\"pictures/3d_plot.png\" width=\"300\" align=\"left\" />\n",
    "</div>"
   ]
  },
  {
   "cell_type": "markdown",
   "id": "66c93ca9",
   "metadata": {},
   "source": [
    "### Ignore monomorphic bins\n",
    "\n",
    "SFS bin that corresponds to the frequency 0 per population contains number of monomorphic positions with the ancestral allele. Some tools (`dadi`, `moments`, `momi2`) ignore that value as it could be easily evaluated from total sequence length and other values of SFS.\n",
    "\n",
    "For almost the same reason the bin with maximum frequency per population is excluded from the analisys. The number of sites with fixed derived allele is relatively small and, moreover, could be a consequence of false ancestral allele identification.\n",
    "\n",
    "On the plots above both monomorphic bins are excluded. The monomorphic bin with 0 frequency is usually very high as most sites are monomorphic, and, thus, including it to the plot will lead to the severe disproportions of other bins."
   ]
  },
  {
   "cell_type": "markdown",
   "id": "56164408",
   "metadata": {},
   "source": [
    "### What data do we need to build the accurate SFS?\n",
    "\n",
    "Site frequency spectrum reflects the history of individuals, however, it is important to build it accurately. Some recommendations to keep in mind:\n",
    "\n",
    "- VCF format file of filtered genotypes\n",
    "- As many SNP's as possible\n",
    "- As many individuals as possible (8-10 okay, 100 better)\n",
    "- No relatives\n",
    "- Avoid missing data (`easySFS` could help with missing data)\n",
    "- Coordinates of neutral sites or intergenic regions (similar evolution forces)"
   ]
  },
  {
   "cell_type": "markdown",
   "id": "261ae65a",
   "metadata": {},
   "source": [
    "### What if we do not know the derived allele? (SFS folding)\n",
    "\n",
    "Sometimes outgroup information is missed. In that case we can use minor allele frequencies (MAF) to build our SFS. The MAF SFS can be easily built from the usual SFS. This process is called *folding* and MAF SFS is called *folded SFS*.\n",
    "\n",
    "- Example of the SFS folding in case of one population:\n",
    "\n",
    "    Unfolded and folded SFS correspondingly:\n",
    "\n",
    "    <img src=\"pictures/1d_plot_before_folding.png\" width=\"300\" align=\"left\"/>\n",
    "    <img src=\"pictures/1d_plot_after_folding.png\" width=\"300\" align=\"left\"/>"
   ]
  },
  {
   "cell_type": "markdown",
   "id": "201987d2",
   "metadata": {},
   "source": [
    "- Example of the SFS folding in case of two populations:\n",
    "\n",
    "    Unfolded and folded SFS correspondingly:\n",
    "    \n",
    "    <img src=\"pictures/2d_plot_before_folding.png\" width=\"250\" align=\"left\"/>\n",
    "    <img src=\"pictures/2d_plot_after_folding.png\" width=\"250\" align=\"left\"/>"
   ]
  },
  {
   "cell_type": "markdown",
   "id": "005b6417",
   "metadata": {},
   "source": [
    "## 3.  Our Dataset\n",
    "\n",
    "We have a dataset for clouded leopards (*Neofelis nebulosa*). We have **autosome** data for 5 diploid individuals (10 samples).\n",
    "\n",
    "All the data is available in the `data` folder:"
   ]
  },
  {
   "cell_type": "code",
   "execution_count": 105,
   "id": "4256f232",
   "metadata": {},
   "outputs": [
    {
     "name": "stdout",
     "output_type": "stream",
     "text": [
      "boots\n",
      "boots2\n",
      "chrommap\n",
      "clouded_leopard_data.vcf\n",
      "NN_raw.vcf\n",
      "popmap\n"
     ]
    }
   ],
   "source": [
    "%%bash\n",
    "ls data"
   ]
  },
  {
   "cell_type": "markdown",
   "id": "1c8536cc",
   "metadata": {},
   "source": [
    "- File `data/clouded_leopard_data.vcf` is our VCF file for all 5 individuals (X chromosome is excluded):"
   ]
  },
  {
   "cell_type": "code",
   "execution_count": 106,
   "id": "ea4436e1",
   "metadata": {
    "scrolled": false
   },
   "outputs": [
    {
     "name": "stdout",
     "output_type": "stream",
     "text": [
      "##fileformat=VCFv4.2\n",
      "##bcftools_viewCommand=view -f PASS -Oz -o /home/anna/Desktop/clouded_leopards/vcf/filt/NN114296_HD_PASS.vcf.gz /home/anna/Desktop/clouded_leopards/vcf/filt/NN114296_HD.vcf.gz; Date=Thu Mar  9 13:25:00 2023\n",
      "##bcftools_filterCommand=filter --threads 2 -Oz -i FORMAT/DP>=5 -o /home/anna/Desktop/clouded_leopards/vcf/filt/NN114296_HD_PASS_DP5.vcf.gz /home/anna/Desktop/clouded_leopards/vcf/filt/NN114296_HD_PASS.vcf.gz; Date=Thu Mar  9 13:25:27 2023\n",
      "##bcftools_viewCommand=view -f PASS -Oz -o /home/anna/Desktop/clouded_leopards/vcf/filt/NN114297_HD_PASS.vcf.gz /home/anna/Desktop/clouded_leopards/vcf/filt/NN114297_HD.vcf.gz; Date=Thu Mar  9 13:25:00 2023\n",
      "##bcftools_filterCommand=filter --threads 2 -Oz -i FORMAT/DP>=5 -o /home/anna/Desktop/clouded_leopards/vcf/filt/NN114297_HD_PASS_DP5.vcf.gz /home/anna/Desktop/clouded_leopards/vcf/filt/NN114297_HD_PASS.vcf.gz; Date=Thu Mar  9 13:25:27 2023\n"
     ]
    }
   ],
   "source": [
    "%%bash\n",
    "# First five lines\n",
    "head -5 data/clouded_leopard_data.vcf"
   ]
  },
  {
   "cell_type": "code",
   "execution_count": 107,
   "id": "df38e4fa",
   "metadata": {},
   "outputs": [
    {
     "name": "stdout",
     "output_type": "stream",
     "text": [
      "##contig=<ID=CM051599.1,length=243997075>\n",
      "##contig=<ID=CM051600.1,length=222427791>\n",
      "##contig=<ID=CM051601.1,length=207471084>\n",
      "##contig=<ID=CM051602.1,length=170163164>\n",
      "##contig=<ID=CM051603.1,length=159605645>\n",
      "##contig=<ID=CM051604.1,length=156028032>\n",
      "##contig=<ID=CM051605.1,length=150204169>\n",
      "##contig=<ID=CM051606.1,length=142999991>\n",
      "##contig=<ID=CM051607.1,length=141813369>\n",
      "##contig=<ID=CM051608.1,length=115744418>\n",
      "##contig=<ID=CM051609.1,length=95678116>\n",
      "##contig=<ID=CM051610.1,length=95590950>\n",
      "##contig=<ID=CM051611.1,length=92698642>\n",
      "##contig=<ID=CM051612.1,length=83647936>\n",
      "##contig=<ID=CM051613.1,length=75977291>\n",
      "##contig=<ID=CM051614.1,length=66162313>\n",
      "##contig=<ID=CM051615.1,length=62726519>\n",
      "##contig=<ID=CM051616.1,length=46369777>\n"
     ]
    }
   ],
   "source": [
    "%%bash\n",
    "# Our schromosomes\n",
    "head -57 data/clouded_leopard_data.vcf | tail -18"
   ]
  },
  {
   "cell_type": "code",
   "execution_count": 108,
   "id": "d0767964",
   "metadata": {},
   "outputs": [
    {
     "name": "stdout",
     "output_type": "stream",
     "text": [
      "#CHROM\tPOS\tID\tREF\tALT\tQUAL\tFILTER\tINFO\tFORMAT\tNN114296\tNN114297\tNN114393\tNN115950\tNN190240\n"
     ]
    }
   ],
   "source": [
    "%%bash\n",
    "# The header line of the VCF file (we take first 84 lines of file and then show the last one)\n",
    "head -68 data/clouded_leopard_data.vcf | tail -1"
   ]
  },
  {
   "cell_type": "markdown",
   "id": "844d6cb6",
   "metadata": {},
   "source": [
    "- File `data/popmap` provides population assignments per individual (all our individuals are from the same population that is marked as `NN`):"
   ]
  },
  {
   "cell_type": "code",
   "execution_count": 109,
   "id": "39bbbe79",
   "metadata": {},
   "outputs": [
    {
     "name": "stdout",
     "output_type": "stream",
     "text": [
      "NN114296\tNN\n",
      "NN114297\tNN\n",
      "NN114393\tNN\n",
      "NN115950\tNN\n",
      "NN190240\tNN\n"
     ]
    }
   ],
   "source": [
    "%%bash\n",
    "cat data/popmap"
   ]
  },
  {
   "cell_type": "markdown",
   "id": "bab131d8",
   "metadata": {},
   "source": [
    "- File `data/chrommap` assigns chromosome number for each scaffold name from VCF."
   ]
  },
  {
   "cell_type": "code",
   "execution_count": 110,
   "id": "15808461",
   "metadata": {},
   "outputs": [
    {
     "name": "stdout",
     "output_type": "stream",
     "text": [
      "CM051599.1 1\n",
      "CM051600.1 2\n",
      "CM051601.1 3\n",
      "CM051602.1 4\n",
      "CM051603.1 5\n",
      "CM051604.1 6\n",
      "CM051605.1 7\n",
      "CM051606.1 8\n",
      "CM051607.1 9\n",
      "CM051608.1 10\n",
      "CM051609.1 11\n",
      "CM051610.1 12\n",
      "CM051611.1 13\n",
      "CM051612.1 14\n",
      "CM051613.1 15\n",
      "CM051614.1 16\n",
      "CM051615.1 17\n",
      "CM051616.1 18\n"
     ]
    }
   ],
   "source": [
    "%%bash\n",
    "cat data/chrommap"
   ]
  },
  {
   "cell_type": "markdown",
   "id": "2239dccc",
   "metadata": {},
   "source": [
    "- The length of the given sequence is equal to $2{,}329{,}306{,}282$ bp.\n",
    "\n",
    "We will also use the following values associated with our species of interest [\\[Bursell et al. 2022\\]](https://doi.org/10.1016/j.isci.2022.105647):\n",
    "- Generation time 7 years\n",
    "- Mutation rate of $2.22 \\times 10^{-9}$ per base pair per year = $1.554 \\times 10^{-8}$ per base pair per **generation**\n",
    "- Recombination rate of $1$ cM/Mb"
   ]
  },
  {
   "cell_type": "markdown",
   "id": "dbcac6b3",
   "metadata": {},
   "source": [
    "-----\n",
    "## 4. Overview of `easySFS`"
   ]
  },
  {
   "cell_type": "markdown",
   "id": "71e102c0",
   "metadata": {},
   "source": [
    "### What is [easySFS](https://github.com/isaacovercast/easySFS#install--run)?\n",
    "- A tool for SFS construction from the VCF file.\n",
    "- Generates SFS in several formats: `dadi`/`fastsimcoal2`/`momi2` (GADMA accepts all of them)\n",
    "- Provides means to project SFS down to account for missed data.\n",
    "- Allows to focus SFS on the independent SNP's (for RADSeq-like data only!)\n",
    "\n",
    "(Unfortunately, no paper to cite, however, authors ask to credit [\\[Gutenkunst et al. 2009\\]](https://doi.org/10.1371/journal.pgen.1000695))\n",
    "\n",
    "### What is the SFS projection?\n",
    "Assume we have two different datasets with different numbers of samples. We construct two SFS and want to compare them, but they are of different size. SFS is a histogram of allele frequencies and it is possible to downsize or project it. Thus, we could downsize both spectra to some smaller size and compare them.\n",
    "\n",
    "### Some intuition about SFS projection\n",
    "\n",
    "Let us get some intuition about how to use information from the bigger SFS for its projection.\n",
    "\n",
    "Assume we have the following data ($A$ stands for ancestral allele and $T$ for derived allele):\n",
    "\n",
    "- Sample 1: $A\\ A\\ A\\ T\\ A$\n",
    "- Sample 2: $A\\ A\\ T\\ A\\ A$\n",
    "- Sample 3: $A\\ A\\ T\\ T\\ \\ .$\n",
    "- Sample 4: $T\\ A\\ T\\ A\\ A$\n",
    "\n",
    "and we want to build projection of the SFS on three samples.\n",
    "\n",
    "We can see that the derived allele has frequency of $1/4$ (one out of four) among four samples on the first position.\n",
    "Let us subsample three individuals from given four samples and compute the frequency of derived allele on the first position. We can choose samples 1, 2, 3 and obtain $0/3$ frequency (with probability $p_1$) or we can obtain frequency of $1/3$ by choosing sample 4 and any other two samples (with probability $p_2$).\n",
    "\n",
    "Thus, for our SFS projection we can put value equal to $p_1$ in the $0/3$ bin and value of $p_2$ in the $1/3$ bin.\n",
    "\n",
    "The third position has derived allele frequency of $3/4$. We can obtain frequency of $3/3$ by choosing samples 2, 3, 4 and frequency of $2/3$ by choosing sample 1 and any other two samples.\n",
    "\n",
    "Having the probabilities of each subsampling frequency (see [hypergeometric distribution](https://en.wikipedia.org/wiki/Hypergeometric_distribution)) we can build new SFS with smaller size.\n",
    "\n",
    "### Accounting for the missed data\n",
    "\n",
    "SFS projection can easy account for missed information! For the last position in our example data we just add $1$ to the frequency $0/3$ of the projected SFS. That is exactly what `easySFS` does.\n"
   ]
  },
  {
   "cell_type": "markdown",
   "id": "af67c90a",
   "metadata": {},
   "source": [
    "--------\n",
    "## 5. Example Run of `easySFS`\n",
    "\n",
    "### Installation\n",
    "\n",
    "Resources: [more information about installation of easySFS](https://github.com/isaacovercast/easySFS#install--run)\n",
    "\n",
    "Download `easySFS` from GitHub repo:"
   ]
  },
  {
   "cell_type": "code",
   "execution_count": 113,
   "id": "e3f761e1",
   "metadata": {},
   "outputs": [
    {
     "name": "stderr",
     "output_type": "stream",
     "text": [
      "fatal: destination path 'easySFS' already exists and is not an empty directory.\n"
     ]
    },
    {
     "name": "stdout",
     "output_type": "stream",
     "text": [
      "easySFS.py\n",
      "example_files\n",
      "jupyter-notebooks\n",
      "__pycache__\n",
      "README.md\n",
      "Spectrum.py\n"
     ]
    }
   ],
   "source": [
    "%%bash\n",
    "git clone https://github.com/isaacovercast/easySFS.git\n",
    "ls easySFS"
   ]
  },
  {
   "cell_type": "markdown",
   "id": "93576e79",
   "metadata": {},
   "source": [
    "### Run `easySFS` with the `--help` option"
   ]
  },
  {
   "cell_type": "code",
   "execution_count": 111,
   "id": "3f4dac67",
   "metadata": {},
   "outputs": [
    {
     "name": "stdout",
     "output_type": "stream",
     "text": [
      "usage: easySFS.py [-h] -i VCF_NAME -p POPULATIONS [-o OUTDIR]\n",
      "                  [--proj PROJECTIONS] [--preview] [--ploidy PLOIDY]\n",
      "                  [--prefix PREFIX] [--unfolded] [--order POP_ORDER]\n",
      "                  [--dtype DTYPE] [--GQ GQUAL] [--total-length TOTAL_LENGTH]\n",
      "                  [--window-bp WINDOW_BP] [--window-snp WINDOW_SNP] [-a] [-f]\n",
      "                  [-v]\n",
      "\n",
      "optional arguments:\n",
      "  -h, --help            show this help message and exit\n",
      "  -i VCF_NAME           name of the VCF input file being converted\n",
      "  -p POPULATIONS        Input file containing population assignments per\n",
      "                        individual\n",
      "  -o OUTDIR             Directory to write output SFS to\n",
      "  --proj PROJECTIONS    List of values for projecting populations down to\n",
      "                        different sample sizes\n",
      "  --preview             Preview the number of segragating sites per population\n",
      "                        for different projection values.\n",
      "  --ploidy PLOIDY       Specify ploidy. Default is 2. Only other option is 1\n",
      "                        for haploid.\n",
      "  --prefix PREFIX       Prefix for all output SFS files names.\n",
      "  --unfolded            Generate unfolded SFS. This assumes that your vcf file\n",
      "                        is accurately polarized.\n",
      "  --order POP_ORDER     Specify the order of populations for the generated\n",
      "                        sfs. Values for --proj should be in this order as\n",
      "                        well.\n",
      "  --dtype DTYPE         Data type for use in output sfs. Options are `int` and\n",
      "                        `float`. Default is `float`.\n",
      "  --GQ GQUAL            minimum genotype quality tolerated\n",
      "  --total-length TOTAL_LENGTH\n",
      "                        total sequence length of input data (for accurate zero\n",
      "                        bin)\n",
      "  --window-bp WINDOW_BP\n",
      "                        Select SNPs based on window size in base pairs\n",
      "  --window-snp WINDOW_SNP\n",
      "                        Select SNPs based on window size in number of SNPs\n",
      "  -a                    Keep all snps within each RAD locus (ie. do _not_\n",
      "                        randomly sample 1 snp per locus).\n",
      "  -f                    Force overwriting directories and existing files.\n",
      "  -v                    Set verbosity. Dump tons of info to the screen\n",
      "\n",
      "    \n"
     ]
    }
   ],
   "source": [
    "%%bash\n",
    "./easySFS/easySFS.py --help"
   ]
  },
  {
   "cell_type": "markdown",
   "id": "70420fb5",
   "metadata": {},
   "source": [
    "### Run `easySFS` for your VCF file with `--preview` option"
   ]
  },
  {
   "cell_type": "code",
   "execution_count": 116,
   "id": "888110d6",
   "metadata": {},
   "outputs": [
    {
     "name": "stdout",
     "output_type": "stream",
     "text": [
      "\n",
      "  Processing 1 populations - ['NN']\n",
      "\n",
      "    Running preview mode. We will print out the results for # of segregating sites\n",
      "    for multiple values of projecting down for each population. The dadi\n",
      "    manual recommends maximizing the # of seg sites for projections, but also\n",
      "    a balance must be struck between # of seg sites and sample size.\n",
      "\n",
      "    For each population you should choose the value of the projection that looks\n",
      "    best and then rerun easySFS with the `--proj` flag.\n",
      "    \n",
      "NN\n",
      "(2, 2747541)\t(3, 2336883)\t(4, 2607723)\t(5, 1717122)\t(6, 1789046)\t(7, 1100559)\t(8, 1134274)\t(9, 513161)\t(10, 527501)\t\n",
      "\n"
     ]
    }
   ],
   "source": [
    "%%bash\n",
    "#./easySFS/easySFS.py -i data/clouded_leopard_data.vcf -p data/popmap -a --preview > outputs/easySFS_preview_output\n",
    "cat outputs/easySFS_preview_output"
   ]
  },
  {
   "cell_type": "markdown",
   "id": "666b3ac2",
   "metadata": {},
   "source": [
    "#### Visualize the results of the preview\n",
    "In this notebook we will use python:"
   ]
  },
  {
   "cell_type": "code",
   "execution_count": 117,
   "id": "00a1d307",
   "metadata": {},
   "outputs": [
    {
     "data": {
      "image/png": "[encoded data removed]",
      "text/plain": [
       "<Figure size 216x216 with 1 Axes>"
      ]
     },
     "metadata": {
      "needs_background": "light"
     },
     "output_type": "display_data"
    }
   ],
   "source": [
    "from scripts.draw_easySFS_preview import draw_easySFS_preview\n",
    "draw_easySFS_preview(\"outputs/easySFS_preview_output\")"
   ]
  },
  {
   "cell_type": "markdown",
   "id": "44e94a12",
   "metadata": {},
   "source": [
    "Moreover, one can run script from command line the following way (the same picture will appear if you use it from command line interface):"
   ]
  },
  {
   "cell_type": "code",
   "execution_count": 115,
   "id": "630000b6",
   "metadata": {},
   "outputs": [
    {
     "name": "stdout",
     "output_type": "stream",
     "text": [
      "Figure(300x300)\n"
     ]
    }
   ],
   "source": [
    "%%bash\n",
    "python scripts/draw_easySFS_preview.py outputs/easySFS_preview_output"
   ]
  },
  {
   "cell_type": "markdown",
   "id": "45c6c133",
   "metadata": {},
   "source": [
    "### Run easySFS for your VCF file with `--proj` option"
   ]
  },
  {
   "cell_type": "code",
   "execution_count": 119,
   "id": "4378d8ac",
   "metadata": {},
   "outputs": [],
   "source": [
    "%%bash\n",
    "#./easySFS/easySFS.py -i data/clouded_leopard_data.vcf -p data/popmap -a --total-length 2329306282 -o outputs/easySFS_output -f --proj 10 "
   ]
  },
  {
   "cell_type": "markdown",
   "id": "3023e2be",
   "metadata": {},
   "source": [
    "## easySFS output\n",
    "EasySFS with `--proj` option generates SFS for a given data in several formats:\n",
    "- `dadi` - input format of dadi, moments,\n",
    "- `fastsimcoal2` - input format of fastsimcoal2,\n",
    "- `momi` - input format of momi2 (only if we use full projections, i.e. do not project SFS down).\n",
    "\n",
    "GADMA can work with any input format mentioned above."
   ]
  },
  {
   "cell_type": "code",
   "execution_count": 118,
   "id": "7b114910",
   "metadata": {},
   "outputs": [
    {
     "name": "stdout",
     "output_type": "stream",
     "text": [
      "dadi\n",
      "datadict.txt\n",
      "fastsimcoal2\n",
      "momi\n"
     ]
    }
   ],
   "source": [
    "%%bash\n",
    "ls outputs/easySFS_output"
   ]
  },
  {
   "cell_type": "code",
   "execution_count": 121,
   "id": "e2a259b2",
   "metadata": {
    "scrolled": true
   },
   "outputs": [
    {
     "name": "stdout",
     "output_type": "stream",
     "text": [
      "NN-10.sfs\n",
      "NN-6.sfs\n",
      "NN-8.sfs\n",
      "NN.sfs\n"
     ]
    }
   ],
   "source": [
    "%%bash\n",
    "ls outputs/easySFS_output/dadi"
   ]
  },
  {
   "cell_type": "code",
   "execution_count": 124,
   "id": "ffbbaf51",
   "metadata": {},
   "outputs": [
    {
     "name": "stdout",
     "output_type": "stream",
     "text": [
      "11 folded \"NN\"\n",
      "7789 143560 127196 111499 95095 52833 0 0 0 0 0\n",
      "1 0 0 0 0 0 1 1 1 1 1\n"
     ]
    }
   ],
   "source": [
    "%%bash\n",
    "cat outputs/easySFS_output/dadi/NN-10.sfs"
   ]
  },
  {
   "cell_type": "code",
   "execution_count": 127,
   "id": "1baf9118",
   "metadata": {},
   "outputs": [
    {
     "name": "stdout",
     "output_type": "stream",
     "text": [
      "clouded_leopard_data_MSFS.obs\n",
      "NN_DAFpop0.obs\n",
      "NN_MAFpop0.obs\n",
      "NN_raw_MSFS.obs\n"
     ]
    }
   ],
   "source": [
    "%%bash\n",
    "cat outputs/easySFS_output/fastsimcoal2/NN_MAFpop0.obs"
   ]
  },
  {
   "cell_type": "markdown",
   "id": "d430c14d",
   "metadata": {},
   "source": [
    "## Picture of our SFS\n",
    "\n",
    "In this example we will use SFS `output/dadi/NN.sfs` generated for dadi. Let us draw the picture:"
   ]
  },
  {
   "cell_type": "code",
   "execution_count": 129,
   "id": "91729092",
   "metadata": {},
   "outputs": [
    {
     "name": "stderr",
     "output_type": "stream",
     "text": [
      "Warning: converting a masked element to nan.Warning: converting a masked element to nan.Warning: converting a masked element to nan.WARNING:matplotlib.font_manager:findfont: Font family ['sans-serif'] not found. Falling back to DejaVu Sans.\n",
      "WARNING:matplotlib.font_manager:findfont: Generic family 'sans-serif' not found because none of the following families were found: Helvetica\n",
      "WARNING:matplotlib.font_manager:findfont: Font family ['sans-serif'] not found. Falling back to DejaVu Sans.\n",
      "WARNING:matplotlib.font_manager:findfont: Generic family 'sans-serif' not found because none of the following families were found: Helvetica\n"
     ]
    },
    {
     "data": {
      "image/png": "[encoded data removed]",
      "text/plain": [
       "<Figure size 432x360 with 2 Axes>"
      ]
     },
     "metadata": {
      "needs_background": "light"
     },
     "output_type": "display_data"
    }
   ],
   "source": [
    "from scripts.draw_sfs import draw_1d_sfs\n",
    "draw_1d_sfs(\"outputs/easySFS_output/dadi/NN-10.sfs\")"
   ]
  },
  {
   "cell_type": "markdown",
   "id": "b06885af",
   "metadata": {},
   "source": [
    "-----\n",
    "## 6. Overview of GADMA\n",
    "\n",
    "### What is [GADMA](https://github.com/ctlab/GADMA)?\n",
    "- Tool for demographic inference from the genetic data.\n",
    "- Provides demographic history that has highest value of likelihood with the data.\n",
    "- Includes several likelihood components of existing tools under the common interface (`dadi`, `moments`, `momi2`, `momentsLD`)\n",
    "- Has effective global optimization for parameter search.\n",
    "- New model specification using *structure*.\n",
    "- Repeats demographic inference and provides best result among several repeats (30 repeats is good, 100 is better).\n",
    "\n",
    "Papers to cite: [\\[Noskova et al. 2020\\]](https://doi.org/10.1093/gigascience/giaa005), [\\[Noskova et al. 2023\\]](https://doi.org/10.1101/2022.06.14.496083) and other papers regarding used engines (see more [here](https://gadma.readthedocs.io/en/latest/citations.html)). \n",
    "\n",
    "### What is the difference between likelihood engines in GADMA?\n",
    "\n",
    "GADMA has several engines to evaluate likelihood of the demographic history and data. More information about each engine could be found in the [documentation](https://gadma.readthedocs.io/en/latest/user_manual/set_engine.html).\n",
    "\n",
    "<img src=\"pictures/Screenshot_engines.png\" width=\"700\" align=\"left\"/>"
   ]
  },
  {
   "cell_type": "markdown",
   "id": "ff3b3cc1",
   "metadata": {},
   "source": [
    "### What is the model of the demographic history?\n",
    "\n",
    "Classical tools for demographic inference require parameterized model of the demographic history. It should be specified using interface of the tool and could be error-prone. For example, let us consider the following model for the demographic history of two populations:\n",
    "- Ancestral population had size equal to $N_{anc}$.\n",
    "- Ancestral population experienced instanstenious growth up to ($nu_{1F}\\cdot N_{anc}$) individuals and it has constant size for ($2\\cdot T_p\\cdot N_{anc}$) generations.\n",
    "- Then second population diverged from ancestral population.\n",
    "- Second population experienced exponential growth from ($nu_{2B}\\cdot N_{anc}$) up to ($nu_{2F}\\cdot N_{anc}$) individuals during ($2\\cdot T\\cdot N_{anc}$) generations after split.\n",
    "- Size of the first population was equal to the size of ancestral population.\n",
    "- There was migration between populations with rate equal to $m / (2\\cdot N_{anc})$ migrants per generation.\n",
    "\n",
    "This model has one parameter for $N_{anc}$ and additional 6 parameters. Example of the model specification for `dadi` using its Python API:"
   ]
  },
  {
   "cell_type": "code",
   "execution_count": null,
   "id": "1fd17411",
   "metadata": {},
   "outputs": [],
   "source": [
    "def prior_onegrow_mig(params, ns, pts):\n",
    "    \"\"\"\n",
    "    Model with growth, split, bottleneck in pop2, exp recovery, migration\n",
    "\n",
    "    params list is\n",
    "    nu1F: The ancestral population size after growth. (Its initial size is\n",
    "          defined to be 1.)\n",
    "    nu2B: The bottleneck size for pop2\n",
    "    nu2F: The final size for pop2\n",
    "    m: The scaled migration rate\n",
    "    Tp: The scaled time between ancestral population growth and the split.\n",
    "    T: The time between the split and present\n",
    "\n",
    "    ns = (n1,n2): Size of fs to generate.\n",
    "    pts: Number of points to use in grid for evaluation.\n",
    "    \"\"\"\n",
    "    nu1F, nu2B, nu2F, m, Tp, T = params\n",
    "    n1,n2 = ns\n",
    "    # Define the grid we'll use\n",
    "    xx = yy = dadi.Numerics.default_grid(pts)\n",
    "\n",
    "    # phi for the equilibrium ancestral population\n",
    "    phi = dadi.PhiManip.phi_1D(xx)\n",
    "    # Now do the population growth event.\n",
    "    phi = dadi.Integration.one_pop(phi, xx, Tp, nu=nu1F)\n",
    "\n",
    "    # The divergence\n",
    "    phi = dadi.PhiManip.phi_1D_to_2D(xx, phi)\n",
    "    # We need to define a function to describe the non-constant population 2\n",
    "    # size. lambda is a convenient way to do so.\n",
    "    nu2_func = lambda t: nu2B*(nu2F/nu2B)**(t/T)\n",
    "    phi = dadi.Integration.two_pops(phi, xx, T, nu1=nu1F, nu2=nu2_func, \n",
    "                                    m12=m, m21=m)\n",
    "\n",
    "    # Finally, calculate the spectrum.\n",
    "    sfs = dadi.Spectrum.from_phi(phi, (n1,n2), (xx,yy))\n",
    "    return sfs"
   ]
  },
  {
   "cell_type": "markdown",
   "id": "1611dd41",
   "metadata": {},
   "source": [
    "### Model specification using structure\n",
    "\n",
    "GADMA requieres number of epochs in the demographic history. It has several additional handlers for flexibility:\n",
    "- Enable/disable migrations\n",
    "- Enable/disable selection\n",
    "- Enable/disable dynamics of population size\n",
    "\n",
    "More information [here](https://gadma.readthedocs.io/en/latest/user_manual/set_model/set_model_struct.html).\n",
    "\n",
    "<img src=\"pictures/gadma.png\" width=\"700\" align=\"left\"/>"
   ]
  },
  {
   "cell_type": "markdown",
   "id": "1920774e",
   "metadata": {},
   "source": [
    "### Dynamics of population size change\n",
    "\n",
    "GADMA has flexible dynamics of population size change for model with structure.\n",
    "\n",
    "Population dynamic can be:\n",
    "\n",
    "- Constant (Sudden)\n",
    "- Linear\n",
    "- Exponential\n",
    "\n",
    "<img src=\"pictures/sudden.png\" width=\"150\" align=\"left\"/>\n",
    "<img src=\"pictures/linear.png\" width=\"150\" align=\"left\"/> \n",
    "<img src=\"pictures/exponential.png\" width=\"150\" align=\"left\"/>"
   ]
  },
  {
   "cell_type": "markdown",
   "id": "a5ee5ee7",
   "metadata": {},
   "source": [
    "### Notes about structure\n",
    "\n",
    "- Structure model could be used only for data of either 1, 2 or 3 populations. For 4 and 5 populations usual models could be used (custom models).\n",
    "- Structure should not be very complex: \\[3\\] for one population, \\[2, 1\\] for two populations and \\[2, 1, 1\\] for three populations is enough.\n",
    "- For three populations the most ancient population should be specified (in order to know the tree topology). It could be just sorted through all options.\n",
    "- GADMA has a special inference scheme when the structure is increased: it starts from the simple initial structure and then use more complex structures until reachs the final one. Please, use this option as it provides better estimations.\n"
   ]
  },
  {
   "cell_type": "markdown",
   "id": "24fbd9b0",
   "metadata": {},
   "source": [
    "--------\n",
    "## 7. Example Run of GADMA\n",
    "\n",
    "### Installation\n",
    "\n",
    "[Documentation on installation](https://gadma.readthedocs.io/en/latest/user_manual/installation.html#installing-the-latest-release)\n",
    "\n",
    "GADMA can be easily installed via `pip` or `conda`. Some of its engines should be installed manually (e.g. `moments`).\n",
    "\n"
   ]
  },
  {
   "cell_type": "code",
   "execution_count": null,
   "id": "cfd471f9",
   "metadata": {},
   "outputs": [],
   "source": [
    "%%bash\n",
    "pip install pandas\n",
    "pip install demes\n",
    "pip install demesdraw\n",
    "pip install gadma\n",
    "pip install git+https://bitbucket.org/simongravel/moments.git"
   ]
  },
  {
   "cell_type": "markdown",
   "id": "916d1421",
   "metadata": {},
   "source": [
    "### Run GADMA with the `--help` option"
   ]
  },
  {
   "cell_type": "code",
   "execution_count": 130,
   "id": "1265ff84",
   "metadata": {},
   "outputs": [
    {
     "name": "stdout",
     "output_type": "stream",
     "text": [
      "warning in stationary: failed to import cython module: falling back to numpy\n",
      "warning in choleskies: failed to import cython module: falling back to numpy\n",
      "GADMA version 2.0.0rc24.dev9\tby Ekaterina Noskova (ekaterina.e.noskova@gmail.com)\n",
      "Usage: \n",
      "\tgadma\t-p/--params\t<params_file>\n",
      "\t\t-e/--extra\t<extra_params_file>\n",
      "\n",
      "\n",
      "Instead/With -p/--params and -e/--extra option you can set:\n",
      "\t-o/--output\t<output_dir>\t\toutput directory.\n",
      "\t-i/--input\t<in.fs>/<in.txt>/\tinput data for demographic inference\n",
      "\t\t\t<in.vcf>,<popmap>\t(AFS, dadi format or VCF).\n",
      "\t--resume\t<resume_dir>\t\tresume another launch from <resume_dir>.\n",
      "\t--only_models\t\tflag to take models only from another\n",
      "\t\t\t\tlaunch (--resume option).\n",
      "\n",
      "\t-h/--help\t\tshow this help message and exit.\n",
      "\t-v/--version\t\tshow version and exit.\n",
      "\t--test\t\t\trun test case.\n",
      "\n",
      "In case of any questions or problems, please contact: ekaterina.e.noskova@gmail.com\n"
     ]
    }
   ],
   "source": [
    "%%bash\n",
    "gadma --help"
   ]
  },
  {
   "cell_type": "markdown",
   "id": "fb2a6f80",
   "metadata": {},
   "source": [
    "### GADMA output\n",
    "\n",
    "[More information about GADMA output in the documentation](https://gadma.readthedocs.io/en/latest/user_manual/output.html)\n",
    "\n",
    "Before we run GADMA let us take a look at its output. GADMA was already run and it created an output directory.\n",
    "- Our run was saved in `outputs/gadma_outputs/gadma_example_output`:"
   ]
  },
  {
   "cell_type": "code",
   "execution_count": 191,
   "id": "63b8b4e0",
   "metadata": {},
   "outputs": [
    {
     "name": "stdout",
     "output_type": "stream",
     "text": [
      "1\n",
      "2\n",
      "3\n",
      "4\n",
      "5\n",
      "6\n",
      "7\n",
      "8\n",
      "best_claic_model_dadi_code.py\n",
      "best_claic_model_demes_code.py.yml\n",
      "best_claic_model_moments_code.py\n",
      "best_claic_model_momi2_code.py\n",
      "best_claic_model.png\n",
      "best_logLL_model_dadi_code.py\n",
      "best_logLL_model_demes_code.py.yml\n",
      "best_logLL_model_moments_code.py\n",
      "best_logLL_model_momi2_code.py\n",
      "best_logLL_model.png\n",
      "extra_params_file\n",
      "GADMA.log\n",
      "params_file\n"
     ]
    }
   ],
   "source": [
    "%%bash\n",
    "ls outputs/gadma_outputs/gadma_full_example_run/"
   ]
  },
  {
   "cell_type": "markdown",
   "id": "7e163dae",
   "metadata": {},
   "source": [
    "- All command line output is saved in file `GADMA.log`:"
   ]
  },
  {
   "cell_type": "code",
   "execution_count": 192,
   "id": "384e47bd",
   "metadata": {},
   "outputs": [
    {
     "name": "stdout",
     "output_type": "stream",
     "text": [
      "Data reading\n",
      "Number of populations: 1\n",
      "Projections: [10]\n",
      "Population labels: ['NN']\n",
      "Outgroup: False\n",
      "\u001b[92m--Successful data reading--\u001b[0m\n",
      "\n",
      "\u001b[92m--Successful arguments parsing--\u001b[0m\n",
      "\n",
      "Bootstrap data reading\n",
      "Number of files found: 20\n",
      "\u001b[92m--Successful bootstrap data reading--\u001b[0m\n",
      "\n",
      "Parameters of launch are saved in output directory: /home/enoskova/Workspace/GADMA_workshop/outputs/gadma_outputs/gadma_full_example_run/params_file\n",
      "All output is saved in output directory: /home/enoskova/Workspace/GADMA_workshop/outputs/gadma_outputs/gadma_full_example_run/GADMA.log\n",
      "\n",
      "\u001b[94m--Start pipeline--\u001b[0m\n"
     ]
    }
   ],
   "source": [
    "%%bash\n",
    "head -17 outputs/gadma_outputs/gadma_full_example_run/GADMA.log"
   ]
  },
  {
   "cell_type": "code",
   "execution_count": 196,
   "id": "50e6fc60",
   "metadata": {},
   "outputs": [
    {
     "name": "stdout",
     "output_type": "stream",
     "text": [
      "\n",
      "[000:04:10]\n",
      "All best by log-likelihood models\n",
      "Number\tlog-likelihood\tModel\n",
      "Run 3\t-438.95\t [Nanc = 1762] [ [ 28569.437(t1), [1764.727(nu11)], [Sud(dyn11)] ],\t[ 13.057(t2), [0.534(nu21)], [Exp(dyn21)] ] ]\tf\t(theta =  255258.81)\n",
      "Run 2\t-439.07\t [Nanc = 1762] [ [ 12.924(t1), [0.531(nu11)], [Exp(dyn11)] ] ]\t(theta =  255155.88)\n",
      "Run 7\t-439.49\t [Nanc = 1764] [ [ 1.994(t1), [1.32(nu11)], [Sud(dyn11)] ],\t[ 1.982(t2), [1.32(nu21)], [Sud(dyn21)] ] ]\tf\t(theta =  255439.98)\n",
      "Run 1\t-439.55\t [Nanc = 1764] [ [ 0.443(t1), [1764.31(nu11)], [Lin(dyn11)] ],\t[ 27.982(t2), [1.278(nu21)], [Exp(dyn21)] ] ]\tf\t(theta =  255453.83)\n",
      "Run 8\t-439.80\t [Nanc = 1765] [ [ 12.796(t1), [215.823(nu11)], [Sud(dyn11)] ],\t[ 88.237(t2), [0.136(nu21)], [Lin(dyn21)] ] ]\tf\t(theta =  255579.40)\n",
      "Run 5\t-439.91\t [Nanc = 1763] [ [ 1.54e-04(t1), [1763.902(nu11)], [Sud(dyn11)] ],\t[ 36.103(t2), [1.718(nu21)], [Exp(dyn21)] ] ]\tf\t(theta =  255394.77)\n",
      "Run 4\t-440.59\t [Nanc = 1765] [ [ 4.84e-08(t1), [23.607(nu11)], [Lin(dyn11)] ],\t[ 19.895(t2), [2.67(nu21)], [Exp(dyn21)] ] ]\tf\t(theta =  255668.58)\n",
      "Run 6\t-445.38\t [Nanc = 1766] [ [ 60001.335(t1), [1768.381(nu11)], [Sud(dyn11)] ],\t[ 152.5(t2), [9.22(nu21)], [Exp(dyn21)] ] ]\tf\t(theta =  255787.33)\n",
      "\u001b[93mUserWarning: Matplotlib is currently using agg, which is a non-GUI backend, so cannot show the figure.\u001b[0m (/home/enoskova/.local/lib/python3.8/site-packages/moments/Plotting.py:192)\n",
      "\u001b[93mRun 3 warning: failed to generate  some code due to the following exception: momentsLD: 1762.9627342654135, 1.0\u001b[0m\n",
      "\n",
      "You can find the picture of the best model in the output directory.\n",
      "\n",
      "All best by CLAIC score models\n",
      "Number\tlog-likelihood\tCLAIC score\tModel\n",
      "Run 7\t-439.56\t659.68 (eps=1.0e-05)\t [Nanc = 1762] [ [ 3.961(t1), [1.319(nu11)], [Sud(dyn11)] ] ]\t(theta =  255231.42)\n",
      "Run 7\t-439.49\t677.08 (eps=1.0e-05)\t [Nanc = 1764] [ [ 1.994(t1), [1.32(nu11)], [Sud(dyn11)] ],\t[ 1.982(t2), [1.32(nu21)], [Sud(dyn21)] ] ]\t(theta =  255439.98)\n",
      "Run 7\t-439.49\t677.08 (eps=1.0e-05)\t [Nanc = 1764] [ [ 1.994(t1), [1.32(nu11)], [Sud(dyn11)] ],\t[ 1.982(t2), [1.32(nu21)], [Sud(dyn21)] ] ]\tf\t(theta =  255439.98)\n",
      "Run 3\t-438.97\t750.50 (eps=1.0e-05)\t [Nanc = 1764] [ [ 13.066(t1), [0.535(nu11)], [Exp(dyn11)] ] ]\t(theta =  255445.77)\n",
      "Run 2\t-439.07\t750.55 (eps=1.0e-05)\t [Nanc = 1762] [ [ 12.924(t1), [0.531(nu11)], [Exp(dyn11)] ] ]\t(theta =  255155.88)\n",
      "Run 3\t-438.95\t750.74 (eps=1.0e-05)\t [Nanc = 1762] [ [ 28569.437(t1), [1764.727(nu11)], [Sud(dyn11)] ],\t[ 13.057(t2), [0.534(nu21)], [Exp(dyn21)] ] ]\t(theta =  255258.81)\n",
      "Run 3\t-438.95\t750.74 (eps=1.0e-05)\t [Nanc = 1762] [ [ 28569.437(t1), [1764.727(nu11)], [Sud(dyn11)] ],\t[ 13.057(t2), [0.534(nu21)], [Exp(dyn21)] ] ]\tf\t(theta =  255258.81)\n",
      "Run 1\t-439.55\t823.56 (eps=1.0e-05)\t [Nanc = 1764] [ [ 0.443(t1), [1764.31(nu11)], [Lin(dyn11)] ],\t[ 27.982(t2), [1.278(nu21)], [Exp(dyn21)] ] ]\t(theta =  255453.83)\n",
      "Run 1\t-439.55\t823.56 (eps=1.0e-05)\t [Nanc = 1764] [ [ 0.443(t1), [1764.31(nu11)], [Lin(dyn11)] ],\t[ 27.982(t2), [1.278(nu21)], [Exp(dyn21)] ] ]\tf\t(theta =  255453.83)\n",
      "Run 1\t-439.59\t823.97 (eps=1.0e-05)\t [Nanc = 1763] [ [ 27.918(t1), [1.277(nu11)], [Exp(dyn11)] ] ]\t(theta =  255331.67)\n",
      "Run 5\t-439.91\t837.75 (eps=1.0e-05)\t [Nanc = 1763] [ [ 36.103(t1), [1.718(nu11)], [Exp(dyn11)] ] ]\t(theta =  255394.77)\n",
      "Run 5\t-439.91\t837.75 (eps=1.0e-05)\t [Nanc = 1763] [ [ 1.54e-04(t1), [1763.902(nu11)], [Sud(dyn11)] ],\t[ 36.103(t2), [1.718(nu21)], [Exp(dyn21)] ] ]\t(theta =  255394.77)\n",
      "Run 5\t-439.91\t837.75 (eps=1.0e-05)\t [Nanc = 1763] [ [ 1.54e-04(t1), [1763.902(nu11)], [Sud(dyn11)] ],\t[ 36.103(t2), [1.718(nu21)], [Exp(dyn21)] ] ]\tf\t(theta =  255394.77)\n",
      "Run 2\t-439.27\t851.31 (eps=1.0e-05)\t [Nanc = 1762] [ [ 6.462(t1), [30.578(nu11)], [Exp(dyn11)] ],\t[ 6.462(t2), [0.531(nu21)], [Exp(dyn21)] ] ]\t(theta =  255151.18)\n",
      "Run 2\t-439.27\t851.31 (eps=1.0e-05)\t [Nanc = 1762] [ [ 6.462(t1), [30.578(nu11)], [Exp(dyn11)] ],\t[ 6.462(t2), [0.531(nu21)], [Exp(dyn21)] ] ]\tf\t(theta =  255151.18)\n",
      "Run 6\t-445.38\t851.41 (eps=1.0e-05)\t [Nanc = 1766] [ [ 60001.335(t1), [1768.381(nu11)], [Sud(dyn11)] ],\t[ 152.5(t2), [9.22(nu21)], [Exp(dyn21)] ] ]\t(theta =  255787.33)\n",
      "Run 6\t-445.38\t851.41 (eps=1.0e-05)\t [Nanc = 1766] [ [ 60001.335(t1), [1768.381(nu11)], [Sud(dyn11)] ],\t[ 152.5(t2), [9.22(nu21)], [Exp(dyn21)] ] ]\tf\t(theta =  255787.33)\n",
      "Run 4\t-440.59\t861.17 (eps=1.0e-05)\t [Nanc = 1765] [ [ 4.84e-08(t1), [23.607(nu11)], [Lin(dyn11)] ],\t[ 19.895(t2), [2.67(nu21)], [Exp(dyn21)] ] ]\t(theta =  255668.58)\n",
      "Run 4\t-440.59\t861.17 (eps=1.0e-05)\t [Nanc = 1765] [ [ 4.84e-08(t1), [23.607(nu11)], [Lin(dyn11)] ],\t[ 19.895(t2), [2.67(nu21)], [Exp(dyn21)] ] ]\tf\t(theta =  255668.58)\n",
      "Run 8\t-439.80\t862.09 (eps=1.0e-05)\t [Nanc = 1765] [ [ 12.796(t1), [215.823(nu11)], [Sud(dyn11)] ],\t[ 88.237(t2), [0.136(nu21)], [Lin(dyn21)] ] ]\t(theta =  255579.40)\n",
      "Run 8\t-439.80\t862.09 (eps=1.0e-05)\t [Nanc = 1765] [ [ 12.796(t1), [215.823(nu11)], [Sud(dyn11)] ],\t[ 88.237(t2), [0.136(nu21)], [Lin(dyn21)] ] ]\tf\t(theta =  255579.40)\n",
      "Run 6\t-445.39\t873.74 (eps=1.0e-05)\t [Nanc = 1768] [ [ 152.647(t1), [9.229(nu11)], [Exp(dyn11)] ] ]\t(theta =  256032.59)\n",
      "Run 4\t-452.23\t875.24 (eps=1.0e-05)\t [Nanc = 1765] [ [ 72.435(t1), [23.597(nu11)], [Sud(dyn11)] ] ]\t(theta =  255561.39)\n",
      "Run 8\t-454.14\t876.05 (eps=1.0e-05)\t [Nanc = 1771] [ [ 88.542(t1), [28.36(nu11)], [Sud(dyn11)] ] ]\t(theta =  256462.41)\n",
      "Run 4\t-18821.88\t37643.75 (eps=1.0e-05)\t [Nanc = 1294] [  ]\t(theta =  187412.14)\n",
      "Run 1\t-18821.88\t37643.75 (eps=1.0e-05)\t [Nanc = 1294] [  ]\t(theta =  187412.14)\n",
      "Run 2\t-18821.88\t37643.75 (eps=1.0e-05)\t [Nanc = 1294] [  ]\t(theta =  187412.14)\n",
      "Run 3\t-18821.88\t37643.75 (eps=1.0e-05)\t [Nanc = 1294] [  ]\t(theta =  187412.14)\n",
      "Run 5\t-18821.88\t37643.75 (eps=1.0e-05)\t [Nanc = 1294] [  ]\t(theta =  187412.14)\n",
      "Run 6\t-18821.88\t37643.75 (eps=1.0e-05)\t [Nanc = 1294] [  ]\t(theta =  187412.14)\n",
      "Run 7\t-18821.88\t37643.75 (eps=1.0e-05)\t [Nanc = 1294] [  ]\t(theta =  187412.14)\n",
      "Run 8\t-18821.88\t37643.75 (eps=1.0e-05)\t [Nanc = 1294] [  ]\t(theta =  187412.14)\n",
      "\u001b[93mUserWarning: Matplotlib is currently using agg, which is a non-GUI backend, so cannot show the figure.\u001b[0m (/home/enoskova/.local/lib/python3.8/site-packages/moments/Plotting.py:192)\n",
      "\u001b[93mRun 7 warning: failed to generate  some code due to the following exception: momentsLD: 1762.7735750055033, 1.0\u001b[0m\n",
      "\n",
      "You can find the picture of the best model in the output directory.\n",
      "\n",
      "\n",
      "--Finish pipeline--\n",
      "\n",
      "Thank you for using GADMA!\n",
      "\n",
      "In case of any questions or problems, please contact: ekaterina.e.noskova@gmail.com\n",
      "\n"
     ]
    }
   ],
   "source": [
    "%%bash\n",
    "tail -63 outputs/gadma_outputs/gadma_full_example_run/GADMA.log"
   ]
  },
  {
   "cell_type": "markdown",
   "id": "0681c737",
   "metadata": {},
   "source": [
    "- Picture of the final history is saved in `outputs/gadma_outputs/gadma_example_output/best_logLL_model.png`\n",
    "\n",
    "<img src=\"outputs/gadma_outputs/gadma_full_example_run/best_logLL_model.png\" width=\"900\" align=\"left\"/>"
   ]
  },
  {
   "cell_type": "markdown",
   "id": "993e125f",
   "metadata": {},
   "source": [
    "- GADMA uses parameters file with specified options. Example of parameters file could be found [here](https://gadma.readthedocs.io/en/latest/user_manual/example_params_file.html)."
   ]
  },
  {
   "cell_type": "code",
   "execution_count": 134,
   "id": "8912ebf0",
   "metadata": {},
   "outputs": [
    {
     "name": "stdout",
     "output_type": "stream",
     "text": [
      "#    It is a parameters file for GADMA software.\n",
      "\n",
      "#    Lines started from # are ignored.\n",
      "#    Also comments at the end of a line are ignored too.\n",
      "#    Every line contains: Identificator of parameter : value.\n",
      "\n",
      "#!!!     means pay attention to this parameter, they are primary.\n",
      "\n",
      "#!!!\n",
      "#    Output directory to write all GADMA out.\n",
      "#    One need to set it to a missing or empty directory.\n",
      "#    If it is resumed from other directory and output directory \n",
      "#    isn't set, GADMA will add '_resumed' for previous output \n",
      "#    directory.\n",
      "Output directory: /home/enoskova/Workspace/GADMA_workshop/gadma_output\n",
      "\n",
      "\n",
      "#!!!\n",
      "#    Input data can be sfs file (should end with .fs) or \n",
      "#    file of SNP's in dadi format (should end with .txt) or\n",
      "#   VCF file + popmap file (sample population map).\n",
      "Input data: /home/enoskova/Workspace/GADMA_workshop/easySFS_output/dadi/NN-10.sfs\n",
      "\n",
      "#    'Population labels' is sequence of population names (the same\n",
      "#    names as in input file)\n",
      "#    If .fs file is in old format then it would rename population \n",
      "#    labels that are absent.\n",
      "#    It is necessary to put them in order from most ancient to less. \n",
      "#    (In case of more than two populations)\n",
      "#    It is important, because the last of formed populations take\n",
      "#    part in the next split.\n",
      "#    For example, if we have YRI - African population,\n",
      "#    CEU - European population and CHB - Chinese population,\n",
      "#    then we can write YRI, CEU, CHB or YRI, CHB, CEU \n",
      "#    (YRI must be at the first place)\n",
      "#    Default: from input file\n",
      "Population labels: [NN]\n",
      "\n",
      "#    Also one can project spectrum to less size.\n",
      "#    For example, we have 80 individuals in each of three \n",
      "#    populations, then spectrum will be 81x81x81 and one can \n",
      "#    project it to 21x21x21 by set 'Projections' parameter \n",
      "#    to 20, 20, 20.\n",
      "#    Default: from input file\n",
      "Projections: [10]\n",
      "\n",
      "#   To indicate if outgroup information is included in SFS data\n",
      "#   one can set Outgroup option.\n",
      "#   If outgroup is False then SFS will be folded.\n",
      "#   Default: from input file\n",
      "Outgroup: False\n",
      "\n",
      "#   Effective length of sequence that was used to build SFS data.\n",
      "#   Should be used together with Mutation rate and can be replaced\n",
      "#   be Thera0 setting.\n",
      "#   Default: None\n",
      "Sequence length: 2329306282\n",
      "\n",
      "#!!!\n",
      "#    Are SNP's linked or unlinked?\n",
      "#    If they are linked, then Composite Likelihood Akaike\n",
      "#    Information Criterion (CLAIC) will be used to compare models.\n",
      "#    If they are unlinked, then usual Akaike Information Criterion \n",
      "#    (AIC) will be used.\n",
      "#    Default: True\n",
      "Linked SNP's: True\n",
      "\n",
      "#!!!\n",
      "#    If SNP's are linked in order to calculate CLAIC, please, set\n",
      "#    the directory with bootstrapped data. \n",
      "#    Bootstrap should be done over the regions of the genome.\n",
      "#    Default: None\n",
      "Directory with bootstrap: Null\n",
      "\n",
      "\n",
      "#!!!\n",
      "#    Now all main parameters:\n",
      "#\n",
      "#    Engine for the demographic inference.\n",
      "#    Default: moments\n",
      "Engine: moments\n",
      "\n",
      "#    If you choose to use dadi, please set pts parameter - number\n",
      "#    of points in the grid. Otherwise this pts would be used in dadi's code.\n",
      "#    Default: Let n = max number of individuals in one population, \n",
      "#    then pts = n, n+10, n+20\n",
      "Pts: [10, 20, 30]\n",
      "\n",
      "#!!!\n",
      "#    Print parameters of model in units of N_ref = N_A.\n",
      "#    N_A will be placed in brackets at the end of string.\n",
      "#    Default: False\n",
      "Relative parameters: False\n",
      "\n",
      "#    Total mutation flux - theta.\n",
      "#    It is equal to:\n",
      "#    theta = 4 * μ * L\n",
      "#    where μ - mutation rate per site per generation and \n",
      "#    L - effective sequenced length, which accounts for losses \n",
      "#    in alignment and missed calls.\n",
      "#    Note: one should estimate μ based on generation time.\n",
      "#    Default: 1.0\n",
      "Theta0: Null\n",
      "\n",
      "#   Instead of Theta0 mutation rate can be set independently.\n",
      "#   Should be used together with Sequence length option.\n",
      "#   Default: None\n",
      "Mutation rate: 1.554e-08\n",
      "\n",
      "#    Recombination rate\n",
      "#    Default: None\n",
      "Recombination rate: Null\n",
      "\n",
      "#    Time (years) for one generation. Can be float. \n",
      "#    Is important for drawing models. If one don't want to draw, \n",
      "#    one can pass it.\n",
      "#    Default: 1.0\n",
      "Time for generation: Null\n",
      "\n",
      "\n",
      "#!!!\n",
      "#    One should choose the demographic history to infer.\n",
      "#    It can be custom or setted up with structure.\n",
      "\n",
      "# 1. Using a custom demographic model.\n",
      "#    Please specify a file with a function named 'model_func' in it. \n",
      "#    So file should contain:\n",
      "#    def model_func(params, ns, pts) in case of dadi\n",
      "#    or\n",
      "#    def model_func(params, ns) in case of moments\n",
      "#    Default: None\n",
      "Custom filename: Null\n",
      "\n",
      "#    Now one should specify either bounds or identifications \n",
      "#    of custom model's parameters. All values are in Nref units.\n",
      "#    Lower and upper bounds - lists of numbers.\n",
      "#    List of usual bounds:\n",
      "#    N: 1e-2 - 100\n",
      "#    T: 0 - 5\n",
      "#    m: 0 - 10\n",
      "#    s: 0 - 1\n",
      "#    These bounds will be taken automatically if identifications are set.\n",
      "#    Default: None\n",
      "Lower bound: Null\n",
      "Upper bound: Null\n",
      "#    An identifier list:\n",
      "#    T - time\n",
      "#    N - size of population\n",
      "#    m - migration\n",
      "#    s - split event,  proportion in which population size\n",
      "#    is divided to form two new populations.\n",
      "#    Default: None\n",
      "Parameter identifiers: Null\n",
      "\n",
      "# 2. Structure is for not custom models!\n",
      "#    Structure of model for one population - number of time periods \n",
      "#    (e.g. 5).\n",
      "#    Structure of model for two populations - number of time periods\n",
      "#    before the split of the ancestral population and after it (e.g. 2,2).\n",
      "#    Structure of model for three populations - number of time periods\n",
      "#    before first split, between first and second splits and after \n",
      "#    second split (e.g. 2,1,2).\n",
      "#\n",
      "#    Structure of initial model:\n",
      "#    Default: all is ones - 1 or 1,1 or 1,1,1\n",
      "Initial structure: [1]\n",
      "\n",
      "#    Structure of final model:\n",
      "#    Default: equals to initial structure\n",
      "Final structure: [3]\n",
      "\n",
      "#!!!\n",
      "#    Additional settings for demographic model with structure.\n",
      "#\n",
      "#    Use sudden changes of population sizes only. Decreases \n",
      "#    the number of parameters.\n",
      "#    Default: False\n",
      "Only sudden: False\n",
      "\n",
      "#    The set of available size dynamics could be set to any subset.\n",
      "#    Sud is for sudden size change (constant during the next time epoch),\n",
      "#    Lin - linear size change,\n",
      "#    Exp - exponential size change.\n",
      "#    If `Only sudden` is True then this setting will be [Sud].\n",
      "#    Default: [Sud, Lin, Exp]\n",
      "Dynamics: [Sud, Lin, Exp]\n",
      "\n",
      "#    Disable migrations in demographic models.\n",
      "#    Default: False\n",
      "No migrations: False\n",
      "\n",
      "#   Makes all migrations symmetrical.\n",
      "#   Default: False\n",
      "Symmetric migrations: False\n",
      "\n",
      "#   Enable/disable migrations selectively.\n",
      "#   Default: None\n",
      "Migration masks: Null\n",
      "\n",
      "#    Enable/disable inference of selection coefficients.\n",
      "#    Is supported by moments and dadi engines only.\n",
      "#    Default: False\n",
      "Selection: False\n",
      "\n",
      "#    Enables/disables inference of dominance coefficient.\n",
      "#    If True then setting `Selection` must be aldo set to True.\n",
      "#    Is supported by moments and dadi engines only.\n",
      "#    Default: False\n",
      "Dominance: False\n",
      "\n",
      "#   Estimate fraction of ancestral population as parameter of split.\n",
      "#   If False then population splits and each of new populations\n",
      "#   has its own size as parameter of the model.\n",
      "#   Default: True\n",
      "Split fractions: True\n",
      "\n",
      "#   Estimate inbreeding coefficients as model parameters.\n",
      "#   Can be used only for dadi engine.\n",
      "#   Default: False\n",
      "Inbreeding: False\n",
      "\n",
      "#   If False then multinomial approach is used in dadi and moments.\n",
      "#   In multinomial approach ancestral size is inferred implicitly.\n",
      "#   Default: False\n",
      "Ancestral size as parameter: False\n",
      "\n",
      "#    It is possible to limit the time of splits.\n",
      "#    Split 1 is the most ancient split.\n",
      "#    !Note that time is in genetic units (2 * time for 1 generation):\n",
      "#    e.g. we want to limit by 150 kya, time for one generation is \n",
      "#    25 years, then bound will be 150000 / (2*25) = 3000.\n",
      "#\n",
      "#    Upper bound for split 1 (in case of 2 or 3 populations).\n",
      "#    Default: None\n",
      "Upper bound of first split: Null\n",
      "\n",
      "#    Upper bound for split 2 (in case of 3 populations).\n",
      "#    Default: None\n",
      "Upper bound of second split: Null\n",
      "\n",
      "\n",
      "\n",
      "#!!!\n",
      "#    Local optimization.\n",
      "#\n",
      "#    Choice of local optimization, that is launched after \n",
      "#    each genetic algorithm.\n",
      "#    Choices:\n",
      "#\n",
      "#    *    optimize (BFGS method)\n",
      "#    \n",
      "#    *    optimiza_log (BFGS method)\n",
      "#    \n",
      "#    *    optimize_powell (Powell’s conjugate direction method)\n"
     ]
    },
    {
     "name": "stdout",
     "output_type": "stream",
     "text": [
      "#    (Note: is implemented in moments: one need to have moments \n",
      "#    installed.)\n",
      "#\n",
      "#    (If optimizations are often hitting the parameter bounds, \n",
      "#    try using these methods:)\n",
      "#    *    optimize_lbfgsb\n",
      "#    *    optimize_log_lbfgsb \n",
      "#    (Note that it is probably best to start with the vanilla BFGS \n",
      "#    methods, because the L-BFGS-B methods will always try parameter\n",
      "#    values at the bounds during the search. \n",
      "#    This can dramatically slow model fitting.)\n",
      "#\n",
      "#    *    optimize_log_fmin (simplex (a.k.a. amoeba) method)\n",
      "#    \n",
      "#    *    hill_climbing\n",
      "#    \n",
      "#    Default: optimize_powell\n",
      "Local optimizer: BFGS_log\n",
      "\n",
      "\n",
      "\n",
      "#    Parameters of pipeline\n",
      "#\n",
      "#    One can automatically generate dadi and moments code for models.\n",
      "#    If 0 then only current best model will be printed in GA's \n",
      "#    working directory.\n",
      "#    Also the result model will be saved there. \n",
      "#    If specified (not 0) then every N iteration model will be saved\n",
      "#    in python code folder.\n",
      "#    Default: 0\n",
      "Print models' code every N iteration: 0\n",
      "\n",
      "#   Engine that will draw demographic model plots.\n",
      "#   Could be moments or demes.\n",
      "#   Default: moments\n",
      "Model plot engine: demes\n",
      "\n",
      "#    One can automatically draw models every N iteration. \n",
      "#    If 0 then never.\n",
      "#    Pictures are saved in GA's directory in the picture folder.\n",
      "#    Default: 0\n",
      "Draw models every N iteration: 0\n",
      "\n",
      "#    One can choose time units in models' plots: years or thousand \n",
      "#    years (kya, KYA). If time for one generation isn't specified \n",
      "#    then time is in genetic units.\n",
      "#    Default: years\n",
      "Units of time in drawing: generations\n",
      "\n",
      "#   Minimum value that will be drawn in SFS plots.\n",
      "#   Default: 1\n",
      "Vmin: 1\n",
      "\n",
      "#    No std output.\n",
      "#    Default: False\n",
      "Silence: False\n",
      "\n",
      "#   Verbosity of optimizations output.\n",
      "#   Default: 1\n",
      "Verbose: 1\n",
      "\n",
      "#    How many times launch GADMA with this parameters.\n",
      "#    Default: 1\n",
      "Number of repeats: 16\n",
      "\n",
      "#    How many processes to use for this repeats.\n",
      "#    Note that one repeat isn't parallelized, so increasing number\n",
      "#    of processes will not affect the time of one repeat.\n",
      "#    It is desirable that the number of repeats is a multiple of \n",
      "#    the number of processes.\n",
      "#    Default: 1\n",
      "Number of processes: 4\n",
      "\n",
      "\n",
      "\n",
      "#    One can resume from some other launch of GADMA by setting\n",
      "#    output directory of it to 'Resume from' parameter.\n",
      "#    You can set again new parameters of resumed launch.\n",
      "Resume from: Null\n",
      "#\n",
      "#    If you want to take only models from previous run set this \n",
      "#    flag.  Then iterations of GA will start from 0 and values of\n",
      "#    mutation rate and strength will be initial.\n",
      "#    Default: None\n",
      "Only models: False\n"
     ]
    }
   ],
   "source": [
    "%%bash\n",
    "cat outputs/gadma_outputs/gadma_example_output/params_file"
   ]
  },
  {
   "cell_type": "markdown",
   "id": "c611a179",
   "metadata": {},
   "source": [
    "- Each repeat of GADMA run is saved in its own folder:"
   ]
  },
  {
   "cell_type": "code",
   "execution_count": 135,
   "id": "d76aaee0",
   "metadata": {},
   "outputs": [
    {
     "name": "stdout",
     "output_type": "stream",
     "text": [
      "current_best_logLL_model_dadi_code.py\n",
      "current_best_logLL_model_demes_code.py.yml\n",
      "current_best_logLL_model_moments_code.py\n",
      "current_best_logLL_model_momi2_code.py\n",
      "eval_file\n",
      "final_best_logLL_model_dadi_code.py\n",
      "final_best_logLL_model_demes_code.py.yml\n",
      "final_best_logLL_model_moments_code.py\n",
      "final_best_logLL_model_momi2_code.py\n",
      "final_best_logLL_model.png\n",
      "GADMA_GA.log\n",
      "save_file_1\n",
      "save_file_2\n",
      "save_file_3\n"
     ]
    }
   ],
   "source": [
    "%%bash\n",
    "ls outputs/gadma_outputs/gadma_example_output/1"
   ]
  },
  {
   "cell_type": "markdown",
   "id": "8f463a4b",
   "metadata": {},
   "source": [
    "### Run GADMA for one-epoch demographic history inference\n",
    "\n",
    "Let us run GADMA for our data. We need to specify params_file for GADMA with options. We will use moments in our example, but you can choose either `dadi` or `momi2` as well (they are also SFS-based engines)."
   ]
  },
  {
   "cell_type": "code",
   "execution_count": 136,
   "id": "44d6d02e",
   "metadata": {},
   "outputs": [
    {
     "name": "stdout",
     "output_type": "stream",
     "text": [
      "Input data: outputs/easySFS_output/dadi/NN-10.sfs\n",
      "Output directory: outputs/gadma_outputs/gadma_output_1epoch\n",
      "\n",
      "Mutation rate: 1.554e-8\n",
      "Sequence length: 2329306282\n",
      "\n",
      "Engine: moments\n",
      "\n",
      "# Those are default options:\n",
      "# Initial structure: 1\n",
      "# Final structure: 1\n",
      "\n",
      "Number of repeats: 8\n",
      "Number of processes: 4\n"
     ]
    }
   ],
   "source": [
    "%%bash\n",
    "cat gadma_params_files/gadma_params_file_1epoch"
   ]
  },
  {
   "cell_type": "code",
   "execution_count": 138,
   "id": "854c999d",
   "metadata": {
    "scrolled": true
   },
   "outputs": [
    {
     "name": "stdout",
     "output_type": "stream",
     "text": [
      "warning in stationary: failed to import cython module: falling back to numpy\n",
      "warning in choleskies: failed to import cython module: falling back to numpy\n",
      "Data reading\n",
      "Number of populations: 1\n",
      "Projections: [10]\n",
      "Population labels: ['NN']\n",
      "Outgroup: False\n",
      "\u001b[92m--Successful data reading--\u001b[0m\n",
      "\n",
      "\u001b[92m--Successful arguments parsing--\u001b[0m\n",
      "\n",
      "Parameters of launch are saved in output directory: /home/enoskova/Workspace/GADMA_workshop/outputs/gadma_outputs/gadma_output_1epoch/params_file\n",
      "All output is saved in output directory: /home/enoskova/Workspace/GADMA_workshop/outputs/gadma_outputs/gadma_output_1epoch/GADMA.log\n",
      "\n",
      "\u001b[94m--Start pipeline--\u001b[0m\n",
      "Run launch number 2\n",
      "Run launch number 1\n",
      "Run launch number 3\n",
      "Run launch number 4\n"
     ]
    },
    {
     "name": "stderr",
     "output_type": "stream",
     "text": [
      "\u001b[93mUserWarning: Time for generation is not set. All times will be ingenerations (output and pictures).\u001b[0m (/home/enoskova/.local/lib/python3.8/site-packages/gadma/cli/settings_storage.py:1390)\n",
      "\u001b[93mUserWarning: Code for momentsLD will not be generated as: VCF input data is required.\u001b[0m (/home/enoskova/.local/lib/python3.8/site-packages/gadma/cli/settings_storage.py:1536)\n",
      "\u001b[93mUserWarning: Matplotlib is currently using agg, which is a non-GUI backend, so cannot show the figure.\u001b[0m (/home/enoskova/.local/lib/python3.8/site-packages/moments/Plotting.py:192)\n",
      "\u001b[93mUserWarning: Time for generation is not set. All times will be ingenerations (output and pictures).\u001b[0m (/home/enoskova/.local/lib/python3.8/site-packages/gadma/cli/settings_storage.py:1390)\n",
      "\u001b[93mUserWarning: Code for momentsLD will not be generated as: VCF input data is required.\u001b[0m (/home/enoskova/.local/lib/python3.8/site-packages/gadma/cli/settings_storage.py:1536)\n",
      "\u001b[93mUserWarning: Matplotlib is currently using agg, which is a non-GUI backend, so cannot show the figure.\u001b[0m (/home/enoskova/.local/lib/python3.8/site-packages/moments/Plotting.py:192)\n",
      "WARNING:matplotlib.font_manager:findfont: Font family ['sans-serif'] not found. Falling back to DejaVu Sans.\n",
      "WARNING:matplotlib.font_manager:findfont: Generic family 'sans-serif' not found because none of the following families were found: Helvetica\n",
      "WARNING:matplotlib.font_manager:findfont: Font family ['sans-serif'] not found. Falling back to DejaVu Sans.\n",
      "WARNING:matplotlib.font_manager:findfont: Generic family 'sans-serif' not found because none of the following families were found: Helvetica\n",
      "\u001b[93mUserWarning: Time for generation is not set. All times will be ingenerations (output and pictures).\u001b[0m (/home/enoskova/.local/lib/python3.8/site-packages/gadma/cli/settings_storage.py:1390)\n",
      "\u001b[93mUserWarning: Code for momentsLD will not be generated as: VCF input data is required.\u001b[0m (/home/enoskova/.local/lib/python3.8/site-packages/gadma/cli/settings_storage.py:1536)\n",
      "\u001b[93mUserWarning: Matplotlib is currently using agg, which is a non-GUI backend, so cannot show the figure.\u001b[0m (/home/enoskova/.local/lib/python3.8/site-packages/moments/Plotting.py:192)\n",
      "\u001b[93mUserWarning: Time for generation is not set. All times will be ingenerations (output and pictures).\u001b[0m (/home/enoskova/.local/lib/python3.8/site-packages/gadma/cli/settings_storage.py:1390)\n",
      "\u001b[93mUserWarning: Code for momentsLD will not be generated as: VCF input data is required.\u001b[0m (/home/enoskova/.local/lib/python3.8/site-packages/gadma/cli/settings_storage.py:1536)\n",
      "\u001b[93mUserWarning: Matplotlib is currently using agg, which is a non-GUI backend, so cannot show the figure.\u001b[0m (/home/enoskova/.local/lib/python3.8/site-packages/moments/Plotting.py:192)\n",
      "WARNING:matplotlib.font_manager:findfont: Font family ['sans-serif'] not found. Falling back to DejaVu Sans.\n",
      "WARNING:matplotlib.font_manager:findfont: Generic family 'sans-serif' not found because none of the following families were found: Helvetica\n",
      "WARNING:matplotlib.font_manager:findfont: Font family ['sans-serif'] not found. Falling back to DejaVu Sans.\n",
      "WARNING:matplotlib.font_manager:findfont: Generic family 'sans-serif' not found because none of the following families were found: Helvetica\n",
      "WARNING:matplotlib.font_manager:findfont: Font family ['sans-serif'] not found. Falling back to DejaVu Sans.\n",
      "WARNING:matplotlib.font_manager:findfont: Generic family 'sans-serif' not found because none of the following families were found: Helvetica\n",
      "WARNING:matplotlib.font_manager:findfont: Font family ['sans-serif'] not found. Falling back to DejaVu Sans.\n",
      "WARNING:matplotlib.font_manager:findfont: Generic family 'sans-serif' not found because none of the following families were found: Helvetica\n",
      "WARNING:matplotlib.font_manager:findfont: Font family ['sans-serif'] not found. Falling back to DejaVu Sans.\n",
      "WARNING:matplotlib.font_manager:findfont: Generic family 'sans-serif' not found because none of the following families were found: Helvetica\n",
      "WARNING:matplotlib.font_manager:findfont: Font family ['sans-serif'] not found. Falling back to DejaVu Sans.\n",
      "WARNING:matplotlib.font_manager:findfont: Generic family 'sans-serif' not found because none of the following families were found: Helvetica\n",
      "WARNING:matplotlib.font_manager:findfont: Font family ['sans-serif'] not found. Falling back to DejaVu Sans.\n",
      "WARNING:matplotlib.font_manager:findfont: Generic family 'sans-serif' not found because none of the following families were found: Helvetica\n",
      "WARNING:matplotlib.font_manager:findfont: Font family ['sans-serif'] not found. Falling back to DejaVu Sans.\n",
      "WARNING:matplotlib.font_manager:findfont: Generic family 'sans-serif' not found because none of the following families were found: Helvetica\n",
      "WARNING:matplotlib.font_manager:findfont: Font family ['sans-serif'] not found. Falling back to DejaVu Sans.\n",
      "WARNING:matplotlib.font_manager:findfont: Generic family 'sans-serif' not found because none of the following families were found: Helvetica\n"
     ]
    },
    {
     "name": "stdout",
     "output_type": "stream",
     "text": [
      "Finish genetic algorithm number 4\n",
      "Run launch number 5\n",
      "Finish genetic algorithm number 2\n",
      "Run launch number 6\n"
     ]
    },
    {
     "name": "stderr",
     "output_type": "stream",
     "text": [
      "WARNING:matplotlib.font_manager:findfont: Font family ['sans-serif'] not found. Falling back to DejaVu Sans.\n",
      "WARNING:matplotlib.font_manager:findfont: Generic family 'sans-serif' not found because none of the following families were found: Helvetica\n"
     ]
    },
    {
     "name": "stdout",
     "output_type": "stream",
     "text": [
      "Finish genetic algorithm number 3\n",
      "Run launch number 7\n",
      "Finish genetic algorithm number 1\n",
      "Run launch number 8\n"
     ]
    },
    {
     "name": "stderr",
     "output_type": "stream",
     "text": [
      "\u001b[93mUserWarning: Matplotlib is currently using agg, which is a non-GUI backend, so cannot show the figure.\u001b[0m (/home/enoskova/.local/lib/python3.8/site-packages/moments/Plotting.py:192)\n",
      "\u001b[93mUserWarning: Matplotlib is currently using agg, which is a non-GUI backend, so cannot show the figure.\u001b[0m (/home/enoskova/.local/lib/python3.8/site-packages/moments/Plotting.py:192)\n",
      "\u001b[93mUserWarning: Matplotlib is currently using agg, which is a non-GUI backend, so cannot show the figure.\u001b[0m (/home/enoskova/.local/lib/python3.8/site-packages/moments/Plotting.py:192)\n",
      "\u001b[93mUserWarning: Matplotlib is currently using agg, which is a non-GUI backend, so cannot show the figure.\u001b[0m (/home/enoskova/.local/lib/python3.8/site-packages/moments/Plotting.py:192)\n"
     ]
    },
    {
     "name": "stdout",
     "output_type": "stream",
     "text": [
      "Finish genetic algorithm number 5\n",
      "Finish genetic algorithm number 8\n",
      "Finish genetic algorithm number 6\n",
      "Finish genetic algorithm number 7\n",
      "\n",
      "[000:00:05]\n",
      "All best by log-likelihood models\n",
      "Number\tlog-likelihood\tModel\n",
      "Run 2\t-18821.88\t [Nanc = 1294] [  ]\tf\t(theta =  187412.14)\n",
      "Run 4\t-18821.88\t [Nanc = 1294] [  ]\tf\t(theta =  187412.14)\n",
      "Run 3\t-18821.88\t [Nanc = 1294] [  ]\tf\t(theta =  187412.14)\n",
      "Run 1\t-18821.88\t [Nanc = 1294] [  ]\tf\t(theta =  187412.14)\n",
      "Run 5\t-18821.88\t [Nanc = 1294] [  ]\tf\t(theta =  187412.14)\n",
      "Run 6\t-18821.88\t [Nanc = 1294] [  ]\tf\t(theta =  187412.14)\n",
      "Run 7\t-18821.88\t [Nanc = 1294] [  ]\tf\t(theta =  187412.14)\n",
      "Run 8\t-18821.88\t [Nanc = 1294] [  ]\tf\t(theta =  187412.14)\n"
     ]
    },
    {
     "name": "stderr",
     "output_type": "stream",
     "text": [
      "\u001b[93mUserWarning: Time for generation is not set. All times will be ingenerations (output and pictures).\u001b[0m (/home/enoskova/.local/lib/python3.8/site-packages/gadma/cli/settings_storage.py:1390)\n",
      "\u001b[93mUserWarning: Code for momentsLD will not be generated as: VCF input data is required.\u001b[0m (/home/enoskova/.local/lib/python3.8/site-packages/gadma/cli/settings_storage.py:1536)\n",
      "\u001b[93mUserWarning: Matplotlib is currently using agg, which is a non-GUI backend, so cannot show the figure.\u001b[0m (/home/enoskova/.local/lib/python3.8/site-packages/moments/Plotting.py:192)\n",
      "WARNING:matplotlib.font_manager:findfont: Font family ['sans-serif'] not found. Falling back to DejaVu Sans.\n",
      "WARNING:matplotlib.font_manager:findfont: Generic family 'sans-serif' not found because none of the following families were found: Helvetica\n",
      "WARNING:matplotlib.font_manager:findfont: Font family ['sans-serif'] not found. Falling back to DejaVu Sans.\n",
      "WARNING:matplotlib.font_manager:findfont: Generic family 'sans-serif' not found because none of the following families were found: Helvetica\n",
      "WARNING:matplotlib.font_manager:findfont: Font family ['sans-serif'] not found. Falling back to DejaVu Sans.\n",
      "WARNING:matplotlib.font_manager:findfont: Generic family 'sans-serif' not found because none of the following families were found: Helvetica\n"
     ]
    },
    {
     "name": "stdout",
     "output_type": "stream",
     "text": [
      "\u001b[93mRun 2 warning: failed to generate  some code due to the following exception: momentsLD: 1294.375012853394, 1.0\u001b[0m\n",
      "\n",
      "You can find the picture of the best model in the output directory.\n",
      "\n",
      "\n",
      "--Finish pipeline--\n",
      "\n",
      "Thank you for using GADMA!\n",
      "\n",
      "In case of any questions or problems, please contact: ekaterina.e.noskova@gmail.com\n",
      "\n"
     ]
    },
    {
     "name": "stderr",
     "output_type": "stream",
     "text": [
      "\u001b[93mUserWarning: Time for generation is not set. All times will be ingenerations (output and pictures).\u001b[0m (/home/enoskova/.local/lib/python3.8/site-packages/gadma/cli/settings_storage.py:1390)\n",
      "\u001b[93mUserWarning: Code for momentsLD will not be generated as: VCF input data is required.\u001b[0m (/home/enoskova/.local/lib/python3.8/site-packages/gadma/cli/settings_storage.py:1536)\n"
     ]
    }
   ],
   "source": [
    "%%bash\n",
    "rm -rf outputs/gadma_outputs/gadma_output_1epoch\n",
    "gadma -p gadma_params_files/gadma_params_file_1epoch"
   ]
  },
  {
   "cell_type": "markdown",
   "id": "225b987a",
   "metadata": {},
   "source": [
    "Result demographic history (`outputs/gadma_outputs/gadma_output_1epoch/best_logLL_model.png` file):\n",
    "<img src=\"outputs/gadma_outputs/gadma_output_1epoch/best_logLL_model.png\" width=\"900\" align=\"left\"/>"
   ]
  },
  {
   "cell_type": "markdown",
   "id": "3099e659",
   "metadata": {},
   "source": [
    "### Run GADMA for two-epoch demographic history inference"
   ]
  },
  {
   "cell_type": "code",
   "execution_count": 143,
   "id": "6e6c78ff",
   "metadata": {},
   "outputs": [
    {
     "name": "stdout",
     "output_type": "stream",
     "text": [
      "Input data: outputs/easySFS_output/dadi/NN-10.sfs\n",
      "Output directory: outputs/gadma_outputs/gadma_output_2epochs\n",
      "\n",
      "Mutation rate: 1.554e-8\n",
      "Sequence length: 2329306282\n",
      "\n",
      "Engine: moments\n",
      "\n",
      "Initial structure: 1\n",
      "Final structure: 2\n",
      "\n",
      "Number of repeats: 8\n",
      "Number of processes: 4\n"
     ]
    }
   ],
   "source": [
    "%%bash\n",
    "cat gadma_params_files/gadma_params_file_2epochs"
   ]
  },
  {
   "cell_type": "code",
   "execution_count": null,
   "id": "abc089cb",
   "metadata": {
    "scrolled": true
   },
   "outputs": [],
   "source": [
    "%%bash\n",
    "rm -rf /home/enoskova/Workspace/GADMA_workshop/outputs/gadma_outputs/gadma_output_2epochs\n",
    "gadma -p gadma_params_files/gadma_params_file_2epochs"
   ]
  },
  {
   "cell_type": "markdown",
   "id": "28f36ab0",
   "metadata": {},
   "source": [
    "Result demographic history (`outputs/gadma_outputs/gadma_output_2epochs/best_logLL_model.png` file):\n",
    "<img src=\"outputs/gadma_outputs/gadma_output_2epochs/best_logLL_model.png\" width=\"900\" align=\"left\"/>"
   ]
  },
  {
   "cell_type": "markdown",
   "id": "ecc49102",
   "metadata": {},
   "source": [
    "Check information that parameters hit their bounds.\n",
    "The bounds are the following (they are located in the `extra_params_file`, more information is [here](https://gadma.readthedocs.io/en/latest/user_manual/extra_params_file.html)):\n",
    "- Minimum population size `min_N` = $0.01 (\\cdot N_{anc})$\n",
    "- Maximum population size `max_N` = $100 (\\cdot N_{anc})$\n",
    "- Minimum epoch time `min_T` = ~$0$\n",
    "- Maximum epoch time `max_T` = $5 (\\cdot 2 \\cdot N_{anc})$\n",
    "- Minimum migration rate `min_m` = $0$\n",
    "- Maximum migration rate `max_m` = $10 (/ (2\\cdot N_{anc}))$\n",
    "\n",
    "All values for `dadi` and `moments` are in genetic units. We should check the parameters in output file with code. We are looking for `p0`:"
   ]
  },
  {
   "cell_type": "code",
   "execution_count": 141,
   "id": "13e4fb40",
   "metadata": {},
   "outputs": [
    {
     "name": "stdout",
     "output_type": "stream",
     "text": [
      "import moments\n",
      "import numpy as np\n",
      "\n",
      "def model_func(params, ns):\n",
      "\tt1, nu11 = params\n",
      "\t_Nanc_size = 1.0  # This value can be used in splits with fractions\n",
      "\tsts = moments.LinearSystem_1D.steady_state_1D(np.sum(ns))\n",
      "\tfs = moments.Spectrum(sts)\n",
      "\tnu1_func = lambda t: _Nanc_size * (nu11 / _Nanc_size) ** (t / t1)\n",
      "\tfs.integrate(tf=t1, Npop=lambda t: [nu1_func(t)], dt_fac=0.01)\n",
      "\treturn fs\n",
      "\n",
      "data = moments.Spectrum.from_file('/home/enoskova/Workspace/GADMA_workshop/outputs/easySFS_output/dadi/NN-10.sfs')\n",
      "ns = data.sample_sizes\n",
      "\n",
      "p0 = [0.010705518939026418, 0.01]\n",
      "model = model_func(p0, ns)\n",
      "ll_model = moments.Inference.ll_multinom(model, data)\n",
      "print('Model log likelihood (LL(model, data)): {0}'.format(ll_model))\n",
      "\n"
     ]
    }
   ],
   "source": [
    "%%bash\n",
    "head -20 outputs/gadma_outputs/gadma_output_2epochs/best_logLL_model_moments_code.py"
   ]
  },
  {
   "cell_type": "markdown",
   "id": "b272fd0f",
   "metadata": {},
   "source": [
    "### Run GADMA for two-epoch demographic history inference with wide bounds"
   ]
  },
  {
   "cell_type": "code",
   "execution_count": 144,
   "id": "836a0cce",
   "metadata": {},
   "outputs": [
    {
     "name": "stdout",
     "output_type": "stream",
     "text": [
      "Input data: easySFS_output/dadi/NN-10.sfs\n",
      "Output directory: gadma_output_2epochs_wider\n",
      "\n",
      "Mutation rate: 1.554e-8\n",
      "Sequence length: 2329306282\n",
      "\n",
      "Engine: moments\n",
      "\n",
      "Initial structure: 1\n",
      "Final structure: 2\n",
      "\n",
      "# We want wider bounds for population size\n",
      "# We take lower bound to be 10^(-4)*Nanc\n",
      "min_N: 1e-4\n",
      "\n",
      "Number of repeats: 8\n",
      "Number of processes: 4\n"
     ]
    }
   ],
   "source": [
    "%%bash\n",
    "cat gadma_params_files/gadma_params_file_2epochs_wide_bounds"
   ]
  },
  {
   "cell_type": "code",
   "execution_count": 145,
   "id": "3ff8a0b0",
   "metadata": {
    "scrolled": true
   },
   "outputs": [
    {
     "name": "stdout",
     "output_type": "stream",
     "text": [
      "warning in stationary: failed to import cython module: falling back to numpy\n",
      "warning in choleskies: failed to import cython module: falling back to numpy\n"
     ]
    },
    {
     "name": "stderr",
     "output_type": "stream",
     "text": [
      "Traceback (most recent call last):\n",
      "  File \"/home/enoskova/.local/bin/gadma\", line 8, in <module>\n",
      "    sys.exit(main())\n",
      "  File \"/home/enoskova/.local/lib/python3.8/site-packages/gadma/core/core.py\", line 51, in main\n",
      "    settings_storage, args = arg_parser.get_settings()\n",
      "  File \"/home/enoskova/.local/lib/python3.8/site-packages/gadma/cli/arg_parser.py\", line 127, in get_settings\n",
      "    settings_storage = SettingsStorage.from_file(args.params, args.extra)\n",
      "  File \"/home/enoskova/.local/lib/python3.8/site-packages/gadma/cli/settings_storage.py\", line 1042, in from_file\n",
      "    return obj.update_from_file(param_file, extra_param_file)\n",
      "  File \"/home/enoskova/.local/lib/python3.8/site-packages/gadma/cli/settings_storage.py\", line 1030, in update_from_file\n",
      "    self.__setattr__(attr_name, loaded_dict[key])\n",
      "  File \"/home/enoskova/.local/lib/python3.8/site-packages/gadma/cli/settings_storage.py\", line 448, in __setattr__\n",
      "    raise ValueError(f\"Setting {name} should be set to existed\"\n",
      "ValueError: Setting input_data should be set to existed file. File /home/enoskova/Workspace/GADMA_workshop/easySFS_output/dadi/NN-10.sfs does not exist.\n"
     ]
    },
    {
     "ename": "CalledProcessError",
     "evalue": "Command 'b'gadma -p gadma_params_files/gadma_params_file_2epochs_wide_bounds\\n'' returned non-zero exit status 1.",
     "output_type": "error",
     "traceback": [
      "\u001b[0;31m---------------------------------------------------------------------------\u001b[0m",
      "\u001b[0;31mCalledProcessError\u001b[0m                        Traceback (most recent call last)",
      "Input \u001b[0;32mIn [145]\u001b[0m, in \u001b[0;36m<cell line: 1>\u001b[0;34m()\u001b[0m\n\u001b[0;32m----> 1\u001b[0m \u001b[43mget_ipython\u001b[49m\u001b[43m(\u001b[49m\u001b[43m)\u001b[49m\u001b[38;5;241;43m.\u001b[39;49m\u001b[43mrun_cell_magic\u001b[49m\u001b[43m(\u001b[49m\u001b[38;5;124;43m'\u001b[39;49m\u001b[38;5;124;43mbash\u001b[39;49m\u001b[38;5;124;43m'\u001b[39;49m\u001b[43m,\u001b[49m\u001b[43m \u001b[49m\u001b[38;5;124;43m'\u001b[39;49m\u001b[38;5;124;43m'\u001b[39;49m\u001b[43m,\u001b[49m\u001b[43m \u001b[49m\u001b[38;5;124;43m'\u001b[39;49m\u001b[38;5;124;43mgadma -p gadma_params_files/gadma_params_file_2epochs_wide_bounds\u001b[39;49m\u001b[38;5;130;43;01m\\n\u001b[39;49;00m\u001b[38;5;124;43m'\u001b[39;49m\u001b[43m)\u001b[49m\n",
      "File \u001b[0;32m~/.local/lib/python3.8/site-packages/IPython/core/interactiveshell.py:2358\u001b[0m, in \u001b[0;36mInteractiveShell.run_cell_magic\u001b[0;34m(self, magic_name, line, cell)\u001b[0m\n\u001b[1;32m   2356\u001b[0m \u001b[38;5;28;01mwith\u001b[39;00m \u001b[38;5;28mself\u001b[39m\u001b[38;5;241m.\u001b[39mbuiltin_trap:\n\u001b[1;32m   2357\u001b[0m     args \u001b[38;5;241m=\u001b[39m (magic_arg_s, cell)\n\u001b[0;32m-> 2358\u001b[0m     result \u001b[38;5;241m=\u001b[39m \u001b[43mfn\u001b[49m\u001b[43m(\u001b[49m\u001b[38;5;241;43m*\u001b[39;49m\u001b[43margs\u001b[49m\u001b[43m,\u001b[49m\u001b[43m \u001b[49m\u001b[38;5;241;43m*\u001b[39;49m\u001b[38;5;241;43m*\u001b[39;49m\u001b[43mkwargs\u001b[49m\u001b[43m)\u001b[49m\n\u001b[1;32m   2359\u001b[0m \u001b[38;5;28;01mreturn\u001b[39;00m result\n",
      "File \u001b[0;32m~/.local/lib/python3.8/site-packages/IPython/core/magics/script.py:153\u001b[0m, in \u001b[0;36mScriptMagics._make_script_magic.<locals>.named_script_magic\u001b[0;34m(line, cell)\u001b[0m\n\u001b[1;32m    151\u001b[0m \u001b[38;5;28;01melse\u001b[39;00m:\n\u001b[1;32m    152\u001b[0m     line \u001b[38;5;241m=\u001b[39m script\n\u001b[0;32m--> 153\u001b[0m \u001b[38;5;28;01mreturn\u001b[39;00m \u001b[38;5;28;43mself\u001b[39;49m\u001b[38;5;241;43m.\u001b[39;49m\u001b[43mshebang\u001b[49m\u001b[43m(\u001b[49m\u001b[43mline\u001b[49m\u001b[43m,\u001b[49m\u001b[43m \u001b[49m\u001b[43mcell\u001b[49m\u001b[43m)\u001b[49m\n",
      "File \u001b[0;32m~/.local/lib/python3.8/site-packages/IPython/core/magics/script.py:305\u001b[0m, in \u001b[0;36mScriptMagics.shebang\u001b[0;34m(self, line, cell)\u001b[0m\n\u001b[1;32m    300\u001b[0m \u001b[38;5;28;01mif\u001b[39;00m args\u001b[38;5;241m.\u001b[39mraise_error \u001b[38;5;129;01mand\u001b[39;00m p\u001b[38;5;241m.\u001b[39mreturncode \u001b[38;5;241m!=\u001b[39m \u001b[38;5;241m0\u001b[39m:\n\u001b[1;32m    301\u001b[0m     \u001b[38;5;66;03m# If we get here and p.returncode is still None, we must have\u001b[39;00m\n\u001b[1;32m    302\u001b[0m     \u001b[38;5;66;03m# killed it but not yet seen its return code. We don't wait for it,\u001b[39;00m\n\u001b[1;32m    303\u001b[0m     \u001b[38;5;66;03m# in case it's stuck in uninterruptible sleep. -9 = SIGKILL\u001b[39;00m\n\u001b[1;32m    304\u001b[0m     rc \u001b[38;5;241m=\u001b[39m p\u001b[38;5;241m.\u001b[39mreturncode \u001b[38;5;129;01mor\u001b[39;00m \u001b[38;5;241m-\u001b[39m\u001b[38;5;241m9\u001b[39m\n\u001b[0;32m--> 305\u001b[0m     \u001b[38;5;28;01mraise\u001b[39;00m CalledProcessError(rc, cell)\n",
      "\u001b[0;31mCalledProcessError\u001b[0m: Command 'b'gadma -p gadma_params_files/gadma_params_file_2epochs_wide_bounds\\n'' returned non-zero exit status 1."
     ]
    }
   ],
   "source": [
    "%%bash\n",
    "gadma -p gadma_params_files/gadma_params_file_2epochs_wide_bounds"
   ]
  },
  {
   "cell_type": "markdown",
   "id": "fc089441",
   "metadata": {},
   "source": [
    "Result demographic history (file `outputs/gadma_outputs/gadma_output_2epochs_wide_bounds/best_logLL_model.png`):\n",
    "<img src=\"outputs/gadma_outputs/gadma_output_2epochs_wide_bounds/best_logLL_model.png\" width=\"900\" align=\"left\"/>"
   ]
  },
  {
   "cell_type": "markdown",
   "id": "0f62d8d6",
   "metadata": {},
   "source": [
    "### Run GADMA for three-epoch demographic history inference using previous runs"
   ]
  },
  {
   "cell_type": "code",
   "execution_count": 146,
   "id": "834d04db",
   "metadata": {},
   "outputs": [
    {
     "name": "stdout",
     "output_type": "stream",
     "text": [
      "Final structure: 3\n"
     ]
    }
   ],
   "source": [
    "%%bash\n",
    "cat gadma_params_files/gadma_resume_3epochs"
   ]
  },
  {
   "cell_type": "code",
   "execution_count": null,
   "id": "be5a3d8b",
   "metadata": {},
   "outputs": [],
   "source": [
    "%%bash\n",
    "gadma --resume gadma_params_files/gadma_output_2epochs_wider -p gadma_resume_3epochs -o gadma_output_3epochs"
   ]
  },
  {
   "cell_type": "markdown",
   "id": "d55c2e8f",
   "metadata": {},
   "source": [
    "Result demographic history (`outputs/gadma_outputs/gadma_output_3epochs/best_logLL_model.png` file):\n",
    "<img src=\"outputs/gadma_outputs/gadma_output_3epochs/best_logLL_model.png\" width=\"900\" align=\"left\"/>"
   ]
  },
  {
   "cell_type": "markdown",
   "id": "0f78e628",
   "metadata": {},
   "source": [
    "### Final GADMA run with different models comparison\n",
    "\n",
    "We can compare models with different numbers of paramters (e.g. one-epoch history, two-epoch history and etc.) using AIC or CLAIC. More information is available [here](https://gadma.readthedocs.io/en/latest/user_manual/input_data/input_data.html#unlinked-snps-aic-and-claic).\n",
    "- AIC could be used if our SNP's are **unlinked**, independent. It is usually a case of RAD-like data, remember easySFS offered us to choose one SNP per RAD locus? That is exactly the way to get set of unlinked SNP's.\n",
    "- CLAIC [\\[Coffman 2016\\]](https://doi.org/10.1093/molbev/msv255) is applied when our SNP's are linked (general case). In order to evaluate CLAIC we should provide additional **block-bootstraped** data. Bootstrap should be performed over the regions of linkage (usually genes). A little more about bootstrap will be further. Here we just got some directory with bootstraped data."
   ]
  },
  {
   "cell_type": "code",
   "execution_count": 189,
   "id": "5055b5aa",
   "metadata": {},
   "outputs": [
    {
     "name": "stdout",
     "output_type": "stream",
     "text": [
      "Input data: outputs/easySFS_output/dadi/NN-10.sfs\n",
      "Output directory: outputs/gadma_outputs/gadma_full_example_run\n",
      "\n",
      "# We want compare final demographic histories with different\n",
      "# numbers of epochs using CLAIC\n",
      "Linked SNP's : True\n",
      "Directory with bootstrap: data/boots2\n",
      "\n",
      "Mutation rate: 1.554e-8\n",
      "Sequence length: 2329306282\n",
      "Time for generation: 7\n",
      "\n",
      "Engine: moments\n",
      "\n",
      "Initial structure: 1\n",
      "Final structure: 3\n",
      "\n",
      "# We want wider bounds for population size\n",
      "# We take lower bound to be 10^(-5)*Nanc\n",
      "min_N: 1e-5\n",
      "\n",
      "Number of repeats: 8\n",
      "Number of processes: 4\n"
     ]
    }
   ],
   "source": [
    "%%bash\n",
    "cat gadma_params_files/gadma_full_example_run"
   ]
  },
  {
   "cell_type": "code",
   "execution_count": 190,
   "id": "370b8647",
   "metadata": {
    "scrolled": true
   },
   "outputs": [
    {
     "name": "stdout",
     "output_type": "stream",
     "text": [
      "warning in stationary: failed to import cython module: falling back to numpy\n",
      "warning in choleskies: failed to import cython module: falling back to numpy\n",
      "Data reading\n",
      "Number of populations: 1\n",
      "Projections: [10]\n",
      "Population labels: ['NN']\n",
      "Outgroup: False\n",
      "\u001b[92m--Successful data reading--\u001b[0m\n",
      "\n",
      "\u001b[92m--Successful arguments parsing--\u001b[0m\n",
      "\n",
      "Bootstrap data reading\n",
      "Number of files found: 20\n",
      "\u001b[92m--Successful bootstrap data reading--\u001b[0m\n",
      "\n",
      "Parameters of launch are saved in output directory: /home/enoskova/Workspace/GADMA_workshop/outputs/gadma_outputs/gadma_full_example_run/params_file\n",
      "All output is saved in output directory: /home/enoskova/Workspace/GADMA_workshop/outputs/gadma_outputs/gadma_full_example_run/GADMA.log\n",
      "\n",
      "\u001b[94m--Start pipeline--\u001b[0m\n",
      "Run launch number 2\n",
      "Run launch number 4\n",
      "Run launch number 1\n",
      "Run launch number 3\n"
     ]
    },
    {
     "name": "stderr",
     "output_type": "stream",
     "text": [
      "\u001b[93mUserWarning: Domain of PopulationSizeVariable changed to [1e-05, 100.0]\u001b[0m (/home/enoskova/.local/lib/python3.8/site-packages/gadma/cli/settings_storage.py:668)\n",
      "\u001b[93mUserWarning: Code for momentsLD will not be generated as: VCF input data is required.\u001b[0m (/home/enoskova/.local/lib/python3.8/site-packages/gadma/cli/settings_storage.py:1536)\n",
      "\u001b[93mUserWarning: Matplotlib is currently using agg, which is a non-GUI backend, so cannot show the figure.\u001b[0m (/home/enoskova/.local/lib/python3.8/site-packages/moments/Plotting.py:192)\n",
      "\u001b[93mUserWarning: Domain of PopulationSizeVariable changed to [1e-05, 100.0]\u001b[0m (/home/enoskova/.local/lib/python3.8/site-packages/gadma/cli/settings_storage.py:668)\n",
      "\u001b[93mUserWarning: Code for momentsLD will not be generated as: VCF input data is required.\u001b[0m (/home/enoskova/.local/lib/python3.8/site-packages/gadma/cli/settings_storage.py:1536)\n",
      "\u001b[93mUserWarning: Matplotlib is currently using agg, which is a non-GUI backend, so cannot show the figure.\u001b[0m (/home/enoskova/.local/lib/python3.8/site-packages/moments/Plotting.py:192)\n",
      "WARNING:matplotlib.font_manager:findfont: Font family ['sans-serif'] not found. Falling back to DejaVu Sans.\n",
      "WARNING:matplotlib.font_manager:findfont: Generic family 'sans-serif' not found because none of the following families were found: Helvetica\n",
      "WARNING:matplotlib.font_manager:findfont: Font family ['sans-serif'] not found. Falling back to DejaVu Sans.\n",
      "WARNING:matplotlib.font_manager:findfont: Generic family 'sans-serif' not found because none of the following families were found: Helvetica\n",
      "\u001b[93mUserWarning: Domain of PopulationSizeVariable changed to [1e-05, 100.0]\u001b[0m (/home/enoskova/.local/lib/python3.8/site-packages/gadma/cli/settings_storage.py:668)\n",
      "\u001b[93mUserWarning: Code for momentsLD will not be generated as: VCF input data is required.\u001b[0m (/home/enoskova/.local/lib/python3.8/site-packages/gadma/cli/settings_storage.py:1536)\n",
      "\u001b[93mUserWarning: Matplotlib is currently using agg, which is a non-GUI backend, so cannot show the figure.\u001b[0m (/home/enoskova/.local/lib/python3.8/site-packages/moments/Plotting.py:192)\n",
      "\u001b[93mUserWarning: Domain of PopulationSizeVariable changed to [1e-05, 100.0]\u001b[0m (/home/enoskova/.local/lib/python3.8/site-packages/gadma/cli/settings_storage.py:668)\n",
      "\u001b[93mUserWarning: Code for momentsLD will not be generated as: VCF input data is required.\u001b[0m (/home/enoskova/.local/lib/python3.8/site-packages/gadma/cli/settings_storage.py:1536)\n",
      "\u001b[93mUserWarning: Matplotlib is currently using agg, which is a non-GUI backend, so cannot show the figure.\u001b[0m (/home/enoskova/.local/lib/python3.8/site-packages/moments/Plotting.py:192)\n",
      "WARNING:matplotlib.font_manager:findfont: Font family ['sans-serif'] not found. Falling back to DejaVu Sans.\n",
      "WARNING:matplotlib.font_manager:findfont: Generic family 'sans-serif' not found because none of the following families were found: Helvetica\n",
      "WARNING:matplotlib.font_manager:findfont: Font family ['sans-serif'] not found. Falling back to DejaVu Sans.\n",
      "WARNING:matplotlib.font_manager:findfont: Generic family 'sans-serif' not found because none of the following families were found: Helvetica\n",
      "WARNING:matplotlib.font_manager:findfont: Font family ['sans-serif'] not found. Falling back to DejaVu Sans.\n",
      "WARNING:matplotlib.font_manager:findfont: Generic family 'sans-serif' not found because none of the following families were found: Helvetica\n",
      "WARNING:matplotlib.font_manager:findfont: Font family ['sans-serif'] not found. Falling back to DejaVu Sans.\n",
      "WARNING:matplotlib.font_manager:findfont: Generic family 'sans-serif' not found because none of the following families were found: Helvetica\n",
      "WARNING:matplotlib.font_manager:findfont: Font family ['sans-serif'] not found. Falling back to DejaVu Sans.\n",
      "WARNING:matplotlib.font_manager:findfont: Generic family 'sans-serif' not found because none of the following families were found: Helvetica\n",
      "WARNING:matplotlib.font_manager:findfont: Font family ['sans-serif'] not found. Falling back to DejaVu Sans.\n",
      "WARNING:matplotlib.font_manager:findfont: Generic family 'sans-serif' not found because none of the following families were found: Helvetica\n",
      "WARNING:matplotlib.font_manager:findfont: Font family ['sans-serif'] not found. Falling back to DejaVu Sans.\n",
      "WARNING:matplotlib.font_manager:findfont: Generic family 'sans-serif' not found because none of the following families were found: Helvetica\n",
      "WARNING:matplotlib.font_manager:findfont: Font family ['sans-serif'] not found. Falling back to DejaVu Sans.\n",
      "WARNING:matplotlib.font_manager:findfont: Generic family 'sans-serif' not found because none of the following families were found: Helvetica\n",
      "WARNING:matplotlib.font_manager:findfont: Font family ['sans-serif'] not found. Falling back to DejaVu Sans.\n",
      "WARNING:matplotlib.font_manager:findfont: Generic family 'sans-serif' not found because none of the following families were found: Helvetica\n"
     ]
    },
    {
     "name": "stdout",
     "output_type": "stream",
     "text": [
      "\u001b[93mRun 2: failed to generate code due to the following exception: momentsLD: 1294.375012853394, 1.0\u001b[0m\n"
     ]
    },
    {
     "name": "stderr",
     "output_type": "stream",
     "text": [
      "WARNING:matplotlib.font_manager:findfont: Font family ['sans-serif'] not found. Falling back to DejaVu Sans.\n",
      "WARNING:matplotlib.font_manager:findfont: Generic family 'sans-serif' not found because none of the following families were found: Helvetica\n"
     ]
    },
    {
     "name": "stdout",
     "output_type": "stream",
     "text": [
      "\u001b[93mRun 3: failed to generate code due to the following exception: momentsLD: 1294.375012853394, 1.0\u001b[0m\n",
      "\u001b[93mRun 1: failed to generate code due to the following exception: momentsLD: 1294.375012853394, 1.0\u001b[0m\n",
      "\u001b[93mRun 4: failed to generate code due to the following exception: momentsLD: 1294.375012853394, 1.0\u001b[0m\n"
     ]
    },
    {
     "name": "stderr",
     "output_type": "stream",
     "text": [
      "\u001b[93mUserWarning: Matplotlib is currently using agg, which is a non-GUI backend, so cannot show the figure.\u001b[0m (/home/enoskova/.local/lib/python3.8/site-packages/moments/Plotting.py:192)\n"
     ]
    },
    {
     "name": "stdout",
     "output_type": "stream",
     "text": [
      "\u001b[93mRun 4: failed to generate code due to the following exception: momentsLD: 1765.0525367033642, 1.0\u001b[0m\n"
     ]
    },
    {
     "name": "stderr",
     "output_type": "stream",
     "text": [
      "\u001b[93mUserWarning: Matplotlib is currently using agg, which is a non-GUI backend, so cannot show the figure.\u001b[0m (/home/enoskova/.local/lib/python3.8/site-packages/moments/Plotting.py:192)\n"
     ]
    },
    {
     "name": "stdout",
     "output_type": "stream",
     "text": [
      "\u001b[93mRun 1: failed to generate code due to the following exception: momentsLD: 1763.4659512316525, 1.0\u001b[0m\n"
     ]
    },
    {
     "name": "stderr",
     "output_type": "stream",
     "text": [
      "\u001b[93mUserWarning: Matplotlib is currently using agg, which is a non-GUI backend, so cannot show the figure.\u001b[0m (/home/enoskova/.local/lib/python3.8/site-packages/moments/Plotting.py:192)\n"
     ]
    },
    {
     "name": "stdout",
     "output_type": "stream",
     "text": [
      "\u001b[93mRun 3: failed to generate code due to the following exception: momentsLD: 1764.253974120347, 1.0\u001b[0m\n",
      "warning: large change size at time t = 0.00 in function integrate_neutral\n",
      "N_old,  [0.00028741] N_new [0.00098112]\n",
      "relative change 2.4136055557060354\n",
      "warning: large change size at time t = 0.00 in function integrate_neutral\n",
      "N_old,  [0.00098112] N_new [0.00167482]\n",
      "relative change 0.7070546131703932\n",
      "warning: large change size at time t = 0.00 in function integrate_neutral\n",
      "N_old,  [0.00167482] N_new [0.00236853]\n",
      "relative change 0.4141956605929731\n",
      "warning: large change size at time t = 0.00 in function integrate_neutral\n",
      "N_old,  [0.00236853] N_new [0.00306223]\n",
      "relative change 0.2928842678100853\n",
      "warning: large change size at time t = 0.00 in function integrate_neutral\n",
      "N_old,  [0.00028741] N_new [0.00098112]\n",
      "relative change 2.4136055557060354\n",
      "warning: large change size at time t = 0.00 in function integrate_neutral\n",
      "N_old,  [0.00098112] N_new [0.00167482]\n",
      "relative change 0.7070546131703932\n",
      "warning: large change size at time t = 0.00 in function integrate_neutral\n",
      "N_old,  [0.00167482] N_new [0.00236853]\n",
      "relative change 0.4141956605929731\n",
      "warning: large change size at time t = 0.00 in function integrate_neutral\n",
      "N_old,  [0.00236853] N_new [0.00306223]\n",
      "relative change 0.2928842678100853\n",
      "warning: large change size at time t = 0.00 in function integrate_neutral\n",
      "N_old,  [0.00028741] N_new [0.00098112]\n",
      "relative change 2.4136055557060354\n",
      "warning: large change size at time t = 0.00 in function integrate_neutral\n",
      "N_old,  [0.00098112] N_new [0.00167482]\n",
      "relative change 0.7070546131703932\n",
      "warning: large change size at time t = 0.00 in function integrate_neutral\n",
      "N_old,  [0.00167482] N_new [0.00236853]\n",
      "relative change 0.4141956605929731\n",
      "warning: large change size at time t = 0.00 in function integrate_neutral\n",
      "N_old,  [0.00236853] N_new [0.00306223]\n",
      "relative change 0.2928842678100853\n"
     ]
    },
    {
     "name": "stderr",
     "output_type": "stream",
     "text": [
      "\u001b[93mUserWarning: Matplotlib is currently using agg, which is a non-GUI backend, so cannot show the figure.\u001b[0m (/home/enoskova/.local/lib/python3.8/site-packages/moments/Plotting.py:192)\n"
     ]
    },
    {
     "name": "stdout",
     "output_type": "stream",
     "text": [
      "\u001b[93mRun 4: failed to generate code due to the following exception: momentsLD: 1765.792855380277, 1.0; momi2: Linear size function is  not supported\u001b[0m\n"
     ]
    },
    {
     "name": "stderr",
     "output_type": "stream",
     "text": [
      "\u001b[93mUserWarning: Matplotlib is currently using agg, which is a non-GUI backend, so cannot show the figure.\u001b[0m (/home/enoskova/.local/lib/python3.8/site-packages/moments/Plotting.py:192)\n"
     ]
    },
    {
     "name": "stdout",
     "output_type": "stream",
     "text": [
      "\u001b[93mRun 4: failed to generate code due to the following exception: momentsLD: 1765.792855380277, 1.0; momi2: Linear size function is  not supported\u001b[0m\n"
     ]
    },
    {
     "name": "stderr",
     "output_type": "stream",
     "text": [
      "\u001b[93mUserWarning: Matplotlib is currently using agg, which is a non-GUI backend, so cannot show the figure.\u001b[0m (/home/enoskova/.local/lib/python3.8/site-packages/moments/Plotting.py:192)\n"
     ]
    },
    {
     "name": "stdout",
     "output_type": "stream",
     "text": [
      "Finish genetic algorithm number 4\n",
      "Run launch number 5\n"
     ]
    },
    {
     "name": "stderr",
     "output_type": "stream",
     "text": [
      "\u001b[93mUserWarning: Matplotlib is currently using agg, which is a non-GUI backend, so cannot show the figure.\u001b[0m (/home/enoskova/.local/lib/python3.8/site-packages/moments/Plotting.py:192)\n"
     ]
    },
    {
     "name": "stdout",
     "output_type": "stream",
     "text": [
      "\u001b[93mRun 5: failed to generate code due to the following exception: momentsLD: 1294.375012853394, 1.0\u001b[0m\n"
     ]
    },
    {
     "name": "stderr",
     "output_type": "stream",
     "text": [
      "\u001b[93mUserWarning: Matplotlib is currently using agg, which is a non-GUI backend, so cannot show the figure.\u001b[0m (/home/enoskova/.local/lib/python3.8/site-packages/moments/Plotting.py:192)\n"
     ]
    },
    {
     "name": "stdout",
     "output_type": "stream",
     "text": [
      "\u001b[93mRun 2: failed to generate code due to the following exception: momentsLD: 1762.2518785690447, 1.0\u001b[0m\n",
      "warning: large change size at time t = 0.00 in function integrate_neutral\n",
      "N_old,  [0.00011081] N_new [0.00014984]\n",
      "relative change 0.3522389841941852\n",
      "warning: large change size at time t = 0.00 in function integrate_neutral\n",
      "N_old,  [0.00014984] N_new [0.00018887]\n",
      "relative change 0.2604857486815382\n",
      "\n",
      "[000:01:00]\n",
      "All best by log-likelihood models\n",
      "Number\tlog-likelihood\tModel\n",
      "Run 3\t-438.97\t [Nanc = 1764] [ [ 28590.362(t1), [1764.254(nu11)], [Sud(dyn11)] ],\t[ 13.066(t2), [0.535(nu21)], [Exp(dyn21)] ] ]\tc\t(theta =  255445.77)\n",
      "Run 2\t-439.07\t [Nanc = 1762] [ [ 12.924(t1), [0.531(nu11)], [Exp(dyn11)] ] ]\t(theta =  255155.88)\n",
      "Run 1\t-439.55\t [Nanc = 1764] [ [ 0.485(t1), [1764.31(nu11)], [Sud(dyn11)] ],\t[ 27.982(t2), [1.278(nu21)], [Exp(dyn21)] ] ]\tm\t(theta =  255453.83)\n",
      "Run 4\t-440.59\t [Nanc = 1765] [ [ 4.84e-08(t1), [23.607(nu11)], [Lin(dyn11)] ],\t[ 19.895(t2), [2.67(nu21)], [Exp(dyn21)] ] ]\tf\t(theta =  255668.58)\n",
      "Run 5\t-1074.14\t [Nanc = 2025] [ [ 10078.645(t1), [351.807(nu11)], [Lin(dyn11)] ] ]\tc\t(theta =  293224.21)\n"
     ]
    },
    {
     "name": "stderr",
     "output_type": "stream",
     "text": [
      "\u001b[93mUserWarning: Domain of PopulationSizeVariable changed to [1e-05, 100.0]\u001b[0m (/home/enoskova/.local/lib/python3.8/site-packages/gadma/cli/settings_storage.py:668)\n",
      "\u001b[93mUserWarning: Code for momentsLD will not be generated as: VCF input data is required.\u001b[0m (/home/enoskova/.local/lib/python3.8/site-packages/gadma/cli/settings_storage.py:1536)\n",
      "\u001b[93mUserWarning: Matplotlib is currently using agg, which is a non-GUI backend, so cannot show the figure.\u001b[0m (/home/enoskova/.local/lib/python3.8/site-packages/moments/Plotting.py:192)\n",
      "WARNING:matplotlib.font_manager:findfont: Font family ['sans-serif'] not found. Falling back to DejaVu Sans.\n",
      "WARNING:matplotlib.font_manager:findfont: Generic family 'sans-serif' not found because none of the following families were found: Helvetica\n",
      "WARNING:matplotlib.font_manager:findfont: Font family ['sans-serif'] not found. Falling back to DejaVu Sans.\n",
      "WARNING:matplotlib.font_manager:findfont: Generic family 'sans-serif' not found because none of the following families were found: Helvetica\n",
      "WARNING:matplotlib.font_manager:findfont: Font family ['sans-serif'] not found. Falling back to DejaVu Sans.\n",
      "WARNING:matplotlib.font_manager:findfont: Generic family 'sans-serif' not found because none of the following families were found: Helvetica\n"
     ]
    },
    {
     "name": "stdout",
     "output_type": "stream",
     "text": [
      "\u001b[93mRun 3 warning: failed to generate  some code due to the following exception: momentsLD: 1764.253974120347, 1.0\u001b[0m\n",
      "\n",
      "You can find the picture of the best model in the output directory.\n",
      "\n",
      "All best by CLAIC score models\n",
      "Number\tlog-likelihood\tCLAIC score\tModel\n",
      "Run 3\t-438.97\t750.50 (eps=1.0e-05)\t [Nanc = 1764] [ [ 13.066(t1), [0.535(nu11)], [Exp(dyn11)] ] ]\t(theta =  255445.77)\n",
      "Run 2\t-439.07\t750.55 (eps=1.0e-05)\t [Nanc = 1762] [ [ 12.924(t1), [0.531(nu11)], [Exp(dyn11)] ] ]\t(theta =  255155.88)\n",
      "Run 1\t-439.59\t823.97 (eps=1.0e-05)\t [Nanc = 1763] [ [ 27.918(t1), [1.277(nu11)], [Exp(dyn11)] ] ]\t(theta =  255331.67)\n",
      "Run 4\t-440.59\t861.17 (eps=1.0e-05)\t [Nanc = 1765] [ [ 4.84e-08(t1), [23.607(nu11)], [Lin(dyn11)] ],\t[ 19.895(t2), [2.67(nu21)], [Exp(dyn21)] ] ]\t(theta =  255668.58)\n",
      "Run 4\t-440.59\t861.17 (eps=1.0e-05)\t [Nanc = 1765] [ [ 4.84e-08(t1), [23.607(nu11)], [Lin(dyn11)] ],\t[ 19.895(t2), [2.67(nu21)], [Exp(dyn21)] ] ]\tf\t(theta =  255668.58)\n",
      "Run 4\t-452.23\t875.24 (eps=1.0e-05)\t [Nanc = 1765] [ [ 72.435(t1), [23.597(nu11)], [Sud(dyn11)] ] ]\t(theta =  255561.39)\n",
      "Run 4\t-18821.88\t37643.75 (eps=1.0e-05)\t [Nanc = 1294] [  ]\t(theta =  187412.14)\n",
      "Run 1\t-18821.88\t37643.75 (eps=1.0e-05)\t [Nanc = 1294] [  ]\t(theta =  187412.14)\n",
      "Run 2\t-18821.88\t37643.75 (eps=1.0e-05)\t [Nanc = 1294] [  ]\t(theta =  187412.14)\n",
      "Run 3\t-18821.88\t37643.75 (eps=1.0e-05)\t [Nanc = 1294] [  ]\t(theta =  187412.14)\n",
      "Run 5\t-18821.88\t37643.75 (eps=1.0e-05)\t [Nanc = 1294] [  ]\t(theta =  187412.14)\n"
     ]
    },
    {
     "name": "stderr",
     "output_type": "stream",
     "text": [
      "\u001b[93mUserWarning: Matplotlib is currently using agg, which is a non-GUI backend, so cannot show the figure.\u001b[0m (/home/enoskova/.local/lib/python3.8/site-packages/moments/Plotting.py:192)\n"
     ]
    },
    {
     "name": "stdout",
     "output_type": "stream",
     "text": [
      "\u001b[93mRun 3 warning: failed to generate  some code due to the following exception: momentsLD: 1764.253974120347, 1.0\u001b[0m\n",
      "\n",
      "You can find the picture of the best model in the output directory.\n",
      "\n",
      "warning: large change size at time t = 0.00 in function integrate_neutral\n",
      "N_old,  [1.13900121e-05] N_new [5.51038979e-05]\n",
      "relative change 3.8379138948807103\n",
      "warning: large change size at time t = 0.00 in function integrate_neutral\n",
      "N_old,  [5.51038979e-05] N_new [9.88177836e-05]\n",
      "relative change 0.793299338986136\n",
      "warning: large change size at time t = 0.00 in function integrate_neutral\n",
      "N_old,  [9.88177836e-05] N_new [0.00014253]\n",
      "relative change 0.4423686117202485\n",
      "warning: large change size at time t = 0.00 in function integrate_neutral\n",
      "N_old,  [0.00014253] N_new [0.00018625]\n",
      "relative change 0.30669595006830813\n"
     ]
    },
    {
     "name": "stderr",
     "output_type": "stream",
     "text": [
      "\u001b[93mUserWarning: Matplotlib is currently using agg, which is a non-GUI backend, so cannot show the figure.\u001b[0m (/home/enoskova/.local/lib/python3.8/site-packages/moments/Plotting.py:192)\n"
     ]
    },
    {
     "name": "stdout",
     "output_type": "stream",
     "text": [
      "\u001b[93mRun 5: failed to generate code due to the following exception: momentsLD: 1763.9017539532197, 1.0\u001b[0m\n"
     ]
    },
    {
     "name": "stderr",
     "output_type": "stream",
     "text": [
      "\u001b[93mUserWarning: Additional evaluation for theta. Nothing to worry if this warning is seldom.\u001b[0m (/home/enoskova/.local/lib/python3.8/site-packages/gadma/engines/dadi_moments_common.py:138)\n"
     ]
    },
    {
     "name": "stdout",
     "output_type": "stream",
     "text": [
      "warning: large change size at time t = 0.00 in function integrate_neutral\n",
      "N_old,  [0.00013981] N_new [0.00055123]\n",
      "relative change 2.942635482442183\n",
      "warning: large change size at time t = 0.00 in function integrate_neutral\n",
      "N_old,  [0.00055123] N_new [0.00096264]\n",
      "relative change 0.7463625525480815\n",
      "warning: large change size at time t = 0.00 in function integrate_neutral\n",
      "N_old,  [0.00096264] N_new [0.00137406]\n",
      "relative change 0.4273812167233426\n",
      "warning: large change size at time t = 0.00 in function integrate_neutral\n",
      "N_old,  [0.00137406] N_new [0.00178547]\n",
      "relative change 0.2994163098940219\n"
     ]
    },
    {
     "name": "stderr",
     "output_type": "stream",
     "text": [
      "\u001b[93mUserWarning: Matplotlib is currently using agg, which is a non-GUI backend, so cannot show the figure.\u001b[0m (/home/enoskova/.local/lib/python3.8/site-packages/moments/Plotting.py:192)\n"
     ]
    },
    {
     "name": "stdout",
     "output_type": "stream",
     "text": [
      "\u001b[93mRun 1: failed to generate code due to the following exception: momentsLD: 1764.3096851982727, 1.0; momi2: Linear size function is  not supported\u001b[0m\n"
     ]
    },
    {
     "name": "stderr",
     "output_type": "stream",
     "text": [
      "\u001b[93mUserWarning: Matplotlib is currently using agg, which is a non-GUI backend, so cannot show the figure.\u001b[0m (/home/enoskova/.local/lib/python3.8/site-packages/moments/Plotting.py:192)\n"
     ]
    },
    {
     "name": "stdout",
     "output_type": "stream",
     "text": [
      "\u001b[93mRun 1: failed to generate code due to the following exception: momentsLD: 1764.3096851982727, 1.0; momi2: Linear size function is  not supported\u001b[0m\n"
     ]
    },
    {
     "name": "stderr",
     "output_type": "stream",
     "text": [
      "\u001b[93mUserWarning: Matplotlib is currently using agg, which is a non-GUI backend, so cannot show the figure.\u001b[0m (/home/enoskova/.local/lib/python3.8/site-packages/moments/Plotting.py:192)\n"
     ]
    },
    {
     "name": "stdout",
     "output_type": "stream",
     "text": [
      "Finish genetic algorithm number 1\n",
      "Run launch number 6\n"
     ]
    },
    {
     "name": "stderr",
     "output_type": "stream",
     "text": [
      "\u001b[93mUserWarning: Matplotlib is currently using agg, which is a non-GUI backend, so cannot show the figure.\u001b[0m (/home/enoskova/.local/lib/python3.8/site-packages/moments/Plotting.py:192)\n"
     ]
    },
    {
     "name": "stdout",
     "output_type": "stream",
     "text": [
      "\u001b[93mRun 6: failed to generate code due to the following exception: momentsLD: 1294.375012853394, 1.0\u001b[0m\n"
     ]
    },
    {
     "name": "stderr",
     "output_type": "stream",
     "text": [
      "\u001b[93mUserWarning: Matplotlib is currently using agg, which is a non-GUI backend, so cannot show the figure.\u001b[0m (/home/enoskova/.local/lib/python3.8/site-packages/moments/Plotting.py:192)\n"
     ]
    },
    {
     "name": "stdout",
     "output_type": "stream",
     "text": [
      "\u001b[93mRun 2: failed to generate code due to the following exception: momentsLD: 1762.2193787651024, 1.0\u001b[0m\n",
      "\n",
      "[000:02:00]\n",
      "All best by log-likelihood models\n",
      "Number\tlog-likelihood\tModel\n",
      "Run 3\t-438.95\t [Nanc = 1762] [ [ 28569.437(t1), [1764.727(nu11)], [Sud(dyn11)] ],\t[ 13.057(t2), [0.534(nu21)], [Exp(dyn21)] ] ]\t(theta =  255258.81)\n",
      "Run 2\t-439.07\t [Nanc = 1762] [ [ 12.924(t1), [0.531(nu11)], [Exp(dyn11)] ] ]\t(theta =  255155.88)\n",
      "Run 1\t-439.55\t [Nanc = 1764] [ [ 0.443(t1), [1764.31(nu11)], [Lin(dyn11)] ],\t[ 27.982(t2), [1.278(nu21)], [Exp(dyn21)] ] ]\tf\t(theta =  255453.83)\n",
      "Run 5\t-439.91\t [Nanc = 1763] [ [ 1.54e-04(t1), [1763.902(nu11)], [Sud(dyn11)] ],\t[ 36.103(t2), [1.718(nu21)], [Exp(dyn21)] ] ]\tm\t(theta =  255394.77)\n",
      "Run 4\t-440.59\t [Nanc = 1765] [ [ 4.84e-08(t1), [23.607(nu11)], [Lin(dyn11)] ],\t[ 19.895(t2), [2.67(nu21)], [Exp(dyn21)] ] ]\tf\t(theta =  255668.58)\n",
      "Run 6\t-566.48\t [Nanc = 1873] [ [ 3749.416(t1), [114.29(nu11)], [Lin(dyn11)] ] ]\tm\t(theta =  271214.06)\n"
     ]
    },
    {
     "name": "stderr",
     "output_type": "stream",
     "text": [
      "\u001b[93mUserWarning: Matplotlib is currently using agg, which is a non-GUI backend, so cannot show the figure.\u001b[0m (/home/enoskova/.local/lib/python3.8/site-packages/moments/Plotting.py:192)\n",
      "\u001b[93mUserWarning: Matplotlib is currently using agg, which is a non-GUI backend, so cannot show the figure.\u001b[0m (/home/enoskova/.local/lib/python3.8/site-packages/moments/Plotting.py:192)\n"
     ]
    },
    {
     "name": "stdout",
     "output_type": "stream",
     "text": [
      "\u001b[93mRun 2: failed to generate code due to the following exception: momentsLD: 1762.2193787651024, 1.0\u001b[0m\n",
      "\u001b[93mRun 3 warning: failed to generate  some code due to the following exception: momentsLD: 1762.9627342670865, 1.0\u001b[0m\n",
      "\n",
      "You can find the picture of the best model in the output directory.\n",
      "\n"
     ]
    },
    {
     "name": "stderr",
     "output_type": "stream",
     "text": [
      "\u001b[93mUserWarning: Matplotlib is currently using agg, which is a non-GUI backend, so cannot show the figure.\u001b[0m (/home/enoskova/.local/lib/python3.8/site-packages/moments/Plotting.py:192)\n"
     ]
    },
    {
     "name": "stdout",
     "output_type": "stream",
     "text": [
      "All best by CLAIC score models\n",
      "Number\tlog-likelihood\tCLAIC score\tModel\n",
      "Run 3\t-438.97\t750.50 (eps=1.0e-05)\t [Nanc = 1764] [ [ 13.066(t1), [0.535(nu11)], [Exp(dyn11)] ] ]\t(theta =  255445.77)\n",
      "Run 2\t-439.07\t750.55 (eps=1.0e-05)\t [Nanc = 1762] [ [ 12.924(t1), [0.531(nu11)], [Exp(dyn11)] ] ]\t(theta =  255155.88)\n",
      "Run 1\t-439.55\t823.56 (eps=1.0e-05)\t [Nanc = 1764] [ [ 0.443(t1), [1764.31(nu11)], [Lin(dyn11)] ],\t[ 27.982(t2), [1.278(nu21)], [Exp(dyn21)] ] ]\t(theta =  255453.83)\n",
      "Run 1\t-439.55\t823.56 (eps=1.0e-05)\t [Nanc = 1764] [ [ 0.443(t1), [1764.31(nu11)], [Lin(dyn11)] ],\t[ 27.982(t2), [1.278(nu21)], [Exp(dyn21)] ] ]\tf\t(theta =  255453.83)\n",
      "Run 1\t-439.59\t823.97 (eps=1.0e-05)\t [Nanc = 1763] [ [ 27.918(t1), [1.277(nu11)], [Exp(dyn11)] ] ]\t(theta =  255331.67)\n",
      "Run 5\t-439.91\t837.75 (eps=1.0e-05)\t [Nanc = 1763] [ [ 36.103(t1), [1.718(nu11)], [Exp(dyn11)] ] ]\t(theta =  255394.77)\n",
      "Run 2\t-439.27\t851.31 (eps=1.0e-05)\t [Nanc = 1762] [ [ 6.462(t1), [30.578(nu11)], [Exp(dyn11)] ],\t[ 6.462(t2), [0.531(nu21)], [Exp(dyn21)] ] ]\t(theta =  255151.18)\n",
      "Run 2\t-439.27\t851.31 (eps=1.0e-05)\t [Nanc = 1762] [ [ 6.462(t1), [30.578(nu11)], [Exp(dyn11)] ],\t[ 6.462(t2), [0.531(nu21)], [Exp(dyn21)] ] ]\tf\t(theta =  255151.18)\n",
      "Run 4\t-440.59\t861.17 (eps=1.0e-05)\t [Nanc = 1765] [ [ 4.84e-08(t1), [23.607(nu11)], [Lin(dyn11)] ],\t[ 19.895(t2), [2.67(nu21)], [Exp(dyn21)] ] ]\t(theta =  255668.58)\n",
      "Run 4\t-440.59\t861.17 (eps=1.0e-05)\t [Nanc = 1765] [ [ 4.84e-08(t1), [23.607(nu11)], [Lin(dyn11)] ],\t[ 19.895(t2), [2.67(nu21)], [Exp(dyn21)] ] ]\tf\t(theta =  255668.58)\n",
      "Run 4\t-452.23\t875.24 (eps=1.0e-05)\t [Nanc = 1765] [ [ 72.435(t1), [23.597(nu11)], [Sud(dyn11)] ] ]\t(theta =  255561.39)\n",
      "Run 4\t-18821.88\t37643.75 (eps=1.0e-05)\t [Nanc = 1294] [  ]\t(theta =  187412.14)\n",
      "Run 1\t-18821.88\t37643.75 (eps=1.0e-05)\t [Nanc = 1294] [  ]\t(theta =  187412.14)\n",
      "Run 2\t-18821.88\t37643.75 (eps=1.0e-05)\t [Nanc = 1294] [  ]\t(theta =  187412.14)\n",
      "Run 3\t-18821.88\t37643.75 (eps=1.0e-05)\t [Nanc = 1294] [  ]\t(theta =  187412.14)\n",
      "Run 5\t-18821.88\t37643.75 (eps=1.0e-05)\t [Nanc = 1294] [  ]\t(theta =  187412.14)\n",
      "Run 6\t-18821.88\t37643.75 (eps=1.0e-05)\t [Nanc = 1294] [  ]\t(theta =  187412.14)\n",
      "Finish genetic algorithm number 2\n",
      "Run launch number 7\n"
     ]
    },
    {
     "name": "stderr",
     "output_type": "stream",
     "text": [
      "\u001b[93mUserWarning: Matplotlib is currently using agg, which is a non-GUI backend, so cannot show the figure.\u001b[0m (/home/enoskova/.local/lib/python3.8/site-packages/moments/Plotting.py:192)\n"
     ]
    },
    {
     "name": "stdout",
     "output_type": "stream",
     "text": [
      "\u001b[93mRun 3 warning: failed to generate  some code due to the following exception: momentsLD: 1764.253974120347, 1.0\u001b[0m\n",
      "\n",
      "You can find the picture of the best model in the output directory.\n",
      "\n"
     ]
    },
    {
     "name": "stderr",
     "output_type": "stream",
     "text": [
      "\u001b[93mUserWarning: Matplotlib is currently using agg, which is a non-GUI backend, so cannot show the figure.\u001b[0m (/home/enoskova/.local/lib/python3.8/site-packages/moments/Plotting.py:192)\n"
     ]
    },
    {
     "name": "stdout",
     "output_type": "stream",
     "text": [
      "\u001b[93mRun 7: failed to generate code due to the following exception: momentsLD: 1294.375012853394, 1.0\u001b[0m\n"
     ]
    },
    {
     "name": "stderr",
     "output_type": "stream",
     "text": [
      "\u001b[93mUserWarning: Matplotlib is currently using agg, which is a non-GUI backend, so cannot show the figure.\u001b[0m (/home/enoskova/.local/lib/python3.8/site-packages/moments/Plotting.py:192)\n"
     ]
    },
    {
     "name": "stdout",
     "output_type": "stream",
     "text": [
      "\u001b[93mRun 3: failed to generate code due to the following exception: momentsLD: 1762.9627342654135, 1.0\u001b[0m\n"
     ]
    },
    {
     "name": "stderr",
     "output_type": "stream",
     "text": [
      "\u001b[93mUserWarning: Matplotlib is currently using agg, which is a non-GUI backend, so cannot show the figure.\u001b[0m (/home/enoskova/.local/lib/python3.8/site-packages/moments/Plotting.py:192)\n"
     ]
    },
    {
     "name": "stdout",
     "output_type": "stream",
     "text": [
      "\u001b[93mRun 3: failed to generate code due to the following exception: momentsLD: 1762.9627342654135, 1.0\u001b[0m\n"
     ]
    },
    {
     "name": "stderr",
     "output_type": "stream",
     "text": [
      "\u001b[93mUserWarning: Matplotlib is currently using agg, which is a non-GUI backend, so cannot show the figure.\u001b[0m (/home/enoskova/.local/lib/python3.8/site-packages/moments/Plotting.py:192)\n"
     ]
    },
    {
     "name": "stdout",
     "output_type": "stream",
     "text": [
      "Finish genetic algorithm number 3\n",
      "Run launch number 8\n"
     ]
    },
    {
     "name": "stderr",
     "output_type": "stream",
     "text": [
      "\u001b[93mUserWarning: Matplotlib is currently using agg, which is a non-GUI backend, so cannot show the figure.\u001b[0m (/home/enoskova/.local/lib/python3.8/site-packages/moments/Plotting.py:192)\n"
     ]
    },
    {
     "name": "stdout",
     "output_type": "stream",
     "text": [
      "\u001b[93mRun 8: failed to generate code due to the following exception: momentsLD: 1294.375012853394, 1.0\u001b[0m\n"
     ]
    },
    {
     "name": "stderr",
     "output_type": "stream",
     "text": [
      "\u001b[93mUserWarning: Matplotlib is currently using agg, which is a non-GUI backend, so cannot show the figure.\u001b[0m (/home/enoskova/.local/lib/python3.8/site-packages/moments/Plotting.py:192)\n"
     ]
    },
    {
     "name": "stdout",
     "output_type": "stream",
     "text": [
      "\u001b[93mRun 5: failed to generate code due to the following exception: momentsLD: 1763.901753953208, 1.0\u001b[0m\n"
     ]
    },
    {
     "name": "stderr",
     "output_type": "stream",
     "text": [
      "\u001b[93mUserWarning: Matplotlib is currently using agg, which is a non-GUI backend, so cannot show the figure.\u001b[0m (/home/enoskova/.local/lib/python3.8/site-packages/moments/Plotting.py:192)\n"
     ]
    },
    {
     "name": "stdout",
     "output_type": "stream",
     "text": [
      "\u001b[93mRun 5: failed to generate code due to the following exception: momentsLD: 1763.901753953208, 1.0\u001b[0m\n"
     ]
    },
    {
     "name": "stderr",
     "output_type": "stream",
     "text": [
      "\u001b[93mUserWarning: Matplotlib is currently using agg, which is a non-GUI backend, so cannot show the figure.\u001b[0m (/home/enoskova/.local/lib/python3.8/site-packages/moments/Plotting.py:192)\n"
     ]
    },
    {
     "name": "stdout",
     "output_type": "stream",
     "text": [
      "Finish genetic algorithm number 5\n"
     ]
    },
    {
     "name": "stderr",
     "output_type": "stream",
     "text": [
      "\u001b[93mUserWarning: Matplotlib is currently using agg, which is a non-GUI backend, so cannot show the figure.\u001b[0m (/home/enoskova/.local/lib/python3.8/site-packages/moments/Plotting.py:192)\n"
     ]
    },
    {
     "name": "stdout",
     "output_type": "stream",
     "text": [
      "\u001b[93mRun 8: failed to generate code due to the following exception: momentsLD: 1771.2754870858776, 1.0\u001b[0m\n",
      "\n",
      "[000:03:00]\n",
      "All best by log-likelihood models\n",
      "Number\tlog-likelihood\tModel\n",
      "Run 3\t-438.95\t [Nanc = 1762] [ [ 28569.437(t1), [1764.727(nu11)], [Sud(dyn11)] ],\t[ 13.057(t2), [0.534(nu21)], [Exp(dyn21)] ] ]\tf\t(theta =  255258.81)\n",
      "Run 2\t-439.07\t [Nanc = 1762] [ [ 12.924(t1), [0.531(nu11)], [Exp(dyn11)] ] ]\t(theta =  255155.88)\n",
      "Run 1\t-439.55\t [Nanc = 1764] [ [ 0.443(t1), [1764.31(nu11)], [Lin(dyn11)] ],\t[ 27.982(t2), [1.278(nu21)], [Exp(dyn21)] ] ]\tf\t(theta =  255453.83)\n",
      "Run 7\t-439.56\t [Nanc = 1762] [ [ 3.961(t1), [1.319(nu11)], [Sud(dyn11)] ] ]\tm\t(theta =  255231.42)\n",
      "Run 5\t-439.91\t [Nanc = 1763] [ [ 1.54e-04(t1), [1763.902(nu11)], [Sud(dyn11)] ],\t[ 36.103(t2), [1.718(nu21)], [Exp(dyn21)] ] ]\tf\t(theta =  255394.77)\n",
      "Run 4\t-440.59\t [Nanc = 1765] [ [ 4.84e-08(t1), [23.607(nu11)], [Lin(dyn11)] ],\t[ 19.895(t2), [2.67(nu21)], [Exp(dyn21)] ] ]\tf\t(theta =  255668.58)\n",
      "Run 6\t-445.43\t [Nanc = 1769] [ [ 153.177(t1), [9.236(nu11)], [Exp(dyn11)] ] ]\tm\t(theta =  256219.86)\n",
      "Run 8\t-454.14\t [Nanc = 1771] [ [ 88.542(t1), [28.36(nu11)], [Sud(dyn11)] ] ]\t(theta =  256462.41)\n"
     ]
    },
    {
     "name": "stderr",
     "output_type": "stream",
     "text": [
      "\u001b[93mUserWarning: Matplotlib is currently using agg, which is a non-GUI backend, so cannot show the figure.\u001b[0m (/home/enoskova/.local/lib/python3.8/site-packages/moments/Plotting.py:192)\n"
     ]
    },
    {
     "name": "stdout",
     "output_type": "stream",
     "text": [
      "\u001b[93mRun 3 warning: failed to generate  some code due to the following exception: momentsLD: 1762.9627342654135, 1.0\u001b[0m\n",
      "\n",
      "You can find the picture of the best model in the output directory.\n",
      "\n",
      "All best by CLAIC score models\n",
      "Number\tlog-likelihood\tCLAIC score\tModel\n",
      "Run 3\t-438.97\t750.50 (eps=1.0e-05)\t [Nanc = 1764] [ [ 13.066(t1), [0.535(nu11)], [Exp(dyn11)] ] ]\t(theta =  255445.77)\n",
      "Run 2\t-439.07\t750.55 (eps=1.0e-05)\t [Nanc = 1762] [ [ 12.924(t1), [0.531(nu11)], [Exp(dyn11)] ] ]\t(theta =  255155.88)\n",
      "Run 3\t-438.95\t750.74 (eps=1.0e-05)\t [Nanc = 1762] [ [ 28569.437(t1), [1764.727(nu11)], [Sud(dyn11)] ],\t[ 13.057(t2), [0.534(nu21)], [Exp(dyn21)] ] ]\t(theta =  255258.81)\n",
      "Run 3\t-438.95\t750.74 (eps=1.0e-05)\t [Nanc = 1762] [ [ 28569.437(t1), [1764.727(nu11)], [Sud(dyn11)] ],\t[ 13.057(t2), [0.534(nu21)], [Exp(dyn21)] ] ]\tf\t(theta =  255258.81)\n",
      "Run 1\t-439.55\t823.56 (eps=1.0e-05)\t [Nanc = 1764] [ [ 0.443(t1), [1764.31(nu11)], [Lin(dyn11)] ],\t[ 27.982(t2), [1.278(nu21)], [Exp(dyn21)] ] ]\t(theta =  255453.83)\n",
      "Run 1\t-439.55\t823.56 (eps=1.0e-05)\t [Nanc = 1764] [ [ 0.443(t1), [1764.31(nu11)], [Lin(dyn11)] ],\t[ 27.982(t2), [1.278(nu21)], [Exp(dyn21)] ] ]\tf\t(theta =  255453.83)\n",
      "Run 1\t-439.59\t823.97 (eps=1.0e-05)\t [Nanc = 1763] [ [ 27.918(t1), [1.277(nu11)], [Exp(dyn11)] ] ]\t(theta =  255331.67)\n",
      "Run 5\t-439.91\t837.75 (eps=1.0e-05)\t [Nanc = 1763] [ [ 36.103(t1), [1.718(nu11)], [Exp(dyn11)] ] ]\t(theta =  255394.77)\n",
      "Run 5\t-439.91\t837.75 (eps=1.0e-05)\t [Nanc = 1763] [ [ 1.54e-04(t1), [1763.902(nu11)], [Sud(dyn11)] ],\t[ 36.103(t2), [1.718(nu21)], [Exp(dyn21)] ] ]\t(theta =  255394.77)\n",
      "Run 5\t-439.91\t837.75 (eps=1.0e-05)\t [Nanc = 1763] [ [ 1.54e-04(t1), [1763.902(nu11)], [Sud(dyn11)] ],\t[ 36.103(t2), [1.718(nu21)], [Exp(dyn21)] ] ]\tf\t(theta =  255394.77)\n",
      "Run 2\t-439.27\t851.31 (eps=1.0e-05)\t [Nanc = 1762] [ [ 6.462(t1), [30.578(nu11)], [Exp(dyn11)] ],\t[ 6.462(t2), [0.531(nu21)], [Exp(dyn21)] ] ]\t(theta =  255151.18)\n",
      "Run 2\t-439.27\t851.31 (eps=1.0e-05)\t [Nanc = 1762] [ [ 6.462(t1), [30.578(nu11)], [Exp(dyn11)] ],\t[ 6.462(t2), [0.531(nu21)], [Exp(dyn21)] ] ]\tf\t(theta =  255151.18)\n",
      "Run 4\t-440.59\t861.17 (eps=1.0e-05)\t [Nanc = 1765] [ [ 4.84e-08(t1), [23.607(nu11)], [Lin(dyn11)] ],\t[ 19.895(t2), [2.67(nu21)], [Exp(dyn21)] ] ]\t(theta =  255668.58)\n",
      "Run 4\t-440.59\t861.17 (eps=1.0e-05)\t [Nanc = 1765] [ [ 4.84e-08(t1), [23.607(nu11)], [Lin(dyn11)] ],\t[ 19.895(t2), [2.67(nu21)], [Exp(dyn21)] ] ]\tf\t(theta =  255668.58)\n",
      "Run 4\t-452.23\t875.24 (eps=1.0e-05)\t [Nanc = 1765] [ [ 72.435(t1), [23.597(nu11)], [Sud(dyn11)] ] ]\t(theta =  255561.39)\n",
      "Run 8\t-454.14\t876.05 (eps=1.0e-05)\t [Nanc = 1771] [ [ 88.542(t1), [28.36(nu11)], [Sud(dyn11)] ] ]\t(theta =  256462.41)\n",
      "Run 4\t-18821.88\t37643.75 (eps=1.0e-05)\t [Nanc = 1294] [  ]\t(theta =  187412.14)\n",
      "Run 1\t-18821.88\t37643.75 (eps=1.0e-05)\t [Nanc = 1294] [  ]\t(theta =  187412.14)\n",
      "Run 2\t-18821.88\t37643.75 (eps=1.0e-05)\t [Nanc = 1294] [  ]\t(theta =  187412.14)\n",
      "Run 3\t-18821.88\t37643.75 (eps=1.0e-05)\t [Nanc = 1294] [  ]\t(theta =  187412.14)\n",
      "Run 5\t-18821.88\t37643.75 (eps=1.0e-05)\t [Nanc = 1294] [  ]\t(theta =  187412.14)\n",
      "Run 6\t-18821.88\t37643.75 (eps=1.0e-05)\t [Nanc = 1294] [  ]\t(theta =  187412.14)\n",
      "Run 7\t-18821.88\t37643.75 (eps=1.0e-05)\t [Nanc = 1294] [  ]\t(theta =  187412.14)\n",
      "Run 8\t-18821.88\t37643.75 (eps=1.0e-05)\t [Nanc = 1294] [  ]\t(theta =  187412.14)\n"
     ]
    },
    {
     "name": "stderr",
     "output_type": "stream",
     "text": [
      "\u001b[93mUserWarning: Matplotlib is currently using agg, which is a non-GUI backend, so cannot show the figure.\u001b[0m (/home/enoskova/.local/lib/python3.8/site-packages/moments/Plotting.py:192)\n"
     ]
    },
    {
     "name": "stdout",
     "output_type": "stream",
     "text": [
      "\u001b[93mRun 3 warning: failed to generate  some code due to the following exception: momentsLD: 1764.253974120347, 1.0\u001b[0m\n",
      "\n",
      "You can find the picture of the best model in the output directory.\n",
      "\n",
      "warning: large change size at time t = 0.00 in function integrate_neutral\n",
      "N_old,  [9.5073746e-05] N_new [0.0001883]\n",
      "relative change 0.9805188437563185\n",
      "warning: large change size at time t = 0.00 in function integrate_neutral\n",
      "N_old,  [0.0001883] N_new [0.00028152]\n",
      "relative change 0.4950818048752483\n",
      "warning: large change size at time t = 0.00 in function integrate_neutral\n",
      "N_old,  [0.00028152] N_new [0.00037474]\n",
      "relative change 0.3311402782515694\n"
     ]
    },
    {
     "name": "stderr",
     "output_type": "stream",
     "text": [
      "\u001b[93mUserWarning: Matplotlib is currently using agg, which is a non-GUI backend, so cannot show the figure.\u001b[0m (/home/enoskova/.local/lib/python3.8/site-packages/moments/Plotting.py:192)\n"
     ]
    },
    {
     "name": "stdout",
     "output_type": "stream",
     "text": [
      "\u001b[93mRun 6: failed to generate code due to the following exception: momentsLD: 1768.306932482266, 1.0\u001b[0m\n"
     ]
    },
    {
     "name": "stderr",
     "output_type": "stream",
     "text": [
      "\u001b[93mUserWarning: Matplotlib is currently using agg, which is a non-GUI backend, so cannot show the figure.\u001b[0m (/home/enoskova/.local/lib/python3.8/site-packages/moments/Plotting.py:192)\n"
     ]
    },
    {
     "name": "stdout",
     "output_type": "stream",
     "text": [
      "\u001b[93mRun 7: failed to generate code due to the following exception: momentsLD: 1762.7735750055033, 1.0\u001b[0m\n",
      "warning: large change size at time t = 0.00 in function integrate_neutral\n",
      "N_old,  [0.00042354] N_new [0.00058455]\n",
      "relative change 0.38016087871095894\n",
      "warning: large change size at time t = 0.00 in function integrate_neutral\n",
      "N_old,  [0.00058455] N_new [0.00074557]\n",
      "relative change 0.2754467863674133\n",
      "\n",
      "[000:04:00]\n"
     ]
    },
    {
     "name": "stderr",
     "output_type": "stream",
     "text": [
      "\u001b[93mUserWarning: Matplotlib is currently using agg, which is a non-GUI backend, so cannot show the figure.\u001b[0m (/home/enoskova/.local/lib/python3.8/site-packages/moments/Plotting.py:192)\n"
     ]
    },
    {
     "name": "stdout",
     "output_type": "stream",
     "text": [
      "\u001b[93mRun 6: failed to generate code due to the following exception: momentsLD: 1766.6130318358478, 1.0\u001b[0m\n",
      "All best by log-likelihood models\n",
      "Number\tlog-likelihood\tModel\n",
      "Run 3\t-438.95\t [Nanc = 1762] [ [ 28569.437(t1), [1764.727(nu11)], [Sud(dyn11)] ],\t[ 13.057(t2), [0.534(nu21)], [Exp(dyn21)] ] ]\tf\t(theta =  255258.81)\n",
      "Run 2\t-439.07\t [Nanc = 1762] [ [ 12.924(t1), [0.531(nu11)], [Exp(dyn11)] ] ]\t(theta =  255155.88)\n",
      "Run 7\t-439.49\t [Nanc = 1764] [ [ 1.994(t1), [1.32(nu11)], [Sud(dyn11)] ],\t[ 1.982(t2), [1.32(nu21)], [Sud(dyn21)] ] ]\t(theta =  255439.98)\n",
      "Run 1\t-439.55\t [Nanc = 1764] [ [ 0.443(t1), [1764.31(nu11)], [Lin(dyn11)] ],\t[ 27.982(t2), [1.278(nu21)], [Exp(dyn21)] ] ]\tf\t(theta =  255453.83)\n",
      "Run 8\t-439.80\t [Nanc = 1765] [ [ 12.796(t1), [215.823(nu11)], [Sud(dyn11)] ],\t[ 88.237(t2), [0.136(nu21)], [Lin(dyn21)] ] ]\t(theta =  255579.40)\n",
      "Run 5\t-439.91\t [Nanc = 1763] [ [ 1.54e-04(t1), [1763.902(nu11)], [Sud(dyn11)] ],\t[ 36.103(t2), [1.718(nu21)], [Exp(dyn21)] ] ]\tf\t(theta =  255394.77)\n",
      "Run 4\t-440.59\t [Nanc = 1765] [ [ 4.84e-08(t1), [23.607(nu11)], [Lin(dyn11)] ],\t[ 19.895(t2), [2.67(nu21)], [Exp(dyn21)] ] ]\tf\t(theta =  255668.58)\n",
      "Run 6\t-445.38\t [Nanc = 1766] [ [ 60001.335(t1), [1768.381(nu11)], [Sud(dyn11)] ],\t[ 152.5(t2), [9.22(nu21)], [Exp(dyn21)] ] ]\t(theta =  255787.33)\n"
     ]
    },
    {
     "name": "stderr",
     "output_type": "stream",
     "text": [
      "\u001b[93mUserWarning: Matplotlib is currently using agg, which is a non-GUI backend, so cannot show the figure.\u001b[0m (/home/enoskova/.local/lib/python3.8/site-packages/moments/Plotting.py:192)\n",
      "\u001b[93mUserWarning: Matplotlib is currently using agg, which is a non-GUI backend, so cannot show the figure.\u001b[0m (/home/enoskova/.local/lib/python3.8/site-packages/moments/Plotting.py:192)\n"
     ]
    },
    {
     "name": "stdout",
     "output_type": "stream",
     "text": [
      "\u001b[93mRun 3 warning: failed to generate  some code due to the following exception: momentsLD: 1762.9627342654135, 1.0\u001b[0m\n",
      "\n",
      "You can find the picture of the best model in the output directory.\n",
      "\n",
      "\u001b[93mRun 8: failed to generate code due to the following exception: momentsLD: 1765.1769141618236, 1.0; momi2: Linear size function is  not supported\u001b[0m\n",
      "All best by CLAIC score models\n",
      "Number\tlog-likelihood\tCLAIC score\tModel\n",
      "Run 7\t-439.56\t659.68 (eps=1.0e-05)\t [Nanc = 1762] [ [ 3.961(t1), [1.319(nu11)], [Sud(dyn11)] ] ]\t(theta =  255231.42)\n",
      "Run 3\t-438.97\t750.50 (eps=1.0e-05)\t [Nanc = 1764] [ [ 13.066(t1), [0.535(nu11)], [Exp(dyn11)] ] ]\t(theta =  255445.77)\n",
      "Run 2\t-439.07\t750.55 (eps=1.0e-05)\t [Nanc = 1762] [ [ 12.924(t1), [0.531(nu11)], [Exp(dyn11)] ] ]\t(theta =  255155.88)\n",
      "Run 3\t-438.95\t750.74 (eps=1.0e-05)\t [Nanc = 1762] [ [ 28569.437(t1), [1764.727(nu11)], [Sud(dyn11)] ],\t[ 13.057(t2), [0.534(nu21)], [Exp(dyn21)] ] ]\t(theta =  255258.81)\n",
      "Run 3\t-438.95\t750.74 (eps=1.0e-05)\t [Nanc = 1762] [ [ 28569.437(t1), [1764.727(nu11)], [Sud(dyn11)] ],\t[ 13.057(t2), [0.534(nu21)], [Exp(dyn21)] ] ]\tf\t(theta =  255258.81)\n",
      "Run 1\t-439.55\t823.56 (eps=1.0e-05)\t [Nanc = 1764] [ [ 0.443(t1), [1764.31(nu11)], [Lin(dyn11)] ],\t[ 27.982(t2), [1.278(nu21)], [Exp(dyn21)] ] ]\t(theta =  255453.83)\n",
      "Run 1\t-439.55\t823.56 (eps=1.0e-05)\t [Nanc = 1764] [ [ 0.443(t1), [1764.31(nu11)], [Lin(dyn11)] ],\t[ 27.982(t2), [1.278(nu21)], [Exp(dyn21)] ] ]\tf\t(theta =  255453.83)\n",
      "Run 1\t-439.59\t823.97 (eps=1.0e-05)\t [Nanc = 1763] [ [ 27.918(t1), [1.277(nu11)], [Exp(dyn11)] ] ]\t(theta =  255331.67)\n",
      "Run 5\t-439.91\t837.75 (eps=1.0e-05)\t [Nanc = 1763] [ [ 36.103(t1), [1.718(nu11)], [Exp(dyn11)] ] ]\t(theta =  255394.77)\n",
      "Run 5\t-439.91\t837.75 (eps=1.0e-05)\t [Nanc = 1763] [ [ 1.54e-04(t1), [1763.902(nu11)], [Sud(dyn11)] ],\t[ 36.103(t2), [1.718(nu21)], [Exp(dyn21)] ] ]\t(theta =  255394.77)\n",
      "Run 5\t-439.91\t837.75 (eps=1.0e-05)\t [Nanc = 1763] [ [ 1.54e-04(t1), [1763.902(nu11)], [Sud(dyn11)] ],\t[ 36.103(t2), [1.718(nu21)], [Exp(dyn21)] ] ]\tf\t(theta =  255394.77)\n",
      "Run 2\t-439.27\t851.31 (eps=1.0e-05)\t [Nanc = 1762] [ [ 6.462(t1), [30.578(nu11)], [Exp(dyn11)] ],\t[ 6.462(t2), [0.531(nu21)], [Exp(dyn21)] ] ]\t(theta =  255151.18)\n",
      "Run 2\t-439.27\t851.31 (eps=1.0e-05)\t [Nanc = 1762] [ [ 6.462(t1), [30.578(nu11)], [Exp(dyn11)] ],\t[ 6.462(t2), [0.531(nu21)], [Exp(dyn21)] ] ]\tf\t(theta =  255151.18)\n",
      "Run 6\t-445.38\t851.41 (eps=1.0e-05)\t [Nanc = 1766] [ [ 60001.335(t1), [1768.381(nu11)], [Sud(dyn11)] ],\t[ 152.5(t2), [9.22(nu21)], [Exp(dyn21)] ] ]\t(theta =  255787.33)\n",
      "Run 4\t-440.59\t861.17 (eps=1.0e-05)\t [Nanc = 1765] [ [ 4.84e-08(t1), [23.607(nu11)], [Lin(dyn11)] ],\t[ 19.895(t2), [2.67(nu21)], [Exp(dyn21)] ] ]\t(theta =  255668.58)\n",
      "Run 4\t-440.59\t861.17 (eps=1.0e-05)\t [Nanc = 1765] [ [ 4.84e-08(t1), [23.607(nu11)], [Lin(dyn11)] ],\t[ 19.895(t2), [2.67(nu21)], [Exp(dyn21)] ] ]\tf\t(theta =  255668.58)\n",
      "Run 8\t-439.80\t862.09 (eps=1.0e-05)\t [Nanc = 1765] [ [ 12.796(t1), [215.823(nu11)], [Sud(dyn11)] ],\t[ 88.237(t2), [0.136(nu21)], [Lin(dyn21)] ] ]\t(theta =  255579.40)\n",
      "Run 6\t-445.39\t873.74 (eps=1.0e-05)\t [Nanc = 1768] [ [ 152.647(t1), [9.229(nu11)], [Exp(dyn11)] ] ]\t(theta =  256032.59)\n",
      "Run 4\t-452.23\t875.24 (eps=1.0e-05)\t [Nanc = 1765] [ [ 72.435(t1), [23.597(nu11)], [Sud(dyn11)] ] ]\t(theta =  255561.39)\n",
      "Run 8\t-454.14\t876.05 (eps=1.0e-05)\t [Nanc = 1771] [ [ 88.542(t1), [28.36(nu11)], [Sud(dyn11)] ] ]\t(theta =  256462.41)\n",
      "Run 4\t-18821.88\t37643.75 (eps=1.0e-05)\t [Nanc = 1294] [  ]\t(theta =  187412.14)\n",
      "Run 1\t-18821.88\t37643.75 (eps=1.0e-05)\t [Nanc = 1294] [  ]\t(theta =  187412.14)\n",
      "Run 2\t-18821.88\t37643.75 (eps=1.0e-05)\t [Nanc = 1294] [  ]\t(theta =  187412.14)\n",
      "Run 3\t-18821.88\t37643.75 (eps=1.0e-05)\t [Nanc = 1294] [  ]\t(theta =  187412.14)\n",
      "Run 5\t-18821.88\t37643.75 (eps=1.0e-05)\t [Nanc = 1294] [  ]\t(theta =  187412.14)\n",
      "Run 6\t-18821.88\t37643.75 (eps=1.0e-05)\t [Nanc = 1294] [  ]\t(theta =  187412.14)\n",
      "Run 7\t-18821.88\t37643.75 (eps=1.0e-05)\t [Nanc = 1294] [  ]\t(theta =  187412.14)\n",
      "Run 8\t-18821.88\t37643.75 (eps=1.0e-05)\t [Nanc = 1294] [  ]\t(theta =  187412.14)\n"
     ]
    },
    {
     "name": "stderr",
     "output_type": "stream",
     "text": [
      "\u001b[93mUserWarning: Matplotlib is currently using agg, which is a non-GUI backend, so cannot show the figure.\u001b[0m (/home/enoskova/.local/lib/python3.8/site-packages/moments/Plotting.py:192)\n",
      "\u001b[93mUserWarning: Matplotlib is currently using agg, which is a non-GUI backend, so cannot show the figure.\u001b[0m (/home/enoskova/.local/lib/python3.8/site-packages/moments/Plotting.py:192)\n"
     ]
    },
    {
     "name": "stdout",
     "output_type": "stream",
     "text": [
      "\u001b[93mRun 7 warning: failed to generate  some code due to the following exception: momentsLD: 1762.7735750055033, 1.0\u001b[0m\n",
      "\n",
      "You can find the picture of the best model in the output directory.\n",
      "\n",
      "\u001b[93mRun 6: failed to generate code due to the following exception: momentsLD: 1766.6130318358478, 1.0\u001b[0m\n"
     ]
    },
    {
     "name": "stderr",
     "output_type": "stream",
     "text": [
      "\u001b[93mUserWarning: Matplotlib is currently using agg, which is a non-GUI backend, so cannot show the figure.\u001b[0m (/home/enoskova/.local/lib/python3.8/site-packages/moments/Plotting.py:192)\n",
      "\u001b[93mUserWarning: Matplotlib is currently using agg, which is a non-GUI backend, so cannot show the figure.\u001b[0m (/home/enoskova/.local/lib/python3.8/site-packages/moments/Plotting.py:192)\n"
     ]
    },
    {
     "name": "stdout",
     "output_type": "stream",
     "text": [
      "Finish genetic algorithm number 6\n",
      "\u001b[93mRun 8: failed to generate code due to the following exception: momentsLD: 1765.1769141618236, 1.0; momi2: Linear size function is  not supported\u001b[0m\n"
     ]
    },
    {
     "name": "stderr",
     "output_type": "stream",
     "text": [
      "\u001b[93mUserWarning: Matplotlib is currently using agg, which is a non-GUI backend, so cannot show the figure.\u001b[0m (/home/enoskova/.local/lib/python3.8/site-packages/moments/Plotting.py:192)\n"
     ]
    },
    {
     "name": "stdout",
     "output_type": "stream",
     "text": [
      "Finish genetic algorithm number 8\n"
     ]
    },
    {
     "name": "stderr",
     "output_type": "stream",
     "text": [
      "\u001b[93mUserWarning: Matplotlib is currently using agg, which is a non-GUI backend, so cannot show the figure.\u001b[0m (/home/enoskova/.local/lib/python3.8/site-packages/moments/Plotting.py:192)\n"
     ]
    },
    {
     "name": "stdout",
     "output_type": "stream",
     "text": [
      "\u001b[93mRun 7: failed to generate code due to the following exception: momentsLD: 1764.214006233267, 1.0\u001b[0m\n"
     ]
    },
    {
     "name": "stderr",
     "output_type": "stream",
     "text": [
      "\u001b[93mUserWarning: Matplotlib is currently using agg, which is a non-GUI backend, so cannot show the figure.\u001b[0m (/home/enoskova/.local/lib/python3.8/site-packages/moments/Plotting.py:192)\n"
     ]
    },
    {
     "name": "stdout",
     "output_type": "stream",
     "text": [
      "\u001b[93mRun 7: failed to generate code due to the following exception: momentsLD: 1764.214006233267, 1.0\u001b[0m\n"
     ]
    },
    {
     "name": "stderr",
     "output_type": "stream",
     "text": [
      "\u001b[93mUserWarning: Matplotlib is currently using agg, which is a non-GUI backend, so cannot show the figure.\u001b[0m (/home/enoskova/.local/lib/python3.8/site-packages/moments/Plotting.py:192)\n"
     ]
    },
    {
     "name": "stdout",
     "output_type": "stream",
     "text": [
      "Finish genetic algorithm number 7\n",
      "\n",
      "[000:04:10]\n",
      "All best by log-likelihood models\n",
      "Number\tlog-likelihood\tModel\n",
      "Run 3\t-438.95\t [Nanc = 1762] [ [ 28569.437(t1), [1764.727(nu11)], [Sud(dyn11)] ],\t[ 13.057(t2), [0.534(nu21)], [Exp(dyn21)] ] ]\tf\t(theta =  255258.81)\n",
      "Run 2\t-439.07\t [Nanc = 1762] [ [ 12.924(t1), [0.531(nu11)], [Exp(dyn11)] ] ]\t(theta =  255155.88)\n",
      "Run 7\t-439.49\t [Nanc = 1764] [ [ 1.994(t1), [1.32(nu11)], [Sud(dyn11)] ],\t[ 1.982(t2), [1.32(nu21)], [Sud(dyn21)] ] ]\tf\t(theta =  255439.98)\n",
      "Run 1\t-439.55\t [Nanc = 1764] [ [ 0.443(t1), [1764.31(nu11)], [Lin(dyn11)] ],\t[ 27.982(t2), [1.278(nu21)], [Exp(dyn21)] ] ]\tf\t(theta =  255453.83)\n",
      "Run 8\t-439.80\t [Nanc = 1765] [ [ 12.796(t1), [215.823(nu11)], [Sud(dyn11)] ],\t[ 88.237(t2), [0.136(nu21)], [Lin(dyn21)] ] ]\tf\t(theta =  255579.40)\n",
      "Run 5\t-439.91\t [Nanc = 1763] [ [ 1.54e-04(t1), [1763.902(nu11)], [Sud(dyn11)] ],\t[ 36.103(t2), [1.718(nu21)], [Exp(dyn21)] ] ]\tf\t(theta =  255394.77)\n",
      "Run 4\t-440.59\t [Nanc = 1765] [ [ 4.84e-08(t1), [23.607(nu11)], [Lin(dyn11)] ],\t[ 19.895(t2), [2.67(nu21)], [Exp(dyn21)] ] ]\tf\t(theta =  255668.58)\n",
      "Run 6\t-445.38\t [Nanc = 1766] [ [ 60001.335(t1), [1768.381(nu11)], [Sud(dyn11)] ],\t[ 152.5(t2), [9.22(nu21)], [Exp(dyn21)] ] ]\tf\t(theta =  255787.33)\n"
     ]
    },
    {
     "name": "stderr",
     "output_type": "stream",
     "text": [
      "\u001b[93mUserWarning: Matplotlib is currently using agg, which is a non-GUI backend, so cannot show the figure.\u001b[0m (/home/enoskova/.local/lib/python3.8/site-packages/moments/Plotting.py:192)\n"
     ]
    },
    {
     "name": "stdout",
     "output_type": "stream",
     "text": [
      "\u001b[93mRun 3 warning: failed to generate  some code due to the following exception: momentsLD: 1762.9627342654135, 1.0\u001b[0m\n",
      "\n",
      "You can find the picture of the best model in the output directory.\n",
      "\n",
      "All best by CLAIC score models\n",
      "Number\tlog-likelihood\tCLAIC score\tModel\n",
      "Run 7\t-439.56\t659.68 (eps=1.0e-05)\t [Nanc = 1762] [ [ 3.961(t1), [1.319(nu11)], [Sud(dyn11)] ] ]\t(theta =  255231.42)\n",
      "Run 7\t-439.49\t677.08 (eps=1.0e-05)\t [Nanc = 1764] [ [ 1.994(t1), [1.32(nu11)], [Sud(dyn11)] ],\t[ 1.982(t2), [1.32(nu21)], [Sud(dyn21)] ] ]\t(theta =  255439.98)\n",
      "Run 7\t-439.49\t677.08 (eps=1.0e-05)\t [Nanc = 1764] [ [ 1.994(t1), [1.32(nu11)], [Sud(dyn11)] ],\t[ 1.982(t2), [1.32(nu21)], [Sud(dyn21)] ] ]\tf\t(theta =  255439.98)\n",
      "Run 3\t-438.97\t750.50 (eps=1.0e-05)\t [Nanc = 1764] [ [ 13.066(t1), [0.535(nu11)], [Exp(dyn11)] ] ]\t(theta =  255445.77)\n",
      "Run 2\t-439.07\t750.55 (eps=1.0e-05)\t [Nanc = 1762] [ [ 12.924(t1), [0.531(nu11)], [Exp(dyn11)] ] ]\t(theta =  255155.88)\n",
      "Run 3\t-438.95\t750.74 (eps=1.0e-05)\t [Nanc = 1762] [ [ 28569.437(t1), [1764.727(nu11)], [Sud(dyn11)] ],\t[ 13.057(t2), [0.534(nu21)], [Exp(dyn21)] ] ]\t(theta =  255258.81)\n",
      "Run 3\t-438.95\t750.74 (eps=1.0e-05)\t [Nanc = 1762] [ [ 28569.437(t1), [1764.727(nu11)], [Sud(dyn11)] ],\t[ 13.057(t2), [0.534(nu21)], [Exp(dyn21)] ] ]\tf\t(theta =  255258.81)\n",
      "Run 1\t-439.55\t823.56 (eps=1.0e-05)\t [Nanc = 1764] [ [ 0.443(t1), [1764.31(nu11)], [Lin(dyn11)] ],\t[ 27.982(t2), [1.278(nu21)], [Exp(dyn21)] ] ]\t(theta =  255453.83)\n",
      "Run 1\t-439.55\t823.56 (eps=1.0e-05)\t [Nanc = 1764] [ [ 0.443(t1), [1764.31(nu11)], [Lin(dyn11)] ],\t[ 27.982(t2), [1.278(nu21)], [Exp(dyn21)] ] ]\tf\t(theta =  255453.83)\n",
      "Run 1\t-439.59\t823.97 (eps=1.0e-05)\t [Nanc = 1763] [ [ 27.918(t1), [1.277(nu11)], [Exp(dyn11)] ] ]\t(theta =  255331.67)\n",
      "Run 5\t-439.91\t837.75 (eps=1.0e-05)\t [Nanc = 1763] [ [ 36.103(t1), [1.718(nu11)], [Exp(dyn11)] ] ]\t(theta =  255394.77)\n",
      "Run 5\t-439.91\t837.75 (eps=1.0e-05)\t [Nanc = 1763] [ [ 1.54e-04(t1), [1763.902(nu11)], [Sud(dyn11)] ],\t[ 36.103(t2), [1.718(nu21)], [Exp(dyn21)] ] ]\t(theta =  255394.77)\n",
      "Run 5\t-439.91\t837.75 (eps=1.0e-05)\t [Nanc = 1763] [ [ 1.54e-04(t1), [1763.902(nu11)], [Sud(dyn11)] ],\t[ 36.103(t2), [1.718(nu21)], [Exp(dyn21)] ] ]\tf\t(theta =  255394.77)\n",
      "Run 2\t-439.27\t851.31 (eps=1.0e-05)\t [Nanc = 1762] [ [ 6.462(t1), [30.578(nu11)], [Exp(dyn11)] ],\t[ 6.462(t2), [0.531(nu21)], [Exp(dyn21)] ] ]\t(theta =  255151.18)\n",
      "Run 2\t-439.27\t851.31 (eps=1.0e-05)\t [Nanc = 1762] [ [ 6.462(t1), [30.578(nu11)], [Exp(dyn11)] ],\t[ 6.462(t2), [0.531(nu21)], [Exp(dyn21)] ] ]\tf\t(theta =  255151.18)\n",
      "Run 6\t-445.38\t851.41 (eps=1.0e-05)\t [Nanc = 1766] [ [ 60001.335(t1), [1768.381(nu11)], [Sud(dyn11)] ],\t[ 152.5(t2), [9.22(nu21)], [Exp(dyn21)] ] ]\t(theta =  255787.33)\n",
      "Run 6\t-445.38\t851.41 (eps=1.0e-05)\t [Nanc = 1766] [ [ 60001.335(t1), [1768.381(nu11)], [Sud(dyn11)] ],\t[ 152.5(t2), [9.22(nu21)], [Exp(dyn21)] ] ]\tf\t(theta =  255787.33)\n",
      "Run 4\t-440.59\t861.17 (eps=1.0e-05)\t [Nanc = 1765] [ [ 4.84e-08(t1), [23.607(nu11)], [Lin(dyn11)] ],\t[ 19.895(t2), [2.67(nu21)], [Exp(dyn21)] ] ]\t(theta =  255668.58)\n",
      "Run 4\t-440.59\t861.17 (eps=1.0e-05)\t [Nanc = 1765] [ [ 4.84e-08(t1), [23.607(nu11)], [Lin(dyn11)] ],\t[ 19.895(t2), [2.67(nu21)], [Exp(dyn21)] ] ]\tf\t(theta =  255668.58)\n",
      "Run 8\t-439.80\t862.09 (eps=1.0e-05)\t [Nanc = 1765] [ [ 12.796(t1), [215.823(nu11)], [Sud(dyn11)] ],\t[ 88.237(t2), [0.136(nu21)], [Lin(dyn21)] ] ]\t(theta =  255579.40)\n",
      "Run 8\t-439.80\t862.09 (eps=1.0e-05)\t [Nanc = 1765] [ [ 12.796(t1), [215.823(nu11)], [Sud(dyn11)] ],\t[ 88.237(t2), [0.136(nu21)], [Lin(dyn21)] ] ]\tf\t(theta =  255579.40)\n",
      "Run 6\t-445.39\t873.74 (eps=1.0e-05)\t [Nanc = 1768] [ [ 152.647(t1), [9.229(nu11)], [Exp(dyn11)] ] ]\t(theta =  256032.59)\n",
      "Run 4\t-452.23\t875.24 (eps=1.0e-05)\t [Nanc = 1765] [ [ 72.435(t1), [23.597(nu11)], [Sud(dyn11)] ] ]\t(theta =  255561.39)\n",
      "Run 8\t-454.14\t876.05 (eps=1.0e-05)\t [Nanc = 1771] [ [ 88.542(t1), [28.36(nu11)], [Sud(dyn11)] ] ]\t(theta =  256462.41)\n",
      "Run 4\t-18821.88\t37643.75 (eps=1.0e-05)\t [Nanc = 1294] [  ]\t(theta =  187412.14)\n",
      "Run 1\t-18821.88\t37643.75 (eps=1.0e-05)\t [Nanc = 1294] [  ]\t(theta =  187412.14)\n",
      "Run 2\t-18821.88\t37643.75 (eps=1.0e-05)\t [Nanc = 1294] [  ]\t(theta =  187412.14)\n",
      "Run 3\t-18821.88\t37643.75 (eps=1.0e-05)\t [Nanc = 1294] [  ]\t(theta =  187412.14)\n",
      "Run 5\t-18821.88\t37643.75 (eps=1.0e-05)\t [Nanc = 1294] [  ]\t(theta =  187412.14)\n",
      "Run 6\t-18821.88\t37643.75 (eps=1.0e-05)\t [Nanc = 1294] [  ]\t(theta =  187412.14)\n",
      "Run 7\t-18821.88\t37643.75 (eps=1.0e-05)\t [Nanc = 1294] [  ]\t(theta =  187412.14)\n",
      "Run 8\t-18821.88\t37643.75 (eps=1.0e-05)\t [Nanc = 1294] [  ]\t(theta =  187412.14)\n"
     ]
    },
    {
     "name": "stderr",
     "output_type": "stream",
     "text": [
      "\u001b[93mUserWarning: Matplotlib is currently using agg, which is a non-GUI backend, so cannot show the figure.\u001b[0m (/home/enoskova/.local/lib/python3.8/site-packages/moments/Plotting.py:192)\n"
     ]
    },
    {
     "name": "stdout",
     "output_type": "stream",
     "text": [
      "\u001b[93mRun 7 warning: failed to generate  some code due to the following exception: momentsLD: 1762.7735750055033, 1.0\u001b[0m\n",
      "\n",
      "You can find the picture of the best model in the output directory.\n",
      "\n",
      "\n",
      "--Finish pipeline--\n",
      "\n",
      "Thank you for using GADMA!\n",
      "\n",
      "In case of any questions or problems, please contact: ekaterina.e.noskova@gmail.com\n",
      "\n"
     ]
    },
    {
     "name": "stderr",
     "output_type": "stream",
     "text": [
      "\u001b[93mUserWarning: Domain of PopulationSizeVariable changed to [1e-05, 100.0]\u001b[0m (/home/enoskova/.local/lib/python3.8/site-packages/gadma/cli/settings_storage.py:668)\n",
      "\u001b[93mUserWarning: Code for momentsLD will not be generated as: VCF input data is required.\u001b[0m (/home/enoskova/.local/lib/python3.8/site-packages/gadma/cli/settings_storage.py:1536)\n"
     ]
    }
   ],
   "source": [
    "%%bash\n",
    "rm -rf /home/enoskova/Workspace/GADMA_workshop/outputs/gadma_outputs/gadma_full_example_run\n",
    "gadma -p gadma_params_files/gadma_full_example_run"
   ]
  },
  {
   "cell_type": "markdown",
   "id": "83ca8086",
   "metadata": {},
   "source": [
    "Final demographic history (`outputs/gadma_outputs/gadma_full_example_run/best_claic_model.png` file):\n",
    "<img src=\"outputs/gadma_outputs/gadma_full_example_run/best_claic_model.png\" width=\"900\" align=\"left\"/>"
   ]
  },
  {
   "cell_type": "markdown",
   "id": "cf0210c0",
   "metadata": {},
   "source": [
    "-------\n",
    "\n",
    "## 8. Evaluate Confidence Intervals (CI) for the Final Model\n",
    "\n",
    "For our final model we want to get confidence intervals for its parameters. In order to do that we need slightly shuffled input data: we will adjust our parameters for each dataset and will get their uncertancy.\n",
    "\n",
    "The best way to get shuffled data is **bootstrap** - random sampling with replacement.\n",
    "<img src=\"pictures/bootstrap_illustration.png\" width=\"900\" align=\"left\"/>"
   ]
  },
  {
   "cell_type": "markdown",
   "id": "6394b149",
   "metadata": {},
   "source": [
    "Bootstrap should be performed over regions of linkage (e.g. genes). Usually **100** bootstraped data is generated, we will use only 50 for our example.\n",
    "\n",
    "However, we do not have any annotation, we have only chromosomes. Okay, let us perform bootstrap over chromosomes (it is not the best option but the only we have got). We will use a custom script. BE CAREFULL, THIS PROCESS IS VERY TIME-CONSUMING!"
   ]
  },
  {
   "cell_type": "code",
   "execution_count": 89,
   "id": "d2125e9f",
   "metadata": {},
   "outputs": [
    {
     "name": "stdout",
     "output_type": "stream",
     "text": [
      "Usage: scripts/create_bootstrap_over_chromosomes.py <original_VCF> <popmap> <output_dir> <n_boots> <easySFS_location> <easySFS_arguments>\n"
     ]
    }
   ],
   "source": [
    "%%bash\n",
    "python scripts/create_bootstrap_over_chromosomes.py"
   ]
  },
  {
   "cell_type": "code",
   "execution_count": 147,
   "id": "7ea9f032",
   "metadata": {},
   "outputs": [],
   "source": [
    "%%bash\n",
    "#mkdir data/boots\n",
    "#python scripts/create_bootstrap_over_chromosomes.py data/clouded_leopard_data.vcf data/popmap data/boots 50 ./easySFS/easySFS.py \"-a --proj 10\""
   ]
  },
  {
   "cell_type": "code",
   "execution_count": 198,
   "id": "9ad8ae08",
   "metadata": {
    "scrolled": true
   },
   "outputs": [
    {
     "name": "stderr",
     "output_type": "stream",
     "text": [
      "WARNING:matplotlib.font_manager:findfont: Font family ['sans-serif'] not found. Falling back to DejaVu Sans.\n",
      "WARNING:matplotlib.font_manager:findfont: Generic family 'sans-serif' not found because none of the following families were found: Helvetica\n",
      "WARNING:matplotlib.font_manager:findfont: Font family ['sans-serif'] not found. Falling back to DejaVu Sans.\n",
      "WARNING:matplotlib.font_manager:findfont: Generic family 'sans-serif' not found because none of the following families were found: Helvetica\n",
      "WARNING:matplotlib.font_manager:findfont: Font family ['sans-serif'] not found. Falling back to DejaVu Sans.\n",
      "WARNING:matplotlib.font_manager:findfont: Generic family 'sans-serif' not found because none of the following families were found: Helvetica\n",
      "WARNING:matplotlib.font_manager:findfont: Font family ['sans-serif'] not found. Falling back to DejaVu Sans.\n",
      "WARNING:matplotlib.font_manager:findfont: Generic family 'sans-serif' not found because none of the following families were found: Helvetica\n"
     ]
    },
    {
     "name": "stdout",
     "output_type": "stream",
     "text": [
      "warning in stationary: failed to import cython module: falling back to numpy\n",
      "warning in choleskies: failed to import cython module: falling back to numpy\n",
      "Model log likelihood (LL(model, data)): -439.5623354141717\n",
      "Optimal value of theta: 255231.41917416343\n",
      "Size of ancestral population: 1762\n",
      "Model log likelihood (LL(model, data)): -439.5623354141717\n",
      "Optimal value of theta: 255231.41917416343\n",
      "Size of ancestral population: 1762\n",
      "Model log likelihood (LL(model, data)): -439.5623354141717\n",
      "Optimal value of theta: 255231.41917416343\n",
      "Size of ancestral population: 1762\n",
      "50 bootstrapped data found.\n",
      "Found initial parameters values: [0.00016048889695225048, 0.0007484425138326357]\n",
      "Parameters labels will be: t1, nu11, Theta\n",
      "Lower bound will be: [1e-15, 1e-05]\n",
      "Upper bound will be: [5.0, 100.0]\n",
      "Optimization to run: optimize_log\n",
      "Model log likelihood (LL(model, data)): -439.5623354141717\n",
      "Optimal value of theta: 255231.41917416343\n",
      "Size of ancestral population: 1762\n",
      "Model log likelihood (LL(model, data)): -439.5623354141717\n",
      "Optimal value of theta: 255231.41917416343\n",
      "Size of ancestral population: 1762\n",
      "Model log likelihood (LL(model, data)): -439.5623354141717\n",
      "Optimal value of theta: 255231.41917416343\n",
      "Size of ancestral population: 1762\n",
      "Model log likelihood (LL(model, data)): -439.5623354141717\n",
      "Optimal value of theta: 255231.41917416343\n",
      "Size of ancestral population: 1762\n",
      "Model log likelihood (LL(model, data)): -439.5623354141717\n",
      "Optimal value of theta: 255231.41917416343\n",
      "Size of ancestral population: 1762\n",
      "Model log likelihood (LL(model, data)): -439.5623354141717\n",
      "Optimal value of theta: 255231.41917416343\n",
      "Size of ancestral population: 1762\n",
      "Model log likelihood (LL(model, data)): -439.5623354141717\n",
      "Optimal value of theta: 255231.41917416343\n",
      "Size of ancestral population: 1762\n",
      "Model log likelihood (LL(model, data)): -439.5623354141717\n",
      "Optimal value of theta: 255231.41917416343\n",
      "Size of ancestral population: 1762\n",
      "Model log likelihood (LL(model, data)): -439.5623354141717\n",
      "Optimal value of theta: 255231.41917416343\n",
      "Size of ancestral population: 1762\n",
      "Model log likelihood (LL(model, data)): -439.5623354141717\n",
      "Optimal value of theta: 255231.41917416343\n",
      "Size of ancestral population: 1762\n",
      "Model log likelihood (LL(model, data)): -439.5623354141717\n",
      "Optimal value of theta: 255231.41917416343\n",
      "Size of ancestral population: 1762\n",
      "Model log likelihood (LL(model, data)): -439.5623354141717\n",
      "Optimal value of theta: 255231.41917416343\n",
      "Size of ancestral population: 1762\n",
      "Model log likelihood (LL(model, data)): -439.5623354141717\n",
      "Optimal value of theta: 255231.41917416343\n",
      "Size of ancestral population: 1762\n",
      "Model log likelihood (LL(model, data)): -439.5623354141717\n",
      "Optimal value of theta: 255231.41917416343\n",
      "Size of ancestral population: 1762\n",
      "Model log likelihood (LL(model, data)): -439.5623354141717\n",
      "Optimal value of theta: 255231.41917416343\n",
      "Size of ancestral population: 1762\n",
      "Model log likelihood (LL(model, data)): -439.5623354141717\n",
      "Optimal value of theta: 255231.41917416343\n",
      "Size of ancestral population: 1762\n",
      "Model log likelihood (LL(model, data)): -439.5623354141717\n",
      "Optimal value of theta: 255231.41917416343\n",
      "Size of ancestral population: 1762\n",
      "Model log likelihood (LL(model, data)): -439.5623354141717\n",
      "Optimal value of theta: 255231.41917416343\n",
      "Size of ancestral population: 1762\n",
      "Model log likelihood (LL(model, data)): -439.5623354141717\n",
      "Optimal value of theta: 255231.41917416343\n",
      "Size of ancestral population: 1762\n",
      "Model log likelihood (LL(model, data)): -439.5623354141717\n",
      "Optimal value of theta: 255231.41917416343\n",
      "Size of ancestral population: 1762\n",
      "Model log likelihood (LL(model, data)): -439.5623354141717\n",
      "Optimal value of theta: 255231.41917416343\n",
      "Size of ancestral population: 1762\n",
      "Model log likelihood (LL(model, data)): -439.5623354141717\n",
      "Optimal value of theta: 255231.41917416343\n",
      "Size of ancestral population: 1762\n",
      "Model log likelihood (LL(model, data)): -439.5623354141717\n",
      "Optimal value of theta: 255231.41917416343\n",
      "Size of ancestral population: 1762\n",
      "Model log likelihood (LL(model, data)): -439.5623354141717\n",
      "Optimal value of theta: 255231.41917416343\n",
      "Size of ancestral population: 1762\n",
      "Model log likelihood (LL(model, data)): -439.5623354141717\n",
      "Optimal value of theta: 255231.41917416343\n",
      "Size of ancestral population: 1762\n",
      "Model log likelihood (LL(model, data)): -439.5623354141717\n",
      "Optimal value of theta: 255231.41917416343\n",
      "Size of ancestral population: 1762\n",
      "Model log likelihood (LL(model, data)): -439.5623354141717\n",
      "Optimal value of theta: 255231.41917416343\n",
      "Size of ancestral population: 1762\n",
      "Model log likelihood (LL(model, data)): -439.5623354141717\n",
      "Optimal value of theta: 255231.41917416343\n",
      "Size of ancestral population: 1762\n",
      "Model log likelihood (LL(model, data)): -439.5623354141717\n",
      "Optimal value of theta: 255231.41917416343\n",
      "Size of ancestral population: 1762\n",
      "Model log likelihood (LL(model, data)): -439.5623354141717\n",
      "Optimal value of theta: 255231.41917416343\n",
      "Size of ancestral population: 1762\n",
      "Model log likelihood (LL(model, data)): -439.5623354141717\n",
      "Optimal value of theta: 255231.41917416343\n",
      "Size of ancestral population: 1762\n",
      "Model log likelihood (LL(model, data)): -439.5623354141717\n",
      "Optimal value of theta: 255231.41917416343\n",
      "Size of ancestral population: 1762\n",
      "Model log likelihood (LL(model, data)): -439.5623354141717\n",
      "Optimal value of theta: 255231.41917416343\n",
      "Size of ancestral population: 1762\n",
      "Model log likelihood (LL(model, data)): -439.5623354141717\n",
      "Optimal value of theta: 255231.41917416343\n",
      "Size of ancestral population: 1762\n",
      "Model log likelihood (LL(model, data)): -439.5623354141717\n",
      "Optimal value of theta: 255231.41917416343\n",
      "Size of ancestral population: 1762\n",
      "Model log likelihood (LL(model, data)): -439.5623354141717\n",
      "Optimal value of theta: 255231.41917416343\n",
      "Size of ancestral population: 1762\n",
      "Model log likelihood (LL(model, data)): -439.5623354141717\n",
      "Optimal value of theta: 255231.41917416343\n",
      "Size of ancestral population: 1762\n",
      "Model log likelihood (LL(model, data)): -439.5623354141717\n",
      "Optimal value of theta: 255231.41917416343\n",
      "Size of ancestral population: 1762\n",
      "Model log likelihood (LL(model, data)): -439.5623354141717\n",
      "Optimal value of theta: 255231.41917416343\n",
      "Size of ancestral population: 1762\n",
      "Model log likelihood (LL(model, data)): -439.5623354141717\n",
      "Optimal value of theta: 255231.41917416343\n",
      "Size of ancestral population: 1762\n",
      "Model log likelihood (LL(model, data)): -439.5623354141717\n",
      "Optimal value of theta: 255231.41917416343\n",
      "Size of ancestral population: 1762\n",
      "Model log likelihood (LL(model, data)): -439.5623354141717\n",
      "Optimal value of theta: 255231.41917416343\n",
      "Size of ancestral population: 1762\n",
      "Model log likelihood (LL(model, data)): -439.5623354141717\n",
      "Optimal value of theta: 255231.41917416343\n",
      "Size of ancestral population: 1762\n",
      "Model log likelihood (LL(model, data)): -439.5623354141717\n",
      "Optimal value of theta: 255231.41917416343\n",
      "Size of ancestral population: 1762\n",
      "Model log likelihood (LL(model, data)): -439.5623354141717\n",
      "Optimal value of theta: 255231.41917416343\n",
      "Size of ancestral population: 1762\n",
      "Model log likelihood (LL(model, data)): -439.5623354141717\n",
      "Optimal value of theta: 255231.41917416343\n",
      "Size of ancestral population: 1762\n",
      "Model log likelihood (LL(model, data)): -439.5623354141717\n",
      "Optimal value of theta: 255231.41917416343\n",
      "Size of ancestral population: 1762\n",
      "Model log likelihood (LL(model, data)): -439.5623354141717\n",
      "Optimal value of theta: 255231.41917416343\n",
      "Size of ancestral population: 1762\n",
      "Model log likelihood (LL(model, data)): -439.5623354141717\n",
      "Optimal value of theta: 255231.41917416343\n",
      "Size of ancestral population: 1762\n",
      "Model log likelihood (LL(model, data)): -439.5623354141717\n",
      "Optimal value of theta: 255231.41917416343\n",
      "Size of ancestral population: 1762\n",
      "              t1      nu11          Theta\n",
      "33.sfs  0.000142  0.000748  270539.866508\n",
      "40.sfs  0.000160  0.000748  184232.253555\n",
      "42.sfs  0.000158  0.000748  297087.500464\n",
      "47.sfs  0.000116  0.000748  240886.101874\n",
      "43.sfs  0.000160  0.000748  233053.206215\n",
      "50.sfs  0.000082  0.000748  199978.000912\n",
      "37.sfs  0.000160  0.000748  233872.060938\n",
      "41.sfs  0.000143  0.000748  246521.383718\n",
      "35.sfs  0.000148  0.000748  286185.118215\n",
      "15.sfs  0.000160  0.000748  229931.311033\n",
      "30.sfs  0.000150  0.000748  260752.611622\n",
      "49.sfs  0.000160  0.000748  212500.689482\n"
     ]
    },
    {
     "name": "stdout",
     "output_type": "stream",
     "text": [
      "01.sfs  0.000160  0.000748  292094.815253\n",
      "36.sfs  0.000160  0.000748  246538.734316\n",
      "03.sfs  0.000160  0.000748  269396.206196\n",
      "28.sfs  0.000145  0.000748  286385.899033\n",
      "05.sfs  0.000110  0.000748  237420.841853\n",
      "09.sfs  0.000138  0.000748  261082.026362\n",
      "10.sfs  0.000148  0.000748  282692.929645\n",
      "18.sfs  0.000140  0.000748  280210.286276\n",
      "17.sfs  0.000121  0.000748  217155.800208\n",
      "22.sfs  0.000157  0.000749  233783.665271\n",
      "04.sfs  0.000132  0.000748  245719.773002\n",
      "02.sfs  0.000160  0.000748  215644.247777\n",
      "08.sfs  0.000135  0.000749  227742.575086\n",
      "14.sfs  0.000129  0.000749  248307.378809\n",
      "12.sfs  0.000160  0.000748  196973.533398\n",
      "26.sfs  0.000160  0.000748  266977.640060\n",
      "20.sfs  0.000160  0.000748  302356.390843\n",
      "34.sfs  0.000160  0.000748  192728.044792\n",
      "45.sfs  0.000157  0.000748  265621.485555\n",
      "13.sfs  0.000143  0.000748  250499.684090\n",
      "11.sfs  0.000160  0.000748  241464.270613\n",
      "44.sfs  0.000160  0.000748  211293.332024\n",
      "19.sfs  0.000160  0.000748  199508.117536\n",
      "38.sfs  0.000153  0.000749  245382.323278\n",
      "16.sfs  0.000160  0.000748  300099.575945\n",
      "39.sfs  0.000160  0.000748  221357.532591\n",
      "25.sfs  0.000160  0.000748  281251.636601\n",
      "24.sfs  0.000147  0.000748  266980.608928\n",
      "21.sfs  0.000160  0.000748  238606.665401\n",
      "31.sfs  0.000146  0.000748  261782.697014\n",
      "48.sfs  0.000153  0.000748  256570.832763\n",
      "46.sfs  0.000117  0.000748  228129.607083\n",
      "06.sfs  0.000148  0.000748  259244.306433\n",
      "32.sfs  0.000159  0.000748  277278.628774\n",
      "07.sfs  0.000140  0.000748  255232.417935\n",
      "23.sfs  0.000140  0.000748  246101.361859\n",
      "29.sfs  0.000101  0.000748  260832.782060\n",
      "27.sfs  0.000160  0.000748  203719.907968\n",
      "DONE. Results are saved as csv file (/home/enoskova/Workspace/GADMA_workshop/confidence_intervals/result_table.csv) and as pandas dataframe (/home/enoskova/Workspace/GADMA_workshop/confidence_intervals/result_table.pkl).\n"
     ]
    }
   ],
   "source": [
    "%%bash\n",
    "gadma-run_ls_on_boot_data -b data/boots -d outputs/gadma_outputs/gadma_full_example_run/best_claic_model_moments_code.py\\\n",
    "    -o confidence_intervals --opt log -e moments"
   ]
  },
  {
   "cell_type": "code",
   "execution_count": 199,
   "id": "c097b44b",
   "metadata": {},
   "outputs": [
    {
     "name": "stdout",
     "output_type": "stream",
     "text": [
      ",t1,nu11\n",
      "33.sfs,77.04687994868617,202.48353852809572\n",
      "40.sfs,59.134462312128015,137.88725097973116\n",
      "42.sfs,93.93231822439388,222.35291568906246\n",
      "47.sfs,55.73628211822396,180.28940252840079\n",
      "43.sfs,74.80490399324499,174.42692751627476\n",
      "50.sfs,32.906416224479194,149.6720438292397\n",
      "37.sfs,74.80828112403901,175.0397932043893\n",
      "41.sfs,70.74677112018364,184.50708475376186\n",
      "35.sfs,84.63801467523663,214.19310970490739\n",
      "15.sfs,73.80284496488646,172.0903684382427\n",
      "30.sfs,78.32520410064672,195.1583403677169\n",
      "49.sfs,68.20800251325338,159.04455022739265\n",
      "01.sfs,93.75594941084745,218.61617780542727\n",
      "36.sfs,79.13345905283462,184.5200700687632\n",
      "03.sfs,86.47019995114444,201.62757378256651\n",
      "28.sfs,82.97245968350809,214.34338281008164\n",
      "05.sfs,52.097667472306775,177.69585542402794\n",
      "09.sfs,72.08421193398632,195.4048892180766\n",
      "10.sfs,83.71023502643175,211.57940729903098\n",
      "18.sfs,78.49325959355157,209.72129203162768\n",
      "17.sfs,52.762721751367565,162.52863508120564\n",
      "22.sfs,73.35825982730972,175.1486953088448\n",
      "04.sfs,64.678713225389,183.9071262113029\n",
      "02.sfs,69.21701491957995,161.3973228996316\n",
      "08.sfs,61.54710642357869,170.62276408257208\n",
      "14.sfs,64.27390205515334,186.02973742382673\n",
      "12.sfs,63.22413020782408,147.4233664952678\n",
      "26.sfs,85.69389392824881,199.81741606351792\n",
      "20.sfs,97.04968730573259,226.29637723599518\n",
      "34.sfs,61.86142264096182,144.24586233040222\n",
      "45.sfs,83.20880890093021,198.80241241392036\n",
      "13.sfs,71.57888732251955,187.4846139395901\n",
      "11.sfs,77.50466888815191,180.72212569844092\n",
      "44.sfs,67.82046757982701,158.1409125762322\n",
      "19.sfs,64.03767543284955,149.3203570189114\n",
      "38.sfs,74.96025553260756,183.838309461983\n",
      "16.sfs,96.3252998385355,224.60728102046355\n",
      "39.sfs,71.05085247527477,165.67338814837967\n",
      "25.sfs,89.74462079856544,210.50068191939505\n",
      "24.sfs,78.42096766455965,199.8196385026034\n",
      "21.sfs,76.58744107128786,178.58337246988194\n",
      "31.sfs,76.6366820668704,195.9293002817483\n",
      "48.sfs,78.43031666886996,192.0285191812882\n",
      "46.sfs,53.19374432150248,170.7418993206571\n",
      "06.sfs,76.94111095443262,194.02946074434004\n",
      "32.sfs,88.32980069369037,207.5271139557881\n",
      "07.sfs,71.4385283164567,191.02679336747795\n",
      "23.sfs,68.7552311204874,184.19272280954272\n",
      "29.sfs,52.847915831726674,195.21834826309694\n",
      "27.sfs,65.3895666339458,152.47264003721375\n"
     ]
    }
   ],
   "source": [
    "%%bash\n",
    "python scripts/translate_units.py confidence_intervals/result_table.csv 144.78967\n",
    "cat confidence_intervals/result_table_translated.csv"
   ]
  },
  {
   "cell_type": "code",
   "execution_count": 200,
   "id": "4fa053bb",
   "metadata": {},
   "outputs": [
    {
     "name": "stdout",
     "output_type": "stream",
     "text": [
      "warning in stationary: failed to import cython module: falling back to numpy\n",
      "warning in choleskies: failed to import cython module: falling back to numpy\n",
      "t1:\t48.16871\t97.81839\tdata does not look normal (reject H0) p-value=1.42e-01\n",
      "nu11:\t141.75821\t228.59104\tdata does not look normal (reject H0) p-value=4.75e-01\n"
     ]
    }
   ],
   "source": [
    "%%bash\n",
    "gadma-get_confidence_intervals confidence_intervals/result_table_translated.csv"
   ]
  },
  {
   "cell_type": "markdown",
   "id": "16c9f337",
   "metadata": {},
   "source": [
    "### Another way to evaluate CI's\n",
    "\n",
    "There is a method from [\\[Coffman 2016\\]](https://doi.org/10.1093/molbev/msv255) that also allows to estimate confidence intervals for the parameters.\n",
    "- Estimates ancertancy using Godambe Information Matrix.\n",
    "- Require bootstrap data.\n",
    "- Does NOT require the whole machinery we just used.\n",
    "- However, there is no universal script to use it.\n",
    "- Provides different confidence intervals.\n",
    "\n",
    "Example script for specific model and data could be found [here](https://github.com/pblischak/inbreeding-sfs/blob/master/data/cabbage/run_cabbage_godambe_3epoch_noF.py). You can use it for your model."
   ]
  },
  {
   "cell_type": "markdown",
   "id": "be947a9b",
   "metadata": {},
   "source": [
    "----------\n",
    "## 9. Overview of GONE\n",
    "\n",
    "### What is [GONE](https://github.com/esrud/GONE)?\n",
    "\n",
    "- Estimates effective population size from LD.\n",
    "- Provides the reliable estimates for a maximum of 100 or 200 generations.\n",
    "- Can perform poor if there is population structure in the data.\n",
    "\n",
    "Paper to cite: [\\[Santiago et al. 2020\\]](https://doi.org/10.1093/molbev/msaa169)"
   ]
  },
  {
   "cell_type": "markdown",
   "id": "fe5763d7",
   "metadata": {},
   "source": [
    "--------\n",
    "## 10. Example Run of GONE\n",
    "\n",
    "### Installation\n",
    "\n",
    "Download repository and find directory with scripts for your system (Linux, MacOS). For Windows you can use [Windows Subsystem for Linux](https://learn.microsoft.com/en-us/windows/wsl/about)."
   ]
  },
  {
   "cell_type": "code",
   "execution_count": 33,
   "id": "794aaca4",
   "metadata": {},
   "outputs": [
    {
     "name": "stderr",
     "output_type": "stream",
     "text": [
      "fatal: destination path 'GONE' already exists and is not an empty directory.\n"
     ]
    },
    {
     "ename": "CalledProcessError",
     "evalue": "Command 'b'git clone https://github.com/esrud/GONE.git\\n'' returned non-zero exit status 128.",
     "output_type": "error",
     "traceback": [
      "\u001b[0;31m---------------------------------------------------------------------------\u001b[0m",
      "\u001b[0;31mCalledProcessError\u001b[0m                        Traceback (most recent call last)",
      "Input \u001b[0;32mIn [33]\u001b[0m, in \u001b[0;36m<cell line: 1>\u001b[0;34m()\u001b[0m\n\u001b[0;32m----> 1\u001b[0m \u001b[43mget_ipython\u001b[49m\u001b[43m(\u001b[49m\u001b[43m)\u001b[49m\u001b[38;5;241;43m.\u001b[39;49m\u001b[43mrun_cell_magic\u001b[49m\u001b[43m(\u001b[49m\u001b[38;5;124;43m'\u001b[39;49m\u001b[38;5;124;43mbash\u001b[39;49m\u001b[38;5;124;43m'\u001b[39;49m\u001b[43m,\u001b[49m\u001b[43m \u001b[49m\u001b[38;5;124;43m'\u001b[39;49m\u001b[38;5;124;43m'\u001b[39;49m\u001b[43m,\u001b[49m\u001b[43m \u001b[49m\u001b[38;5;124;43m'\u001b[39;49m\u001b[38;5;124;43mgit clone https://github.com/esrud/GONE.git\u001b[39;49m\u001b[38;5;130;43;01m\\n\u001b[39;49;00m\u001b[38;5;124;43m'\u001b[39;49m\u001b[43m)\u001b[49m\n",
      "File \u001b[0;32m~/.local/lib/python3.8/site-packages/IPython/core/interactiveshell.py:2358\u001b[0m, in \u001b[0;36mInteractiveShell.run_cell_magic\u001b[0;34m(self, magic_name, line, cell)\u001b[0m\n\u001b[1;32m   2356\u001b[0m \u001b[38;5;28;01mwith\u001b[39;00m \u001b[38;5;28mself\u001b[39m\u001b[38;5;241m.\u001b[39mbuiltin_trap:\n\u001b[1;32m   2357\u001b[0m     args \u001b[38;5;241m=\u001b[39m (magic_arg_s, cell)\n\u001b[0;32m-> 2358\u001b[0m     result \u001b[38;5;241m=\u001b[39m \u001b[43mfn\u001b[49m\u001b[43m(\u001b[49m\u001b[38;5;241;43m*\u001b[39;49m\u001b[43margs\u001b[49m\u001b[43m,\u001b[49m\u001b[43m \u001b[49m\u001b[38;5;241;43m*\u001b[39;49m\u001b[38;5;241;43m*\u001b[39;49m\u001b[43mkwargs\u001b[49m\u001b[43m)\u001b[49m\n\u001b[1;32m   2359\u001b[0m \u001b[38;5;28;01mreturn\u001b[39;00m result\n",
      "File \u001b[0;32m~/.local/lib/python3.8/site-packages/IPython/core/magics/script.py:153\u001b[0m, in \u001b[0;36mScriptMagics._make_script_magic.<locals>.named_script_magic\u001b[0;34m(line, cell)\u001b[0m\n\u001b[1;32m    151\u001b[0m \u001b[38;5;28;01melse\u001b[39;00m:\n\u001b[1;32m    152\u001b[0m     line \u001b[38;5;241m=\u001b[39m script\n\u001b[0;32m--> 153\u001b[0m \u001b[38;5;28;01mreturn\u001b[39;00m \u001b[38;5;28;43mself\u001b[39;49m\u001b[38;5;241;43m.\u001b[39;49m\u001b[43mshebang\u001b[49m\u001b[43m(\u001b[49m\u001b[43mline\u001b[49m\u001b[43m,\u001b[49m\u001b[43m \u001b[49m\u001b[43mcell\u001b[49m\u001b[43m)\u001b[49m\n",
      "File \u001b[0;32m~/.local/lib/python3.8/site-packages/IPython/core/magics/script.py:305\u001b[0m, in \u001b[0;36mScriptMagics.shebang\u001b[0;34m(self, line, cell)\u001b[0m\n\u001b[1;32m    300\u001b[0m \u001b[38;5;28;01mif\u001b[39;00m args\u001b[38;5;241m.\u001b[39mraise_error \u001b[38;5;129;01mand\u001b[39;00m p\u001b[38;5;241m.\u001b[39mreturncode \u001b[38;5;241m!=\u001b[39m \u001b[38;5;241m0\u001b[39m:\n\u001b[1;32m    301\u001b[0m     \u001b[38;5;66;03m# If we get here and p.returncode is still None, we must have\u001b[39;00m\n\u001b[1;32m    302\u001b[0m     \u001b[38;5;66;03m# killed it but not yet seen its return code. We don't wait for it,\u001b[39;00m\n\u001b[1;32m    303\u001b[0m     \u001b[38;5;66;03m# in case it's stuck in uninterruptible sleep. -9 = SIGKILL\u001b[39;00m\n\u001b[1;32m    304\u001b[0m     rc \u001b[38;5;241m=\u001b[39m p\u001b[38;5;241m.\u001b[39mreturncode \u001b[38;5;129;01mor\u001b[39;00m \u001b[38;5;241m-\u001b[39m\u001b[38;5;241m9\u001b[39m\n\u001b[0;32m--> 305\u001b[0m     \u001b[38;5;28;01mraise\u001b[39;00m CalledProcessError(rc, cell)\n",
      "\u001b[0;31mCalledProcessError\u001b[0m: Command 'b'git clone https://github.com/esrud/GONE.git\\n'' returned non-zero exit status 128."
     ]
    }
   ],
   "source": [
    "%%bash\n",
    "git clone https://github.com/esrud/GONE.git"
   ]
  },
  {
   "cell_type": "code",
   "execution_count": 148,
   "id": "c17c9bbe",
   "metadata": {},
   "outputs": [
    {
     "name": "stdout",
     "output_type": "stream",
     "text": [
      "CODES_LINUX\n",
      "CODES_MACOSX\n",
      "EXAMPLE\n",
      "GONE TUTORIAL.pdf\n",
      "Linux\n",
      "MacOSX\n",
      "README.md\n",
      "USER´S GUIDE.pdf\n"
     ]
    }
   ],
   "source": [
    "%%bash\n",
    "ls GONE"
   ]
  },
  {
   "cell_type": "markdown",
   "id": "2e2fee21",
   "metadata": {},
   "source": [
    "### Copy the corresponding directory for your analysis"
   ]
  },
  {
   "cell_type": "code",
   "execution_count": 65,
   "id": "aff87b26",
   "metadata": {},
   "outputs": [
    {
     "name": "stdout",
     "output_type": "stream",
     "text": [
      "example.map\n",
      "example.ped\n",
      "INPUT_PARAMETERS_FILE\n",
      "PROGRAMMES\n",
      "script_GONE.sh\n"
     ]
    }
   ],
   "source": [
    "%%bash\n",
    "cp -r GONE/Linux outputs/gone_analysis\n",
    "ls outputs/gone_analysis"
   ]
  },
  {
   "cell_type": "markdown",
   "id": "2dd86fc3",
   "metadata": {},
   "source": [
    "### Add rights for execution for all scripts in your new directory"
   ]
  },
  {
   "cell_type": "code",
   "execution_count": 66,
   "id": "27d27d8f",
   "metadata": {},
   "outputs": [],
   "source": [
    "%%bash\n",
    "chmod +x outputs/gone_analysis/script_GONE.sh\n",
    "chmod +x outputs/gone_analysis/PROGRAMMES/*"
   ]
  },
  {
   "cell_type": "markdown",
   "id": "63b97ad9",
   "metadata": {},
   "source": [
    "### Input files\n",
    "\n",
    "All information about GONE's input files is included in [GONE tutorial](https://github.com/esrud/GONE/blob/master/GONE%20TUTORIAL.pdf).\n",
    "\n",
    "GONE requires:\n",
    "- .map file describing SNP's.\n",
    "- .ped file describing individuals and their alleles.\n",
    "- `INPUT_PARAMETERS_FILE` with options of the run."
   ]
  },
  {
   "cell_type": "code",
   "execution_count": 67,
   "id": "24b205c6",
   "metadata": {},
   "outputs": [
    {
     "name": "stdout",
     "output_type": "stream",
     "text": [
      "#INPUT_PARAMETERS_FILE\n",
      "\n",
      "########################################################\n",
      "\n",
      "PHASE=2 ### Phase = 0 (pseudohaploids), 1 (known phase), 2 (unknown phase)\n",
      "cMMb=1  ### CentiMorgans per Megabase (if distance is not available in map file).\n",
      "DIST=1  ### none (0), Haldane correction (1) or Kosambi correction (2)\n",
      "NGEN=2000 ### Number of generations for which linkage data is obtained in bins\n",
      "NBIN=400  ### Number of bins (e.g. if 400, each bin includes NGEN/NBIN = 2000/400 = 5 generations)\n",
      "MAF=0.0   ### Minor allele frequency (0-1) (recommended 0)\n",
      "ZERO=1    ### 0: Remove SNPs with zeroes (1: allow for them)\n",
      "maxNCHROM=-99  ### Maximum number of chromosomes to be analysed (-99 = all chromosomes; maximum number is 200)\n",
      "maxNSNP=50000 ### Maximum approx number of SNPs per chromosomes to be analysed (maximum number is 50000)\n",
      "hc=0.05   ### Maximum value of c analysed (recommended 0.05; maximum is 0.5)\n",
      "REPS=40   ### Number of replicates to run GONE (recommended 40)\n",
      "threads=-99  ### Number of threads (if -99 it uses all possible processors)\n",
      "\n",
      "###################################################################\n",
      "\n"
     ]
    }
   ],
   "source": [
    "%%bash\n",
    "cat outputs/gone_analysis/INPUT_PARAMETERS_FILE"
   ]
  },
  {
   "cell_type": "markdown",
   "id": "1b9611e3",
   "metadata": {},
   "source": [
    "### Generate `plink` .map and .ped files from your VCF\n",
    "We will use `vcftools` to do that."
   ]
  },
  {
   "cell_type": "code",
   "execution_count": 68,
   "id": "3e0fb21f",
   "metadata": {
    "scrolled": true
   },
   "outputs": [
    {
     "name": "stderr",
     "output_type": "stream",
     "text": [
      "\n",
      "VCFtools - 0.1.17\n",
      "(C) Adam Auton and Anthony Marcketta 2009\n",
      "\n",
      "Parameters as interpreted:\n",
      "\t--vcf data/clouded_leopard_data.vcf\n",
      "\t--chrom-map data/chrommap\n",
      "\t--out outputs/gone_analysis/example\n",
      "\t--plink\n",
      "\n",
      "Warning: Expected at least 2 parts in FORMAT entry: ID=PL,Number=G,Type=Integer,Description=\"Normalized, Phred-scaled likelihoods for genotypes as defined in the VCF specification\">\n",
      "Warning: Expected at least 2 parts in INFO entry: ID=AF,Number=A,Type=Float,Description=\"Allele Frequency, for each ALT allele, in the same order as listed\">\n",
      "Warning: Expected at least 2 parts in INFO entry: ID=AF,Number=A,Type=Float,Description=\"Allele Frequency, for each ALT allele, in the same order as listed\">\n",
      "Warning: Expected at least 2 parts in INFO entry: ID=MLEAC,Number=A,Type=Integer,Description=\"Maximum likelihood expectation (MLE) for the allele counts (not necessarily the same as the AC), for each ALT allele, in the same order as listed\">\n",
      "Warning: Expected at least 2 parts in INFO entry: ID=MLEAC,Number=A,Type=Integer,Description=\"Maximum likelihood expectation (MLE) for the allele counts (not necessarily the same as the AC), for each ALT allele, in the same order as listed\">\n",
      "Warning: Expected at least 2 parts in INFO entry: ID=MLEAF,Number=A,Type=Float,Description=\"Maximum likelihood expectation (MLE) for the allele frequency (not necessarily the same as the AF), for each ALT allele, in the same order as listed\">\n",
      "Warning: Expected at least 2 parts in INFO entry: ID=MLEAF,Number=A,Type=Float,Description=\"Maximum likelihood expectation (MLE) for the allele frequency (not necessarily the same as the AF), for each ALT allele, in the same order as listed\">\n",
      "Warning: Expected at least 2 parts in INFO entry: ID=SF,Number=.,Type=String,Description=\"Source File (index to sourceFiles, f when filtered)\">\n",
      "After filtering, kept 5 out of 5 Individuals\n",
      "Writing PLINK PED and MAP files ... \n",
      "\tRead 19 chromosome mapping file entries.\n",
      "\tPLINK: Only outputting biallelic loci.\n",
      "Done.\n",
      "After filtering, kept 4323332 out of a possible 4323332 Sites\n",
      "Run Time = 14.00 seconds\n"
     ]
    }
   ],
   "source": [
    "%%bash\n",
    "vcftools --vcf data/clouded_leopard_data.vcf --out outputs/gone_analysis/example --plink --chrom-map data/chrommap"
   ]
  },
  {
   "cell_type": "markdown",
   "id": "3902455a",
   "metadata": {},
   "source": [
    "Unfortunately, GONE requeres phenotype information to be set to \"-9\" in ped file. To set this value use `scripts/fix_ped_file.py` script. It will create new .ped file with suffix `_fixed.ped` at the same directory. We just need to replace our original file with the new one to use GONE."
   ]
  },
  {
   "cell_type": "code",
   "execution_count": 69,
   "id": "b8b5b3bd",
   "metadata": {
    "scrolled": false
   },
   "outputs": [],
   "source": [
    "%%bash\n",
    "python scripts/fix_ped_file.py outputs/gone_analysis/example.ped\n",
    "# Replace our original file with outputs/gone_analysis/example_fixed.ped \n",
    "mv outputs/gone_analysis/example_fixed.ped outputs/gone_analysis/example.ped"
   ]
  },
  {
   "cell_type": "markdown",
   "id": "922d7bec",
   "metadata": {},
   "source": [
    "### Run GONE"
   ]
  },
  {
   "cell_type": "code",
   "execution_count": 70,
   "id": "4a383674",
   "metadata": {},
   "outputs": [
    {
     "name": "stdout",
     "output_type": "stream",
     "text": [
      "DIVIDE .ped AND .map FILES IN CHROMOSOMES\n"
     ]
    },
    {
     "name": "stderr",
     "output_type": "stream",
     "text": [
      "./script_GONE.sh: line 99: 580296 Segmentation fault      (core dumped) ./PROGRAMMES/MANAGE_CHROMOSOMES2 >> out <<@\n",
      "-99\n",
      "$maxNSNP\n",
      "@\n",
      "\n"
     ]
    },
    {
     "name": "stdout",
     "output_type": "stream",
     "text": [
      "RUNNING ANALYSIS OF CHROMOSOMES ...\n",
      "CHROMOSOME ANALYSES took 12 seconds\n",
      "Running GONE\n",
      "  Start of processing: outfileLD_TEMP/outfileLD_1\n",
      "  Start of processing: outfileLD_TEMP/outfileLD_2\n",
      "  Start of processing: outfileLD_TEMP/outfileLD_3\n",
      "  Start of processing: outfileLD_TEMP/outfileLD_4\n",
      "  Start of processing: outfileLD_TEMP/outfileLD_6\n",
      "  Start of processing: outfileLD_TEMP/outfileLD_7\n",
      "  Start of processing: outfileLD_TEMP/outfileLD_5\n",
      "  Start of processing: outfileLD_TEMP/outfileLD_8\n",
      "  End of processing: outfileLD_TEMP/outfileLD_4\n",
      "  Start of processing: outfileLD_TEMP/outfileLD_9\n",
      "  End of processing: outfileLD_TEMP/outfileLD_2\n",
      "  Start of processing: outfileLD_TEMP/outfileLD_10\n",
      "  End of processing: outfileLD_TEMP/outfileLD_1\n",
      "  Start of processing: outfileLD_TEMP/outfileLD_11\n",
      "  End of processing: outfileLD_TEMP/outfileLD_7\n",
      "  Start of processing: outfileLD_TEMP/outfileLD_12\n",
      "  End of processing: outfileLD_TEMP/outfileLD_8\n",
      "  Start of processing: outfileLD_TEMP/outfileLD_13\n",
      "  End of processing: outfileLD_TEMP/outfileLD_5\n",
      "  Start of processing: outfileLD_TEMP/outfileLD_14\n",
      "  End of processing: outfileLD_TEMP/outfileLD_3\n",
      "  Start of processing: outfileLD_TEMP/outfileLD_15\n",
      "  End of processing: outfileLD_TEMP/outfileLD_6\n",
      "  Start of processing: outfileLD_TEMP/outfileLD_16\n",
      "  End of processing: outfileLD_TEMP/outfileLD_9\n",
      "  Start of processing: outfileLD_TEMP/outfileLD_17\n",
      "  End of processing: outfileLD_TEMP/outfileLD_13\n",
      "  Start of processing: outfileLD_TEMP/outfileLD_18\n",
      "  End of processing: outfileLD_TEMP/outfileLD_10\n",
      "  Start of processing: outfileLD_TEMP/outfileLD_19\n",
      "  End of processing: outfileLD_TEMP/outfileLD_16\n",
      "  Start of processing: outfileLD_TEMP/outfileLD_20\n",
      "  End of processing: outfileLD_TEMP/outfileLD_12\n",
      "  Start of processing: outfileLD_TEMP/outfileLD_21\n",
      "  End of processing: outfileLD_TEMP/outfileLD_11\n",
      "  Start of processing: outfileLD_TEMP/outfileLD_22\n",
      "  End of processing: outfileLD_TEMP/outfileLD_15\n",
      "  Start of processing: outfileLD_TEMP/outfileLD_23\n",
      "  End of processing: outfileLD_TEMP/outfileLD_14\n",
      "  Start of processing: outfileLD_TEMP/outfileLD_24\n",
      "  End of processing: outfileLD_TEMP/outfileLD_17\n",
      "  Start of processing: outfileLD_TEMP/outfileLD_25\n",
      "  End of processing: outfileLD_TEMP/outfileLD_20\n",
      "  Start of processing: outfileLD_TEMP/outfileLD_26\n",
      "  End of processing: outfileLD_TEMP/outfileLD_23\n",
      "  Start of processing: outfileLD_TEMP/outfileLD_27\n",
      "  End of processing: outfileLD_TEMP/outfileLD_22\n",
      "  Start of processing: outfileLD_TEMP/outfileLD_28\n",
      "  End of processing: outfileLD_TEMP/outfileLD_18\n",
      "  Start of processing: outfileLD_TEMP/outfileLD_29\n",
      "  End of processing: outfileLD_TEMP/outfileLD_19\n",
      "  Start of processing: outfileLD_TEMP/outfileLD_30\n",
      "  End of processing: outfileLD_TEMP/outfileLD_21\n",
      "  Start of processing: outfileLD_TEMP/outfileLD_31\n",
      "  End of processing: outfileLD_TEMP/outfileLD_24\n",
      "  Start of processing: outfileLD_TEMP/outfileLD_32\n",
      "  End of processing: outfileLD_TEMP/outfileLD_26\n",
      "  Start of processing: outfileLD_TEMP/outfileLD_33\n",
      "  End of processing: outfileLD_TEMP/outfileLD_27\n",
      "  Start of processing: outfileLD_TEMP/outfileLD_34\n",
      "  End of processing: outfileLD_TEMP/outfileLD_28\n",
      "  Start of processing: outfileLD_TEMP/outfileLD_35\n",
      "  End of processing: outfileLD_TEMP/outfileLD_25\n",
      "  Start of processing: outfileLD_TEMP/outfileLD_36\n",
      "  End of processing: outfileLD_TEMP/outfileLD_29\n",
      "  Start of processing: outfileLD_TEMP/outfileLD_37\n",
      "  End of processing: outfileLD_TEMP/outfileLD_31\n",
      "  Start of processing: outfileLD_TEMP/outfileLD_38\n",
      "  End of processing: outfileLD_TEMP/outfileLD_30\n",
      "  Start of processing: outfileLD_TEMP/outfileLD_39\n",
      "  End of processing: outfileLD_TEMP/outfileLD_32\n",
      "  Start of processing: outfileLD_TEMP/outfileLD_40\n",
      "  End of processing: outfileLD_TEMP/outfileLD_33\n",
      "  End of processing: outfileLD_TEMP/outfileLD_34\n",
      "  End of processing: outfileLD_TEMP/outfileLD_37\n",
      "  End of processing: outfileLD_TEMP/outfileLD_35\n",
      "  End of processing: outfileLD_TEMP/outfileLD_36\n",
      "  End of processing: outfileLD_TEMP/outfileLD_38\n",
      "  End of processing: outfileLD_TEMP/outfileLD_39\n",
      "  End of processing: outfileLD_TEMP/outfileLD_40\n",
      " END OF ALL PROCESSES\n",
      "GONE run took 57 seconds\n",
      "END OF ANALYSES\n"
     ]
    }
   ],
   "source": [
    "%%bash\n",
    "cd outputs/gone_analysis/\n",
    "./script_GONE.sh example"
   ]
  },
  {
   "cell_type": "markdown",
   "id": "629fd268",
   "metadata": {},
   "source": [
    "### Output\n",
    "\n",
    "We are interested in estimated population sizes. It is located in `Output_Ne_example` file."
   ]
  },
  {
   "cell_type": "code",
   "execution_count": 149,
   "id": "c1107fef",
   "metadata": {},
   "outputs": [
    {
     "name": "stdout",
     "output_type": "stream",
     "text": [
      "example.map\n",
      "example.ped\n",
      "INPUT_PARAMETERS_FILE\n",
      "outfileHWD\n",
      "Output_d2_example\n",
      "OUTPUT_example\n",
      "Output_Ne_example\n",
      "PROGRAMMES\n",
      "script_GONE.sh\n",
      "seedfile\n",
      "TEMPORARY_FILES\n",
      "timefile\n"
     ]
    }
   ],
   "source": [
    "%%bash\n",
    "ls outputs/gone_analysis/"
   ]
  },
  {
   "cell_type": "code",
   "execution_count": 150,
   "id": "6143a739",
   "metadata": {},
   "outputs": [
    {
     "name": "stdout",
     "output_type": "stream",
     "text": [
      "Ne averages over 40 independent estimates.\n",
      "Generation\tGeometric_mean\n",
      "1\t2.55419\n",
      "2\t2.55419\n",
      "3\t2.55419\n",
      "4\t2.55419\n",
      "5\t2.55419\n",
      "6\t2.55419\n",
      "7\t383594\n",
      "8\t2.62335e+06\n",
      "9\t2.62335e+06\n",
      "10\t2.62335e+06\n",
      "11\t2.82058e+06\n",
      "12\t2.89063e+06\n",
      "13\t2.90527e+06\n",
      "14\t2.91377e+06\n",
      "15\t2.95388e+06\n",
      "16\t3.07122e+06\n",
      "17\t3.11443e+06\n",
      "18\t3.10283e+06\n",
      "19\t3.13024e+06\n",
      "20\t3.08999e+06\n",
      "21\t3.06231e+06\n",
      "22\t3.03624e+06\n",
      "23\t3.03931e+06\n",
      "24\t3.07323e+06\n",
      "25\t3.11842e+06\n",
      "26\t3.11065e+06\n",
      "27\t3.12265e+06\n",
      "28\t3.15054e+06\n",
      "29\t3.19744e+06\n",
      "30\t3.18926e+06\n",
      "31\t3.1625e+06\n",
      "32\t3.18836e+06\n",
      "33\t3.19908e+06\n",
      "34\t3.17274e+06\n",
      "35\t3.15769e+06\n",
      "36\t3.16226e+06\n",
      "37\t3.17318e+06\n",
      "38\t3.1948e+06\n",
      "39\t3.17738e+06\n",
      "40\t3.18706e+06\n",
      "41\t3.18618e+06\n",
      "42\t3.1991e+06\n",
      "43\t3.21655e+06\n",
      "44\t3.21052e+06\n",
      "45\t3.21207e+06\n",
      "46\t3.18518e+06\n",
      "47\t3.18186e+06\n",
      "48\t3.14724e+06\n",
      "49\t3.1099e+06\n",
      "50\t3.08832e+06\n",
      "51\t3.04744e+06\n",
      "52\t3.05233e+06\n",
      "53\t3.05368e+06\n",
      "54\t3.04757e+06\n",
      "55\t3.10049e+06\n",
      "56\t3.153e+06\n",
      "57\t3.16806e+06\n",
      "58\t3.16814e+06\n",
      "59\t3.18987e+06\n",
      "60\t3.22676e+06\n",
      "61\t3.23529e+06\n",
      "62\t3.23945e+06\n",
      "63\t3.27085e+06\n",
      "64\t3.25299e+06\n",
      "65\t3.22377e+06\n",
      "66\t3.24767e+06\n",
      "67\t3.23947e+06\n",
      "68\t3.26017e+06\n",
      "69\t3.28048e+06\n",
      "70\t3.26441e+06\n",
      "71\t3.26757e+06\n",
      "72\t3.25131e+06\n",
      "73\t3.24168e+06\n",
      "74\t3.23983e+06\n",
      "75\t3.25563e+06\n",
      "76\t3.30018e+06\n",
      "77\t3.30547e+06\n",
      "78\t3.30991e+06\n",
      "79\t3.30666e+06\n",
      "80\t3.26994e+06\n",
      "81\t3.24748e+06\n",
      "82\t3.22353e+06\n",
      "83\t3.2297e+06\n",
      "84\t3.24302e+06\n",
      "85\t3.26523e+06\n",
      "86\t3.24447e+06\n",
      "87\t3.25172e+06\n",
      "88\t3.26842e+06\n",
      "89\t3.26992e+06\n",
      "90\t3.24254e+06\n",
      "91\t3.23769e+06\n",
      "92\t3.26588e+06\n",
      "93\t3.26184e+06\n",
      "94\t3.28594e+06\n",
      "95\t3.2333e+06\n",
      "96\t3.184e+06\n",
      "97\t3.10525e+06\n",
      "98\t3.07999e+06\n",
      "99\t3.07467e+06\n",
      "100\t3.0709e+06\n",
      "101\t3.11184e+06\n",
      "102\t3.1495e+06\n",
      "103\t3.14028e+06\n",
      "104\t3.16726e+06\n",
      "105\t3.16562e+06\n",
      "106\t3.15064e+06\n",
      "107\t3.15261e+06\n",
      "108\t3.1414e+06\n",
      "109\t3.09693e+06\n",
      "110\t3.02854e+06\n",
      "111\t3.01265e+06\n",
      "112\t3.0097e+06\n",
      "113\t3.00884e+06\n",
      "114\t3.05456e+06\n",
      "115\t3.07551e+06\n",
      "116\t3.07721e+06\n",
      "117\t3.10066e+06\n",
      "118\t3.12748e+06\n",
      "119\t3.14331e+06\n",
      "120\t3.15903e+06\n",
      "121\t3.162e+06\n",
      "122\t3.16944e+06\n",
      "123\t3.16592e+06\n",
      "124\t3.15422e+06\n",
      "125\t3.16237e+06\n",
      "126\t3.15445e+06\n",
      "127\t3.15725e+06\n",
      "128\t3.16448e+06\n",
      "129\t3.2207e+06\n",
      "130\t3.23299e+06\n",
      "131\t3.25742e+06\n",
      "132\t3.28159e+06\n",
      "133\t3.28023e+06\n",
      "134\t3.27839e+06\n",
      "135\t3.27414e+06\n",
      "136\t3.24266e+06\n",
      "137\t3.22824e+06\n",
      "138\t3.21646e+06\n",
      "139\t3.14797e+06\n",
      "140\t3.07058e+06\n",
      "141\t3.0604e+06\n",
      "142\t3.07015e+06\n",
      "143\t3.07004e+06\n",
      "144\t3.08856e+06\n",
      "145\t3.09186e+06\n",
      "146\t3.11954e+06\n",
      "147\t3.13718e+06\n",
      "148\t3.13288e+06\n",
      "149\t3.11076e+06\n",
      "150\t3.09853e+06\n",
      "151\t3.11852e+06\n",
      "152\t3.12467e+06\n",
      "153\t3.15579e+06\n",
      "154\t3.19297e+06\n",
      "155\t3.22532e+06\n",
      "156\t3.2269e+06\n",
      "157\t3.22632e+06\n",
      "158\t3.22405e+06\n",
      "159\t3.2021e+06\n",
      "160\t3.18655e+06\n",
      "161\t3.1395e+06\n",
      "162\t3.10829e+06\n",
      "163\t3.0278e+06\n",
      "164\t2.97885e+06\n",
      "165\t2.94893e+06\n",
      "166\t2.93682e+06\n",
      "167\t2.94412e+06\n",
      "168\t2.95221e+06\n",
      "169\t2.98413e+06\n",
      "170\t3.0129e+06\n",
      "171\t3.01933e+06\n",
      "172\t3.03322e+06\n",
      "173\t3.02922e+06\n",
      "174\t3.04149e+06\n",
      "175\t3.05889e+06\n",
      "176\t3.07637e+06\n",
      "177\t3.04717e+06\n",
      "178\t3.01404e+06\n",
      "179\t2.97893e+06\n",
      "180\t2.86321e+06\n",
      "181\t2.78136e+06\n",
      "182\t2.70996e+06\n",
      "183\t2.66775e+06\n",
      "184\t2.64732e+06\n",
      "185\t2.64874e+06\n",
      "186\t2.68696e+06\n",
      "187\t2.7271e+06\n",
      "188\t2.7428e+06\n",
      "189\t2.75116e+06\n",
      "190\t2.74651e+06\n",
      "191\t2.76936e+06\n",
      "192\t2.78418e+06\n",
      "193\t2.77769e+06\n",
      "194\t2.76966e+06\n",
      "195\t2.70011e+06\n",
      "196\t2.64089e+06\n",
      "197\t2.60247e+06\n",
      "198\t2.58003e+06\n",
      "199\t2.57482e+06\n",
      "200\t2.57995e+06\n",
      "201\t2.57859e+06\n",
      "202\t2.56731e+06\n",
      "203\t2.50201e+06\n",
      "204\t2.49997e+06\n",
      "205\t2.45027e+06\n",
      "206\t2.44073e+06\n",
      "207\t2.42157e+06\n",
      "208\t2.4136e+06\n",
      "209\t2.39751e+06\n",
      "210\t2.38938e+06\n",
      "211\t2.36637e+06\n",
      "212\t2.3671e+06\n",
      "213\t2.35119e+06\n",
      "214\t2.26525e+06\n",
      "215\t2.17049e+06\n",
      "216\t2.14532e+06\n",
      "217\t2.1517e+06\n",
      "218\t2.18054e+06\n",
      "219\t2.20058e+06\n",
      "220\t2.22184e+06\n",
      "221\t2.23019e+06\n",
      "222\t2.21971e+06\n",
      "223\t2.20935e+06\n",
      "224\t2.22135e+06\n",
      "225\t2.2278e+06\n",
      "226\t2.23252e+06\n",
      "227\t2.22304e+06\n",
      "228\t2.199e+06\n",
      "229\t2.18709e+06\n",
      "230\t2.1644e+06\n",
      "231\t2.15562e+06\n",
      "232\t2.16301e+06\n",
      "233\t2.16868e+06\n",
      "234\t2.1714e+06\n",
      "235\t2.1726e+06\n",
      "236\t2.17163e+06\n",
      "237\t2.17115e+06\n",
      "238\t2.17312e+06\n",
      "239\t2.14609e+06\n",
      "240\t2.07282e+06\n",
      "241\t2.04544e+06\n",
      "242\t2.04194e+06\n",
      "243\t2.03624e+06\n",
      "244\t2.01242e+06\n",
      "245\t1.99034e+06\n",
      "246\t1.97673e+06\n",
      "247\t1.94466e+06\n",
      "248\t1.91261e+06\n",
      "249\t1.91371e+06\n",
      "250\t1.91294e+06\n",
      "251\t1.91621e+06\n",
      "252\t1.9164e+06\n",
      "253\t1.91965e+06\n",
      "254\t1.9185e+06\n",
      "255\t1.90517e+06\n",
      "256\t1.86598e+06\n",
      "257\t1.84136e+06\n",
      "258\t1.81492e+06\n",
      "259\t1.79757e+06\n",
      "260\t1.79751e+06\n",
      "261\t1.80059e+06\n",
      "262\t1.76966e+06\n",
      "263\t1.02262e+06\n",
      "264\t1.02306e+06\n",
      "265\t1.02354e+06\n",
      "266\t1.02373e+06\n",
      "267\t570498\n",
      "268\t570553\n",
      "269\t571230\n",
      "270\t571305\n",
      "271\t318069\n",
      "272\t318185\n",
      "273\t318423\n",
      "274\t318536\n",
      "275\t318454\n",
      "276\t318278\n",
      "277\t317238\n",
      "278\t314202\n",
      "279\t313215\n",
      "280\t311351\n",
      "281\t308538\n",
      "282\t308489\n",
      "283\t308486\n",
      "284\t308414\n",
      "285\t306592\n",
      "286\t303169\n",
      "287\t291979\n",
      "288\t292013\n",
      "289\t292818\n",
      "290\t293360\n",
      "291\t294225\n",
      "292\t294783\n",
      "293\t295282\n",
      "294\t295496\n",
      "295\t295472\n",
      "296\t295906\n",
      "297\t296067\n",
      "298\t296135\n",
      "299\t296181\n",
      "300\t295527\n",
      "301\t295200\n",
      "302\t294572\n",
      "303\t294260\n",
      "304\t293018\n",
      "305\t292948\n",
      "306\t290841\n",
      "307\t287536\n",
      "308\t287357\n",
      "309\t283795\n",
      "310\t281484\n",
      "311\t281448\n",
      "312\t281437\n",
      "313\t281417\n",
      "314\t281330\n",
      "315\t281243\n",
      "316\t281069\n",
      "317\t280921\n",
      "318\t280700\n",
      "319\t280051\n",
      "320\t279793\n",
      "321\t279079\n",
      "322\t278883\n",
      "323\t278734\n",
      "324\t279011\n",
      "325\t278653\n",
      "326\t278686\n",
      "327\t278882\n",
      "328\t278882\n",
      "329\t279373\n",
      "330\t279328\n",
      "331\t277761\n",
      "332\t275980\n",
      "333\t274397\n",
      "334\t265723\n",
      "335\t264062\n",
      "336\t262742\n",
      "337\t263026\n",
      "338\t263844\n",
      "339\t264677\n",
      "340\t265034\n",
      "341\t265113\n",
      "342\t265261\n",
      "343\t265286\n",
      "344\t265283\n",
      "345\t260139\n",
      "346\t256748\n",
      "347\t254506\n",
      "348\t253834\n",
      "349\t248943\n",
      "350\t248287\n",
      "351\t246879\n",
      "352\t246879\n",
      "353\t246799\n",
      "354\t246732\n",
      "355\t246816\n",
      "356\t246748\n",
      "357\t246679\n",
      "358\t246457\n",
      "359\t246408\n",
      "360\t246408\n",
      "361\t246408\n",
      "362\t246408\n",
      "363\t246408\n",
      "364\t246408\n",
      "365\t245845\n",
      "366\t245246\n",
      "367\t235920\n",
      "368\t225252\n",
      "369\t222363\n",
      "370\t217262\n",
      "371\t216461\n",
      "372\t215344\n",
      "373\t215048\n",
      "374\t214298\n",
      "375\t214340\n",
      "376\t213535\n",
      "377\t211960\n",
      "378\t211506\n",
      "379\t210466\n",
      "380\t208237\n",
      "381\t204784\n",
      "382\t203110\n",
      "383\t202537\n",
      "384\t202477\n",
      "385\t202088\n",
      "386\t201731\n",
      "387\t200774\n",
      "388\t200112\n",
      "389\t199546\n",
      "390\t200119\n",
      "391\t200724\n",
      "392\t195172\n",
      "393\t182347\n",
      "394\t182341\n",
      "395\t182566\n",
      "396\t182623\n",
      "397\t178155\n",
      "398\t177447\n",
      "399\t175218\n",
      "400\t175218\n",
      "401\t171861\n",
      "402\t168560\n",
      "403\t166956\n",
      "404\t163758\n",
      "405\t158906\n",
      "406\t158747\n",
      "407\t158412\n",
      "408\t158412\n",
      "409\t158202\n",
      "410\t157878\n",
      "411\t157562\n",
      "412\t157416\n",
      "413\t157249\n",
      "414\t157249\n",
      "415\t155870\n",
      "416\t154749\n",
      "417\t152666\n",
      "418\t148040\n",
      "419\t140048\n",
      "420\t138445\n",
      "421\t138445\n",
      "422\t138445\n",
      "423\t133203\n",
      "424\t125628\n",
      "425\t125628\n",
      "426\t125628\n",
      "427\t125628\n",
      "428\t125628\n",
      "429\t125628\n",
      "430\t114058\n",
      "431\t111370\n",
      "432\t109694\n",
      "433\t108665\n",
      "434\t108578\n",
      "435\t108134\n",
      "436\t107968\n",
      "437\t98849.2\n",
      "438\t97888.5\n",
      "439\t97888.5\n",
      "440\t97888.5\n",
      "441\t97888.5\n",
      "442\t93876.1\n",
      "443\t91270.9\n",
      "444\t91270.9\n",
      "445\t91270.9\n",
      "446\t82817.7\n",
      "447\t82817.7\n",
      "448\t82817.7\n",
      "449\t82817.7\n",
      "450\t82817.7\n",
      "451\t82817.7\n",
      "452\t82817.7\n",
      "453\t82817.7\n",
      "454\t82817.7\n",
      "455\t82817.7\n",
      "456\t82817.7\n",
      "457\t82817.7\n",
      "458\t82817.7\n",
      "459\t82817.7\n",
      "460\t82817.7\n",
      "461\t82817.7\n",
      "462\t82817.7\n",
      "463\t82817.7\n",
      "464\t82817.7\n",
      "465\t82817.7\n",
      "466\t82817.7\n",
      "467\t82817.7\n",
      "468\t82817.7\n",
      "469\t82817.7\n",
      "470\t82016.7\n",
      "471\t78113.9\n",
      "472\t75126\n",
      "473\t75126\n",
      "474\t75126\n",
      "475\t75126\n",
      "476\t75126\n",
      "477\t75126\n",
      "478\t75126\n",
      "479\t75126\n",
      "480\t75126\n",
      "481\t75126\n",
      "482\t75126\n",
      "483\t75126\n",
      "484\t75126\n",
      "485\t74409.2\n",
      "486\t72295.2\n",
      "487\t68240.3\n",
      "488\t68240.3\n",
      "489\t68240.3\n",
      "490\t68240.3\n",
      "491\t68240.3\n",
      "492\t68240.3\n",
      "493\t68240.3\n",
      "494\t68240.3\n",
      "495\t68240.3\n",
      "496\t68240.3\n",
      "497\t68240.3\n",
      "498\t67589.5\n",
      "499\t66299.7\n",
      "500\t63177.4\n",
      "501\t61961.9\n",
      "502\t61961.9\n",
      "503\t61961.9\n",
      "504\t61961.9\n",
      "505\t61961.9\n",
      "506\t61961.9\n",
      "507\t61961.9\n",
      "508\t61961.9\n",
      "509\t61961.9\n",
      "510\t61961.9\n",
      "511\t61961.9\n",
      "512\t61961.9\n",
      "513\t61961.9\n",
      "514\t61961.9\n",
      "515\t61961.9\n",
      "516\t61961.9\n",
      "517\t61961.9\n",
      "518\t61961.9\n",
      "519\t61961.9\n",
      "520\t61961.9\n",
      "521\t61961.9\n",
      "522\t61961.9\n",
      "523\t61961.9\n",
      "524\t61961.9\n",
      "525\t60187.2\n",
      "526\t56224.4\n",
      "527\t56224.4\n",
      "528\t56224.4\n",
      "529\t56224.4\n",
      "530\t19214.6\n",
      "531\t19214.6\n",
      "532\t19214.6\n",
      "533\t19214.6\n",
      "534\t3651.58\n",
      "535\t3651.58\n",
      "536\t3651.58\n",
      "537\t3651.58\n",
      "538\t3365.87\n"
     ]
    }
   ],
   "source": [
    "%%bash\n",
    "cat outputs/gone_analysis/Output_Ne_example"
   ]
  },
  {
   "cell_type": "markdown",
   "id": "617bd3da",
   "metadata": {},
   "source": [
    "### Drawing our history\n",
    "\n",
    "To draw results from `outputs/gone_analysis/Output_Ne_example` use `scripts/draw_gone_Ne_results.py` script. We will use Python to show result in this notebook:"
   ]
  },
  {
   "cell_type": "code",
   "execution_count": 160,
   "id": "602f368e",
   "metadata": {},
   "outputs": [
    {
     "name": "stderr",
     "output_type": "stream",
     "text": [
      "WARNING:matplotlib.font_manager:findfont: Font family ['sans-serif'] not found. Falling back to DejaVu Sans.\n",
      "WARNING:matplotlib.font_manager:findfont: Generic family 'sans-serif' not found because none of the following families were found: Helvetica\n",
      "WARNING:matplotlib.font_manager:findfont: Font family ['sans-serif'] not found. Falling back to DejaVu Sans.\n",
      "WARNING:matplotlib.font_manager:findfont: Generic family 'sans-serif' not found because none of the following families were found: Helvetica\n"
     ]
    },
    {
     "data": {
      "image/png": "[encoded data removed]",
      "text/plain": [
       "<Figure size 360x144 with 1 Axes>"
      ]
     },
     "metadata": {
      "needs_background": "light"
     },
     "output_type": "display_data"
    }
   ],
   "source": [
    "from scripts.draw_gone_Ne_results import draw_Ne_result\n",
    "draw_Ne_result(\"outputs/gone_analysis/Output_Ne_example\")"
   ]
  },
  {
   "cell_type": "markdown",
   "id": "dd9205b2",
   "metadata": {},
   "source": [
    "However, script could be run from command line:"
   ]
  },
  {
   "cell_type": "code",
   "execution_count": 157,
   "id": "f8db74ca",
   "metadata": {},
   "outputs": [
    {
     "name": "stdout",
     "output_type": "stream",
     "text": [
      "Figure(500x200)\n"
     ]
    }
   ],
   "source": [
    "%%bash\n",
    "python scripts/draw_gone_Ne_results.py outputs/gone_analysis/Output_Ne_example"
   ]
  },
  {
   "cell_type": "code",
   "execution_count": null,
   "id": "825189da",
   "metadata": {},
   "outputs": [],
   "source": []
  }
 ],
 "metadata": {
  "kernelspec": {
   "display_name": "Python 3 (ipykernel)",
   "language": "python",
   "name": "python3"
  },
  "language_info": {
   "codemirror_mode": {
    "name": "ipython",
    "version": 3
   },
   "file_extension": ".py",
   "mimetype": "text/x-python",
   "name": "python",
   "nbconvert_exporter": "python",
   "pygments_lexer": "ipython3",
   "version": "3.8.16"
  }
 },
 "nbformat": 4,
 "nbformat_minor": 5
}
