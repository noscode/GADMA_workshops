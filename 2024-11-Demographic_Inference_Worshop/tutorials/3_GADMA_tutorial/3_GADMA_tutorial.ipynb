{
 "cells": [
  {
   "cell_type": "markdown",
   "id": "c59f50b6",
   "metadata": {},
   "source": [
    "# GADMA Tutorial\n",
    "\n",
    "## Outline\n",
    "1. Our Dataset\n",
    "2. Overview of GADMA\n",
    "3. Example Run of GADMA\n",
    "4. Hands On\n",
    "\n",
    "## Getting Help after Tutorial\n",
    "- Contact: [enoskova.me](http://enoskova.me)\n",
    "- Feel free to send me [email](mailto:ekaterina.e.noskova@gmail.com)\n",
    "- [Getting help for GADMA](https://github.com/ctlab/GADMA#getting-help)"
   ]
  },
  {
   "cell_type": "markdown",
   "id": "005b6417",
   "metadata": {},
   "source": [
    "## 1.  Our Dataset\n",
    "\n",
    "We have a dataset for clouded leopards (*Neofelis nebulosa*). We have data for 5 diploid individuals (10 samples).\n",
    "\n",
    "All the data is available in the `data` folder:"
   ]
  },
  {
   "cell_type": "code",
   "execution_count": null,
   "id": "4256f232",
   "metadata": {},
   "outputs": [],
   "source": [
    "%%bash\n",
    "tar -xvzf data.tar.qz\n",
    "ls data"
   ]
  },
  {
   "cell_type": "markdown",
   "id": "1c8536cc",
   "metadata": {},
   "source": [
    "- File `data/clouded_leopard_data.vcf` is our VCF file for all 5 individuals (X chromosome is excluded):"
   ]
  },
  {
   "cell_type": "code",
   "execution_count": null,
   "id": "ea4436e1",
   "metadata": {},
   "outputs": [],
   "source": [
    "%%bash\n",
    "# First five lines\n",
    "head -10 data/clouded_leopard_data.vcf"
   ]
  },
  {
   "cell_type": "code",
   "execution_count": null,
   "id": "df38e4fa",
   "metadata": {},
   "outputs": [],
   "source": [
    "%%bash\n",
    "# Our contigs\n",
    "head -7 data/clouded_leopard_data.vcf | tail -4"
   ]
  },
  {
   "cell_type": "code",
   "execution_count": null,
   "id": "d0767964",
   "metadata": {},
   "outputs": [],
   "source": [
    "%%bash\n",
    "# The header line of the VCF file (we take first 84 lines of file and then show the last one)\n",
    "head -9 data/clouded_leopard_data.vcf | tail -1"
   ]
  },
  {
   "cell_type": "markdown",
   "id": "844d6cb6",
   "metadata": {},
   "source": [
    "- File `data/popmap` provides population assignments per individual (all our individuals are from the same population that is marked as `NN`):"
   ]
  },
  {
   "cell_type": "code",
   "execution_count": null,
   "id": "39bbbe79",
   "metadata": {},
   "outputs": [],
   "source": [
    "%%bash\n",
    "cat data/popmap"
   ]
  },
  {
   "cell_type": "markdown",
   "id": "af953b3c-0864-4b16-a8ad-c8f47b2e4b4d",
   "metadata": {},
   "source": [
    "- The length of the given sequence is equal to $118{,}000{,}000$ bp.\n",
    "\n",
    "We will also use the following values associated with our species of interest [\\[Bursell et al. 2022\\]](https://doi.org/10.1016/j.isci.2022.105647):\n",
    "- Generation time 7 years\n",
    "- Mutation rate of $2.22 \\times 10^{-9}$ per base pair per year = $1.554 \\times 10^{-8}$ per base pair per **generation**\n",
    "- Recombination rate of $1$ cM/Mb"
   ]
  },
  {
   "cell_type": "markdown",
   "id": "45c6c133",
   "metadata": {},
   "source": [
    "## Run easySFS to build SFS"
   ]
  },
  {
   "cell_type": "code",
   "execution_count": null,
   "id": "4378d8ac",
   "metadata": {},
   "outputs": [],
   "source": [
    "%%bash\n",
    "#../2_easySFS_tutorial/easySFS/easySFS.py -i data/clouded_leopard_data.vcf -p data/popmap -a --unfolded --total-length 118000000 -o outputs/easySFS_output -f --proj 10 "
   ]
  },
  {
   "cell_type": "markdown",
   "id": "18f842c4-f7a8-48c4-8e37-a77dc60675e4",
   "metadata": {},
   "source": [
    "## Picture of our SFS"
   ]
  },
  {
   "cell_type": "code",
   "execution_count": null,
   "id": "91729092",
   "metadata": {},
   "outputs": [],
   "source": [
    "from scripts.draw_sfs import draw_1d_sfs\n",
    "draw_1d_sfs(\"outputs/easySFS_output/dadi/NN-10.sfs\")"
   ]
  },
  {
   "cell_type": "markdown",
   "id": "b06885af",
   "metadata": {},
   "source": [
    "-----\n",
    "## 2. Overview of GADMA\n",
    "\n",
    "### What is [GADMA](https://github.com/ctlab/GADMA)?\n",
    "- Tool for demographic inference from the genetic data.\n",
    "- Provides demographic history that has highest value of likelihood with the data.\n",
    "- Includes several likelihood components of existing tools under the common interface (`dadi`, `moments`, `momi2`, `momentsLD`)\n",
    "- Has effective global optimization for parameter search.\n",
    "- New model specification using *structure*.\n",
    "- Repeats demographic inference and provides best result among several repeats (30 repeats is good, 100 is better).\n",
    "\n",
    "Papers to cite: [\\[Noskova et al. 2020\\]](https://doi.org/10.1093/gigascience/giaa005), [\\[Noskova et al. 2023\\]](https://doi.org/10.1101/2022.06.14.496083) and other papers regarding used engines (see more [here](https://gadma.readthedocs.io/en/latest/citations.html)). \n",
    "\n",
    "### What is the difference between likelihood engines in GADMA?\n",
    "\n",
    "GADMA has several engines to evaluate likelihood of the demographic history and data. More information about each engine could be found in the [documentation](https://gadma.readthedocs.io/en/latest/user_manual/set_engine.html).\n",
    "\n",
    "<img src=\"pictures/Screenshot_engines.png\" width=\"700\" align=\"left\"/>"
   ]
  },
  {
   "cell_type": "markdown",
   "id": "ff3b3cc1",
   "metadata": {},
   "source": [
    "### What is the model of the demographic history?\n",
    "\n",
    "Classical tools for demographic inference require parameterized model of the demographic history. It should be specified using interface of the tool and could be error-prone. For example, let us consider the following model for the demographic history of two populations:\n",
    "- Ancestral population had size equal to $N_{anc}$.\n",
    "- Ancestral population experienced instanstenious growth up to ($nu_{1F}\\cdot N_{anc}$) individuals and it has constant size for ($2\\cdot T_p\\cdot N_{anc}$) generations.\n",
    "- Then second population diverged from ancestral population.\n",
    "- Second population experienced exponential growth from ($nu_{2B}\\cdot N_{anc}$) up to ($nu_{2F}\\cdot N_{anc}$) individuals during ($2\\cdot T\\cdot N_{anc}$) generations after split.\n",
    "- Size of the first population was equal to the size of ancestral population.\n",
    "- There was migration between populations with rate equal to $m / (2\\cdot N_{anc})$ migrants per generation.\n",
    "\n",
    "This model has one parameter for $N_{anc}$ and additional 6 parameters. Example of the model specification for `dadi` using its Python API:"
   ]
  },
  {
   "cell_type": "code",
   "execution_count": null,
   "id": "1fd17411",
   "metadata": {},
   "outputs": [],
   "source": [
    "def prior_onegrow_mig(params, ns, pts):\n",
    "    \"\"\"\n",
    "    Model with growth, split, bottleneck in pop2, exp recovery, migration\n",
    "\n",
    "    params list is\n",
    "    nu1F: The ancestral population size after growth. (Its initial size is\n",
    "          defined to be 1.)\n",
    "    nu2B: The bottleneck size for pop2\n",
    "    nu2F: The final size for pop2\n",
    "    m: The scaled migration rate\n",
    "    Tp: The scaled time between ancestral population growth and the split.\n",
    "    T: The time between the split and present\n",
    "\n",
    "    ns = (n1,n2): Size of fs to generate.\n",
    "    pts: Number of points to use in grid for evaluation.\n",
    "    \"\"\"\n",
    "    nu1F, nu2B, nu2F, m, Tp, T = params\n",
    "    n1,n2 = ns\n",
    "    # Define the grid we'll use\n",
    "    xx = yy = dadi.Numerics.default_grid(pts)\n",
    "\n",
    "    # phi for the equilibrium ancestral population\n",
    "    phi = dadi.PhiManip.phi_1D(xx)\n",
    "    # Now do the population growth event.\n",
    "    phi = dadi.Integration.one_pop(phi, xx, Tp, nu=nu1F)\n",
    "\n",
    "    # The divergence\n",
    "    phi = dadi.PhiManip.phi_1D_to_2D(xx, phi)\n",
    "    # We need to define a function to describe the non-constant population 2\n",
    "    # size. lambda is a convenient way to do so.\n",
    "    nu2_func = lambda t: nu2B*(nu2F/nu2B)**(t/T)\n",
    "    phi = dadi.Integration.two_pops(phi, xx, T, nu1=nu1F, nu2=nu2_func, \n",
    "                                    m12=m, m21=m)\n",
    "\n",
    "    # Finally, calculate the spectrum.\n",
    "    sfs = dadi.Spectrum.from_phi(phi, (n1,n2), (xx,yy))\n",
    "    return sfs"
   ]
  },
  {
   "cell_type": "markdown",
   "id": "1611dd41",
   "metadata": {},
   "source": [
    "### Model specification using structure\n",
    "\n",
    "GADMA requieres number of epochs in the demographic history. It has several additional handlers for flexibility:\n",
    "- Enable/disable migrations\n",
    "- Enable/disable selection\n",
    "- Enable/disable dynamics of population size\n",
    "\n",
    "More information [here](https://gadma.readthedocs.io/en/latest/user_manual/set_model/set_model_struct.html).\n",
    "\n",
    "<img src=\"pictures/gadma.png\" width=\"700\" align=\"left\"/>"
   ]
  },
  {
   "cell_type": "markdown",
   "id": "1920774e",
   "metadata": {},
   "source": [
    "### Dynamics of population size change\n",
    "\n",
    "GADMA has flexible dynamics of population size change for model with structure.\n",
    "\n",
    "Population dynamic can be:\n",
    "\n",
    "- Constant (Sudden)\n",
    "- Linear\n",
    "- Exponential\n",
    "\n",
    "<img src=\"pictures/sudden.png\" width=\"150\" align=\"left\"/>\n",
    "<img src=\"pictures/linear.png\" width=\"150\" align=\"left\"/> \n",
    "<img src=\"pictures/exponential.png\" width=\"150\" align=\"left\"/>"
   ]
  },
  {
   "cell_type": "markdown",
   "id": "a5ee5ee7",
   "metadata": {},
   "source": [
    "### Notes about structure\n",
    "\n",
    "- Structure model could be used only for data of either 1, 2 or 3 populations. For 4 and 5 populations usual models could be used (custom models).\n",
    "- Structure should not be very complex: \\[3\\] for one population, \\[2, 1\\] for two populations and \\[2, 1, 1\\] for three populations is enough.\n",
    "- For three populations the most ancient population should be specified (in order to know the tree topology). It could be just sorted through all options.\n",
    "- GADMA has a special inference scheme when the structure is increased: it starts from the simple initial structure and then use more complex structures until reachs the final one. Please, use this option as it provides better estimations.\n"
   ]
  },
  {
   "cell_type": "markdown",
   "id": "24fbd9b0",
   "metadata": {},
   "source": [
    "--------\n",
    "## 3. Example Run of GADMA\n",
    "\n",
    "### Installation\n",
    "\n",
    "[Documentation on installation](https://gadma.readthedocs.io/en/latest/user_manual/installation.html#installing-the-latest-release)\n",
    "\n",
    "GADMA can be easily installed via `pip` or `conda`. Some of its engines (`momi2`) should be installed manually.\n",
    "\n"
   ]
  },
  {
   "cell_type": "code",
   "execution_count": null,
   "id": "cfd471f9",
   "metadata": {
    "scrolled": true
   },
   "outputs": [],
   "source": [
    "%%bash\n",
    "pip install gadma"
   ]
  },
  {
   "cell_type": "markdown",
   "id": "916d1421",
   "metadata": {},
   "source": [
    "### Run GADMA with the `--help` option"
   ]
  },
  {
   "cell_type": "code",
   "execution_count": null,
   "id": "1265ff84",
   "metadata": {},
   "outputs": [],
   "source": [
    "%%bash\n",
    "gadma --help"
   ]
  },
  {
   "cell_type": "markdown",
   "id": "fb2a6f80",
   "metadata": {},
   "source": [
    "### GADMA output\n",
    "\n",
    "[More information about GADMA output in the documentation](https://gadma.readthedocs.io/en/latest/user_manual/output.html)\n",
    "\n",
    "Before we run GADMA let us take a look at its output. GADMA was already run and it created an output directory.\n",
    "- Our run was saved in `outputs/gadma_outputs/gadma_output_2epochs`:"
   ]
  },
  {
   "cell_type": "code",
   "execution_count": null,
   "id": "63b8b4e0",
   "metadata": {},
   "outputs": [],
   "source": [
    "%%bash\n",
    "ls outputs/gadma_outputs/gadma_output_2epochs/"
   ]
  },
  {
   "cell_type": "markdown",
   "id": "7e163dae",
   "metadata": {},
   "source": [
    "- All command line output is saved in file `GADMA.log`:"
   ]
  },
  {
   "cell_type": "code",
   "execution_count": null,
   "id": "384e47bd",
   "metadata": {},
   "outputs": [],
   "source": [
    "%%bash\n",
    "head -17 outputs/gadma_outputs/gadma_output_2epochs/GADMA.log"
   ]
  },
  {
   "cell_type": "code",
   "execution_count": null,
   "id": "50e6fc60",
   "metadata": {},
   "outputs": [],
   "source": [
    "%%bash\n",
    "tail -33 outputs/gadma_outputs/gadma_output_2epochs/GADMA.log"
   ]
  },
  {
   "cell_type": "raw",
   "id": "ccd06fe8-d936-4346-9675-5b0c3e3cc4a3",
   "metadata": {},
   "source": [
    "- Picture of the final history is saved in `outputs/gadma_outputs/gadma_output_2epochs/best_logLL_model.png`\n",
    "\n",
    "<img src=\"outputs/gadma_outputs/gadma_output_2epochs/best_logLL_model.png\" width=\"900\" align=\"left\"/>"
   ]
  },
  {
   "cell_type": "markdown",
   "id": "993e125f",
   "metadata": {},
   "source": [
    "- GADMA uses parameters file with specified options. Example of parameters file could be found [here](https://gadma.readthedocs.io/en/latest/user_manual/example_params_file.html)."
   ]
  },
  {
   "cell_type": "code",
   "execution_count": null,
   "id": "8912ebf0",
   "metadata": {
    "scrolled": true
   },
   "outputs": [],
   "source": [
    "%%bash\n",
    "cat outputs/gadma_outputs/gadma_output_2epochs/params_file"
   ]
  },
  {
   "cell_type": "markdown",
   "id": "c611a179",
   "metadata": {},
   "source": [
    "- Each repeat of GADMA run is saved in its own folder:"
   ]
  },
  {
   "cell_type": "code",
   "execution_count": null,
   "id": "d76aaee0",
   "metadata": {},
   "outputs": [],
   "source": [
    "%%bash\n",
    "ls outputs/gadma_outputs/gadma_output_2epochs/1"
   ]
  },
  {
   "cell_type": "markdown",
   "id": "8f463a4b",
   "metadata": {},
   "source": [
    "### Run GADMA for one-epoch demographic history inference\n",
    "\n",
    "Let us run GADMA for our data. We need to specify params_file for GADMA with options. We will use moments in our example, but you can choose either `dadi` or `momi2` as well (they are also SFS-based engines)."
   ]
  },
  {
   "cell_type": "code",
   "execution_count": null,
   "id": "44d6d02e",
   "metadata": {},
   "outputs": [],
   "source": [
    "%%bash\n",
    "cat gadma_params_files/gadma_params_file_1epoch"
   ]
  },
  {
   "cell_type": "code",
   "execution_count": null,
   "id": "854c999d",
   "metadata": {
    "scrolled": true
   },
   "outputs": [],
   "source": [
    "%%bash\n",
    "rm -rf outputs/gadma_outputs/gadma_output_1epoch\n",
    "gadma -p gadma_params_files/gadma_params_file_1epoch"
   ]
  },
  {
   "cell_type": "raw",
   "id": "78580dcf-313c-4d0e-9d32-6e9f24e9864a",
   "metadata": {},
   "source": [
    "[comment]: <Change type of this cell from Raw to Markdown to show the picture> \n",
    "Result demographic history (`outputs/gadma_outputs/gadma_output_1epoch/best_logLL_model.png` file):\n",
    "<img src=\"outputs/gadma_outputs/gadma_output_1epoch/best_logLL_model.png\" width=\"900\" align=\"left\"/>"
   ]
  },
  {
   "cell_type": "markdown",
   "id": "3099e659",
   "metadata": {},
   "source": [
    "### Run GADMA for two-epoch demographic history inference"
   ]
  },
  {
   "cell_type": "code",
   "execution_count": null,
   "id": "6e6c78ff",
   "metadata": {},
   "outputs": [],
   "source": [
    "%%bash\n",
    "cat gadma_params_files/gadma_params_file_2epochs"
   ]
  },
  {
   "cell_type": "code",
   "execution_count": null,
   "id": "abc089cb",
   "metadata": {
    "scrolled": true
   },
   "outputs": [],
   "source": [
    "%%bash\n",
    "rm -rf outputs/gadma_outputs/gadma_output_2epochs\n",
    "gadma -p gadma_params_files/gadma_params_file_2epochs"
   ]
  },
  {
   "cell_type": "raw",
   "id": "76e7b662-de7e-4a94-9d55-d49c6624f713",
   "metadata": {},
   "source": [
    "[comment]: <Change type of this cell from Raw to Markdown to show the picture> \n",
    "Result demographic history (`outputs/gadma_outputs/gadma_output_2epochs/best_logLL_model.png` file):\n",
    "<img src=\"outputs/gadma_outputs/gadma_output_2epochs/best_logLL_model.png\" width=\"900\" align=\"left\"/>"
   ]
  },
  {
   "cell_type": "markdown",
   "id": "b272fd0f",
   "metadata": {},
   "source": [
    "### Run GADMA for two-epoch demographic history inference with wide bounds"
   ]
  },
  {
   "cell_type": "markdown",
   "id": "ecc49102",
   "metadata": {},
   "source": [
    "Sometimes GADMA prints:\n",
    "```text\n",
    "INFO: Some parameters of the best model hit their bounds: nu11 hit lower bounds\n",
    "```\n",
    "\n",
    "The bounds for the parameters are the following (they are located in the `extra_params_file`, more information is [here](https://gadma.readthedocs.io/en/latest/user_manual/extra_params_file.html)):\n",
    "- Minimum population size `min_N` = $0.01 (\\cdot N_{anc})$\n",
    "- Maximum population size `max_N` = $100 (\\cdot N_{anc})$\n",
    "- Minimum epoch time `min_T` = ~$0$\n",
    "- Maximum epoch time `max_T` = $5 (\\cdot 2 \\cdot N_{anc})$\n",
    "- Minimum migration rate `min_m` = $0$\n",
    "- Maximum migration rate `max_m` = $10 (/ (2\\cdot N_{anc}))$\n",
    "\n",
    "All values for `dadi` and `moments` are in genetic units. We should check the parameters in output file with code. We are looking for `p0`:"
   ]
  },
  {
   "cell_type": "code",
   "execution_count": null,
   "id": "13e4fb40",
   "metadata": {},
   "outputs": [],
   "source": [
    "%%bash\n",
    "head -20 outputs/gadma_outputs/gadma_output_2epochs/best_logLL_model_moments_code.py"
   ]
  },
  {
   "cell_type": "code",
   "execution_count": null,
   "id": "836a0cce",
   "metadata": {},
   "outputs": [],
   "source": [
    "%%bash\n",
    "cat gadma_params_files/gadma_params_file_2epochs_wide_bounds"
   ]
  },
  {
   "cell_type": "code",
   "execution_count": null,
   "id": "3ff8a0b0",
   "metadata": {
    "scrolled": true
   },
   "outputs": [],
   "source": [
    "%%bash\n",
    "rm -rf outputs/gadma_outputs/gadma_output_2epochs_wide_bounds\n",
    "gadma -p gadma_params_files/gadma_params_file_2epochs_wide_bounds"
   ]
  },
  {
   "cell_type": "raw",
   "id": "7639934a-e8bd-48d9-9e1a-7406545473ca",
   "metadata": {},
   "source": [
    "[comment]: <Change type of this cell from Raw to Markdown to show the picture> \n",
    "Result demographic history (file `outputs/gadma_outputs/gadma_output_2epochs_wide_bounds/best_logLL_model.png`):\n",
    "<img src=\"outputs/gadma_outputs/gadma_output_2epochs_wide_bounds/best_logLL_model.png\" width=\"900\" align=\"left\"/>"
   ]
  },
  {
   "cell_type": "markdown",
   "id": "0f62d8d6",
   "metadata": {},
   "source": [
    "### Run GADMA for three-epoch demographic history inference using previous runs"
   ]
  },
  {
   "cell_type": "code",
   "execution_count": null,
   "id": "834d04db",
   "metadata": {},
   "outputs": [],
   "source": [
    "%%bash\n",
    "cat gadma_params_files/gadma_resume_3epochs"
   ]
  },
  {
   "cell_type": "code",
   "execution_count": null,
   "id": "be5a3d8b",
   "metadata": {},
   "outputs": [],
   "source": [
    "%%bash\n",
    "gadma --resume outputs/gadma_outputs/gadma_output_2epochs_wide_bounds \\\n",
    "-p gadma_params_files/gadma_resume_3epochs \\\n",
    "-o outputs/gadma_outputs/gadma_output_3epochs"
   ]
  },
  {
   "cell_type": "raw",
   "id": "9e8192a6-b225-4f41-985e-bdf6b705af83",
   "metadata": {},
   "source": [
    "[comment]: <Change type of this cell from Raw to Markdown to show the picture> \n",
    "Result demographic history (`outputs/gadma_outputs/gadma_output_3epochs/best_logLL_model.png` file):\n",
    "<img src=\"outputs/gadma_outputs/gadma_output_3epochs/best_logLL_model.png\" width=\"900\" align=\"left\"/>"
   ]
  },
  {
   "cell_type": "markdown",
   "id": "5dd16d81-75af-468f-bf4f-b54aa693f381",
   "metadata": {},
   "source": [
    "### Reconstruct the Likelihood\n",
    "\n",
    "We can obtain the likelihood of the best result by running generated code from GADMA:"
   ]
  },
  {
   "cell_type": "code",
   "execution_count": null,
   "id": "f5299f2f-3715-44b4-9f99-5a31e0fd752a",
   "metadata": {},
   "outputs": [],
   "source": [
    "%%bash\n",
    "python outputs/gadma_outputs/gadma_output_3epochs/best_logLL_model_moments_code.py"
   ]
  },
  {
   "cell_type": "markdown",
   "id": "064931d0-5869-404d-8cc2-b2b91c10b5ca",
   "metadata": {},
   "source": [
    "---\n",
    "## 4. Hands On!\n",
    "\n",
    "Repeat this tutorial on your computer and obtain the results. Please send your results to us [here](https://forms.gle/cs6xY7y9pUA3AaBH7).\n",
    "\n",
    "You can change run options if you like:\n",
    "* Use different engine: e.g. `dadi`\n",
    "* Use time for one generation of 7 years\n",
    "* Any other option"
   ]
  },
  {
   "cell_type": "code",
   "execution_count": null,
   "id": "c2d83603-12d6-475a-8256-d12afff1acc6",
   "metadata": {},
   "outputs": [],
   "source": []
  }
 ],
 "metadata": {
  "kernelspec": {
   "display_name": "Python 3 (ipykernel)",
   "language": "python",
   "name": "python3"
  },
  "language_info": {
   "codemirror_mode": {
    "name": "ipython",
    "version": 3
   },
   "file_extension": ".py",
   "mimetype": "text/x-python",
   "name": "python",
   "nbconvert_exporter": "python",
   "pygments_lexer": "ipython3",
   "version": "3.10.9"
  }
 },
 "nbformat": 4,
 "nbformat_minor": 5
}
