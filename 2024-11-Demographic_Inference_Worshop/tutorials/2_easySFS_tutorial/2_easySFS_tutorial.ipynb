{
 "cells": [
  {
   "cell_type": "markdown",
   "id": "c59f50b6",
   "metadata": {},
   "source": [
    "# EasySFS Tutorial\n",
    "\n",
    "## Outline\n",
    "1. Basics of the SFS\n",
    "2. Our Dataset\n",
    "3. Overview of `easySFS`\n",
    "4. Example Run of `easySFS`"
   ]
  },
  {
   "cell_type": "markdown",
   "id": "e5aae8a8",
   "metadata": {},
   "source": [
    "-----\n",
    "## 1. Basics of the SFS\n",
    "\n",
    "### What is the SFS?\n",
    "\n",
    "Site frequency spectrum or allele frequency spectrum is a joint distribution of allele frequencies among population.\n",
    "\n",
    "- One population. SFS is vector $S$ of values, Entry $S[i]$ contains number of positions where derived allele occured in $i$ hyplotype samples.\n",
    "<div>\n",
    "<img src=\"pictures/1d_plot.png\" width=\"300\" align=\"left\" />\n",
    "</div>"
   ]
  },
  {
   "cell_type": "markdown",
   "id": "72b0b67a",
   "metadata": {},
   "source": [
    "- Two populations. SFS is a 2-dimentional matrix where entry $S[i, j]$ corresponds to the number of positions where the derived alleles occured in $i$ haplotype samples in population 1 and in $j$ haplotype samples in population 2.\n",
    "<div>\n",
    "<img src=\"pictures/2d_plot.png\" width=\"250\" align=\"left\" />\n",
    "</div>"
   ]
  },
  {
   "cell_type": "markdown",
   "id": "8ecc1d82",
   "metadata": {},
   "source": [
    "- $P$ populations. SFS is a $P$-dimentional tensor. Example for three populations:\n",
    "<div>\n",
    "<img src=\"pictures/3d_plot.png\" width=\"300\" align=\"left\" />\n",
    "</div>"
   ]
  },
  {
   "cell_type": "markdown",
   "id": "66c93ca9",
   "metadata": {},
   "source": [
    "### Ignore monomorphic bins\n",
    "\n",
    "SFS bin that corresponds to the frequency 0 per population contains number of monomorphic positions with the ancestral allele. Some tools (`dadi`, `moments`, `momi2`) ignore that value as it could be easily evaluated from total sequence length and other values of SFS.\n",
    "\n",
    "For almost the same reason the bin with maximum frequency per population is excluded from the analisys. The number of sites with fixed derived allele is relatively small and, moreover, could be a consequence of false ancestral allele identification.\n",
    "\n",
    "On the plots above both monomorphic bins are excluded. The monomorphic bin with 0 frequency is usually very high as most sites are monomorphic, and, thus, including it to the plot will lead to the severe disproportions of other bins."
   ]
  },
  {
   "cell_type": "markdown",
   "id": "56164408",
   "metadata": {},
   "source": [
    "### What data do we need to build the accurate SFS?\n",
    "\n",
    "Site frequency spectrum reflects the history of individuals, however, it is important to build it accurately. Some recommendations to keep in mind:\n",
    "\n",
    "- VCF format file of filtered genotypes\n",
    "- As many SNP's as possible\n",
    "- As many individuals as possible (8-10 okay, 100 better)\n",
    "- No relatives\n",
    "- Avoid missing data (`easySFS` could help with missing data)\n",
    "- Coordinates of neutral sites or intergenic regions (similar evolution forces)"
   ]
  },
  {
   "cell_type": "markdown",
   "id": "261ae65a",
   "metadata": {},
   "source": [
    "### What if we do not know the derived allele? (SFS folding)\n",
    "\n",
    "Sometimes outgroup information is missed. In that case we can use minor allele frequencies (MAF) to build our SFS. The MAF SFS can be easily built from the usual SFS. This process is called *folding* and MAF SFS is called *folded SFS*.\n",
    "\n",
    "- Example of the SFS folding in case of one population:\n",
    "\n",
    "    Unfolded and folded SFS correspondingly:\n",
    "\n",
    "    <img src=\"pictures/1d_plot_before_folding.png\" width=\"300\" align=\"left\"/>\n",
    "    <img src=\"pictures/1d_plot_after_folding.png\" width=\"300\" align=\"left\"/>"
   ]
  },
  {
   "cell_type": "markdown",
   "id": "201987d2",
   "metadata": {},
   "source": [
    "- Example of the SFS folding in case of two populations:\n",
    "\n",
    "    Unfolded and folded SFS correspondingly:\n",
    "    \n",
    "    <img src=\"pictures/2d_plot_before_folding.png\" width=\"250\" align=\"left\"/>\n",
    "    <img src=\"pictures/2d_plot_after_folding.png\" width=\"250\" align=\"left\"/>"
   ]
  },
  {
   "cell_type": "markdown",
   "id": "005b6417",
   "metadata": {},
   "source": [
    "-----\n",
    "## 2.  Our Dataset\n",
    "\n",
    "We have a dataset for clouded leopards (*Neofelis nebulosa*). It is an example data for one contig (10,000,000 bp) for 10 diploid individuals (20 haploid samples).\n",
    "\n",
    "All the data is available in the `data` folder:"
   ]
  },
  {
   "cell_type": "code",
   "execution_count": null,
   "id": "4256f232",
   "metadata": {},
   "outputs": [],
   "source": [
    "%%bash\n",
    "ls data"
   ]
  },
  {
   "cell_type": "markdown",
   "id": "1c8536cc",
   "metadata": {},
   "source": [
    "- File `data/clouded_leopard_data.vcf` is our VCF file for all 5 individuals (X chromosome is excluded):"
   ]
  },
  {
   "cell_type": "code",
   "execution_count": null,
   "id": "ea4436e1",
   "metadata": {},
   "outputs": [],
   "source": [
    "%%bash\n",
    "# First five lines\n",
    "head -6 data/example_data.vcf"
   ]
  },
  {
   "cell_type": "code",
   "execution_count": null,
   "id": "d0767964",
   "metadata": {},
   "outputs": [],
   "source": [
    "%%bash\n",
    "# The header line of the VCF file (we take first 84 lines of file and then show the last one)\n",
    "head -6 data/example_data.vcf | tail -1"
   ]
  },
  {
   "cell_type": "markdown",
   "id": "844d6cb6",
   "metadata": {},
   "source": [
    "- File `data/popmap` provides population assignments per individual (all our individuals are from the same population that is marked as `NN`):"
   ]
  },
  {
   "cell_type": "code",
   "execution_count": null,
   "id": "39bbbe79",
   "metadata": {},
   "outputs": [],
   "source": [
    "%%bash\n",
    "cat data/popmap"
   ]
  },
  {
   "cell_type": "markdown",
   "id": "dbcac6b3",
   "metadata": {},
   "source": [
    "-----\n",
    "## 4. Overview of `easySFS`"
   ]
  },
  {
   "cell_type": "markdown",
   "id": "71e102c0",
   "metadata": {},
   "source": [
    "### What is [easySFS](https://github.com/isaacovercast/easySFS#install--run)?\n",
    "- A tool for SFS construction from the VCF file.\n",
    "- Generates SFS in several formats: `dadi`/`fastsimcoal2`/`momi2` (GADMA accepts all of them)\n",
    "- Provides means to project SFS down to account for missed data.\n",
    "- Allows to focus SFS on the independent SNP's (for RADSeq-like data only!)\n",
    "\n",
    "(Unfortunately, no paper to cite, however, authors ask to credit [\\[Gutenkunst et al. 2009\\]](https://doi.org/10.1371/journal.pgen.1000695))\n",
    "\n",
    "### What is the SFS projection?\n",
    "Assume we have two different datasets with different numbers of samples. We construct two SFS and want to compare them, but they are of different size. SFS is a histogram of allele frequencies and it is possible to downsize or project it. Thus, we could downsize both spectra to some smaller size and compare them.\n",
    "\n",
    "### Some intuition about SFS projection\n",
    "\n",
    "Let us get some intuition about how to use information from the bigger SFS for its projection.\n",
    "\n",
    "Assume we have the following data ($A$ stands for ancestral allele and $T$ for derived allele):\n",
    "\n",
    "- Sample 1: $A\\ A\\ A\\ T\\ A$\n",
    "- Sample 2: $A\\ A\\ T\\ A\\ A$\n",
    "- Sample 3: $A\\ A\\ T\\ T\\ \\ .$\n",
    "- Sample 4: $T\\ A\\ T\\ A\\ A$\n",
    "\n",
    "and we want to build projection of the SFS on three samples.\n",
    "\n",
    "We can see that the derived allele has frequency of $1/4$ (one out of four) among four samples on the first position.\n",
    "Let us subsample three individuals from given four samples and compute the frequency of derived allele on the first position. We can choose samples 1, 2, 3 and obtain $0/3$ frequency (with probability $p_1=0.75$) or we can obtain frequency of $1/3$ by choosing sample 4 and any other two samples (with probability $p_2 = 0.25$).\n",
    "\n",
    "Thus, for our SFS projection we can put value equal to $p_1$ in the $0/3$ bin and value of $p_2$ in the $1/3$ bin.\n",
    "\n",
    "The third position has derived allele frequency of $3/4$. We can obtain frequency of $3/3$ by choosing samples 2, 3, 4 and frequency of $2/3$ by choosing sample 1 and any other two samples.\n",
    "\n",
    "Having the probabilities of each subsampling frequency (see [hypergeometric distribution](https://en.wikipedia.org/wiki/Hypergeometric_distribution)) we can build new SFS with smaller size.\n",
    "\n",
    "### Accounting for the missed data\n",
    "\n",
    "SFS projection can easy account for missed information! For the last position in our example data we just add $1$ to the frequency $0/3$ of the projected SFS. That is exactly what `easySFS` does.\n"
   ]
  },
  {
   "cell_type": "markdown",
   "id": "af67c90a",
   "metadata": {},
   "source": [
    "--------\n",
    "## 5. Example Run of `easySFS`\n",
    "\n",
    "### Installation\n",
    "\n",
    "Resources: [more information about installation of easySFS](https://github.com/isaacovercast/easySFS#install--run)\n",
    "\n",
    "Download `easySFS` from GitHub repo:"
   ]
  },
  {
   "cell_type": "code",
   "execution_count": null,
   "id": "e3f761e1",
   "metadata": {},
   "outputs": [],
   "source": [
    "%%bash\n",
    "git clone https://github.com/isaacovercast/easySFS.git\n",
    "ls easySFS"
   ]
  },
  {
   "cell_type": "markdown",
   "id": "93576e79",
   "metadata": {},
   "source": [
    "### Run `easySFS` with the `--help` option"
   ]
  },
  {
   "cell_type": "code",
   "execution_count": null,
   "id": "3f4dac67",
   "metadata": {},
   "outputs": [],
   "source": [
    "%%bash\n",
    "./easySFS/easySFS.py --help"
   ]
  },
  {
   "cell_type": "markdown",
   "id": "70420fb5",
   "metadata": {},
   "source": [
    "### Run `easySFS` for your VCF file with `--preview` option"
   ]
  },
  {
   "cell_type": "code",
   "execution_count": null,
   "id": "888110d6",
   "metadata": {
    "scrolled": true
   },
   "outputs": [],
   "source": [
    "%%bash\n",
    "./easySFS/easySFS.py -i data/example_data.vcf -p data/popmap -a --preview > outputs/easySFS_preview_output\n",
    "cat outputs/easySFS_preview_output"
   ]
  },
  {
   "cell_type": "markdown",
   "id": "666b3ac2",
   "metadata": {},
   "source": [
    "#### Visualize the results of the preview\n",
    "In this notebook we will use python:"
   ]
  },
  {
   "cell_type": "code",
   "execution_count": null,
   "id": "00a1d307",
   "metadata": {},
   "outputs": [],
   "source": [
    "from scripts.draw_easySFS_preview import draw_easySFS_preview\n",
    "draw_easySFS_preview(\"outputs/easySFS_preview_output\")"
   ]
  },
  {
   "cell_type": "markdown",
   "id": "44e94a12",
   "metadata": {},
   "source": [
    "Moreover, one can run script from command line the following way (the same picture will appear if you use it from the command line interface):"
   ]
  },
  {
   "cell_type": "code",
   "execution_count": null,
   "id": "630000b6",
   "metadata": {},
   "outputs": [],
   "source": [
    "%%bash\n",
    "python scripts/draw_easySFS_preview.py outputs/easySFS_preview_output"
   ]
  },
  {
   "cell_type": "markdown",
   "id": "45c6c133",
   "metadata": {},
   "source": [
    "### Run easySFS for your VCF file with `--proj` option\n",
    "\n",
    "We use `--proj 14` option instead `--preview`.\n",
    "\n",
    "We add the following options:\n",
    "* `--total-length 10000000` to construct correct monomorphic bin\n",
    "* `--unfolded` to construct unfolded spectrum\n",
    "* `-o outputs/easySFS_output` to write output in this directory\n",
    "* `-f` to rewrite if the output directory exists"
   ]
  },
  {
   "cell_type": "code",
   "execution_count": null,
   "id": "4378d8ac",
   "metadata": {},
   "outputs": [],
   "source": [
    "%%bash\n",
    "./easySFS/easySFS.py -i data/example_data.vcf -p data/popmap -a --total-length 10000000 --unfolded -o outputs/easySFS_output -f --proj 14"
   ]
  },
  {
   "cell_type": "markdown",
   "id": "3023e2be",
   "metadata": {},
   "source": [
    "## easySFS output\n",
    "EasySFS with `--proj` option generates SFS for a given data in several formats:\n",
    "- `dadi` - input format of dadi, moments,\n",
    "- `fastsimcoal2` - input format of fastsimcoal2,\n",
    "- `momi` - input format of momi2 (only if we use full projections, i.e. do not project SFS down).\n",
    "\n",
    "GADMA can work with any input format mentioned above."
   ]
  },
  {
   "cell_type": "code",
   "execution_count": null,
   "id": "7b114910",
   "metadata": {},
   "outputs": [],
   "source": [
    "%%bash\n",
    "ls outputs/easySFS_output"
   ]
  },
  {
   "cell_type": "code",
   "execution_count": null,
   "id": "e2a259b2",
   "metadata": {},
   "outputs": [],
   "source": [
    "%%bash\n",
    "ls outputs/easySFS_output/dadi"
   ]
  },
  {
   "cell_type": "code",
   "execution_count": null,
   "id": "ffbbaf51",
   "metadata": {},
   "outputs": [],
   "source": [
    "%%bash\n",
    "cat outputs/easySFS_output/dadi/NN-14.sfs"
   ]
  },
  {
   "cell_type": "code",
   "execution_count": null,
   "id": "1baf9118",
   "metadata": {},
   "outputs": [],
   "source": [
    "%%bash\n",
    "cat outputs/easySFS_output/fastsimcoal2/NN_DAFpop0.obs"
   ]
  },
  {
   "cell_type": "markdown",
   "id": "d430c14d",
   "metadata": {},
   "source": [
    "## Picture of our SFS\n",
    "\n",
    "In this example we will use SFS `output/dadi/NN.sfs` generated for dadi. Let us draw the picture:"
   ]
  },
  {
   "cell_type": "code",
   "execution_count": null,
   "id": "91729092",
   "metadata": {},
   "outputs": [],
   "source": [
    "from scripts.draw_sfs import draw_1d_sfs\n",
    "draw_1d_sfs(\"outputs/easySFS_output/dadi/NN-14.sfs\")"
   ]
  },
  {
   "cell_type": "markdown",
   "id": "4b6aa535-fd6e-494b-9c1f-503d146b07af",
   "metadata": {},
   "source": [
    "-----\n",
    "## 4. Hands On: Build Folded SFS\n",
    "\n",
    "Now it is your turn! Can you build a **folded** site frequency spectrum?\n",
    "\n",
    "You have to perform several steps:\n",
    "* Run `easySFS` to construct folded spectrum\n",
    "* Print the result SFS\n",
    "* Draw the result SFS"
   ]
  },
  {
   "cell_type": "code",
   "execution_count": null,
   "id": "bcad2d68-989f-4cd0-82de-44c8bc1b8091",
   "metadata": {},
   "outputs": [],
   "source": []
  }
 ],
 "metadata": {
  "kernelspec": {
   "display_name": "Python 3 (ipykernel)",
   "language": "python",
   "name": "python3"
  },
  "language_info": {
   "codemirror_mode": {
    "name": "ipython",
    "version": 3
   },
   "file_extension": ".py",
   "mimetype": "text/x-python",
   "name": "python",
   "nbconvert_exporter": "python",
   "pygments_lexer": "ipython3",
   "version": "3.10.9"
  }
 },
 "nbformat": 4,
 "nbformat_minor": 5
}
