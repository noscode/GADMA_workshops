{
 "cells": [
  {
   "cell_type": "markdown",
   "id": "0f78e628",
   "metadata": {},
   "source": [
    "# Model Comparison and Confidence Intervals Tutorial\n",
    "\n",
    "## Outline\n",
    "1. Block-Bootstrap\n",
    "2. Model Comparison\n",
    "3. Evaluate Confidence Intervals"
   ]
  },
  {
   "cell_type": "markdown",
   "id": "cf0210c0",
   "metadata": {},
   "source": [
    "-------\n",
    "\n",
    "## 1. Block-Bootstrap\n",
    "\n",
    "Bootrap is a procedure to obtain data with similar characteristics, but different to the original data.\n",
    "\n",
    "**Bootstrap** - random sampling with replacement.\n",
    "<img src=\"pictures/bootstrap_illustration.png\" width=\"900\" align=\"left\"/>"
   ]
  },
  {
   "cell_type": "markdown",
   "id": "a63dc278-2b33-4f3a-92b0-987361e95987",
   "metadata": {},
   "source": [
    "**Block-bootstrap** is a bootstrap performed over regions of linkage (e.g. genes). Usually 100 bootstraped data is generated.\n",
    "\n",
    "We will use a custom script that takes recombination rate as input and performs bootstrap over the regions of 0.5 Morgans length. BE CAREFULL, THIS PROCESS IS VERY TIME-CONSUMING!"
   ]
  },
  {
   "cell_type": "code",
   "execution_count": null,
   "id": "d2125e9f",
   "metadata": {},
   "outputs": [],
   "source": [
    "%%bash\n",
    "python scripts/perform_block_bootstrap.py"
   ]
  },
  {
   "cell_type": "code",
   "execution_count": null,
   "id": "7ea9f032",
   "metadata": {},
   "outputs": [],
   "source": [
    "%%bash\n",
    "#mkdir data/boots\n",
    "#python scripts/perform_block_bootstrap.py data/clouded_leopard_data.vcf data/popmap data/boots 100 ../2_easySFS_tutorial/easySFS/easySFS.py \"-a --unfolded --proj 10\""
   ]
  },
  {
   "cell_type": "markdown",
   "id": "6900501e-dff0-4b7d-a452-fa7363457546",
   "metadata": {},
   "source": [
    "We have already run this script for you and you can find `.sfs` files in `../3_GADMA_tutorial/data/boots` directory"
   ]
  },
  {
   "cell_type": "code",
   "execution_count": null,
   "id": "8e54d7ed-f55d-42a3-8c03-5c9e1fa5a095",
   "metadata": {
    "scrolled": true
   },
   "outputs": [],
   "source": [
    "%%bash\n",
    "ls ../3_GADMA_tutorial/data/boots"
   ]
  },
  {
   "cell_type": "markdown",
   "id": "4205e593-c0ae-4d3e-8e2d-058b57bbb640",
   "metadata": {},
   "source": [
    "We can draw several of those SFS:"
   ]
  },
  {
   "cell_type": "code",
   "execution_count": null,
   "id": "9708c196-d520-4a4d-92ba-a7e26866091e",
   "metadata": {},
   "outputs": [],
   "source": [
    "from scripts.draw_sfs import draw_1d_sfs\n",
    "draw_1d_sfs(\"../3_GADMA_tutorial/data/boots/1.sfs\")"
   ]
  },
  {
   "cell_type": "code",
   "execution_count": null,
   "id": "b43a3c26-0a52-4dbc-ad6b-af0746bc3e39",
   "metadata": {},
   "outputs": [],
   "source": [
    "from scripts.draw_sfs import draw_1d_sfs\n",
    "draw_1d_sfs(\"../3_GADMA_tutorial/data/boots/2.sfs\")"
   ]
  },
  {
   "cell_type": "markdown",
   "id": "7f3e93ba-ce87-4a39-a2f0-d6b6f7de80a9",
   "metadata": {},
   "source": [
    "## 1. Model comparison\n",
    "\n",
    "We can compare models with different numbers of paramters (e.g. one-epoch history, two-epoch history and etc.) using AIC or CLAIC. More information is available [here](https://gadma.readthedocs.io/en/latest/user_manual/input_data/input_data.html#unlinked-snps-aic-and-claic).\n",
    "- AIC could be used if our SNP's are **unlinked**, independent. It is usually a case of RAD-like data, remember `easySFS` offered us to choose one SNP per RAD locus? That is exactly the way to get set of unlinked SNP's.\n",
    "- CLAIC [\\[Coffman 2016\\]](https://doi.org/10.1093/molbev/msv255) is applied when our SNP's are linked (general case). In order to evaluate CLAIC we should provide additional **block-bootstraped** data. Bootstrap should be performed over the regions of linkage (usually genes). A little more about bootstrap will be further. Here we just got some directory with bootstraped data."
   ]
  },
  {
   "cell_type": "code",
   "execution_count": null,
   "id": "5055b5aa",
   "metadata": {},
   "outputs": [],
   "source": [
    "%%bash\n",
    "cat gadma_params_files/params_model_comparison"
   ]
  },
  {
   "cell_type": "code",
   "execution_count": null,
   "id": "370b8647",
   "metadata": {
    "scrolled": true
   },
   "outputs": [],
   "source": [
    "%%bash\n",
    "rm -rf outputs/gadma_outputs/gadma_model_comparison\n",
    "gadma -p gadma_params_files/params_model_comparison"
   ]
  },
  {
   "cell_type": "markdown",
   "id": "55278889-0cef-4110-85bd-71cad0d56ad0",
   "metadata": {},
   "source": [
    "[comment]: <Change type of this cell from Raw to Markdown to show the picture> \n",
    "Final demographic history (`outputs/gadma_outputs/gadma_model_comparison/best_claic_model.png` file):\n",
    "<img src=\"outputs/gadma_outputs/gadma_model_comparison/best_claic_model.png\" width=\"900\" align=\"left\"/>"
   ]
  },
  {
   "cell_type": "markdown",
   "id": "60c5402e-2742-4fad-a7f6-f47291120110",
   "metadata": {},
   "source": [
    "----\n",
    "## 8. Evaluate Confidence Intervals (CI) for the Final Model\n",
    "\n",
    "For our final model we want to get confidence intervals for its parameters. We will also use block-boostraped data."
   ]
  },
  {
   "cell_type": "code",
   "execution_count": null,
   "id": "9ad8ae08",
   "metadata": {},
   "outputs": [],
   "source": [
    "%%bash\n",
    "# If you want to start from scratch remove the output directory\n",
    "rm -rf confidence_intervals\n",
    "gadma-run_ls_on_boot_data -b ../3_GADMA_tutorial/data/boots -d outputs/gadma_outputs/gadma_model_comparison/best_claic_model_moments_code.py\\\n",
    "    -o confidence_intervals --opt log -e moments"
   ]
  },
  {
   "cell_type": "code",
   "execution_count": null,
   "id": "c097b44b",
   "metadata": {},
   "outputs": [],
   "source": [
    "%%bash\n",
    "python scripts/translate_units.py confidence_intervals/result_table.csv 7.33488\n",
    "cat confidence_intervals/result_table_translated.csv"
   ]
  },
  {
   "cell_type": "code",
   "execution_count": null,
   "id": "fc1b76c5-1ccb-44ab-be92-e914b2ff41fb",
   "metadata": {},
   "outputs": [],
   "source": [
    "%%bash\n",
    "python scripts/translate_units.py"
   ]
  },
  {
   "cell_type": "code",
   "execution_count": null,
   "id": "4fa053bb",
   "metadata": {},
   "outputs": [],
   "source": [
    "%%bash\n",
    "gadma-get_confidence_intervals confidence_intervals/result_table_translated.csv"
   ]
  },
  {
   "cell_type": "markdown",
   "id": "16c9f337",
   "metadata": {},
   "source": [
    "### Another way to evaluate CI's\n",
    "\n",
    "There is a method from [\\[Coffman 2016\\]](https://doi.org/10.1093/molbev/msv255) that also allows to estimate confidence intervals for the parameters.\n",
    "- Estimates ancertancy using Godambe Information Matrix.\n",
    "- Require bootstrap data.\n",
    "- Does NOT require the whole machinery we just used.\n",
    "- However, there is no universal script to use it.\n",
    "- Provides different confidence intervals.\n",
    "\n",
    "Example script for specific model and data could be found [here](https://github.com/pblischak/inbreeding-sfs/blob/master/data/cabbage/run_cabbage_godambe_3epoch_noF.py). You can use it for your model."
   ]
  },
  {
   "cell_type": "code",
   "execution_count": null,
   "id": "825189da",
   "metadata": {},
   "outputs": [],
   "source": []
  }
 ],
 "metadata": {
  "kernelspec": {
   "display_name": "Python 3 (ipykernel)",
   "language": "python",
   "name": "python3"
  },
  "language_info": {
   "codemirror_mode": {
    "name": "ipython",
    "version": 3
   },
   "file_extension": ".py",
   "mimetype": "text/x-python",
   "name": "python",
   "nbconvert_exporter": "python",
   "pygments_lexer": "ipython3",
   "version": "3.10.9"
  }
 },
 "nbformat": 4,
 "nbformat_minor": 5
}
