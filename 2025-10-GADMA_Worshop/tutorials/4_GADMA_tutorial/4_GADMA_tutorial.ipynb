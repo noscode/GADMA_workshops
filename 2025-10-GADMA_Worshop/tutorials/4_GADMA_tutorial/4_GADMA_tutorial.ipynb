{
 "cells": [
  {
   "cell_type": "markdown",
   "id": "c59f50b6",
   "metadata": {},
   "source": [
    "# GADMA Tutorial\n",
    "\n",
    "## Outline\n",
    "1. Our Dataset\n",
    "2. Overview of GADMA\n",
    "3. Example Run of GADMA\n",
    "4. Hands On\n",
    "\n",
    "## Getting Help after Tutorial\n",
    "- Contact: [enoskova.me](http://enoskova.me)\n",
    "- Feel free to send me [email](mailto:ekaterina.e.noskova@gmail.com)\n",
    "- [Getting help for GADMA](https://github.com/ctlab/GADMA#getting-help)"
   ]
  },
  {
   "cell_type": "markdown",
   "id": "005b6417",
   "metadata": {},
   "source": [
    "## 1.  Our Dataset\n",
    "\n",
    "We have a dataset for clouded leopards (*Neofelis nebulosa*). We have data for 5 diploid individuals (10 samples).\n",
    "\n",
    "All the data is available in the `data` folder:"
   ]
  },
  {
   "cell_type": "code",
   "execution_count": 10,
   "id": "4256f232",
   "metadata": {},
   "outputs": [
    {
     "name": "stdout",
     "output_type": "stream",
     "text": [
      "Archive:  data.zip\n",
      "   creating: data/\n",
      "  inflating: data/popmap             \n",
      "  inflating: __MACOSX/data/._popmap  \n",
      "   creating: data/boots/\n",
      "  inflating: data/.DS_Store          \n",
      "  inflating: __MACOSX/data/._.DS_Store  \n",
      "  inflating: data/clouded_leopard_data.vcf  \n",
      "  inflating: __MACOSX/data/._clouded_leopard_data.vcf  \n",
      "  inflating: data/data.tar.gz        \n",
      "  inflating: data/boots/19.sfs       \n",
      "  inflating: data/boots/31.sfs       \n",
      "  inflating: data/boots/25.sfs       \n",
      "  inflating: data/boots/24.sfs       \n",
      "  inflating: data/boots/30.sfs       \n",
      "  inflating: data/boots/18.sfs       \n",
      "  inflating: data/boots/26.sfs       \n",
      "  inflating: data/boots/32.sfs       \n",
      "  inflating: data/boots/33.sfs       \n",
      "  inflating: data/boots/27.sfs       \n",
      "  inflating: data/boots/23.sfs       \n",
      "  inflating: data/boots/37.sfs       \n",
      "  inflating: data/boots/36.sfs       \n",
      "  inflating: data/boots/22.sfs       \n",
      "  inflating: data/boots/34.sfs       \n",
      "  inflating: data/boots/20.sfs       \n",
      "  inflating: data/boots/21.sfs       \n",
      "  inflating: data/boots/35.sfs       \n",
      "  inflating: data/boots/91.sfs       \n",
      "  inflating: data/boots/85.sfs       \n",
      "  inflating: data/boots/52.sfs       \n",
      "  inflating: data/boots/46.sfs       \n",
      "  inflating: data/boots/47.sfs       \n",
      "  inflating: data/boots/1.sfs        \n",
      "  inflating: __MACOSX/data/boots/._1.sfs  \n",
      "  inflating: data/boots/53.sfs       \n",
      "  inflating: data/boots/84.sfs       \n",
      "  inflating: data/boots/90.sfs       \n",
      "  inflating: data/boots/86.sfs       \n",
      "  inflating: data/boots/92.sfs       \n",
      "  inflating: data/boots/79.sfs       \n",
      "  inflating: data/boots/45.sfs       \n",
      "  inflating: data/boots/51.sfs       \n",
      "  inflating: data/boots/3.sfs        \n",
      "  inflating: data/boots/50.sfs       \n",
      "  inflating: data/boots/2.sfs        \n",
      "  inflating: data/boots/44.sfs       \n",
      "  inflating: data/boots/78.sfs       \n",
      "  inflating: data/boots/93.sfs       \n",
      "  inflating: data/boots/87.sfs       \n",
      "  inflating: data/boots/83.sfs       \n",
      "  inflating: data/boots/97.sfs       \n",
      "  inflating: data/boots/40.sfs       \n",
      "  inflating: data/boots/6.sfs        \n",
      "  inflating: data/boots/54.sfs       \n",
      "  inflating: data/boots/68.sfs       \n",
      "  inflating: data/boots/69.sfs       \n",
      "  inflating: data/boots/7.sfs        \n",
      "  inflating: data/boots/55.sfs       \n",
      "  inflating: data/boots/41.sfs       \n",
      "  inflating: data/boots/96.sfs       \n",
      "  inflating: data/boots/82.sfs       \n",
      "  inflating: data/boots/94.sfs       \n",
      "  inflating: data/boots/80.sfs       \n",
      "  inflating: data/boots/57.sfs       \n",
      "  inflating: data/boots/5.sfs        \n",
      "  inflating: data/boots/43.sfs       \n",
      "  inflating: data/boots/42.sfs       \n",
      "  inflating: data/boots/56.sfs       \n",
      "  inflating: data/boots/4.sfs        \n",
      "  inflating: data/boots/81.sfs       \n",
      "  inflating: data/boots/95.sfs       \n",
      "  inflating: data/boots/98.sfs       \n",
      "  inflating: data/boots/9.sfs        \n",
      "  inflating: data/boots/73.sfs       \n",
      "  inflating: data/boots/67.sfs       \n",
      "  inflating: data/boots/66.sfs       \n",
      "  inflating: data/boots/72.sfs       \n",
      "  inflating: data/boots/8.sfs        \n",
      "  inflating: data/boots/99.sfs       \n",
      "  inflating: data/boots/58.sfs       \n",
      "  inflating: data/boots/64.sfs       \n",
      "  inflating: data/boots/70.sfs       \n",
      "  inflating: data/boots/71.sfs       \n",
      "  inflating: data/boots/65.sfs       \n",
      "  inflating: data/boots/59.sfs       \n",
      "  inflating: data/boots/61.sfs       \n",
      "  inflating: data/boots/75.sfs       \n",
      "  inflating: data/boots/49.sfs       \n",
      "  inflating: data/boots/48.sfs       \n",
      "  inflating: data/boots/74.sfs       \n",
      "  inflating: data/boots/60.sfs       \n",
      "  inflating: data/boots/89.sfs       \n",
      "  inflating: data/boots/76.sfs       \n",
      "  inflating: data/boots/62.sfs       \n",
      "  inflating: data/boots/63.sfs       \n",
      "  inflating: data/boots/77.sfs       \n",
      "  inflating: data/boots/88.sfs       \n",
      "  inflating: data/boots/38.sfs       \n",
      "  inflating: data/boots/10.sfs       \n",
      "  inflating: data/boots/11.sfs       \n",
      "  inflating: data/boots/39.sfs       \n",
      "  inflating: data/boots/13.sfs       \n",
      "  inflating: data/boots/12.sfs       \n",
      "  inflating: data/boots/16.sfs       \n",
      "  inflating: data/boots/17.sfs       \n",
      "  inflating: data/boots/100.sfs      \n",
      "  inflating: data/boots/15.sfs       \n",
      "  inflating: data/boots/29.sfs       \n",
      "  inflating: data/boots/28.sfs       \n",
      "  inflating: data/boots/14.sfs       \n",
      "boots\n",
      "clouded_leopard_data.vcf\n",
      "data.tar.gz\n",
      "popmap\n"
     ]
    }
   ],
   "source": [
    "%%bash\n",
    "unzip data.zip\n",
    "ls data"
   ]
  },
  {
   "cell_type": "markdown",
   "id": "1c8536cc",
   "metadata": {},
   "source": [
    "- File `data/clouded_leopard_data.vcf` is our VCF file for all 5 individuals (X chromosome is excluded):"
   ]
  },
  {
   "cell_type": "code",
   "execution_count": 11,
   "id": "ea4436e1",
   "metadata": {},
   "outputs": [
    {
     "name": "stdout",
     "output_type": "stream",
     "text": [
      "##fileformat=VCFv4.2\n",
      "##source=tskit 0.5.7\n",
      "##FILTER=<ID=PASS,Description=\"All filters passed\">\n",
      "###contig=<ID=contig1,length=100000000>\n",
      "###contig=<ID=contig2,length=10000000>\n",
      "###contig=<ID=contig3,length=5000000>\n",
      "###contig=<ID=contig4,length=3000000>\n",
      "##FORMAT=<ID=GT,Number=1,Type=String,Description=\"Genotype\">\n",
      "#CHROM\tPOS\tID\tREF\tALT\tQUAL\tFILTER\tINFO\tFORMAT\tLeopard01\tLeopard02\tLeopard03\tLeopard04\tLeopard05\n",
      "contig1\t56\t0\tT\tC\t.\tPASS\t.\tGT\t0|1\t0|0\t0|0\t0|0\t0|0\n"
     ]
    }
   ],
   "source": [
    "%%bash\n",
    "# First five lines\n",
    "head -10 data/clouded_leopard_data.vcf"
   ]
  },
  {
   "cell_type": "code",
   "execution_count": 12,
   "id": "df38e4fa",
   "metadata": {},
   "outputs": [
    {
     "name": "stdout",
     "output_type": "stream",
     "text": [
      "###contig=<ID=contig1,length=100000000>\n",
      "###contig=<ID=contig2,length=10000000>\n",
      "###contig=<ID=contig3,length=5000000>\n",
      "###contig=<ID=contig4,length=3000000>\n"
     ]
    }
   ],
   "source": [
    "%%bash\n",
    "# Our contigs\n",
    "head -7 data/clouded_leopard_data.vcf | tail -4"
   ]
  },
  {
   "cell_type": "code",
   "execution_count": 14,
   "id": "d0767964",
   "metadata": {},
   "outputs": [
    {
     "name": "stdout",
     "output_type": "stream",
     "text": [
      "#CHROM\tPOS\tID\tREF\tALT\tQUAL\tFILTER\tINFO\tFORMAT\tLeopard01\tLeopard02\tLeopard03\tLeopard04\tLeopard05\n"
     ]
    }
   ],
   "source": [
    "%%bash\n",
    "# The header line of the VCF file (we take first 9 lines of file and then show the last one)\n",
    "head -9 data/clouded_leopard_data.vcf | tail -1"
   ]
  },
  {
   "cell_type": "markdown",
   "id": "844d6cb6",
   "metadata": {},
   "source": [
    "- File `data/popmap.txt` provides population assignments per individual (all our individuals are from the same population that is marked as `NN`):"
   ]
  },
  {
   "cell_type": "code",
   "execution_count": 16,
   "id": "39bbbe79",
   "metadata": {},
   "outputs": [
    {
     "name": "stdout",
     "output_type": "stream",
     "text": [
      "Leopard01 NN\n",
      "Leopard02 NN\n",
      "Leopard03 NN\n",
      "Leopard04 NN\n",
      "Leopard05 NN\n"
     ]
    }
   ],
   "source": [
    "%%bash\n",
    "cat data/popmap.txt"
   ]
  },
  {
   "cell_type": "markdown",
   "id": "af953b3c-0864-4b16-a8ad-c8f47b2e4b4d",
   "metadata": {},
   "source": [
    "- The length of the given sequence is equal to $118{,}000{,}000$ bp.\n",
    "\n",
    "We will also use the following values associated with our species of interest [\\[Bursell et al. 2022\\]](https://doi.org/10.1016/j.isci.2022.105647):\n",
    "- Generation time 7 years\n",
    "- Mutation rate of $2.22 \\times 10^{-9}$ per base pair per year = $1.554 \\times 10^{-8}$ per base pair per **generation**\n",
    "- Recombination rate of $1$ cM/Mb"
   ]
  },
  {
   "cell_type": "markdown",
   "id": "45c6c133",
   "metadata": {},
   "source": [
    "## Run easySFS to build SFS"
   ]
  },
  {
   "cell_type": "code",
   "execution_count": null,
   "id": "4378d8ac",
   "metadata": {},
   "outputs": [],
   "source": [
    "%%bash\n",
    "#python ../3_easySFS_tutorial/easySFS/easySFS.py -i data/clouded_leopard_data.vcf -p data/popmap.txt -a --unfolded --total-length 118000000 -o outputs/easySFS_output -f --proj 10 "
   ]
  },
  {
   "cell_type": "markdown",
   "id": "18f842c4-f7a8-48c4-8e37-a77dc60675e4",
   "metadata": {},
   "source": [
    "## Picture of our SFS"
   ]
  },
  {
   "cell_type": "code",
   "execution_count": null,
   "id": "91729092",
   "metadata": {},
   "outputs": [],
   "source": [
    "from scripts.draw_sfs import draw_1d_sfs\n",
    "draw_1d_sfs(\"outputs/easySFS_output/dadi/NN-10.sfs\")"
   ]
  },
  {
   "cell_type": "markdown",
   "id": "b06885af",
   "metadata": {},
   "source": [
    "-----\n",
    "## 2. Overview of GADMA\n",
    "\n",
    "### What is [GADMA](https://github.com/ctlab/GADMA)?\n",
    "- Tool for demographic inference from the genetic data.\n",
    "- Provides demographic history that has highest value of likelihood with the data.\n",
    "- Includes several likelihood components of existing tools under the common interface (`dadi`, `moments`, `momi2`, `momentsLD`)\n",
    "- Has effective global optimization for parameter search.\n",
    "- New model specification using *structure*.\n",
    "- Repeats demographic inference and provides best result among several repeats (30 repeats is good, 100 is better).\n",
    "\n",
    "Papers to cite: [\\[Noskova et al. 2020\\]](https://doi.org/10.1093/gigascience/giaa005), [\\[Noskova et al. 2023\\]](https://doi.org/10.1101/2022.06.14.496083) and other papers regarding used engines (see more [here](https://gadma.readthedocs.io/en/latest/citations.html)). \n",
    "\n",
    "### What is the difference between likelihood engines in GADMA?\n",
    "\n",
    "GADMA has several engines to evaluate likelihood of the demographic history and data. More information about each engine could be found in the [documentation](https://gadma.readthedocs.io/en/latest/user_manual/set_engine.html).\n",
    "\n",
    "<img src=\"pictures/Screenshot_engines.png\" width=\"700\" align=\"left\"/>"
   ]
  },
  {
   "cell_type": "markdown",
   "id": "ff3b3cc1",
   "metadata": {},
   "source": [
    "### What is the model of the demographic history?\n",
    "\n",
    "Classical tools for demographic inference require parameterized model of the demographic history. It should be specified using interface of the tool and could be error-prone. For example, let us consider the following model for the demographic history of two populations:\n",
    "- Ancestral population had size equal to $N_{anc}$.\n",
    "- Ancestral population experienced instanstenious growth up to ($nu_{1F}\\cdot N_{anc}$) individuals and it has constant size for ($2\\cdot T_p\\cdot N_{anc}$) generations.\n",
    "- Then second population diverged from ancestral population.\n",
    "- Second population experienced exponential growth from ($nu_{2B}\\cdot N_{anc}$) up to ($nu_{2F}\\cdot N_{anc}$) individuals during ($2\\cdot T\\cdot N_{anc}$) generations after split.\n",
    "- Size of the first population was equal to the size of ancestral population.\n",
    "- There was migration between populations with rate equal to $m / (2\\cdot N_{anc})$ migrants per generation.\n",
    "\n",
    "This model has one parameter for $N_{anc}$ and additional 6 parameters. Example of the model specification for `dadi` using its Python API:"
   ]
  },
  {
   "cell_type": "code",
   "execution_count": null,
   "id": "1fd17411",
   "metadata": {},
   "outputs": [],
   "source": [
    "def prior_onegrow_mig(params, ns, pts):\n",
    "    \"\"\"\n",
    "    Model with growth, split, bottleneck in pop2, exp recovery, migration\n",
    "\n",
    "    params list is\n",
    "    nu1F: The ancestral population size after growth. (Its initial size is\n",
    "          defined to be 1.)\n",
    "    nu2B: The bottleneck size for pop2\n",
    "    nu2F: The final size for pop2\n",
    "    m: The scaled migration rate\n",
    "    Tp: The scaled time between ancestral population growth and the split.\n",
    "    T: The time between the split and present\n",
    "\n",
    "    ns = (n1,n2): Size of fs to generate.\n",
    "    pts: Number of points to use in grid for evaluation.\n",
    "    \"\"\"\n",
    "    nu1F, nu2B, nu2F, m, Tp, T = params\n",
    "    n1,n2 = ns\n",
    "    # Define the grid we'll use\n",
    "    xx = yy = dadi.Numerics.default_grid(pts)\n",
    "\n",
    "    # phi for the equilibrium ancestral population\n",
    "    phi = dadi.PhiManip.phi_1D(xx)\n",
    "    # Now do the population growth event.\n",
    "    phi = dadi.Integration.one_pop(phi, xx, Tp, nu=nu1F)\n",
    "\n",
    "    # The divergence\n",
    "    phi = dadi.PhiManip.phi_1D_to_2D(xx, phi)\n",
    "    # We need to define a function to describe the non-constant population 2\n",
    "    # size. lambda is a convenient way to do so.\n",
    "    nu2_func = lambda t: nu2B*(nu2F/nu2B)**(t/T)\n",
    "    phi = dadi.Integration.two_pops(phi, xx, T, nu1=nu1F, nu2=nu2_func, \n",
    "                                    m12=m, m21=m)\n",
    "\n",
    "    # Finally, calculate the spectrum.\n",
    "    sfs = dadi.Spectrum.from_phi(phi, (n1,n2), (xx,yy))\n",
    "    return sfs"
   ]
  },
  {
   "cell_type": "markdown",
   "id": "1611dd41",
   "metadata": {},
   "source": [
    "### Model specification using structure\n",
    "\n",
    "GADMA requieres number of epochs in the demographic history. It has several additional handlers for flexibility:\n",
    "- Enable/disable migrations\n",
    "- Enable/disable selection\n",
    "- Enable/disable dynamics of population size\n",
    "\n",
    "More information [here](https://gadma.readthedocs.io/en/latest/user_manual/set_model/set_model_struct.html).\n",
    "\n",
    "<img src=\"pictures/gadma.png\" width=\"700\" align=\"left\"/>"
   ]
  },
  {
   "cell_type": "markdown",
   "id": "1920774e",
   "metadata": {},
   "source": [
    "### Dynamics of population size change\n",
    "\n",
    "GADMA has flexible dynamics of population size change for model with structure.\n",
    "\n",
    "Population dynamic can be:\n",
    "\n",
    "- Constant (Sudden)\n",
    "- Linear\n",
    "- Exponential\n",
    "\n",
    "<img src=\"pictures/sudden.png\" width=\"150\" align=\"left\"/>\n",
    "<img src=\"pictures/linear.png\" width=\"150\" align=\"left\"/> \n",
    "<img src=\"pictures/exponential.png\" width=\"150\" align=\"left\"/>"
   ]
  },
  {
   "cell_type": "markdown",
   "id": "a5ee5ee7",
   "metadata": {},
   "source": [
    "### Notes about structure\n",
    "\n",
    "- Structure model could be used only for data of either 1, 2 or 3 populations. For 4 and 5 populations usual models could be used (custom models).\n",
    "- Structure should not be very complex: \\[3\\] for one population, \\[2, 1\\] for two populations and \\[2, 1, 1\\] for three populations is enough.\n",
    "- For three populations the most ancient population should be specified (in order to know the tree topology). It could be just sorted through all options.\n",
    "- GADMA has a special inference scheme when the structure is increased: it starts from the simple initial structure and then use more complex structures until reachs the final one. Please, use this option as it provides better estimations.\n"
   ]
  },
  {
   "cell_type": "markdown",
   "id": "24fbd9b0",
   "metadata": {},
   "source": [
    "--------\n",
    "## 3. Example Run of GADMA\n",
    "\n",
    "### Installation\n",
    "\n",
    "[Documentation on installation](https://gadma.readthedocs.io/en/latest/user_manual/installation.html#installing-the-latest-release)\n",
    "\n",
    "GADMA can be easily installed via `pip` or `conda`. Some of its engines (`momi2`) should be installed manually.\n",
    "\n"
   ]
  },
  {
   "cell_type": "code",
   "execution_count": null,
   "id": "cfd471f9",
   "metadata": {
    "scrolled": true
   },
   "outputs": [],
   "source": [
    "%%bash\n",
    "pip install gadma"
   ]
  },
  {
   "cell_type": "markdown",
   "id": "916d1421",
   "metadata": {},
   "source": [
    "### Run GADMA with the `--help` option"
   ]
  },
  {
   "cell_type": "code",
   "execution_count": null,
   "id": "1265ff84",
   "metadata": {},
   "outputs": [],
   "source": [
    "%%bash\n",
    "gadma --help"
   ]
  },
  {
   "cell_type": "markdown",
   "id": "fb2a6f80",
   "metadata": {},
   "source": [
    "### GADMA output\n",
    "\n",
    "[More information about GADMA output in the documentation](https://gadma.readthedocs.io/en/latest/user_manual/output.html)\n",
    "\n",
    "Before we run GADMA let us take a look at its output. GADMA was already run and it created an output directory.\n",
    "- Our run was saved in `outputs/gadma_outputs/gadma_output_2epochs`:"
   ]
  },
  {
   "cell_type": "code",
   "execution_count": 21,
   "id": "63b8b4e0",
   "metadata": {},
   "outputs": [
    {
     "name": "stdout",
     "output_type": "stream",
     "text": [
      "1\n",
      "2\n",
      "3\n",
      "4\n",
      "5\n",
      "6\n",
      "7\n",
      "8\n",
      "best_logLL_model_dadi_code.py\n",
      "best_logLL_model_demes_code.py.yml\n",
      "best_logLL_model_moments_code.py\n",
      "best_logLL_model.png\n",
      "extra_params_file\n",
      "GADMA.log\n",
      "params_file\n"
     ]
    }
   ],
   "source": [
    "%%bash\n",
    "ls outputs/gadma_outputs/gadma_output_2epochs/"
   ]
  },
  {
   "cell_type": "markdown",
   "id": "7e163dae",
   "metadata": {},
   "source": [
    "- All command line output is saved in file `GADMA.log`:"
   ]
  },
  {
   "cell_type": "code",
   "execution_count": 22,
   "id": "384e47bd",
   "metadata": {},
   "outputs": [
    {
     "name": "stdout",
     "output_type": "stream",
     "text": [
      "Data reading\n",
      "Number of populations: 1\n",
      "Projections: [10]\n",
      "Population labels: ['NN']\n",
      "Outgroup: True\n",
      "\u001b[92m--Successful data reading (0.00 s)--\u001b[0m\n",
      "\n",
      "\u001b[92m--Successful arguments parsing--\u001b[0m\n",
      "\n",
      "\u001b[93mUserWarning: Code for momentsLD will not be generated as data was not preprocessed for it (run gadma-precompute_ld_data script on the VCF file first)\u001b[0m (/Users/noskovae/anaconda3/envs/test_env/lib/python3.10/site-packages/gadma/cli/settings_storage.py:1507)\n",
      "Parameters of launch are saved in output directory: /Users/noskovae/Workspace/GADMA_workshops/2024-11-Demographic_Inference_Worshop/tutorials/3_GADMA_tutorial/outputs/gadma_outputs/gadma_output_2epochs/params_file\n",
      "All output is saved in output directory: /Users/noskovae/Workspace/GADMA_workshops/2024-11-Demographic_Inference_Worshop/tutorials/3_GADMA_tutorial/outputs/gadma_outputs/gadma_output_2epochs/GADMA.log\n",
      "\n",
      "\u001b[94m--Start pipeline--\u001b[0m\n",
      "\n",
      "[000:00:35]\n",
      "All best by log-likelihood models\n"
     ]
    }
   ],
   "source": [
    "%%bash\n",
    "head -17 outputs/gadma_outputs/gadma_output_2epochs/GADMA.log"
   ]
  },
  {
   "cell_type": "code",
   "execution_count": 23,
   "id": "50e6fc60",
   "metadata": {},
   "outputs": [
    {
     "name": "stdout",
     "output_type": "stream",
     "text": [
      "\n",
      "[000:00:35]\n",
      "All best by log-likelihood models\n",
      "Number\tlog-likelihood\tModel\tUnits\n",
      "Run 3\t-321.32\t [Nanc = 341520] [ [ 33374.263(t1), [25352.623(nu11)], [Exp(dyn11)] ] ]\tf\t(theta =  2505010.49)\tphysical, time in generations\n",
      "Run 5\t-321.59\t [Nanc = 341654] [ [ 33032.844(t1), [25021.191(nu11)], [Exp(dyn11)] ] ]\tf\t(theta =  2505993.70)\tphysical, time in generations\n",
      "Run 1\t-330.14\t [Nanc = 340861] [ [ 28810.085(t1), [21778.98(nu11)], [Exp(dyn11)] ] ]\tf\t(theta =  2500178.88)\tphysical, time in generations\n",
      "Run 2\t-336.72\t [Nanc = 342230] [ [ 60053.294(t1), [17229.572(nu11)], [Lin(dyn11)] ] ]\tf\t(theta =  2510220.05)\tphysical, time in generations\n",
      "Run 6\t-351.44\t [Nanc = 340302] [ [ 25162.454(t1), [18878.615(nu11)], [Exp(dyn11)] ] ]\tf\t(theta =  2496075.94)\tphysical, time in generations\n",
      "Run 7\t-382.33\t [Nanc = 339661] [ [ 8475.333(t1), [22256.275(nu11)], [Sud(dyn11)] ] ]\tf\t(theta =  2491378.75)\tphysical, time in generations\n",
      "Run 8\t-407.41\t [Nanc = 339399] [ [ 19692.63(t1), [14479.729(nu11)], [Exp(dyn11)] ] ]\tf\t(theta =  2489455.57)\tphysical, time in generations\n",
      "Run 4\t-608.06\t [Nanc = 345559] [ [ 88261.675(t1), [33511.503(nu11)], [Lin(dyn11)] ] ]\tf\t(theta =  2534634.56)\tphysical, time in generations\n",
      "\n",
      "You can find the picture and the Python code of the best model in the output directory.\n",
      "\n",
      "\n",
      "--Finish pipeline--\n",
      "\n",
      "\n",
      "If you use GADMA in your research please cite:\n",
      "[GADMA]\n",
      "Noskova et al., 2020: https://doi.org/10.1093/gigascience/giaa005\n",
      "Noskova et al., 2023: https://doi.org/10.1093/gigascience/giad059\n",
      "[Engine moments]\n",
      "Jouganous et al., 2017: https://doi.org/10.1534/genetics.117.200493\n",
      "\n",
      "More information about citations: https://gadma.readthedocs.io/en/latest/citations.html\n",
      "\n",
      "\n",
      "Thank you for using GADMA!\n",
      "\n",
      "In case of any questions or problems, please contact: ekaterina.e.noskova@gmail.com\n",
      "\n"
     ]
    }
   ],
   "source": [
    "%%bash\n",
    "tail -33 outputs/gadma_outputs/gadma_output_2epochs/GADMA.log"
   ]
  },
  {
   "cell_type": "markdown",
   "id": "22d01609",
   "metadata": {},
   "source": [
    "- Picture of the final history is saved in `outputs/gadma_outputs/gadma_output_2epochs/best_logLL_model.png`\n",
    "\n",
    "<img src=\"outputs/gadma_outputs/gadma_output_2epochs/best_logLL_model.png\" width=\"900\" align=\"left\"/>"
   ]
  },
  {
   "cell_type": "markdown",
   "id": "993e125f",
   "metadata": {},
   "source": [
    "- GADMA uses parameters file with specified options. Example of parameters file could be found [here](https://gadma.readthedocs.io/en/latest/user_manual/example_params_file.html)."
   ]
  },
  {
   "cell_type": "code",
   "execution_count": 24,
   "id": "8912ebf0",
   "metadata": {
    "scrolled": true
   },
   "outputs": [
    {
     "name": "stdout",
     "output_type": "stream",
     "text": [
      "#    This is a parameters file for GADMA software.\n",
      "\n",
      "#    Lines that begin with # are ignored.\n",
      "#    Comments at the end of a line are also ignored.\n",
      "#    Each line contains: Parameter identifier : value.\n",
      "\n",
      "#!!!     Indicates parameters that require special attention.\n",
      "\n",
      "#!!!\n",
      "#    Output directory for all GADMA outputs.\n",
      "#    This should be set to a missing or empty directory.\n",
      "#    If the process is resumed from another directory and the output \n",
      "#    directory is not specified, GADMA will append '_resumed' to the \n",
      "#    previous output directory.\n",
      "Output directory: /Users/noskovae/Workspace/GADMA_workshops/2024-11-Demographic_Inference_Worshop/tutorials/3_GADMA_tutorial/outputs/gadma_outputs/gadma_output_2epochs\n",
      "\n",
      "#!!!\n",
      "#    Input data can be in the form of an SFS file (should end with .fs), \n",
      "#    a SNP file in Dadi format (should end with .txt), or a \n",
      "#    VCF file along with a popmap file (sample population map).\n",
      "Input data: /Users/noskovae/Workspace/GADMA_workshops/2024-11-Demographic_Inference_Worshop/tutorials/3_GADMA_tutorial/outputs/easySFS_output/dadi/NN-10.sfs\n",
      "\n",
      "#    'Population labels' consist of a sequence of population names \n",
      "#    (these must match the names in the input file).\n",
      "#    If the .fs file is in an old format, it will rename population \n",
      "#    labels that are absent.\n",
      "#    They must be ordered from the most ancient to the least ancient \n",
      "#    (if there are more than two populations).\n",
      "#    This is important because the last formed population will be \n",
      "#    involved in the next split.\n",
      "#    For example, if we have YRI (African population), \n",
      "#    CEU (European population), and CHB (Chinese population),\n",
      "#    we can write YRI, CEU, CHB or YRI, CHB, CEU \n",
      "#    (YRI must be in the first position).\n",
      "#    Default: from input file\n",
      "Population labels: [NN]\n",
      "\n",
      "#    SFS projections: number of chromosomes for each population.\n",
      "#    It is also possible to downproject the spectrum to a smaller size.\n",
      "#    For example, if we have 40 diploid samples in each of three \n",
      "#    populations, then the full projections will be 80x80x80. We can \n",
      "#    project it by setting the 'Projections' parameter to [20, 20, 20].\n",
      "#    Default: from input file\n",
      "Projections: [10]\n",
      "\n",
      "#   To indicate if outgroup information is included in the SFS data,\n",
      "#   set the Outgroup option.\n",
      "#   If outgroup is False, then the SFS will be folded.\n",
      "#   Default: from input file\n",
      "Outgroup: True\n",
      "\n",
      "#   Effective length of the sequence used to build the SFS data.\n",
      "#   This should be used together with the Mutation rate and can be replaced\n",
      "#   by the Theta0 setting.\n",
      "#   Default: None\n",
      "Sequence length: 118000000\n",
      "\n",
      "#!!!\n",
      "#    Are the SNPs linked or unlinked?\n",
      "#    If they are linked, then the Composite Likelihood Akaike\n",
      "#    Information Criterion (CLAIC) will be used to compare models.\n",
      "#    If they are unlinked, then the standard Akaike Information Criterion \n",
      "#    (AIC) will be used.\n",
      "#    Default: True\n",
      "Linked SNP's: True\n",
      "\n",
      "#!!!\n",
      "#    If SNPs are linked, please set the directory containing \n",
      "#    the  bootstrapped data for CLAIC calculation. \n",
      "#    Bootstrapping should be done over regions of the genome.\n",
      "#    Default: None\n",
      "Directory with bootstrap: Null\n",
      "\n",
      "#!!!\n",
      "#    Now for the main parameters:\n",
      "#\n",
      "#    Engine for demographic inference.\n",
      "#    Default: moments\n",
      "Engine: moments\n",
      "\n",
      "#    If you choose to use Dadi, please set the 'pts' parameter - the number\n",
      "#    of points in the grid. Otherwise, you can still specify it: it will be\n",
      "#    used in Dadi's code.\n",
      "#    Default: Let n = max number of individuals in one population, \n",
      "#    then pts = n, n+10, n+20\n",
      "Pts: [10, 20, 30]\n",
      "\n",
      "#!!!\n",
      "#    Print parameters of the model in units of N_ref = N_A.\n",
      "#    N_A will be placed in brackets at the end of the string.\n",
      "#    Default: False\n",
      "Relative parameters: False\n",
      "\n",
      "#    Total mutation flux - theta.\n",
      "#    It is equal to:\n",
      "#    theta = 4 * μ * L\n",
      "#    where μ is the mutation rate per site per generation and \n",
      "#    L is the effective sequenced length, which accounts for losses \n",
      "#    in alignment and missed calls.\n",
      "#    Note: μ should be estimated based on generation time.\n",
      "#    Default: 1.0\n",
      "Theta0: Null\n",
      "\n",
      "#   Instead of Theta0, the mutation rate can be set independently.\n",
      "#   This should be used together with the Sequence length option.\n",
      "#   Default: None\n",
      "Mutation rate: 1.554e-08\n",
      "\n",
      "#    Recombination rate. Required for momentsLD engine.\n",
      "#    Default: None\n",
      "Recombination rate: Null\n",
      "\n",
      "#    Time (in years) for one generation. Can be a float. \n",
      "#    This is important for drawing models. If you do not wish to draw, \n",
      "#    you may skip this parameter.\n",
      "#    Default: 1.0\n",
      "Time for generation: Null\n",
      "\n",
      "#!!!\n",
      "#    You must choose the demographic history to infer.\n",
      "#    It can be custom or set up with structure.\n",
      "\n",
      "# 1. Using a custom demographic model.\n",
      "#    Please specify a file containing a function named 'model_func'. \n",
      "#    The file should contain:\n",
      "#    def model_func(params, ns, pts) for Dadi\n",
      "#    or\n",
      "#    def model_func(params, ns) for moments\n",
      "#    Default: None\n",
      "Custom filename: Null\n",
      "\n",
      "#    You must now specify either bounds or identifiers for the\n",
      "#    parameters  of the custom model. All values are in genetic units.\n",
      "#    Lower and upper bounds are lists of numbers.\n",
      "#    Common bounds:\n",
      "#    N: 1e-2 - 100\n",
      "#    T: 0 - 5\n",
      "#    m: 0 - 10\n",
      "#    s: 0 - 1\n",
      "#    These bounds will be applied automatically if identifiers are set.\n",
      "#    Default: None\n",
      "Lower bound: Null\n",
      "Upper bound: Null\n",
      "\n",
      "#    An identifier list:\n",
      "#    T - time\n",
      "#    N - size of population\n",
      "#    m - migration\n",
      "#    s - split event, representing the proportion of population size\n",
      "#    divided to form two new populations.\n",
      "#    Default: None\n",
      "Parameter identifiers: Null\n",
      "\n",
      "# 2. Structure is for non-custom models!\n",
      "#    Structure of the model for one population - number of time periods \n",
      "#    (e.g., 5).\n",
      "#    Structure of the model for two populations - number of time periods\n",
      "#    before the split of the ancestral population and after it (e.g., 2,2).\n",
      "#    Structure of the model for three populations - number of time periods\n",
      "#    before the first split, between the first and second splits, and after \n",
      "#    the second split (e.g., 2,1,2).\n",
      "#\n",
      "#    Initial model structure:\n",
      "#    Default: all ones - 1 or 1,1 or 1,1,1\n",
      "Initial structure: [1]\n",
      "\n",
      "#    Final model structure:\n",
      "#    Default: equals the initial structure\n",
      "Final structure: [2]\n",
      "\n",
      "#!!!\n",
      "#    Additional settings for demographic models with structure.\n",
      "#\n",
      "#    Use sudden changes in population sizes only. This reduces \n",
      "#    the number of parameters.\n",
      "#    Default: False\n",
      "Only sudden: False\n",
      "\n",
      "#    The set of available size dynamics can be any subset.\n",
      "#    'Sud' stands for sudden size change (constant during the next time epoch),\n",
      "#    'Lin' for linear size change,\n",
      "#    'Exp' for exponential size change.\n",
      "#    If 'Only sudden' is True, then this setting will be [Sud].\n",
      "#    Default: [Sud, Lin, Exp]\n",
      "Dynamics: [Sud, Lin, Exp]\n",
      "\n",
      "#    Disable migrations in demographic models.\n",
      "#    Default: False\n",
      "No migrations: False\n",
      "\n",
      "#   Make all migrations symmetrical.\n",
      "#   Default: False\n",
      "Symmetric migrations: False\n",
      "\n",
      "#   Enable or disable migrations selectively.\n",
      "#   Default: None\n",
      "Migration masks: Null\n",
      "\n",
      "#    Enable or disable inference of selection coefficients.\n",
      "#    Supported only by moments and Dadi engines.\n",
      "#    Default: False\n",
      "Selection: False\n",
      "\n",
      "#    Enable or disable inference of the dominance coefficient.\n",
      "#    If True, then the 'Selection' setting must also be True.\n",
      "#    Supported only by moments and Dadi engines.\n",
      "#    Default: False\n",
      "Dominance: False\n",
      "\n",
      "#   Estimate the fraction of the ancestral population as a parameter of the\n",
      "#   split. If False, then the population splits and each of the new\n",
      "#   populations has its own size as a parameter of the model.\n",
      "#   Default: False\n",
      "Split fractions: False\n",
      "\n",
      "#   Estimate inbreeding coefficients as model parameters.\n",
      "#   Can be used only with the Dadi engine.\n",
      "#   Default: False\n",
      "Inbreeding: False\n",
      "\n",
      "#   If False, then a multinomial approach is used in Dadi and moments.\n",
      "#   In the multinomial approach, the ancestral size is inferred implicitly.\n",
      "#   Default: False\n",
      "Ancestral size as parameter: False\n",
      "\n",
      "#    It is possible to limit the time of splits by specifying bounds.\n",
      "#    Split 1 is the most ancient split.\n",
      "#    !Note that time is measured in generations:\n",
      "#    e.g., to limit by 150 kya, if time for one generation is \n"
     ]
    },
    {
     "name": "stdout",
     "output_type": "stream",
     "text": [
      "#    25 years, then the bound will be 150000 / 25 = 6000.\n",
      "#\n",
      "#    Lower bound for split 1 (for 2 or 3 populations).\n",
      "#    Default: None\n",
      "Lower bound of first split: Null\n",
      "\n",
      "#    Upper bound for split 1 (in case of 2 or 3 populations).\n",
      "#    Default: None\n",
      "Upper bound of first split: Null\n",
      "\n",
      "#    Lower bound for split 2 (in case of 3 populations).\n",
      "#    Default: None\n",
      "Lower bound of second split: Null\n",
      "\n",
      "#    Upper bound for split 2 (in case of 3 populations).\n",
      "#    Default: None\n",
      "Upper bound of second split: Null\n",
      "\n",
      "#!!!\n",
      "#    Local optimization.\n",
      "#\n",
      "#    Choice of local optimization that is launched after \n",
      "#    each genetic algorithm.\n",
      "#    Choices:\n",
      "#\n",
      "#    *    optimize (BFGS method)\n",
      "#    \n",
      "#    *    optimize_log (BFGS method)\n",
      "#    \n",
      "#    *    optimize_powell (Powell’s conjugate direction method)\n",
      "#    (Note: implemented in moments; one needs to have moments \n",
      "#    installed.)\n",
      "#\n",
      "#    (If optimizations often hit the parameter bounds, \n",
      "#    try using these methods:)\n",
      "#    *    optimize_lbfgsb\n",
      "#    *    optimize_log_lbfgsb \n",
      "#    (Note that it is generally best to start with the vanilla BFGS \n",
      "#    methods, as the L-BFGS-B methods will always test parameter\n",
      "#    values at the bounds during the search. This can dramatically \n",
      "#    slow down model fitting.)\n",
      "#\n",
      "#    *    optimize_log_fmin (simplex (a.k.a. amoeba) method)\n",
      "#    \n",
      "#    *    hill_climbing\n",
      "#    \n",
      "#    Default: optimize_powell\n",
      "Local optimizer: BFGS_log\n",
      "\n",
      "#    Parameters of the pipeline.\n",
      "#\n",
      "#    One can automatically generate dadi and moments code for models.\n",
      "#    If set to 0, only the current best model will be printed in the GA's \n",
      "#    working directory. The resulting model will also be saved there. \n",
      "#    If specified (not 0), then every N iterations, the model will be saved\n",
      "#    in the Python code folder.\n",
      "#    Default: 0\n",
      "Print models' code every N iteration: 0\n",
      "\n",
      "#    Engine that will draw demographic model plots.\n",
      "#    Can be moments or demes.\n",
      "#    Default: moments\n",
      "Model plot engine: demes\n",
      "\n",
      "#    One can automatically draw models every N iterations. \n",
      "#    If set to 0, models will never be drawn.\n",
      "#    Pictures are saved in the GA's directory in the picture folder.\n",
      "#    Default: 0\n",
      "Draw models every N iteration: 0\n",
      "\n",
      "#    One can choose time units in model plots: years or thousands \n",
      "#    of years (kya, KYA). If time for one generation is not specified, \n",
      "#    time will be represented in genetic units.\n",
      "#    Default: years\n",
      "Units of time in drawing: years\n",
      "\n",
      "#    Minimum value to be drawn in SFS plots.\n",
      "#    Default: 1\n",
      "Vmin: 1\n",
      "\n",
      "#    Suppresses standard output.\n",
      "#    Default: False\n",
      "Silence: False\n",
      "\n",
      "#    Verbosity level for optimization output.\n",
      "#    Default: 1\n",
      "Verbose: 1\n",
      "\n",
      "#    How many times to launch GADMA with these parameters.\n",
      "#    Default: 1\n",
      "Number of repeats: 8\n",
      "\n",
      "#    How many processes to use for these repeats.\n",
      "#    Note that one repeat is not parallelized, so increasing the number\n",
      "#    of processes will not affect the time of one repeat.\n",
      "#    It is advisable that the number of repeats is a multiple of \n",
      "#    the number of processes.\n",
      "#    Default: 1\n",
      "Number of processes: 4\n",
      "\n",
      "#    One can resume from a previous GADMA run by setting\n",
      "#    the output directory of that run in the 'Resume from' parameter.\n",
      "#    New parameters for the resumed run can be set again.\n",
      "Resume from: Null\n",
      "\n",
      "#    If you want to only take models from the previous run, set this \n",
      "#    flag. Iterations of the GA will then start from 0, and values for\n",
      "#    the mutation rate and strength will be initial.\n",
      "#    Default: None\n",
      "Only models: False\n"
     ]
    }
   ],
   "source": [
    "%%bash\n",
    "cat outputs/gadma_outputs/gadma_output_2epochs/params_file"
   ]
  },
  {
   "cell_type": "markdown",
   "id": "c611a179",
   "metadata": {},
   "source": [
    "- Each repeat of GADMA run is saved in its own folder:"
   ]
  },
  {
   "cell_type": "code",
   "execution_count": 25,
   "id": "d76aaee0",
   "metadata": {},
   "outputs": [
    {
     "name": "stdout",
     "output_type": "stream",
     "text": [
      "current_best_logLL_model_dadi_code.py\n",
      "current_best_logLL_model_demes_code.py.yml\n",
      "current_best_logLL_model_moments_code.py\n",
      "eval_file\n",
      "final_best_logLL_model_dadi_code.py\n",
      "final_best_logLL_model_demes_code.py.yml\n",
      "final_best_logLL_model_moments_code.py\n",
      "final_best_logLL_model.png\n",
      "GADMA_GA.log\n",
      "save_file_1\n",
      "save_file_2\n"
     ]
    }
   ],
   "source": [
    "%%bash\n",
    "ls outputs/gadma_outputs/gadma_output_2epochs/1"
   ]
  },
  {
   "cell_type": "markdown",
   "id": "8f463a4b",
   "metadata": {},
   "source": [
    "### Run GADMA for one-epoch demographic history inference\n",
    "\n",
    "Let us run GADMA for our data. We need to specify params_file for GADMA with options. We will use moments in our example, but you can choose either `dadi` or `momi2` as well (they are also SFS-based engines)."
   ]
  },
  {
   "cell_type": "code",
   "execution_count": null,
   "id": "44d6d02e",
   "metadata": {},
   "outputs": [],
   "source": [
    "%%bash\n",
    "cat gadma_params_files/gadma_params_file_1epoch"
   ]
  },
  {
   "cell_type": "code",
   "execution_count": null,
   "id": "854c999d",
   "metadata": {
    "scrolled": true
   },
   "outputs": [],
   "source": [
    "%%bash\n",
    "rm -rf outputs/gadma_outputs/gadma_output_1epoch\n",
    "gadma -p gadma_params_files/gadma_params_file_1epoch"
   ]
  },
  {
   "cell_type": "raw",
   "id": "78580dcf-313c-4d0e-9d32-6e9f24e9864a",
   "metadata": {},
   "source": [
    "[comment]: <Change type of this cell from Raw to Markdown to show the picture> \n",
    "Result demographic history (`outputs/gadma_outputs/gadma_output_1epoch/best_logLL_model.png` file):\n",
    "<img src=\"outputs/gadma_outputs/gadma_output_1epoch/best_logLL_model.png\" width=\"900\" align=\"left\"/>"
   ]
  },
  {
   "cell_type": "markdown",
   "id": "3099e659",
   "metadata": {},
   "source": [
    "### Run GADMA for two-epoch demographic history inference"
   ]
  },
  {
   "cell_type": "code",
   "execution_count": null,
   "id": "6e6c78ff",
   "metadata": {},
   "outputs": [],
   "source": [
    "%%bash\n",
    "cat gadma_params_files/gadma_params_file_2epochs"
   ]
  },
  {
   "cell_type": "code",
   "execution_count": null,
   "id": "abc089cb",
   "metadata": {
    "scrolled": true
   },
   "outputs": [],
   "source": [
    "%%bash\n",
    "rm -rf outputs/gadma_outputs/gadma_output_2epochs\n",
    "gadma -p gadma_params_files/gadma_params_file_2epochs"
   ]
  },
  {
   "cell_type": "raw",
   "id": "76e7b662-de7e-4a94-9d55-d49c6624f713",
   "metadata": {},
   "source": [
    "[comment]: <Change type of this cell from Raw to Markdown to show the picture> \n",
    "Result demographic history (`outputs/gadma_outputs/gadma_output_2epochs/best_logLL_model.png` file):\n",
    "<img src=\"outputs/gadma_outputs/gadma_output_2epochs/best_logLL_model.png\" width=\"900\" align=\"left\"/>"
   ]
  },
  {
   "cell_type": "markdown",
   "id": "b272fd0f",
   "metadata": {},
   "source": [
    "### Run GADMA for two-epoch demographic history inference with wide bounds"
   ]
  },
  {
   "cell_type": "markdown",
   "id": "ecc49102",
   "metadata": {},
   "source": [
    "Sometimes GADMA prints:\n",
    "```text\n",
    "INFO: Some parameters of the best model hit their bounds: nu11 hit lower bounds\n",
    "```\n",
    "\n",
    "The bounds for the parameters are the following (they are located in the `extra_params_file`, more information is [here](https://gadma.readthedocs.io/en/latest/user_manual/extra_params_file.html)):\n",
    "- Minimum population size `min_N` = $0.01 (\\cdot N_{anc})$\n",
    "- Maximum population size `max_N` = $100 (\\cdot N_{anc})$\n",
    "- Minimum epoch time `min_T` = ~$0$\n",
    "- Maximum epoch time `max_T` = $5 (\\cdot 2 \\cdot N_{anc})$\n",
    "- Minimum migration rate `min_m` = $0$\n",
    "- Maximum migration rate `max_m` = $10 (/ (2\\cdot N_{anc}))$\n",
    "\n",
    "All values for `dadi` and `moments` are in genetic units. We should check the parameters in output file with code. We are looking for `p0`:"
   ]
  },
  {
   "cell_type": "code",
   "execution_count": null,
   "id": "13e4fb40",
   "metadata": {},
   "outputs": [],
   "source": [
    "%%bash\n",
    "head -20 outputs/gadma_outputs/gadma_output_2epochs/best_logLL_model_moments_code.py"
   ]
  },
  {
   "cell_type": "code",
   "execution_count": null,
   "id": "836a0cce",
   "metadata": {},
   "outputs": [],
   "source": [
    "%%bash\n",
    "cat gadma_params_files/gadma_params_file_2epochs_wide_bounds"
   ]
  },
  {
   "cell_type": "code",
   "execution_count": null,
   "id": "3ff8a0b0",
   "metadata": {
    "scrolled": true
   },
   "outputs": [],
   "source": [
    "%%bash\n",
    "rm -rf outputs/gadma_outputs/gadma_output_2epochs_wide_bounds\n",
    "gadma -p gadma_params_files/gadma_params_file_2epochs_wide_bounds"
   ]
  },
  {
   "cell_type": "raw",
   "id": "7639934a-e8bd-48d9-9e1a-7406545473ca",
   "metadata": {},
   "source": [
    "[comment]: <Change type of this cell from Raw to Markdown to show the picture> \n",
    "Result demographic history (file `outputs/gadma_outputs/gadma_output_2epochs_wide_bounds/best_logLL_model.png`):\n",
    "<img src=\"outputs/gadma_outputs/gadma_output_2epochs_wide_bounds/best_logLL_model.png\" width=\"900\" align=\"left\"/>"
   ]
  },
  {
   "cell_type": "markdown",
   "id": "0f62d8d6",
   "metadata": {},
   "source": [
    "### Run GADMA for three-epoch demographic history inference using previous runs"
   ]
  },
  {
   "cell_type": "code",
   "execution_count": null,
   "id": "834d04db",
   "metadata": {},
   "outputs": [],
   "source": [
    "%%bash\n",
    "cat gadma_params_files/gadma_resume_3epochs"
   ]
  },
  {
   "cell_type": "code",
   "execution_count": null,
   "id": "be5a3d8b",
   "metadata": {},
   "outputs": [],
   "source": [
    "%%bash\n",
    "gadma --resume outputs/gadma_outputs/gadma_output_2epochs_wide_bounds \\\n",
    "-p gadma_params_files/gadma_resume_3epochs \\\n",
    "-o outputs/gadma_outputs/gadma_output_3epochs"
   ]
  },
  {
   "cell_type": "raw",
   "id": "9e8192a6-b225-4f41-985e-bdf6b705af83",
   "metadata": {},
   "source": [
    "[comment]: <Change type of this cell from Raw to Markdown to show the picture> \n",
    "Result demographic history (`outputs/gadma_outputs/gadma_output_3epochs/best_logLL_model.png` file):\n",
    "<img src=\"outputs/gadma_outputs/gadma_output_3epochs/best_logLL_model.png\" width=\"900\" align=\"left\"/>"
   ]
  },
  {
   "cell_type": "markdown",
   "id": "5dd16d81-75af-468f-bf4f-b54aa693f381",
   "metadata": {},
   "source": [
    "### Reconstruct the Likelihood\n",
    "\n",
    "We can obtain the likelihood of the best result by running generated code from GADMA:"
   ]
  },
  {
   "cell_type": "code",
   "execution_count": null,
   "id": "f5299f2f-3715-44b4-9f99-5a31e0fd752a",
   "metadata": {},
   "outputs": [],
   "source": [
    "%%bash\n",
    "python outputs/gadma_outputs/gadma_output_3epochs/best_logLL_model_moments_code.py"
   ]
  },
  {
   "cell_type": "markdown",
   "id": "064931d0-5869-404d-8cc2-b2b91c10b5ca",
   "metadata": {},
   "source": [
    "---\n",
    "## 4. Hands On!\n",
    "\n",
    "Repeat this tutorial on your computer and obtain the results. Please send your results to us [here](https://forms.gle/cs6xY7y9pUA3AaBH7).\n",
    "\n",
    "You can change run options if you like:\n",
    "* Use different engine: e.g. `dadi`\n",
    "* Use time for one generation of 7 years\n",
    "* Any other option"
   ]
  },
  {
   "cell_type": "code",
   "execution_count": null,
   "id": "c2d83603-12d6-475a-8256-d12afff1acc6",
   "metadata": {},
   "outputs": [],
   "source": []
  }
 ],
 "metadata": {
  "kernelspec": {
   "display_name": "Python 3 (ipykernel)",
   "language": "python",
   "name": "python3"
  },
  "language_info": {
   "codemirror_mode": {
    "name": "ipython",
    "version": 3
   },
   "file_extension": ".py",
   "mimetype": "text/x-python",
   "name": "python",
   "nbconvert_exporter": "python",
   "pygments_lexer": "ipython3",
   "version": "3.8.18"
  }
 },
 "nbformat": 4,
 "nbformat_minor": 5
}
