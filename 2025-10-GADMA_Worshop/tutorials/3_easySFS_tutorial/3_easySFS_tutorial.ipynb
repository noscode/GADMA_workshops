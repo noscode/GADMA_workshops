{
 "cells": [
  {
   "cell_type": "markdown",
   "id": "c59f50b6",
   "metadata": {},
   "source": [
    "# EasySFS Tutorial\n",
    "\n",
    "## Outline\n",
    "1. Basics of the SFS\n",
    "2. Our Dataset\n",
    "3. Overview of `easySFS`\n",
    "4. Example Run of `easySFS`"
   ]
  },
  {
   "cell_type": "markdown",
   "id": "e5aae8a8",
   "metadata": {},
   "source": [
    "-----\n",
    "## 1. Basics of the SFS\n",
    "\n",
    "### What is the SFS?\n",
    "\n",
    "Site frequency spectrum or allele frequency spectrum is a joint distribution of allele frequencies among population.\n",
    "\n",
    "- One population. SFS is vector $S$ of values, Entry $S[i]$ contains number of positions where derived allele occured in $i$ hyplotype samples.\n",
    "<div>\n",
    "<img src=\"pictures/1d_plot.png\" width=\"300\" align=\"left\" />\n",
    "</div>"
   ]
  },
  {
   "cell_type": "markdown",
   "id": "72b0b67a",
   "metadata": {},
   "source": [
    "- Two populations. SFS is a 2-dimentional matrix where entry $S[i, j]$ corresponds to the number of positions where the derived alleles occured in $i$ haplotype samples in population 1 and in $j$ haplotype samples in population 2.\n",
    "<div>\n",
    "<img src=\"pictures/2d_plot.png\" width=\"250\" align=\"left\" />\n",
    "</div>"
   ]
  },
  {
   "cell_type": "markdown",
   "id": "8ecc1d82",
   "metadata": {},
   "source": [
    "- $P$ populations. SFS is a $P$-dimentional tensor. Example for three populations:\n",
    "<div>\n",
    "<img src=\"pictures/3d_plot.png\" width=\"300\" align=\"left\" />\n",
    "</div>"
   ]
  },
  {
   "cell_type": "markdown",
   "id": "66c93ca9",
   "metadata": {},
   "source": [
    "### Ignore monomorphic bins\n",
    "\n",
    "SFS bin that corresponds to the frequency 0 per population contains number of monomorphic positions with the ancestral allele. Some tools (`dadi`, `moments`, `momi2`) ignore that value as it could be easily evaluated from total sequence length and other values of SFS.\n",
    "\n",
    "For almost the same reason the bin with maximum frequency per population is excluded from the analisys. The number of sites with fixed derived allele is relatively small and, moreover, could be a consequence of false ancestral allele identification.\n",
    "\n",
    "On the plots above both monomorphic bins are excluded. The monomorphic bin with 0 frequency is usually very high as most sites are monomorphic, and, thus, including it to the plot will lead to the severe disproportions of other bins."
   ]
  },
  {
   "cell_type": "markdown",
   "id": "261ae65a",
   "metadata": {},
   "source": [
    "### What if we do not know the derived allele? (SFS folding)\n",
    "\n",
    "Sometimes outgroup information is missed. In that case we can use minor allele frequencies (MAF) to build our SFS. The MAF SFS can be easily built from the usual SFS. This process is called *folding* and MAF SFS is called *folded SFS*.\n",
    "\n",
    "- Example of the SFS folding in case of one population:\n",
    "\n",
    "    Unfolded and folded SFS correspondingly:\n",
    "\n",
    "    <img src=\"pictures/1d_plot_before_folding.png\" width=\"300\" align=\"left\"/>\n",
    "    <img src=\"pictures/1d_plot_after_folding.png\" width=\"300\" align=\"left\"/>"
   ]
  },
  {
   "cell_type": "markdown",
   "id": "201987d2",
   "metadata": {},
   "source": [
    "- Example of the SFS folding in case of two populations:\n",
    "\n",
    "    Unfolded and folded SFS correspondingly:\n",
    "    \n",
    "    <img src=\"pictures/2d_plot_before_folding.png\" width=\"250\" align=\"left\"/>\n",
    "    <img src=\"pictures/2d_plot_after_folding.png\" width=\"250\" align=\"left\"/>"
   ]
  },
  {
   "cell_type": "markdown",
   "id": "005b6417",
   "metadata": {},
   "source": [
    "-----\n",
    "## 2.  Our Dataset\n",
    "\n",
    "We have a dataset for clouded leopards (*Neofelis nebulosa*). It is an example data for one contig (10,000,000 bp) for 10 diploid individuals (20 haploid samples).\n",
    "\n",
    "All the data is available in the `../2_data_preparation_tutorial/data` folder:"
   ]
  },
  {
   "cell_type": "code",
   "execution_count": 1,
   "id": "4256f232",
   "metadata": {},
   "outputs": [
    {
     "name": "stdout",
     "output_type": "stream",
     "text": [
      "biallelic_snps.vcf\n",
      "example_data.vcf\n",
      "popmap.txt\n",
      "pruned_variants.log\n",
      "pruned_variants.nosex\n",
      "pruned_variants.prune.in\n",
      "pruned_variants.prune.out\n",
      "pruned_variants.vcf\n"
     ]
    }
   ],
   "source": [
    "%%bash\n",
    "ls ../2_data_preparation_tutorial/data"
   ]
  },
  {
   "cell_type": "markdown",
   "id": "1c8536cc",
   "metadata": {},
   "source": [
    "- File `data/example_data.vcf` is our VCF file for all 10 individuals (single chromosome of 10,000,000 bp):"
   ]
  },
  {
   "cell_type": "code",
   "execution_count": 2,
   "id": "ea4436e1",
   "metadata": {},
   "outputs": [
    {
     "name": "stdout",
     "output_type": "stream",
     "text": [
      "##fileformat=VCFv4.2\n",
      "##FILTER=<ID=PASS,Description=\"All filters passed\">\n",
      "##source=tskit 0.5.7\n",
      "##contig=<ID=CONTIG1,length=10000000>\n",
      "##FORMAT=<ID=GT,Number=1,Type=String,Description=\"Genotype\">\n",
      "#CHROM\tPOS\tID\tREF\tALT\tQUAL\tFILTER\tINFO\tFORMAT\tLeopard01\tLeopard02\tLeopard03\tLeopard04\tLeopard05\tLeopard06\tLeopard07\tLeopard08\tLeopard09\tLeopard10\n"
     ]
    }
   ],
   "source": [
    "%%bash\n",
    "# First five lines\n",
    "head -6 ../2_data_preparation_tutorial/data/example_data.vcf"
   ]
  },
  {
   "cell_type": "code",
   "execution_count": 3,
   "id": "d0767964",
   "metadata": {},
   "outputs": [
    {
     "name": "stdout",
     "output_type": "stream",
     "text": [
      "#CHROM\tPOS\tID\tREF\tALT\tQUAL\tFILTER\tINFO\tFORMAT\tLeopard01\tLeopard02\tLeopard03\tLeopard04\tLeopard05\tLeopard06\tLeopard07\tLeopard08\tLeopard09\tLeopard10\n"
     ]
    }
   ],
   "source": [
    "%%bash\n",
    "# The header line of the VCF file (we take first 84 lines of file and then show the last one)\n",
    "head -6 ../2_data_preparation_tutorial/data/example_data.vcf | tail -1"
   ]
  },
  {
   "cell_type": "markdown",
   "id": "844d6cb6",
   "metadata": {},
   "source": [
    "- File `data/popmap.txt` provides population assignments per individual (all our individuals are from the same population that is marked as `NN`):"
   ]
  },
  {
   "cell_type": "code",
   "execution_count": 4,
   "id": "39bbbe79",
   "metadata": {},
   "outputs": [
    {
     "name": "stdout",
     "output_type": "stream",
     "text": [
      "Leopard01 NN\n",
      "Leopard02 NN\n",
      "Leopard03 NN\n",
      "Leopard04 NN\n",
      "Leopard05 NN\n",
      "Leopard06 NN\n",
      "Leopard07 NN\n",
      "Leopard08 NN\n",
      "Leopard09 NN\n",
      "Leopard10 NN\n"
     ]
    }
   ],
   "source": [
    "%%bash\n",
    "cat ../2_data_preparation_tutorial/data/popmap.txt"
   ]
  },
  {
   "cell_type": "markdown",
   "id": "dbcac6b3",
   "metadata": {},
   "source": [
    "-----\n",
    "## 4. Overview of `easySFS`"
   ]
  },
  {
   "cell_type": "markdown",
   "id": "71e102c0",
   "metadata": {},
   "source": [
    "### What is [easySFS](https://github.com/isaacovercast/easySFS#install--run)?\n",
    "- A tool for SFS construction from the VCF file.\n",
    "- Generates SFS in several formats: `dadi`/`fastsimcoal2`/`momi2` (GADMA accepts all of them)\n",
    "- Provides means to project SFS down to account for missed data.\n",
    "- Allows to focus SFS on the independent SNP's (for RADSeq-like data only!)\n",
    "\n",
    "(Unfortunately, no paper to cite, however, authors ask to credit [\\[Gutenkunst et al. 2009\\]](https://doi.org/10.1371/journal.pgen.1000695))\n",
    "\n",
    "### What is the SFS projection?\n",
    "Assume we have two different datasets with different numbers of samples. We construct two SFS and want to compare them, but they are of different size. SFS is a histogram of allele frequencies and it is possible to downsize or project it. Thus, we could downsize both spectra to some smaller size and compare them.\n",
    "\n",
    "### Some intuition about SFS projection\n",
    "\n",
    "Let us get some intuition about how to use information from the bigger SFS for its projection.\n",
    "\n",
    "Assume we have the following data ($A$ stands for ancestral allele and $T$ for derived allele):\n",
    "\n",
    "- Sample 1: $A\\ A\\ A\\ T\\ A$\n",
    "- Sample 2: $A\\ A\\ T\\ A\\ A$\n",
    "- Sample 3: $A\\ A\\ T\\ T\\ \\ .$\n",
    "- Sample 4: $T\\ A\\ T\\ A\\ A$\n",
    "\n",
    "and we want to build projection of the SFS on three samples.\n",
    "\n",
    "We can see that the derived allele has frequency of $1/4$ (one out of four) among four samples on the first position.\n",
    "Let us subsample three individuals from given four samples and compute the frequency of derived allele on the first position. We can choose samples 1, 2, 3 and obtain $0/3$ frequency (with probability $p_1=0.75$) or we can obtain frequency of $1/3$ by choosing sample 4 and any other two samples (with probability $p_2 = 0.25$).\n",
    "\n",
    "Thus, for our SFS projection we can put value equal to $p_1$ in the $0/3$ bin and value of $p_2$ in the $1/3$ bin.\n",
    "\n",
    "The third position has derived allele frequency of $3/4$. We can obtain frequency of $3/3$ by choosing samples 2, 3, 4 and frequency of $2/3$ by choosing sample 1 and any other two samples.\n",
    "\n",
    "Having the probabilities of each subsampling frequency (see [hypergeometric distribution](https://en.wikipedia.org/wiki/Hypergeometric_distribution)) we can build new SFS with smaller size.\n",
    "\n",
    "### Accounting for the missed data\n",
    "\n",
    "SFS projection can easy account for missed information! For the last position in our example data we just add $1$ to the frequency $0/3$ of the projected SFS. That is exactly what `easySFS` does.\n"
   ]
  },
  {
   "cell_type": "markdown",
   "id": "af67c90a",
   "metadata": {},
   "source": [
    "--------\n",
    "## 5. Example Run of `easySFS`\n",
    "\n",
    "### Installation\n",
    "\n",
    "Resources: [more information about installation of easySFS](https://github.com/isaacovercast/easySFS#install--run)\n",
    "\n",
    "Download `easySFS` from GitHub repo:"
   ]
  },
  {
   "cell_type": "code",
   "execution_count": 5,
   "id": "e3f761e1",
   "metadata": {},
   "outputs": [
    {
     "name": "stderr",
     "output_type": "stream",
     "text": [
      "Cloning into 'easySFS'...\n"
     ]
    },
    {
     "name": "stdout",
     "output_type": "stream",
     "text": [
      "easySFS.py\n",
      "example_files\n",
      "jupyter-notebooks\n",
      "README.md\n",
      "Spectrum.py\n"
     ]
    }
   ],
   "source": [
    "%%bash\n",
    "git clone https://github.com/isaacovercast/easySFS.git\n",
    "ls easySFS"
   ]
  },
  {
   "cell_type": "markdown",
   "id": "93576e79",
   "metadata": {},
   "source": [
    "### Run `easySFS` with the `--help` option"
   ]
  },
  {
   "cell_type": "code",
   "execution_count": 6,
   "id": "3f4dac67",
   "metadata": {},
   "outputs": [
    {
     "name": "stdout",
     "output_type": "stream",
     "text": [
      "usage: easySFS.py [-h] -i VCF_NAME -p POPULATIONS [-o OUTDIR]\n",
      "                  [--proj PROJECTIONS] [--preview] [--ploidy PLOIDY]\n",
      "                  [--prefix PREFIX] [--unfolded] [--order POP_ORDER]\n",
      "                  [--dtype DTYPE] [--GQ GQUAL] [--total-length TOTAL_LENGTH]\n",
      "                  [--window-bp WINDOW_BP] [--window-snp WINDOW_SNP] [-a] [-f]\n",
      "                  [-y] [-v]\n",
      "\n",
      "options:\n",
      "  -h, --help            show this help message and exit\n",
      "  -i VCF_NAME           name of the VCF input file being converted\n",
      "  -p POPULATIONS        Input file containing population assignments per\n",
      "                        individual\n",
      "  -o OUTDIR             Directory to write output SFS to\n",
      "  --proj PROJECTIONS    List of values for projecting populations down to\n",
      "                        different sample sizes\n",
      "  --preview             Preview the number of segragating sites per population\n",
      "                        for different projection values.\n",
      "  --ploidy PLOIDY       Specify ploidy. Default is 2. Only other option is 1\n",
      "                        for haploid.\n",
      "  --prefix PREFIX       Prefix for all output SFS files names.\n",
      "  --unfolded            Generate unfolded SFS. This assumes that your vcf file\n",
      "                        is accurately polarized.\n",
      "  --order POP_ORDER     Specify the order of populations for the generated\n",
      "                        sfs. Values for --proj should be in this order as\n",
      "                        well.\n",
      "  --dtype DTYPE         Data type for use in output sfs. Options are `int` and\n",
      "                        `float`. Default is `float`.\n",
      "  --GQ GQUAL            minimum genotype quality tolerated\n",
      "  --total-length TOTAL_LENGTH\n",
      "                        total sequence length of input data (for accurate zero\n",
      "                        bin)\n",
      "  --window-bp WINDOW_BP\n",
      "                        Select SNPs based on window size in base pairs\n",
      "  --window-snp WINDOW_SNP\n",
      "                        Select SNPs based on window size in number of SNPs\n",
      "  -a                    Keep all snps within each RAD locus (ie. do _not_\n",
      "                        randomly sample 1 snp per locus).\n",
      "  -f                    Force overwriting directories and existing files.\n",
      "  -y                    Do not prompt if pop file and vcf do not agree on\n",
      "                        sample names.\n",
      "  -v                    Set verbosity. Dump tons of info to the screen\n",
      "\n",
      "    \n"
     ]
    }
   ],
   "source": [
    "%%bash\n",
    "./easySFS/easySFS.py --help"
   ]
  },
  {
   "cell_type": "markdown",
   "id": "70420fb5",
   "metadata": {},
   "source": [
    "### Run `easySFS` for your VCF file with `--preview` option\n",
    "\n",
    "Create outputs directory to store outputs:"
   ]
  },
  {
   "cell_type": "code",
   "execution_count": 7,
   "id": "0bb04f91",
   "metadata": {},
   "outputs": [],
   "source": [
    "%%bash\n",
    "#rm -rf outputs\n",
    "mkdir outputs"
   ]
  },
  {
   "cell_type": "markdown",
   "id": "33a2aadb",
   "metadata": {},
   "source": [
    "Run easySFS, save the output in `outputs/easySFS_preview_output`:"
   ]
  },
  {
   "cell_type": "code",
   "execution_count": 8,
   "id": "888110d6",
   "metadata": {
    "scrolled": true
   },
   "outputs": [
    {
     "name": "stdout",
     "output_type": "stream",
     "text": [
      "\n",
      "  Processing 1 populations - ['NN']\n",
      "\n",
      "    Running preview mode. We will print out the results for # of segregating sites\n",
      "    for multiple values of projecting down for each population. The dadi\n",
      "    manual recommends maximizing the # of seg sites for projections, but also\n",
      "    a balance must be struck between # of seg sites and sample size.\n",
      "\n",
      "    For each population you should choose the value of the projection that looks\n",
      "    best and then rerun easySFS with the `--proj` flag.\n",
      "    \n",
      "NN\n",
      "(2, 181980)\t(3, 272778)\t(4, 330043)\t(5, 370085)\t(6, 400603)\t(7, 424193)\t(8, 443813)\t(9, 459444)\t(10, 473332)\t(11, 483781)\t(12, 494192)\t(13, 496940)\t(14, 504985)\t(15, 482499)\t(16, 488612)\t(17, 393601)\t(18, 397632)\t(19, 192071)\t(20, 193706)\t\n",
      "\n"
     ]
    }
   ],
   "source": [
    "%%bash\n",
    "python easySFS/easySFS.py -i ../2_data_preparation_tutorial/data/example_data.vcf -p ../2_data_preparation_tutorial/data/popmap.txt -a --preview > outputs/easySFS_preview_output\n",
    "cat outputs/easySFS_preview_output"
   ]
  },
  {
   "cell_type": "markdown",
   "id": "666b3ac2",
   "metadata": {},
   "source": [
    "#### Visualize the results of the preview\n",
    "In this notebook we will use python:"
   ]
  },
  {
   "cell_type": "code",
   "execution_count": 9,
   "id": "00a1d307",
   "metadata": {},
   "outputs": [
    {
     "data": {
      "image/png": "[encoded data removed]",
      "text/plain": [
       "<Figure size 216x216 with 1 Axes>"
      ]
     },
     "metadata": {
      "needs_background": "light"
     },
     "output_type": "display_data"
    }
   ],
   "source": [
    "from scripts.draw_easySFS_preview import draw_easySFS_preview\n",
    "draw_easySFS_preview(\"outputs/easySFS_preview_output\")"
   ]
  },
  {
   "cell_type": "markdown",
   "id": "44e94a12",
   "metadata": {},
   "source": [
    "Moreover, one can run script from command line the following way (the same picture will appear in `outputs/my_easySFS_preview.pdf` if you use it from the command line interface):"
   ]
  },
  {
   "cell_type": "code",
   "execution_count": 10,
   "id": "630000b6",
   "metadata": {},
   "outputs": [
    {
     "name": "stdout",
     "output_type": "stream",
     "text": [
      "[INFO] Saved: outputs/my_easySFS_preview.pdf\n"
     ]
    }
   ],
   "source": [
    "%%bash\n",
    "python scripts/draw_easySFS_preview.py --output outputs/my_easySFS_preview.pdf outputs/easySFS_preview_output"
   ]
  },
  {
   "cell_type": "markdown",
   "id": "45c6c133",
   "metadata": {},
   "source": [
    "### Run easySFS for your VCF file with `--proj` option\n",
    "\n",
    "We use `--proj 14` option instead `--preview`.\n",
    "\n",
    "We add the following options:\n",
    "* `-a` to use all SNPs, otherwise easySFS randomly chooses one SNP per contig as it was developed for RADseq data\n",
    "* `--total-length 10000000` to construct correct monomorphic bin **(although GADMA ignores this!)**\n",
    "* `--unfolded` to construct unfolded spectrum\n",
    "* `-o outputs/easySFS_output` to write output in this directory\n",
    "* `-f` to rewrite if the output directory exists"
   ]
  },
  {
   "cell_type": "code",
   "execution_count": 11,
   "id": "4378d8ac",
   "metadata": {},
   "outputs": [
    {
     "name": "stdout",
     "output_type": "stream",
     "text": [
      "\n",
      "  Processing 1 populations - ['NN']\n",
      "  SFS files written to /home/enoskova/Workspace/GADMA_workshops/2025-10-GADMA_Worshop/tutorials/3_easySFS_tutorial/outputs/easySFS_output\n",
      "\n"
     ]
    }
   ],
   "source": [
    "%%bash\n",
    "./easySFS/easySFS.py -i ../2_data_preparation_tutorial/data/example_data.vcf -p ../2_data_preparation_tutorial/data/popmap.txt -a --total-length 10000000 --unfolded -o outputs/easySFS_output -f --proj 14"
   ]
  },
  {
   "cell_type": "markdown",
   "id": "3023e2be",
   "metadata": {},
   "source": [
    "## easySFS output\n",
    "EasySFS with `--proj` option generates SFS for a given data in several formats:\n",
    "- `dadi` - input format of dadi, moments,\n",
    "- `fastsimcoal2` - input format of fastsimcoal2,\n",
    "- `momi` - input format of momi2 (only if we use full projections, i.e. do not project SFS down).\n",
    "\n",
    "GADMA can work with any input format mentioned above."
   ]
  },
  {
   "cell_type": "code",
   "execution_count": 12,
   "id": "7b114910",
   "metadata": {},
   "outputs": [
    {
     "name": "stdout",
     "output_type": "stream",
     "text": [
      "dadi\n",
      "datadict.txt\n",
      "fastsimcoal2\n"
     ]
    }
   ],
   "source": [
    "%%bash\n",
    "ls outputs/easySFS_output"
   ]
  },
  {
   "cell_type": "code",
   "execution_count": 13,
   "id": "e2a259b2",
   "metadata": {},
   "outputs": [
    {
     "name": "stdout",
     "output_type": "stream",
     "text": [
      "NN-14.sfs\n",
      "NN.sfs\n"
     ]
    }
   ],
   "source": [
    "%%bash\n",
    "ls outputs/easySFS_output/dadi"
   ]
  },
  {
   "cell_type": "code",
   "execution_count": 14,
   "id": "ffbbaf51",
   "metadata": {},
   "outputs": [
    {
     "name": "stdout",
     "output_type": "stream",
     "text": [
      "15 unfolded \"NN\"\n",
      "9489364.518782249 96421.70933952581 74375.28637770946 59019.3862573101 47189.43975748203 40140.61358789141 34641.67716718264 29944.07543859653 26512.15799793605 23334.03656690751 20678.71575507399 18997.70005159963 17513.04262985904 16217.32463020304 5650.315660474722\n",
      "1 0 0 0 0 0 0 0 0 0 0 0 0 0 1\n"
     ]
    }
   ],
   "source": [
    "%%bash\n",
    "cat outputs/easySFS_output/dadi/NN-14.sfs"
   ]
  },
  {
   "cell_type": "code",
   "execution_count": 15,
   "id": "1baf9118",
   "metadata": {},
   "outputs": [
    {
     "name": "stdout",
     "output_type": "stream",
     "text": [
      "1 observation\n",
      "d0_0\td0_1\td0_2\td0_3\td0_4\td0_5\td0_6\td0_7\td0_8\td0_9\td0_10\td0_11\td0_12\td0_13\td0_14\n",
      "9489364.518782249 96421.70933952581 74375.28637770946 59019.3862573101 47189.43975748203 40140.61358789141 34641.67716718264 29944.07543859653 26512.15799793605 23334.03656690751 20678.71575507399 18997.70005159963 17513.04262985904 16217.32463020304 5650.315660474722\n",
      "\n"
     ]
    }
   ],
   "source": [
    "%%bash\n",
    "cat outputs/easySFS_output/fastsimcoal2/NN_DAFpop0.obs"
   ]
  },
  {
   "cell_type": "markdown",
   "id": "d430c14d",
   "metadata": {},
   "source": [
    "## Picture of our SFS\n",
    "\n",
    "In this example we will use SFS `output/dadi/NN.sfs` generated for dadi. Let us draw the picture:"
   ]
  },
  {
   "cell_type": "code",
   "execution_count": 16,
   "id": "91729092",
   "metadata": {},
   "outputs": [
    {
     "data": {
      "image/png": "[encoded data removed]",
      "text/plain": [
       "<Figure size 432x360 with 2 Axes>"
      ]
     },
     "metadata": {
      "needs_background": "light"
     },
     "output_type": "display_data"
    }
   ],
   "source": [
    "from scripts.draw_sfs import draw_1d_sfs\n",
    "draw_1d_sfs(\"outputs/easySFS_output/dadi/NN-14.sfs\")"
   ]
  },
  {
   "cell_type": "markdown",
   "id": "b8982768",
   "metadata": {},
   "source": [
    "You can use this script from command line:"
   ]
  },
  {
   "cell_type": "code",
   "execution_count": 17,
   "id": "7ea0cac0",
   "metadata": {
    "scrolled": false
   },
   "outputs": [
    {
     "name": "stdout",
     "output_type": "stream",
     "text": [
      "usage: draw_sfs.py [-h] [-o OUTPUT] dadi_sfs_file\n",
      "\n",
      "Plot 1d/2d/3d dadi/moments SFS and either display or save to file.\n",
      "\n",
      "positional arguments:\n",
      "  dadi_sfs_file         dadi SFS file\n",
      "\n",
      "options:\n",
      "  -h, --help            show this help message and exit\n",
      "  -o OUTPUT, --output OUTPUT\n",
      "                        Output file for plot (optional, otherwise pops up a\n",
      "                        window)\n"
     ]
    }
   ],
   "source": [
    "%%bash\n",
    "python scripts/draw_sfs.py --help"
   ]
  },
  {
   "cell_type": "code",
   "execution_count": 18,
   "id": "87d1e242",
   "metadata": {},
   "outputs": [
    {
     "name": "stderr",
     "output_type": "stream",
     "text": [
      "/home/enoskova/Workspace/GADMA_workshops/2025-10-GADMA_Worshop/tutorials/3_easySFS_tutorial/scripts/draw_sfs.py:79: DeprecationWarning: `product` is deprecated as of NumPy 1.25.0, and will be removed in NumPy 2.0. Please use `prod` instead.\n",
      "  fs = moments.Spectrum.from_file(input_file)\n",
      "/home/enoskova/Workspace/GADMA_workshops/2025-10-GADMA_Worshop/tutorials/3_easySFS_tutorial/scripts/draw_sfs.py:14: DeprecationWarning: `product` is deprecated as of NumPy 1.25.0, and will be removed in NumPy 2.0. Please use `prod` instead.\n",
      "  fs = moments.Spectrum.from_file(input_file)\n",
      "/home/enoskova/Workspace/GADMA_workshops/2025-10-GADMA_Worshop/tutorials/3_easySFS_tutorial/scripts/draw_sfs.py:21: MatplotlibDeprecationWarning: Unable to determine Axes to steal space for Colorbar. Using gca(), but will raise in the future. Either provide the *cax* argument to use as the Axes for the Colorbar, provide the *ax* argument to steal space from it, or add *mappable* to an Axes.\n",
      "  cbar = plt.colorbar(sm)\n"
     ]
    },
    {
     "name": "stdout",
     "output_type": "stream",
     "text": [
      "[INFO] Saved: outputs/my_sfs.pdf\n"
     ]
    }
   ],
   "source": [
    "%%bash\n",
    "python scripts/draw_sfs.py -o outputs/my_sfs.pdf outputs/easySFS_output/dadi/NN-14.sfs"
   ]
  },
  {
   "cell_type": "markdown",
   "id": "4b6aa535-fd6e-494b-9c1f-503d146b07af",
   "metadata": {},
   "source": [
    "-----\n",
    "## 4. Hands On: Build Folded SFS\n",
    "\n",
    "Now it is your turn! Can you build a **folded** site frequency spectrum?\n",
    "\n",
    "You have to perform several steps:\n",
    "* Run `easySFS` to construct folded spectrum\n",
    "* Print the result SFS\n",
    "* Draw the result SFS"
   ]
  },
  {
   "cell_type": "code",
   "execution_count": null,
   "id": "bcad2d68-989f-4cd0-82de-44c8bc1b8091",
   "metadata": {},
   "outputs": [],
   "source": []
  }
 ],
 "metadata": {
  "kernelspec": {
   "display_name": "Python 3 (ipykernel)",
   "language": "python",
   "name": "python3"
  },
  "language_info": {
   "codemirror_mode": {
    "name": "ipython",
    "version": 3
   },
   "file_extension": ".py",
   "mimetype": "text/x-python",
   "name": "python",
   "nbconvert_exporter": "python",
   "pygments_lexer": "ipython3",
   "version": "3.8.18"
  }
 },
 "nbformat": 4,
 "nbformat_minor": 5
}
