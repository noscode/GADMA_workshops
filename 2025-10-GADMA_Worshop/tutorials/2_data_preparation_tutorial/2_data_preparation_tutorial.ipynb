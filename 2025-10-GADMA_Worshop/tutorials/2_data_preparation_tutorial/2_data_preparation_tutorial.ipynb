{
 "cells": [
  {
   "cell_type": "markdown",
   "id": "c59f50b6",
   "metadata": {},
   "source": [
    "# Data Preparation Tutorial\n",
    "\n",
    "## Outline\n",
    "1. What data do we need for SFS-based demographic inference\n",
    "2. Our Dataset\n",
    "3. VCF filtering\n",
    "4. Data quality control 1: PCA\n",
    "5. Data quality control 2: HWE\n",
    "6. Hands on!"
   ]
  },
  {
   "cell_type": "markdown",
   "id": "56164408",
   "metadata": {},
   "source": [
    "## 1. What data do we need for SFS-based demographic inference?\n",
    "\n",
    "- VCF with SNPs data\n",
    "- As many SNP's as possible\n",
    "- As many individuals as possible (8-10 okay, 100 better)\n",
    "- Remove relatives\n",
    "- Use neutral sites or intergenic regions (similar evolution forces)\n",
    "- Remove multiallelic, indels\n",
    "- No MAF-filtering (!)\n",
    "- ~~Avoid missing data~~ (`easySFS` can help with missing data)"
   ]
  },
  {
   "cell_type": "markdown",
   "id": "005b6417",
   "metadata": {},
   "source": [
    "-----\n",
    "## 2.  Our Dataset\n",
    "\n",
    "We have a dataset for clouded leopards (*Neofelis nebulosa*). It is an example data for one contig (10,000,000 bp) for 10 diploid individuals (20 haploid samples).\n",
    "\n",
    "All the data is available in the `data` folder:"
   ]
  },
  {
   "cell_type": "code",
   "execution_count": 1,
   "id": "4256f232",
   "metadata": {},
   "outputs": [
    {
     "name": "stdout",
     "output_type": "stream",
     "text": [
      "biallelic_snps.vcf\n",
      "example_data.vcf\n",
      "popmap.txt\n",
      "pruned_variants.log\n",
      "pruned_variants.nosex\n",
      "pruned_variants.prune.in\n",
      "pruned_variants.prune.out\n",
      "pruned_variants.vcf\n"
     ]
    }
   ],
   "source": [
    "%%bash\n",
    "ls data"
   ]
  },
  {
   "cell_type": "markdown",
   "id": "1c8536cc",
   "metadata": {},
   "source": [
    "- File `data/example_data.vcf` is our VCF file for all 10 individuals (single chromosome of 10,000,000 bp):"
   ]
  },
  {
   "cell_type": "code",
   "execution_count": 2,
   "id": "ea4436e1",
   "metadata": {},
   "outputs": [
    {
     "name": "stdout",
     "output_type": "stream",
     "text": [
      "##fileformat=VCFv4.2\n",
      "##FILTER=<ID=PASS,Description=\"All filters passed\">\n",
      "##source=tskit 0.5.7\n",
      "##contig=<ID=CONTIG1,length=10000000>\n",
      "##FORMAT=<ID=GT,Number=1,Type=String,Description=\"Genotype\">\n",
      "#CHROM\tPOS\tID\tREF\tALT\tQUAL\tFILTER\tINFO\tFORMAT\tLeopard01\tLeopard02\tLeopard03\tLeopard04\tLeopard05\tLeopard06\tLeopard07\tLeopard08\tLeopard09\tLeopard10\n"
     ]
    }
   ],
   "source": [
    "%%bash\n",
    "# First five lines\n",
    "head -6 data/example_data.vcf"
   ]
  },
  {
   "cell_type": "code",
   "execution_count": 3,
   "id": "d0767964",
   "metadata": {},
   "outputs": [
    {
     "name": "stdout",
     "output_type": "stream",
     "text": [
      "#CHROM\tPOS\tID\tREF\tALT\tQUAL\tFILTER\tINFO\tFORMAT\tLeopard01\tLeopard02\tLeopard03\tLeopard04\tLeopard05\tLeopard06\tLeopard07\tLeopard08\tLeopard09\tLeopard10\n"
     ]
    }
   ],
   "source": [
    "%%bash\n",
    "# The header line of the VCF file (we take first 84 lines of file and then show the last one)\n",
    "head -6 data/example_data.vcf | tail -1"
   ]
  },
  {
   "cell_type": "markdown",
   "id": "844d6cb6",
   "metadata": {},
   "source": [
    "- File `data/popmap.txt` provides population assignments per individual (all our individuals are from the same population that is marked as `NN`):"
   ]
  },
  {
   "cell_type": "code",
   "execution_count": 4,
   "id": "39bbbe79",
   "metadata": {},
   "outputs": [
    {
     "name": "stdout",
     "output_type": "stream",
     "text": [
      "Leopard01 NN\n",
      "Leopard02 NN\n",
      "Leopard03 NN\n",
      "Leopard04 NN\n",
      "Leopard05 NN\n",
      "Leopard06 NN\n",
      "Leopard07 NN\n",
      "Leopard08 NN\n",
      "Leopard09 NN\n",
      "Leopard10 NN\n"
     ]
    }
   ],
   "source": [
    "%%bash\n",
    "cat data/popmap.txt"
   ]
  },
  {
   "cell_type": "markdown",
   "id": "dbcac6b3",
   "metadata": {},
   "source": [
    "-----\n",
    "## 3. VCF filtering"
   ]
  },
  {
   "cell_type": "markdown",
   "id": "71e102c0",
   "metadata": {},
   "source": [
    "We require VCF with biallelic single-nucleotide variants. Having our VCF file we can filter all mutiallelic, multi-nucleotide variants and indels using bcftools:"
   ]
  },
  {
   "cell_type": "code",
   "execution_count": 5,
   "id": "e11e967c",
   "metadata": {},
   "outputs": [],
   "source": [
    "%%bash\n",
    "bcftools view -m2 -M2 -v snps data/example_data.vcf -Ov -o data/biallelic_snps.vcf"
   ]
  },
  {
   "cell_type": "markdown",
   "id": "af67c90a",
   "metadata": {},
   "source": [
    "--------\n",
    "## 5. Data quality control 1: PCA\n",
    "\n",
    "Now we will check for the quality of samples. We would run principal component analysis (PCA) to check for the population structure.\n",
    "\n",
    "### LD pruning\n",
    "PCA method assumes that input SNPs are independent, so we need to do **LD pruning** first. We will use `plink` for that (the download is available [here](https://www.cog-genomics.org/plink/)).\n",
    "\n",
    "#### Install `plink`\n",
    "We are installing plink for Linux system, you can use the following link for MacOS: `https://s3.amazonaws.com/plink1-assets/plink_mac_20250819.zip`."
   ]
  },
  {
   "cell_type": "code",
   "execution_count": 6,
   "id": "e3f761e1",
   "metadata": {
    "scrolled": true
   },
   "outputs": [
    {
     "name": "stderr",
     "output_type": "stream",
     "text": [
      "--2025-10-15 19:02:01--  https://s3.amazonaws.com/plink1-assets/plink_linux_x86_64_20250819.zip\n",
      "Resolving s3.amazonaws.com (s3.amazonaws.com)... 54.231.199.96, 16.15.202.110, 52.217.229.64, ...\n",
      "Connecting to s3.amazonaws.com (s3.amazonaws.com)|54.231.199.96|:443... connected.\n",
      "HTTP request sent, awaiting response... 200 OK\n",
      "Length: 6321240 (6.0M) [application/zip]\n",
      "Saving to: ‘plink_linux_x86_64_20250819.zip’\n",
      "\n",
      "     0K .......... .......... .......... .......... ..........  0%  277K 22s\n",
      "    50K .......... .......... .......... .......... ..........  1%  554K 16s\n",
      "   100K .......... .......... .......... .......... ..........  2% 63.2M 11s\n",
      "   150K .......... .......... .......... .......... ..........  3%  379M 8s\n",
      "   200K .......... .......... .......... .......... ..........  4%  560K 9s\n",
      "   250K .......... .......... .......... .......... ..........  4% 89.3M 7s\n",
      "   300K .......... .......... .......... .......... ..........  5% 37.9M 6s\n",
      "   350K .......... .......... .......... .......... ..........  6% 40.9M 5s\n",
      "   400K .......... .......... .......... .......... ..........  7% 43.8M 5s\n",
      "   450K .......... .......... .......... .......... ..........  8%  596K 5s\n",
      "   500K .......... .......... .......... .......... ..........  8% 79.5M 5s\n",
      "   550K .......... .......... .......... .......... ..........  9% 24.5M 4s\n",
      "   600K .......... .......... .......... .......... .......... 10% 22.9M 4s\n",
      "   650K .......... .......... .......... .......... .......... 11%  734M 4s\n",
      "   700K .......... .......... .......... .......... .......... 12% 21.1M 3s\n",
      "   750K .......... .......... .......... .......... .......... 12%  522M 3s\n",
      "   800K .......... .......... .......... .......... .......... 13%  267M 3s\n",
      "   850K .......... .......... .......... .......... .......... 14% 42.8M 3s\n",
      "   900K .......... .......... .......... .......... .......... 15%  639K 3s\n",
      "   950K .......... .......... .......... .......... .......... 16% 19.1M 3s\n",
      "  1000K .......... .......... .......... .......... .......... 17% 51.9M 3s\n",
      "  1050K .......... .......... .......... .......... .......... 17% 37.5M 2s\n",
      "  1100K .......... .......... .......... .......... .......... 18% 15.0M 2s\n",
      "  1150K .......... .......... .......... .......... .......... 19% 43.3M 2s\n",
      "  1200K .......... .......... .......... .......... .......... 20% 65.7M 2s\n",
      "  1250K .......... .......... .......... .......... .......... 21%  854M 2s\n",
      "  1300K .......... .......... .......... .......... .......... 21% 26.6M 2s\n",
      "  1350K .......... .......... .......... .......... .......... 22%  114M 2s\n",
      "  1400K .......... .......... .......... .......... .......... 23% 30.1M 2s\n",
      "  1450K .......... .......... .......... .......... .......... 24% 28.2M 2s\n",
      "  1500K .......... .......... .......... .......... .......... 25%  630M 2s\n",
      "  1550K .......... .......... .......... .......... .......... 25% 21.3M 2s\n",
      "  1600K .......... .......... .......... .......... .......... 26%  649M 2s\n",
      "  1650K .......... .......... .......... .......... .......... 27%  194M 1s\n",
      "  1700K .......... .......... .......... .......... .......... 28%  710M 1s\n",
      "  1750K .......... .......... .......... .......... .......... 29% 42.7M 1s\n",
      "  1800K .......... .......... .......... .......... .......... 29% 74.6M 1s\n",
      "  1850K .......... .......... .......... .......... .......... 30% 2.10M 1s\n",
      "  1900K .......... .......... .......... .......... .......... 31% 1.04M 1s\n",
      "  1950K .......... .......... .......... .......... .......... 32% 95.7M 1s\n",
      "  2000K .......... .......... .......... .......... .......... 33% 37.0M 1s\n",
      "  2050K .......... .......... .......... .......... .......... 34% 21.6M 1s\n",
      "  2100K .......... .......... .......... .......... .......... 34%  714M 1s\n",
      "  2150K .......... .......... .......... .......... .......... 35% 23.7M 1s\n",
      "  2200K .......... .......... .......... .......... .......... 36%  256M 1s\n",
      "  2250K .......... .......... .......... .......... .......... 37% 20.5M 1s\n",
      "  2300K .......... .......... .......... .......... .......... 38% 26.6M 1s\n",
      "  2350K .......... .......... .......... .......... .......... 38%  476M 1s\n",
      "  2400K .......... .......... .......... .......... .......... 39%  458M 1s\n",
      "  2450K .......... .......... .......... .......... .......... 40% 43.2M 1s\n",
      "  2500K .......... .......... .......... .......... .......... 41%  515M 1s\n",
      "  2550K .......... .......... .......... .......... .......... 42%  931M 1s\n",
      "  2600K .......... .......... .......... .......... .......... 42% 28.3M 1s\n",
      "  2650K .......... .......... .......... .......... .......... 43% 37.2M 1s\n",
      "  2700K .......... .......... .......... .......... .......... 44% 77.3M 1s\n",
      "  2750K .......... .......... .......... .......... .......... 45% 41.0M 1s\n",
      "  2800K .......... .......... .......... .......... .......... 46% 26.2M 1s\n",
      "  2850K .......... .......... .......... .......... .......... 46%  705M 1s\n",
      "  2900K .......... .......... .......... .......... .......... 47%  139M 1s\n",
      "  2950K .......... .......... .......... .......... .......... 48% 38.7M 1s\n",
      "  3000K .......... .......... .......... .......... .......... 49%  446M 1s\n",
      "  3050K .......... .......... .......... .......... .......... 50% 36.9M 1s\n",
      "  3100K .......... .......... .......... .......... .......... 51%  780M 1s\n",
      "  3150K .......... .......... .......... .......... .......... 51% 29.6M 1s\n",
      "  3200K .......... .......... .......... .......... .......... 52%  131M 1s\n",
      "  3250K .......... .......... .......... .......... .......... 53% 35.5M 1s\n",
      "  3300K .......... .......... .......... .......... .......... 54%  636M 1s\n",
      "  3350K .......... .......... .......... .......... .......... 55% 33.2M 1s\n",
      "  3400K .......... .......... .......... .......... .......... 55%  821M 1s\n",
      "  3450K .......... .......... .......... .......... .......... 56%  203M 0s\n",
      "  3500K .......... .......... .......... .......... .......... 57% 24.7M 0s\n",
      "  3550K .......... .......... .......... .......... .......... 58%  196M 0s\n",
      "  3600K .......... .......... .......... .......... .......... 59% 23.7M 0s\n",
      "  3650K .......... .......... .......... .......... .......... 59%  171M 0s\n",
      "  3700K .......... .......... .......... .......... .......... 60% 22.8M 0s\n",
      "  3750K .......... .......... .......... .......... .......... 61%  784M 0s\n",
      "  3800K .......... .......... .......... .......... .......... 62% 5.37M 0s\n",
      "  3850K .......... .......... .......... .......... .......... 63% 1.04M 0s\n",
      "  3900K .......... .......... .......... .......... .......... 63% 45.0M 0s\n",
      "  3950K .......... .......... .......... .......... .......... 64% 61.0M 0s\n",
      "  4000K .......... .......... .......... .......... .......... 65% 24.0M 0s\n",
      "  4050K .......... .......... .......... .......... .......... 66% 29.0M 0s\n",
      "  4100K .......... .......... .......... .......... .......... 67% 27.1M 0s\n",
      "  4150K .......... .......... .......... .......... .......... 68% 19.9M 0s\n",
      "  4200K .......... .......... .......... .......... .......... 68% 23.5M 0s\n",
      "  4250K .......... .......... .......... .......... .......... 69% 52.4M 0s\n",
      "  4300K .......... .......... .......... .......... .......... 70% 33.1M 0s\n",
      "  4350K .......... .......... .......... .......... .......... 71%  172M 0s\n",
      "  4400K .......... .......... .......... .......... .......... 72% 21.0M 0s\n",
      "  4450K .......... .......... .......... .......... .......... 72%  648M 0s\n",
      "  4500K .......... .......... .......... .......... .......... 73%  127M 0s\n",
      "  4550K .......... .......... .......... .......... .......... 74% 54.3M 0s\n",
      "  4600K .......... .......... .......... .......... .......... 75%  572M 0s\n",
      "  4650K .......... .......... .......... .......... .......... 76% 3.22M 0s\n",
      "  4700K .......... .......... .......... .......... .......... 76%  939M 0s\n",
      "  4750K .......... .......... .......... .......... .......... 77% 13.5M 0s\n",
      "  4800K .......... .......... .......... .......... .......... 78% 32.6M 0s\n",
      "  4850K .......... .......... .......... .......... .......... 79%  520M 0s\n",
      "  4900K .......... .......... .......... .......... .......... 80% 1.03G 0s\n",
      "  4950K .......... .......... .......... .......... .......... 80%  998M 0s\n",
      "  5000K .......... .......... .......... .......... .......... 81% 1.05G 0s\n",
      "  5050K .......... .......... .......... .......... .......... 82% 1001M 0s\n",
      "  5100K .......... .......... .......... .......... .......... 83% 1.00G 0s\n"
     ]
    },
    {
     "name": "stderr",
     "output_type": "stream",
     "text": [
      "  5150K .......... .......... .......... .......... .......... 84% 1013M 0s\n",
      "  5200K .......... .......... .......... .......... .......... 85% 20.0M 0s\n",
      "  5250K .......... .......... .......... .......... .......... 85% 40.9M 0s\n",
      "  5300K .......... .......... .......... .......... .......... 86%  650M 0s\n",
      "  5350K .......... .......... .......... .......... .......... 87%  681M 0s\n",
      "  5400K .......... .......... .......... .......... .......... 88%  695M 0s\n",
      "  5450K .......... .......... .......... .......... .......... 89%  710M 0s\n",
      "  5500K .......... .......... .......... .......... .......... 89%  696M 0s\n",
      "  5550K .......... .......... .......... .......... .......... 90% 29.5M 0s\n",
      "  5600K .......... .......... .......... .......... .......... 91%  648M 0s\n",
      "  5650K .......... .......... .......... .......... .......... 92%  934M 0s\n",
      "  5700K .......... .......... .......... .......... .......... 93% 45.1M 0s\n",
      "  5750K .......... .......... .......... .......... .......... 93% 63.5M 0s\n",
      "  5800K .......... .......... .......... .......... .......... 94% 1.06M 0s\n",
      "  5850K .......... .......... .......... .......... .......... 95%  104M 0s\n",
      "  5900K .......... .......... .......... .......... .......... 96%  128M 0s\n",
      "  5950K .......... .......... .......... .......... .......... 97% 26.0M 0s\n",
      "  6000K .......... .......... .......... .......... .......... 98% 38.6M 0s\n",
      "  6050K .......... .......... .......... .......... .......... 98% 31.2M 0s\n",
      "  6100K .......... .......... .......... .......... .......... 99% 28.0M 0s\n",
      "  6150K .......... .......... ...                             100% 15.5M=0.8s\n",
      "\n",
      "2025-10-15 19:02:02 (7.37 MB/s) - ‘plink_linux_x86_64_20250819.zip’ saved [6321240/6321240]\n",
      "\n"
     ]
    },
    {
     "name": "stdout",
     "output_type": "stream",
     "text": [
      "Archive:  plink_linux_x86_64_20250819.zip\n",
      "  inflating: plink                   \n",
      "  inflating: LICENSE                 \n",
      "  inflating: toy.ped                 \n",
      "  inflating: toy.map                 \n",
      "  inflating: prettify                \n"
     ]
    }
   ],
   "source": [
    "%%bash\n",
    "mkdir plink\n",
    "cd plink\n",
    "wget https://s3.amazonaws.com/plink1-assets/plink_linux_x86_64_20250819.zip\n",
    "unzip plink_linux_x86_64_20250819.zip"
   ]
  },
  {
   "cell_type": "markdown",
   "id": "5c5f7ebd",
   "metadata": {},
   "source": [
    "check that `plink` is working:"
   ]
  },
  {
   "cell_type": "code",
   "execution_count": null,
   "id": "cd4f620f",
   "metadata": {
    "scrolled": true
   },
   "outputs": [],
   "source": [
    "%%bash\n",
    "./plink/plink --help"
   ]
  },
  {
   "cell_type": "markdown",
   "id": "f96debd7",
   "metadata": {},
   "source": [
    "#### Run LD pruning using `plink`\n",
    "\n",
    "We are using the following arguments:\n",
    "- `--vcf` — specifies the location of your VCF file.\n",
    "- `--double-id`  — sets both family and individual IDs in the PLINK files to your sample ID. This is necessary because PLINK expects separate family and individual IDs (for pedigree analysis), but for most population genetic analyses, duplicating the sample ID is sufficient.\n",
    "- `--allow-extra-chr` — allows chromosomes beyond the standard human set (1-22, X, Y, MT). This is required if your VCF uses non-human or custom chromosome names.\n",
    "- `--set-missing-var-ids @:#` — assigns variant IDs in the format chromosome:position when IDs are missing. Many non-human VCFs don't have SNP names, so this ensures PLINK can uniquely identify each variant.\n",
    "- `--indep-pairwise 50 5 0.1` — performs LD pruning. Here, 50 is the window size in SNPs, 10 is the step size (how far the window advances), and 0.1 is the r² threshold; SNPs with stronger LD than this threshold are pruned out.\n",
    "- `--out` — sets the prefix for all output files."
   ]
  },
  {
   "cell_type": "code",
   "execution_count": 8,
   "id": "7bb8d664",
   "metadata": {},
   "outputs": [
    {
     "name": "stdout",
     "output_type": "stream",
     "text": [
      "PLINK v1.9.0-b.7.11 64-bit (19 Aug 2025)           cog-genomics.org/plink/1.9/\n",
      "(C) 2005-2025 Shaun Purcell, Christopher Chang   GNU General Public License v3\n",
      "Logging to data/pruned_variants.log.\n",
      "Options in effect:\n",
      "  --allow-extra-chr\n",
      "  --double-id\n",
      "  --indep-pairwise 50 5 0.1\n",
      "  --out data/pruned_variants\n",
      "  --set-missing-var-ids @:#\n",
      "  --vcf data/biallelic_snps.vcf\n",
      "\n",
      "31799 MB RAM detected; reserving 15899 MB for main workspace.\n",
      "--vcf: data/pruned_variants-temporary.bed + data/pruned_variants-temporary.bim\n",
      "+ data/pruned_variants-temporary.fam written.\n",
      "544032 variants loaded from .bim file.\n",
      "10 people (0 males, 0 females, 10 ambiguous) loaded from .fam.\n",
      "Ambiguous sex IDs written to data/pruned_variants.nosex .\n",
      "Using 1 thread (no multithreaded calculations invoked).\n",
      "Before main variant filters, 10 founders and 0 nonfounders present.\n",
      "Calculating allele frequencies... 10111213141516171819202122232425262728293031323334353637383940414243444546474849505152535455565758596061626364656667686970717273747576777879808182838485868788899091929394959697989 done.\n",
      "Total genotyping rate is 0.902303.\n",
      "544032 variants and 10 people pass filters and QC.\n",
      "Note: No phenotypes present.\n",
      "Pruned 534014 variants from chromosome 27, leaving 10018.\n",
      "Pruning complete.  534014 of 544032 variants removed.\n",
      "Marker lists written to data/pruned_variants.prune.in and\n",
      "data/pruned_variants.prune.out .\n"
     ]
    }
   ],
   "source": [
    "%%bash\n",
    "./plink/plink --vcf data/biallelic_snps.vcf --double-id --allow-extra-chr --set-missing-var-ids @:# --indep-pairwise 50 5 0.1 --out data/pruned_variants"
   ]
  },
  {
   "cell_type": "markdown",
   "id": "ef69df1f",
   "metadata": {},
   "source": [
    "Now we will convert our pruned variants back to VCF format. Our final file is `data/pruned_variants.vcf`."
   ]
  },
  {
   "cell_type": "code",
   "execution_count": 9,
   "id": "f37101d6",
   "metadata": {},
   "outputs": [
    {
     "name": "stdout",
     "output_type": "stream",
     "text": [
      "PLINK v1.9.0-b.7.11 64-bit (19 Aug 2025)           cog-genomics.org/plink/1.9/\n",
      "(C) 2005-2025 Shaun Purcell, Christopher Chang   GNU General Public License v3\n",
      "Logging to data/pruned_variants.log.\n",
      "Options in effect:\n",
      "  --allow-extra-chr\n",
      "  --double-id\n",
      "  --extract data/pruned_variants.prune.in\n",
      "  --out data/pruned_variants\n",
      "  --recode vcf\n",
      "  --set-missing-var-ids @:#\n",
      "  --vcf data/biallelic_snps.vcf\n",
      "\n",
      "31799 MB RAM detected; reserving 15899 MB for main workspace.\n",
      "--vcf: data/pruned_variants-temporary.bed + data/pruned_variants-temporary.bim\n",
      "+ data/pruned_variants-temporary.fam written.\n",
      "544032 variants loaded from .bim file.\n",
      "10 people (0 males, 0 females, 10 ambiguous) loaded from .fam.\n",
      "Ambiguous sex IDs written to data/pruned_variants.nosex .\n",
      "--extract: 10018 variants remaining.\n",
      "Using 1 thread (no multithreaded calculations invoked).\n",
      "Before main variant filters, 10 founders and 0 nonfounders present.\n",
      "Calculating allele frequencies... 10111213141516171819202122232425262728293031323334353637383940414243444546474849505152535455565758596061626364656667686970717273747576777879808182838485868788899091929394959697989 done.\n",
      "Total genotyping rate is 0.887193.\n",
      "10018 variants and 10 people pass filters and QC.\n",
      "Note: No phenotypes present.\n",
      "--recode vcf to data/pruned_variants.vcf ... 101112131415161718192021222324252627282930313233343536373839404142434445464748495051525354555657585960616263646566676869707172737475767778798081828384858687888990919293949596979899done.\n"
     ]
    }
   ],
   "source": [
    "%%bash\n",
    "./plink/plink --vcf data/biallelic_snps.vcf --double-id --allow-extra-chr --set-missing-var-ids @:# --extract data/pruned_variants.prune.in --recode vcf --out data/pruned_variants"
   ]
  },
  {
   "cell_type": "markdown",
   "id": "12ac5cdd",
   "metadata": {},
   "source": [
    "### PCA\n",
    "We are finally ready to draw PCA plot. You can do it using plink as well, you can find detailed instructions [here](https://speciationgenomics.github.io/pca/). However, today we are going to use custom scripts for that.\n",
    "\n",
    "To have a nice picture in this notebook we will use the script through python:"
   ]
  },
  {
   "cell_type": "code",
   "execution_count": null,
   "id": "65147437",
   "metadata": {},
   "outputs": [],
   "source": [
    "from scripts.draw_pca_plot import pca_plot\n",
    "\n",
    "# To save to a file:\n",
    "pca_plot(vcf_file=\"data/pruned_variants.vcf\",\n",
    "         popmap_file=\"data/popmap.txt\",\n",
    "         output_file=None,  # output here\n",
    "         only_full_data=False,  # missing data will be filled with mean values\n",
    "         double_ids=True,\n",
    "         show_sample_names=False,  # If True sample names will be pictured on the plot\n",
    ")"
   ]
  },
  {
   "cell_type": "markdown",
   "id": "5788f603",
   "metadata": {},
   "source": [
    "However, you can run script from command line the following way (the same picture will appear if you use it from the command line interface):"
   ]
  },
  {
   "cell_type": "code",
   "execution_count": 11,
   "id": "b4e8a7bb",
   "metadata": {},
   "outputs": [
    {
     "name": "stdout",
     "output_type": "stream",
     "text": [
      "usage: draw_pca_plot.py [-h] [--full] [--show-sample-names] [--double-ids]\n",
      "                        vcf popmap [output]\n",
      "\n",
      "Draw PCA plot from VCF and popmap files.\n",
      "\n",
      "positional arguments:\n",
      "  vcf                  VCF filename\n",
      "  popmap               Popmap filename (tab-separated: sample pop)\n",
      "  output               Output file for the plot (e.g., pca.png); if omitted,\n",
      "                       plot will be shown interactively\n",
      "\n",
      "options:\n",
      "  -h, --help           show this help message and exit\n",
      "  --full               Use only full data rows (exclude missing genotypes)\n",
      "  --show-sample-names  Display sample names on the plot at each point\n",
      "  --double-ids         VCF contains doubled ids for samples (result of LD\n",
      "                       pruning using plink)\n"
     ]
    }
   ],
   "source": [
    "%%bash\n",
    "python scripts/draw_pca_plot.py --help"
   ]
  },
  {
   "cell_type": "code",
   "execution_count": 12,
   "id": "b5014bc3",
   "metadata": {},
   "outputs": [
    {
     "name": "stdout",
     "output_type": "stream",
     "text": [
      "[INFO] Reading popmap...\n",
      "[INFO] 10 samples, 1 populations detected\n",
      "[INFO] Reading VCF (this might take a while)...\n",
      "[INFO] Data shape after filtering: (10, 10018)\n",
      "[INFO] Running PCA...\n",
      "[INFO] Saving to my_pca.pdf ...\n",
      "[INFO] Done.\n"
     ]
    }
   ],
   "source": [
    "%%bash\n",
    "python scripts/draw_pca_plot.py --double-ids --show-sample-names data/pruned_variants.vcf data/popmap.txt my_pca.pdf"
   ]
  },
  {
   "cell_type": "markdown",
   "id": "5add75f9",
   "metadata": {},
   "source": [
    "## 5. Data quality control 2: HWE\n",
    "\n",
    "An additional sanity check is the test for Hardy-Weinberg Equilibrium (HWE). Deviations from HWE (such as a significant excess or deficit of heterozygotes or homozygotes) can indicate genotyping problems.\n",
    "\n",
    "The HWE principle describes the expected distribution of genotype frequencies (homozygotes and heterozygotes) under conditions of random mating, no selection, and no population structure. In well-behaved, high-quality genetic datasets, most loci are expected to approximately follow these theoretical proportions.\n",
    "\n",
    "By drawing an HWE ternary plot, we can visually assess whether our data conform to these expectations or if systematic deviations exist. Such deviations may be early warning signs of technical issues in the dataset (for example, genotyping errors, sample contamination, or problematic variants), or reflect biological factors such as inbreeding or population substructure.\n",
    "\n",
    "<div>\n",
    "<img src=\"pictures/HWE_ternary_plot_example.png\" width=\"500\" align=\"left\" />\n",
    "</div>\n",
    "Source: Graffelman & Camarena (2008)"
   ]
  },
  {
   "cell_type": "markdown",
   "id": "b9dae529",
   "metadata": {},
   "source": [
    "The paper by [Graffelman & Camarena (2008)](https://doi.org/10.1159/000108939)  describe both statistical tests and graphical tools for assessing Hardy-Weinberg equilibrium. Their paper introduces the use of chi-squared and continuity-corrected chi-squared tests to identify deviations from HWE, and shows how to visualize the **acceptance region**—where genotype frequencies are consistent with HWE at a chosen significance level (e.g., α = 0.05)—on the ternary plot.\n",
    "\n",
    "Methods from the paper are implemented in [R library `HardyWeinberg`](https://doi.org/10.32614/CRAN.package.HardyWeinberg). The ternary plot is available via the HWTernaryPlot function. For users working with VCF data, files can be loaded into R using the [`vcfR` package](https://doi.org/10.32614/CRAN.package.vcfR). Example result:\n",
    "<div>\n",
    "<img src=\"pictures/Rplot_HWE.png\" width=\"500\" align=\"left\" />\n",
    "</div>"
   ]
  },
  {
   "cell_type": "markdown",
   "id": "2cfd98d3",
   "metadata": {},
   "source": [
    "In this tutorial, however, we will use a modified python version of their approach. The solid lines present the acceptance region ($\\alpha=0.05$) for HWE based on $\\chi^2$ test and dashed lines refer to acceptance region ($\\alpha=0.05$) for a $\\chi^2$ test with continuity correction."
   ]
  },
  {
   "cell_type": "code",
   "execution_count": 13,
   "id": "aa4606f0",
   "metadata": {},
   "outputs": [
    {
     "name": "stderr",
     "output_type": "stream",
     "text": [
      "/home/enoskova/Workspace/GADMA_workshops/2025-10-Demographic_Inference_using_GADMA_Worshop/tutorials/2_data_preparation/scripts/draw_HWE_ternary_plot.py:145: RuntimeWarning: invalid value encountered in sqrt\n",
      "  delta = np.sqrt(\n"
     ]
    },
    {
     "data": {
      "image/png": "[encoded data removed]",
      "text/plain": [
       "<Figure size 432x432 with 2 Axes>"
      ]
     },
     "metadata": {
      "needs_background": "light"
     },
     "output_type": "display_data"
    }
   ],
   "source": [
    "from scripts.draw_HWE_ternary_plot import hwe_ternary_plot\n",
    "\n",
    "# To save to a file:\n",
    "hwe_ternary_plot(vcf_file=\"data/pruned_variants.vcf\",\n",
    "                 popmap_file=\"data/popmap.txt\",\n",
    "                 population_name=\"NN\"\n",
    ")"
   ]
  },
  {
   "cell_type": "markdown",
   "id": "94fa3fb3",
   "metadata": {},
   "source": [
    "In order to run script from command line:"
   ]
  },
  {
   "cell_type": "code",
   "execution_count": 14,
   "id": "c5e379d0",
   "metadata": {},
   "outputs": [
    {
     "name": "stdout",
     "output_type": "stream",
     "text": [
      "usage: draw_HWE_ternary_plot.py [-h] [-o OUTPUT] [--double-ids]\n",
      "                                vcf popmap population\n",
      "\n",
      "Draw a Hardy-Weinberg ternary plot for one population using a VCF and popmap.\n",
      "Green background shows 'inside bounds', red otherwise.\n",
      "\n",
      "positional arguments:\n",
      "  vcf                   Input VCF file\n",
      "  popmap                Popmap file\n",
      "  population            Population name (as in popmap)\n",
      "\n",
      "options:\n",
      "  -h, --help            show this help message and exit\n",
      "  -o OUTPUT, --output OUTPUT\n",
      "                        Output file (default: interactive)\n",
      "  --double-ids          VCF contains doubled ids for samples (result of LD\n",
      "                        pruning using plink)\n"
     ]
    }
   ],
   "source": [
    "%%bash\n",
    "python scripts/draw_HWE_ternary_plot.py --help"
   ]
  },
  {
   "cell_type": "code",
   "execution_count": 15,
   "id": "735e7a04",
   "metadata": {},
   "outputs": [
    {
     "name": "stderr",
     "output_type": "stream",
     "text": [
      "/home/enoskova/Workspace/GADMA_workshops/2025-10-Demographic_Inference_using_GADMA_Worshop/tutorials/2_data_preparation/scripts/draw_HWE_ternary_plot.py:145: RuntimeWarning: invalid value encountered in sqrt\n",
      "  delta = np.sqrt(\n"
     ]
    },
    {
     "name": "stdout",
     "output_type": "stream",
     "text": [
      "[INFO] Saved plot to HWE_ternary_plot.pdf\n"
     ]
    }
   ],
   "source": [
    "%%bash\n",
    "python scripts/draw_HWE_ternary_plot.py --double-ids --output HWE_ternary_plot.pdf data/pruned_variants.vcf data/popmap.txt NN"
   ]
  },
  {
   "cell_type": "code",
   "execution_count": null,
   "id": "e5b89fdf",
   "metadata": {},
   "outputs": [],
   "source": [
    "-----\n",
    "## 6. Hands On: Build Folded SFS\n",
    "\n",
    "Now it is your turn! Can you build a **folded** site frequency spectrum?\n",
    "\n",
    "You have to perform several steps:\n",
    "* Run `easySFS` to construct unfolded spectrum\n",
    "* Print the result SFS\n",
    "* Draw the result SFS"
   ]
  }
 ],
 "metadata": {
  "kernelspec": {
   "display_name": "Python 3 (ipykernel)",
   "language": "python",
   "name": "python3"
  },
  "language_info": {
   "codemirror_mode": {
    "name": "ipython",
    "version": 3
   },
   "file_extension": ".py",
   "mimetype": "text/x-python",
   "name": "python",
   "nbconvert_exporter": "python",
   "pygments_lexer": "ipython3",
   "version": "3.8.18"
  }
 },
 "nbformat": 4,
 "nbformat_minor": 5
}
